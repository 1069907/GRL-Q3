{
  "cells": [
    {
      "cell_type": "markdown",
      "metadata": {
        "id": "3JUV7wiUjmzM"
      },
      "source": [
        "# Introduction\n",
        "Graph attention networks (GATs) [Velickovic et al.](https://arxiv.org/abs/1710.10903) are a special kind of graph neural networks, which use learned attention weights to aggregate over a node's neighborhood. Since being introduced in 2018, GATs have achieved tremendous success and outperformed many other models on standard datasets. However, GATs have their limitations. For instance, it is not difficult to see that they can suffer from oversmoothing and oversquashing. The reason is that the underlying mechanism of GATs is aggregation over the 1-hop neighborhood, which is similar to standard GNNs. In this notebook,  we will slightly modify the aggregation mechanism of GATs and introduce a new model, designed to alleviate some limitations of GATs. Then, we will examine the performance and limitations of this model and compare it to GATs. To do so, we will perform experiments on two datasets - Cora and TreeNeighborsMatch. Our approach is inspired by the papers by [Abboud et al.](https://arxiv.org/abs/2206.01003) and [Alon and Yahav](https://arxiv.org/pdf/2006.05205.pdf). "
      ]
    },
    {
      "cell_type": "markdown",
      "metadata": {
        "id": "Zl-GFL70mxXk"
      },
      "source": [
        "# Idea and Motivation"
      ]
    },
    {
      "cell_type": "markdown",
      "metadata": {
        "id": "N9wSrVItm1AX"
      },
      "source": [
        "While GATs are a great way to aggregate using attention, it is natural to ask if this is the best way. One direction in which one could improve GATs would be to directly modify the way attention is computed. Several modifications to the attention mechanism of GATs have been proposed, such as GATv2 ([Brody et al.](https://arxiv.org/abs/2105.14491)), which have a bigger expressive power than GATs. The main idea is that GATv2 computes *dynamic* attention while GATs compute *static* attention. \n",
        "\n",
        "Another direction that one could consider is to look at *what* is being aggregated. In particular, GATs only compute attention for the $1$-hop neighborhood. One could imagine (or design) a node classification problem, where not only is the information from the $1$-hop neighborhood essential, but the correct label depends heavily on the properties of  particular nodes in the $k$-hop neighborhood with $k \\geq 2$. In such a scenario, one would like to compute attention weights for nodes in the $k$-hop neighborhood as well. GATs do not compute such weights - the only way to tackle such a problem using GATs is by having atleast $k$ layers. However, this can be problematic, especially if $k$ is large. By introducing more layers, the size of the computational graph increases, information bottlenecks appear and information from nodes $k$-hops away is lost. Additionally, as we have explained in Q1, having many layers is likely to cause oversmoothing.  Perhaps we could design an aggregation mechanism that computes attention weights for nodes far away and doesn't suffer from oversquashing or ovesmoothing, thus resulting in better performance. \n",
        "\n",
        "This observation, and my idea, are strongly motivated by the paper by [Abboud et al](https://arxiv.org/abs/2206.01003). The authors propose a class of models called shortest path message passing neural networks (SPMPNNs). The idea of SPMPNNs is simple - instead of aggregating only through the direct neighborhood of a node, we can aggregate over $k$-hop neighborhoods and then combine. This ensures that each node can \"communicate\" directly with nodes in its $k$-hop neighborhoods, and the flow of information between nodes that are far away is much smoother. In their paper, the authors propose the following model, called a *shortest path network* (SPN):\n",
        "\n",
        "$$\n",
        "\\begin{align}\n",
        "h_{u}^{t+1} = MLP(h_{u}^t(1+ϵ) + \\sum_{i=1}^{K} \\alpha_i \\sum_{v \\in N_{i}(u)}h_{u}^t)\n",
        "\\end{align}\n",
        "$$\n",
        "\n",
        "where $N_{i}(u)$ denotes the $i$-hop neighborhood of $u$ and $\\alpha_i$ are learned weights. Crucially, the $\\alpha_i$ comes BEFORE the aggregation of the neighbors from the $i$-hop neighborhood. This means that there is only one weight learned for the entire neighborhood. A possible improvement would be the aggregation scheme: \n",
        "$$\n",
        "\\begin{align*}\n",
        "h_{u}^{t+1} = MLP(h_{u}^t(1+ϵ) + \\sum_{i=1}^{K}  \\sum_{v \\in N_{i}(u)} \\alpha_{iv}^uh_{u}^t) \n",
        "\\end{align*}\n",
        "$$\n",
        "\n",
        "where $\\alpha_{iv}^u$ is the learned attention weight for $v \\in N_{i}(u)$. In this case, we would get something like a GAT which aggregates each $k$-hop neighborhood separately. Building on this idea, I decided to explore the class of models given as:\n",
        "\n",
        "$$\n",
        "\\begin{align*}\n",
        "h_{u}^{t+1} = COM(h_{u}^t, GAT_1(N_{1}(u)),GAT_2(N_{2}(u)), \\dots GAT_k(N_{k}(u))) \n",
        "\\end{align*}\n",
        "$$\n",
        "\n",
        "where $GAT_i(N_{i}(u))$ denotes a graph attention layer aggregating over the $i$-hop neighborhood. \n",
        "\n",
        "I believe that one could write an entire thesis (or perhaps a paper) studying this class of models. For this reason, I decided to choose ONE model from this class and conduct a short study on its properties and performance. But which model should we choose? Recall that the driving idea behind this class of models is to achieve better information flow. Thus a good way to decide which model to use would be to test the models on a dataset which highlights information bottlenecks - like the TreeNeighboursMatch problem ([Alon and Yahav](https://arxiv.org/pdf/2006.05205.pdf)). I experimented with different architectures on this dataset and picked the model which performed the best. This was a model using the aggregation scheme:\n",
        "\n",
        "$$\n",
        "\\begin{align*}\n",
        "h_{u}^{t+1} = MLP(h_{u}^t \\bigoplus GAT_1(N_{1}(u)) \\bigoplus GAT_2(N_{2}(u)) \\bigoplus \\dots \\bigoplus GAT_k(N_{k}(u))) \n",
        "\\end{align*}\n",
        "$$\n",
        "\n",
        "where $\\bigoplus$ denotes concatenation. The intuition behind this model is as follows: when we concatenate the outputs from different hops, the information is not mixed together (which is not the case if we sum). The MLP can then learn to identify the $k$-hop neighbourhoods which are important (in the TreeNeighboursMatch problem, only the last layer of the binary tree matters - this will be explained in detail later). \n",
        "\n",
        "\n",
        "The rest of this notebook is dedicated to experiments around this concatenation model which we will refer to as HopGAT. I have decided to not include the experiments that I did with other models from the class above, even though they took me a lot of time. The reason is that the notebook is already quite long and the experiments were not that interesting. However, it would be interesting to conduct a deeper study of the entire class of models and this is perhaps a possible direction for further research. "
      ]
    },
    {
      "cell_type": "markdown",
      "metadata": {
        "id": "0CyLvmAxtB55"
      },
      "source": [
        "# Experiments"
      ]
    },
    {
      "cell_type": "markdown",
      "metadata": {
        "id": "LpfMnbcKK3FQ"
      },
      "source": [
        "This section includes experiments that I conducted as part of my study. It is divided into subsections where each step is carefully explained. If you want to run code in this notebook, feel free to do so. However, bear in mind that by doing so, you will erase my outputs. Furthermore, some experiments take a very long time - so be careful which cells you execute. \n",
        "\n",
        "We will perform experiments only on two datasets - Cora and TreeNeighborsMatch. Our first goal is to compare the performance of HopGAT vs GAT. Our second goal is to understand the limitations of both GAT and HopGAT and see if HopGAT alleviates any limitations of GATs. Namely, we would like to show that HopGAT is more resistant to oversquashing. Let's begin.  \n"
      ]
    },
    {
      "cell_type": "markdown",
      "metadata": {
        "id": "e7OqLq_zMRJl"
      },
      "source": [
        "## Cora"
      ]
    },
    {
      "cell_type": "markdown",
      "metadata": {
        "id": "1UuadWhnMYaT"
      },
      "source": [
        "Before we do anything sophisticated, we must do a sanity check. Does our model achieve a reasonable performance on a standard dataset like, say, Cora? How does it compare to a standard GAT? In this section, we will implement a standard GAT, implement our model and compare their performance. We will also examine oversmoothing. "
      ]
    },
    {
      "cell_type": "markdown",
      "metadata": {
        "id": "5nob8dayNDpe"
      },
      "source": [
        "### Data preparation"
      ]
    },
    {
      "cell_type": "markdown",
      "metadata": {
        "id": "p7HNHPrgNL2F"
      },
      "source": [
        "First we must prepare the data. We must download the Cora dataset but also we must figure out a way to compute the shortest path neighborhoods."
      ]
    },
    {
      "cell_type": "code",
      "execution_count": null,
      "metadata": {
        "id": "OQAx6qu0thud"
      },
      "outputs": [],
      "source": [
        "#colab stuff\n",
        "\n",
        "%%capture\n",
        "%env TORCH=1.13.0+cu116\n",
        "!pip install torch-scatter -f https://data.pyg.org/whl/torch-${TORCH}.html\n",
        "!pip install torch-sparse -f https://data.pyg.org/whl/torch-${TORCH}.html\n",
        "!pip install torch-geometric\n",
        "!pip install common"
      ]
    },
    {
      "cell_type": "code",
      "execution_count": null,
      "metadata": {
        "colab": {
          "base_uri": "https://localhost:8080/"
        },
        "id": "yLJf1BhuNpD8",
        "outputId": "b15c3459-c02d-43bf-f543-b6f8d52186f8"
      },
      "outputs": [
        {
          "output_type": "stream",
          "name": "stdout",
          "text": [
            "cuda\n"
          ]
        },
        {
          "output_type": "stream",
          "name": "stderr",
          "text": [
            "Downloading https://github.com/kimiyoung/planetoid/raw/master/data/ind.cora.x\n",
            "Downloading https://github.com/kimiyoung/planetoid/raw/master/data/ind.cora.tx\n",
            "Downloading https://github.com/kimiyoung/planetoid/raw/master/data/ind.cora.allx\n",
            "Downloading https://github.com/kimiyoung/planetoid/raw/master/data/ind.cora.y\n",
            "Downloading https://github.com/kimiyoung/planetoid/raw/master/data/ind.cora.ty\n",
            "Downloading https://github.com/kimiyoung/planetoid/raw/master/data/ind.cora.ally\n",
            "Downloading https://github.com/kimiyoung/planetoid/raw/master/data/ind.cora.graph\n",
            "Downloading https://github.com/kimiyoung/planetoid/raw/master/data/ind.cora.test.index\n",
            "Processing...\n",
            "Done!\n"
          ]
        }
      ],
      "source": [
        "#download Cora\n",
        "import torch\n",
        "import torch_geometric\n",
        "from torch_geometric.datasets import Planetoid\n",
        "from torch_geometric.loader import DataLoader\n",
        "\n",
        "\n",
        "device = torch.device(\"cuda\") if torch.cuda.is_available() else torch.device(\"cpu\") \n",
        "print(device)\n",
        "dataset = Planetoid(\"/tmp/Cora\", name=\"Cora\")"
      ]
    },
    {
      "cell_type": "markdown",
      "metadata": {
        "id": "atO6oA0vOKRQ"
      },
      "source": [
        "Thanks to the amazing work of [Abboud et al](https://arxiv.org/abs/2206.01003ps://), we don't have to worry about computing shortest paths ourselves. Instead, we take a function they implemented, and use it for our experiments. The following code is copied from this [link](https://github.com/radoslav11/SP-MPNN/blob/main/src/utils/shortest_paths.py). "
      ]
    },
    {
      "cell_type": "code",
      "execution_count": null,
      "metadata": {
        "id": "-8yP_vieOrap"
      },
      "outputs": [],
      "source": [
        "#this is not my code \n",
        "\n",
        "from scipy.sparse.csgraph import floyd_warshall\n",
        "from torch_geometric.utils import to_dense_adj, to_undirected\n",
        "from collections import deque\n",
        "\n",
        "\n",
        "\n",
        "def compute_shortest_paths(N, K, adj__N_N):\n",
        "    # Computest the hops / jumps tensor for distance < K\n",
        "    sp__N_N = floyd_warshall(adj__N_N)\n",
        "    jumps__K_N_N = torch.zeros(size=(K, N, N), dtype=torch.float)\n",
        "    for d in range(K):\n",
        "        jumps__K_N_N[d] = torch.tensor(sp__N_N == d, dtype=torch.float)\n",
        "\n",
        "    return jumps__K_N_N\n",
        "\n",
        "\n",
        "def transform_graph_sp_small(graph, max_distance=None):\n",
        "    if hasattr(graph, \"edge_attr\") and graph.edge_attr is not None:\n",
        "        original_edge_index, original_edge_attr = to_undirected(\n",
        "            graph.edge_index, graph.edge_attr, reduce=\"max\"\n",
        "        )\n",
        "    else:\n",
        "        original_edge_index = to_undirected(graph.edge_index)\n",
        "\n",
        "    adj_matrix = to_dense_adj(original_edge_index, max_num_nodes=graph.num_nodes)[0]\n",
        "    shortest_paths = torch.tensor(floyd_warshall(adj_matrix), dtype=torch.long)\n",
        "    edge_index = torch.zeros(\n",
        "        size=(2, graph.num_nodes * graph.num_nodes), dtype=torch.long\n",
        "    )\n",
        "    edge_index[0, :] = torch.arange(graph.num_nodes).repeat(graph.num_nodes)\n",
        "    edge_index[1, :] = torch.repeat_interleave(\n",
        "        torch.arange(graph.num_nodes), graph.num_nodes\n",
        "    )\n",
        "    graph.edge_weights = shortest_paths.flatten()\n",
        "    graph.edge_index = edge_index\n",
        "\n",
        "    if max_distance:\n",
        "        edge_mask_dist = graph.edge_weights <= max_distance\n",
        "        graph.edge_weights = graph.edge_weights[edge_mask_dist]\n",
        "        graph.edge_index = graph.edge_index[:, edge_mask_dist]\n",
        "\n",
        "    if hasattr(graph, \"edge_attr\") and graph.edge_attr is not None:\n",
        "        mask_dist_1 = graph.edge_weights == 1\n",
        "        graph.edge_index[:, mask_dist_1] = original_edge_index\n",
        "        if len(graph.edge_attr.shape) == 1:\n",
        "            graph.edge_attr = torch.zeros(\n",
        "                size=(graph.edge_index.shape[1],), dtype=torch.long\n",
        "            )\n",
        "            graph.edge_attr[mask_dist_1] = original_edge_attr\n",
        "        elif len(graph.edge_attr.shape) == 2:\n",
        "            graph.edge_attr = torch.zeros(\n",
        "                size=(graph.edge_index.shape[1], graph.edge_attr.shape[1]),\n",
        "                dtype=original_edge_attr.dtype,\n",
        "            )\n",
        "            graph.edge_attr[mask_dist_1, :] = original_edge_attr\n",
        "\n",
        "    return graph\n",
        "\n",
        "\n",
        "def to_adj_list(N, edge_index, edge_attr=None):\n",
        "    ret = [set() for _ in range(N)]\n",
        "    for i in range(edge_index.shape[1]):\n",
        "        u, v = edge_index[:, i]\n",
        "        w = 0 if edge_attr is None else edge_attr[i]\n",
        "        ret[u].add((v, w))\n",
        "        ret[v].add((u, w))\n",
        "\n",
        "    return ret\n",
        "\n",
        "\n",
        "def transform_graph_sp(graph, max_distance=None):\n",
        "    N = graph.num_nodes\n",
        "    if max_distance is None:\n",
        "        max_distance = N\n",
        "\n",
        "    if hasattr(graph, \"edge_attr\") and graph.edge_attr is not None:\n",
        "        adj_list = to_adj_list(N, graph.edge_index, graph.edge_attr)\n",
        "    else:\n",
        "        adj_list = to_adj_list(N, graph.edge_index)\n",
        "\n",
        "    edges = []\n",
        "    weights = []\n",
        "    edge_attr_new = []\n",
        "    for src in range(N):\n",
        "        # Create edges from src\n",
        "        vis = set()\n",
        "        vis.add(src)\n",
        "        Q = deque([(src, 0)])\n",
        "        while Q:\n",
        "            u, d = Q.popleft()\n",
        "            for v, w in adj_list[u]:\n",
        "                if v not in vis:\n",
        "                    vis.add(v)\n",
        "                    edges.append([src, v])\n",
        "                    weights.append(d + 1)\n",
        "                    edge_attr_new.append(w)\n",
        "                    if d + 1 < max_distance:\n",
        "                        Q.append((v, d + 1))\n",
        "\n",
        "    graph.edge_index = torch.tensor(edges, dtype=torch.long).T\n",
        "    graph.edge_weights = torch.tensor(weights, dtype=torch.long)\n",
        "\n",
        "    if hasattr(graph, \"edge_attr\") and graph.edge_attr is not None:\n",
        "        graph.edge_attr = torch.tensor(edge_attr_new, dtype=torch.long)\n",
        "\n",
        "    return graph\n",
        "\n",
        "\n",
        "class ShortestPathTransform:\n",
        "    def __init__(self, max_distance=None, threshold=8196):\n",
        "        self.max_distance = max_distance\n",
        "        self.threshold = threshold\n",
        "\n",
        "    def transform(self, graph):\n",
        "        if graph.x is None:\n",
        "            # For ogbg-ppa\n",
        "            graph.x = torch.zeros(graph.num_nodes, dtype=torch.long)\n",
        "\n",
        "        if graph.num_nodes > self.threshold or graph.num_edges == 0:\n",
        "            return transform_graph_sp(graph, self.max_distance)\n",
        "        else:\n",
        "            return transform_graph_sp_small(graph, self.max_distance)"
      ]
    },
    {
      "cell_type": "markdown",
      "metadata": {
        "id": "bCIj2uxjO-4m"
      },
      "source": [
        "Let us illustrate how this works. Let us generate a graph, plot it, then compute the 2 hop neighborhoods, and plot them. "
      ]
    },
    {
      "cell_type": "code",
      "execution_count": null,
      "metadata": {
        "colab": {
          "base_uri": "https://localhost:8080/",
          "height": 319
        },
        "id": "wCIH12hkO-LQ",
        "outputId": "e3acf2d8-ef00-4b8d-bc4a-c5c5aefd6253"
      },
      "outputs": [
        {
          "data": {
            "image/png": "[encoded data removed]",
            "text/plain": [
              "<Figure size 432x288 with 1 Axes>"
            ]
          },
          "metadata": {},
          "output_type": "display_data"
        }
      ],
      "source": [
        "#plot some graph\n",
        "\n",
        "import networkx as nx\n",
        "petersen=nx.petersen_graph()\n",
        "nx.draw(petersen, with_labels = True) "
      ]
    },
    {
      "cell_type": "code",
      "execution_count": null,
      "metadata": {
        "colab": {
          "base_uri": "https://localhost:8080/",
          "height": 319
        },
        "id": "ocwK-fCePv0S",
        "outputId": "c33e1575-5d00-4089-ff13-4985fb52798c"
      },
      "outputs": [
        {
          "data": {
            "image/png": "[encoded data removed]",
            "text/plain": [
              "<Figure size 432x288 with 1 Axes>"
            ]
          },
          "metadata": {},
          "output_type": "display_data"
        }
      ],
      "source": [
        "# now plot its 2-hop neighbourhoods\n",
        "\n",
        "petersen = torch_geometric.utils.convert.from_networkx(petersen)\n",
        "spt = ShortestPathTransform(2)\n",
        "spt.transform(petersen)\n",
        "distance2 = petersen.edge_weights == 2\n",
        "petersen.edge_index = petersen.edge_index[:,distance2]\n",
        "petersen = torch_geometric.utils.convert.to_networkx(petersen)\n",
        "nx.draw(petersen, with_labels = True) "
      ]
    },
    {
      "cell_type": "markdown",
      "metadata": {
        "id": "BYVl9oiVRQA3"
      },
      "source": [
        "Cool!"
      ]
    },
    {
      "cell_type": "markdown",
      "metadata": {
        "id": "XoZD-9FqXbfF"
      },
      "source": [
        "Now we must modify the Cora dataset so that it contains the corresponding $k$-hop edge indices. We can do that as follows:"
      ]
    },
    {
      "cell_type": "code",
      "execution_count": null,
      "metadata": {
        "id": "FjzYrOu9XPyu"
      },
      "outputs": [],
      "source": [
        "def getHopNeighborhoods(depth,graph):\n",
        "  '''Computes k-hop edge indices for k = 1, ... depth'''\n",
        "  \n",
        "  spt = ShortestPathTransform(depth)\n",
        "  spt.transform(graph)\n",
        "  dic = {}\n",
        "  for i in range(1,depth+1):\n",
        "    distance = graph.edge_weights == i\n",
        "    dic[i] = graph.edge_index[:,distance]\n",
        "  graph.hops = dic\n",
        "  return graph\n",
        "data = getHopNeighborhoods(10,dataset.data)"
      ]
    },
    {
      "cell_type": "markdown",
      "metadata": {
        "id": "FvhHHif_YUTY"
      },
      "source": [
        "We store the $k$-hop edge indices in a dictionary called hops. To access the 3 hop edge index, we simply do:"
      ]
    },
    {
      "cell_type": "code",
      "execution_count": null,
      "metadata": {
        "colab": {
          "base_uri": "https://localhost:8080/"
        },
        "id": "osOB32jXYQHe",
        "outputId": "ea42bce0-c74a-45ad-b19e-dff653d6562f"
      },
      "outputs": [
        {
          "data": {
            "text/plain": [
              "tensor([[  13,   24,  143,  ..., 2493, 2607, 2698],\n",
              "        [   0,    0,    0,  ..., 2707, 2707, 2707]])"
            ]
          },
          "execution_count": 7,
          "metadata": {},
          "output_type": "execute_result"
        }
      ],
      "source": [
        "data.hops[3]"
      ]
    },
    {
      "cell_type": "markdown",
      "metadata": {
        "id": "RxPcIBWhRUjv"
      },
      "source": [
        "Now we are ready to implement both the standard GAT and HopGAT. "
      ]
    },
    {
      "cell_type": "markdown",
      "source": [
        "### Implementation"
      ],
      "metadata": {
        "id": "yfkOZCuKdDCv"
      }
    },
    {
      "cell_type": "code",
      "execution_count": null,
      "metadata": {
        "id": "qEhYKbS3RsbM"
      },
      "outputs": [],
      "source": [
        "#Implementing a graph attention network \n",
        "\n",
        "from torch_geometric.nn import GATConv\n",
        "from torch import nn\n",
        "from torch.nn import functional as F\n",
        "\n",
        "class GAT(nn.Module):\n",
        "  def __init__(self,input_dim,hid_dim,n_heads,n_classes,n_layers,slope = 0.2,dropout = 0.6):\n",
        "    super(GAT, self).__init__()\n",
        "   \n",
        "    self.device = \"cuda\" if torch.cuda.is_available() else \"cpu\"\n",
        "    self.input_dim = input_dim\n",
        "    self.hid_dim = hid_dim\n",
        "    self.n_classes = n_classes\n",
        "    self.n_layers = n_layers \n",
        "    self.num_layers = n_layers\n",
        "    self.dropout = dropout\n",
        "    \n",
        "    if n_layers >= 1:\n",
        "        self.layers = nn.ModuleList([GATConv(input_dim,hid_dim//n_heads,heads = n_heads,negative_slope = slope,dropout = dropout)] + \n",
        "                                  [GATConv(hid_dim,hid_dim//n_heads,heads = n_heads,negative_slope = slope,dropout = dropout) for i in range(0,n_layers-1)] + \n",
        "                                  [GATConv(hid_dim,n_classes,heads = n_heads,negative_slope = slope,dropout = dropout, concat = False)])\n",
        "        \n",
        "    else:\n",
        "        raise ValueError('Error - need atleast 1 layer.')\n",
        "    \n",
        "  def forward(self,data) -> torch.Tensor:\n",
        "    data = data.to(self.device)\n",
        "    x = data.x\n",
        "    edge_index = data.hops[1] #we only use 1-hops \n",
        "\n",
        "    x = F.dropout(x,self.dropout, training = self.training) \n",
        "    for i in range(len(self.layers)-1):\n",
        "      x = self.layers[i](x,edge_index)\n",
        "      x = F.dropout(x,self.dropout, training = self.training)\n",
        "    \n",
        "    x = self.layers[-1](x,edge_index) \n",
        "    return x\n",
        "\n",
        "  def param_init(self):\n",
        "      def _reset_module_parameters(module):\n",
        "          for layer in module.children():\n",
        "              if hasattr(layer, 'reset_parameters'):\n",
        "                  layer.reset_parameters()\n",
        "              elif hasattr(layer, 'children'):\n",
        "                  for child_layer in layer.children():\n",
        "                      _reset_module_parameters(child_layer)\n",
        "\n",
        "      _reset_module_parameters(self) \n",
        "\n",
        "      "
      ]
    },
    {
      "cell_type": "code",
      "execution_count": null,
      "metadata": {
        "id": "0gXikxaXVnFe"
      },
      "outputs": [],
      "source": [
        "#Implementing HopGAT\n",
        "from torch import nn\n",
        "from torch.nn import functional as F\n",
        "from torch_geometric.nn import GATConv\n",
        "\n",
        "class HopGAT(torch.nn.Module):\n",
        "    def __init__(self, input_dim, hid_dim, out_dim, n_heads,n_layers):\n",
        "        super(HopGAT, self).__init__()\n",
        "\n",
        "        \n",
        "        self.device = torch.device('cuda' if torch.cuda.is_available() else 'cpu')\n",
        "        self.n_layers = n_layers\n",
        "        \n",
        "        if n_layers >= 1:\n",
        "          self.layers = nn.ModuleList([GATConv(input_dim,hid_dim//n_heads,heads = n_heads)]*n_layers)\n",
        "        \n",
        "        else:\n",
        "          raise ValueError('Error - need atleast 1 layer.')\n",
        "        \n",
        "        self.mlp = nn.Linear(input_dim+hid_dim*n_layers,out_dim)\n",
        "        \n",
        "       \n",
        "\n",
        "    def forward(self, data):\n",
        "        x = data.x\n",
        "  \n",
        "        cat = x \n",
        "        for i in range(self.n_layers):\n",
        "          cat = torch.cat((cat,self.layers[i](x,data.hops[i+1])),dim = 1)\n",
        "      \n",
        "        return self.mlp(cat)\n",
        "\n",
        "    def param_init(self):\n",
        "      def _reset_module_parameters(module):\n",
        "          for layer in module.children():\n",
        "              if hasattr(layer, 'reset_parameters'):\n",
        "                  layer.reset_parameters()\n",
        "              elif hasattr(layer, 'children'):\n",
        "                  for child_layer in layer.children():\n",
        "                      _reset_module_parameters(child_layer)\n",
        "\n",
        "      _reset_module_parameters(self) "
      ]
    },
    {
      "cell_type": "code",
      "execution_count": null,
      "metadata": {
        "id": "CgEiOKvyTJJv"
      },
      "outputs": [],
      "source": [
        "#train and evaluate functions\n",
        "\n",
        "def evaluate(model,data,mask):\n",
        "    model.eval()\n",
        "    scores = model.forward(data)\n",
        "    predicted_labels = torch.argmax(scores, dim = 1)[mask]\n",
        "    accuracy = ((predicted_labels == data.y[mask]).float()).mean()\n",
        "    return accuracy.item()\n",
        "    \n",
        "def train(\n",
        "    params: dict,\n",
        "    data\n",
        ") -> torch.nn.Module:\n",
        "  \"\"\"\n",
        "    This function trains a node classification model and returns the trained model object.\n",
        "  \"\"\"\n",
        "  # set device\n",
        "  device = \"cuda\" if torch.cuda.is_available() else \"cpu\"\n",
        "\n",
        "  data = data.to(device)\n",
        "  \n",
        "  if params[\"model\"] == \"GAT\":\n",
        "    model = GAT(input_dim = params[\"num_features\"],\n",
        "                                hid_dim = params[\"hid_dim\"],\n",
        "                                n_heads = params[\"n_heads\"],\n",
        "                                n_classes = params[\"num_classes\"],\n",
        "                                n_layers = params[\"n_layers\"]).to(device)\n",
        "  elif params[\"model\"] == \"HopGAT\":\n",
        "    model = HopGAT(input_dim = params[\"num_features\"],\n",
        "                              hid_dim = params[\"hid_dim\"],\n",
        "                              n_heads = params[\"n_heads\"],\n",
        "                              out_dim = params[\"num_classes\"],\n",
        "                              n_layers = params[\"n_layers\"]).to(device)\n",
        "  \n",
        "  if params[\"print\"]:\n",
        "    print(model)\n",
        "  model.param_init()\n",
        "  k = params['max_patience']\n",
        "  \n",
        "  optimizer = torch.optim.Adam(model.parameters(), lr = params[\"lr\"], weight_decay = params[\"weight_decay\"])\n",
        "  criterion = torch.nn.CrossEntropyLoss()\n",
        "  \n",
        "\n",
        "  losses = []\n",
        "  train_accuracies = []\n",
        "  val_accuracies = []\n",
        "  test_accuracies = []\n",
        "  stop_count = 0\n",
        "  \n",
        "  for i in range(params[\"epochs\"]):\n",
        "      model.train()\n",
        "      optimizer.zero_grad()\n",
        "      \n",
        "      out = model.forward(data)\n",
        "      loss = criterion(out[data.train_mask],data.y[data.train_mask]) \n",
        "      \n",
        "      \n",
        "      train_acc = evaluate(model,data, data.train_mask)\n",
        "      val_acc = evaluate(model,data, data.val_mask)\n",
        "      test_acc = evaluate(model,data, data.test_mask)\n",
        "      \n",
        "\n",
        "      train_accuracies.append(train_acc)\n",
        "      val_accuracies.append(val_acc)\n",
        "      test_accuracies.append(test_acc)\n",
        "      \n",
        "      \n",
        "      \n",
        "      losses.append(loss.item())\n",
        "     \n",
        "     ##early stopping\n",
        "      if i > k:\n",
        "        if val_accuracies[-1] <= val_accuracies[-2]:\n",
        "          stop_count += 1\n",
        "        else:\n",
        "          stop_count = 0\n",
        "\n",
        "      if stop_count == k:\n",
        "        print('Early stopped at epoch: ' + str(i))\n",
        "       \n",
        "        break\n",
        "      \n",
        "      else:\n",
        "        loss.backward()\n",
        "        optimizer.step()\n",
        "  \n",
        "  \n",
        "\n",
        "  best_val_acc = max(val_accuracies)\n",
        "  print(\"Best Val Accuracy: \" + str(best_val_acc))\n",
        "  print('Test acc: ' + str(test_accuracies[-1]))\n",
        "  return model,test_accuracies\n"
      ]
    },
    {
      "cell_type": "markdown",
      "source": [
        "### Evaluation"
      ],
      "metadata": {
        "id": "mF9VPFb3dGyB"
      }
    },
    {
      "cell_type": "code",
      "execution_count": null,
      "metadata": {
        "colab": {
          "base_uri": "https://localhost:8080/"
        },
        "id": "W5eHxboSZw8J",
        "outputId": "c87c9f0a-b295-4911-d3cb-994d18e3aa2e"
      },
      "outputs": [
        {
          "name": "stdout",
          "output_type": "stream",
          "text": [
            "GAT(\n",
            "  (layers): ModuleList(\n",
            "    (0): GATConv(1433, 8, heads=8)\n",
            "    (1): GATConv(64, 7, heads=8)\n",
            "  )\n",
            ")\n",
            "Best Val Accuracy: 0.7640000581741333\n",
            "Test acc: 0.781000018119812\n"
          ]
        }
      ],
      "source": [
        "params = {\n",
        "    \"hid_dim\": 64,\n",
        "    \"n_heads\": 8,\n",
        "    \"n_layers\": 1,\n",
        "    \"lr\": 5e-4,\n",
        "    \"weight_decay\": 5e-3,\n",
        "    \"epochs\": 100,\n",
        "    \"dropout\": 0.6,\n",
        "    \"alpha\":0.2,\n",
        "    \"max_patience\": 100,\n",
        "    \"num_classes\": 7,\n",
        "    \"model\": \"GAT\",\n",
        "    \"num_features\": 1433,\n",
        "    \"print\": True\n",
        "}\n",
        "gat_model_1,test_acc_1 = train(params, data)"
      ]
    },
    {
      "cell_type": "code",
      "execution_count": null,
      "metadata": {
        "colab": {
          "base_uri": "https://localhost:8080/"
        },
        "id": "ESsdvOmEzzUn",
        "outputId": "ccaffe49-50d9-4230-94c1-4cffbfc407e1"
      },
      "outputs": [
        {
          "name": "stdout",
          "output_type": "stream",
          "text": [
            "HopGAT(\n",
            "  (layers): ModuleList(\n",
            "    (0): GATConv(1433, 8, heads=8)\n",
            "  )\n",
            "  (mlp): Linear(in_features=1497, out_features=7, bias=True)\n",
            ")\n",
            "Best Val Accuracy: 0.7260000109672546\n",
            "Test acc: 0.7380000352859497\n"
          ]
        }
      ],
      "source": [
        "params = {\n",
        "    \"hid_dim\": 64,\n",
        "    \"n_heads\": 8,\n",
        "    \"n_layers\": 1, #we are only using 1 GAT layer, which isn't really the point of our model - hence the worse performance\n",
        "    \"lr\": 5e-4,\n",
        "    \"weight_decay\": 5e-3,\n",
        "    \"epochs\": 100,\n",
        "    \"dropout\": 0.6,\n",
        "    \"alpha\":0.2,\n",
        "    \"max_patience\": 100,\n",
        "    \"num_classes\": 7,\n",
        "    \"model\": \"HopGAT\",\n",
        "    \"num_features\": 1433,\n",
        "    \"print\": True\n",
        "}\n",
        "hop_gat_model_1,test_acc_hop_1 = train(params, data)"
      ]
    },
    {
      "cell_type": "markdown",
      "metadata": {
        "id": "QFIhG7sL0l-K"
      },
      "source": [
        "We can see that our implementation of both models was succesful and that both models achieve a reasonably good performance. Observe that we only used 1 layer in HopGAT, which doesn't really make sense for this model - we would just use a 1-layer GAT if we wanted to aggregate over the 1-hop neighborhood. Let's try to increase the number of layers (in both models) to see what happens. \n"
      ]
    },
    {
      "cell_type": "code",
      "execution_count": null,
      "metadata": {
        "colab": {
          "base_uri": "https://localhost:8080/",
          "height": 638
        },
        "id": "56Po4lNvTkEd",
        "outputId": "9ff8fa15-05cd-4b28-dd54-206d3d3b8dd5"
      },
      "outputs": [
        {
          "name": "stdout",
          "output_type": "stream",
          "text": [
            "Best Val Accuracy: 0.7660000324249268\n",
            "Test acc: 0.7780000567436218\n",
            "Best Val Accuracy: 0.7500000596046448\n",
            "Test acc: 0.7490000128746033\n",
            "Best Val Accuracy: 0.7680000066757202\n",
            "Test acc: 0.7590000629425049\n",
            "Best Val Accuracy: 0.4780000150203705\n",
            "Test acc: 0.48900002241134644\n",
            "Best Val Accuracy: 0.41600000858306885\n",
            "Test acc: 0.3710000216960907\n",
            "Best Val Accuracy: 0.17800000309944153\n",
            "Test acc: 0.15600000321865082\n",
            "Best Val Accuracy: 0.12200000882148743\n",
            "Test acc: 0.06200000271201134\n",
            "Best Val Accuracy: 0.2939999997615814\n",
            "Test acc: 0.2930000126361847\n",
            "Best Val Accuracy: 0.1720000058412552\n",
            "Test acc: 0.14500001072883606\n",
            "Best Val Accuracy: 0.20600001513957977\n",
            "Test acc: 0.06200000271201134\n"
          ]
        },
        {
          "data": {
            "text/plain": [
              "Text(0.5, 1.0, 'Accuracy vs Number of Layers in a GAT')"
            ]
          },
          "execution_count": 39,
          "metadata": {},
          "output_type": "execute_result"
        },
        {
          "data": {
            "image/png": "[encoded data removed]",
            "text/plain": [
              "<Figure size 432x288 with 1 Axes>"
            ]
          },
          "metadata": {},
          "output_type": "display_data"
        }
      ],
      "source": [
        "import matplotlib.pyplot as plt\n",
        "\n",
        "params[\"model\"] = \"GAT\"\n",
        "params[\"print\"] = False\n",
        "test_acc = []\n",
        "for i in range(1,11):\n",
        "  params[\"n_layers\"] = i\n",
        "  model,acc = train(params,data)\n",
        "  test_acc.append(acc[-1])\n",
        "\n",
        "plt.plot(test_acc)\n",
        "plt.title(\"Accuracy vs Number of Layers in a GAT\")"
      ]
    },
    {
      "cell_type": "code",
      "execution_count": null,
      "metadata": {
        "colab": {
          "base_uri": "https://localhost:8080/",
          "height": 638
        },
        "id": "smvzU-7D2N1L",
        "outputId": "86c983fe-2b2a-47cb-b091-86a31ad10e9d"
      },
      "outputs": [
        {
          "name": "stdout",
          "output_type": "stream",
          "text": [
            "Best Val Accuracy: 0.7320000529289246\n",
            "Test acc: 0.7390000224113464\n",
            "Best Val Accuracy: 0.7680000066757202\n",
            "Test acc: 0.7940000295639038\n",
            "Best Val Accuracy: 0.7720000147819519\n",
            "Test acc: 0.7850000262260437\n",
            "Best Val Accuracy: 0.7740000486373901\n",
            "Test acc: 0.7890000343322754\n",
            "Best Val Accuracy: 0.7760000228881836\n",
            "Test acc: 0.7930000424385071\n",
            "Best Val Accuracy: 0.7640000581741333\n",
            "Test acc: 0.7850000262260437\n",
            "Best Val Accuracy: 0.7760000228881836\n",
            "Test acc: 0.784000039100647\n",
            "Best Val Accuracy: 0.7600000500679016\n",
            "Test acc: 0.784000039100647\n",
            "Best Val Accuracy: 0.7720000147819519\n",
            "Test acc: 0.7830000519752502\n",
            "Best Val Accuracy: 0.7620000243186951\n",
            "Test acc: 0.7770000100135803\n"
          ]
        },
        {
          "data": {
            "text/plain": [
              "Text(0.5, 1.0, 'Accuracy vs Number of Layers in a HopGAT')"
            ]
          },
          "execution_count": 41,
          "metadata": {},
          "output_type": "execute_result"
        },
        {
          "data": {
            "image/png": "[encoded data removed]",
            "text/plain": [
              "<Figure size 432x288 with 1 Axes>"
            ]
          },
          "metadata": {},
          "output_type": "display_data"
        }
      ],
      "source": [
        "\n",
        "params[\"model\"] = \"HopGAT\"\n",
        "params[\"print\"] = False\n",
        "test_acc = []\n",
        "for i in range(1,11):\n",
        "  params[\"n_layers\"] = i\n",
        "  model,acc = train(params,data)\n",
        "  test_acc.append(acc[-1])\n",
        "\n",
        "plt.plot(test_acc)\n",
        "plt.title(\"Accuracy vs Number of Layers in a HopGAT\")"
      ]
    },
    {
      "cell_type": "markdown",
      "metadata": {
        "id": "cbsmQtbO4RHK"
      },
      "source": [
        "Firstly, note that the best HopGAT model achieved a test accuracy of 79.4%, which is comparable with test accuracies achieved by GATs (these usually ranged between 78 and 81 in my experiments). Secondly, observe that the performance of the GAT decreases as we increase the number of layers while the performance of the HopGAT stays more or less constant. This means that GATs are susceptible to oversmoothing, while HopGATs are much more resistant. This is already an interesting result on its own. Perhaps for tasks where long-range dependencies are important, it is better to use HopGATs. \n",
        "\n",
        "Our primary motivation behind the HopGAT was to tackle oversquashing, not oversmoothing. However, it makes perfect sense that HopGAT is resistant to oversmoothing. The reason is that our concatenation is similar to Jumping Knowledge Connections. By remembering the initial features of each node (by concatenating it), we prevent oversmoothing from occuring. This is also another reason why concatenation is a good approach. \n",
        "\n",
        "Finally, a remark. I spent a significant amount of time trying to tweak the architecture of HopGAT to achieve a higher performance on Cora. For example, I tried using more layers (this is not the same as hops), different choices of nonlinearities and other aggregation schemes (e.g sum) but in the end the accuracy was always around 80%. Most of these models performed significantly worse on the following dataset, so I decided to not include them. "
      ]
    },
    {
      "cell_type": "markdown",
      "metadata": {
        "id": "uOUIpN47X87d"
      },
      "source": [
        "## Implementing TreeNeighborsMatch"
      ]
    },
    {
      "cell_type": "markdown",
      "metadata": {
        "id": "oBzoDc6c_TDo"
      },
      "source": [
        "Now that we've implemented our model, saw that it performs reasonably well on Cora and is resistant to oversmoothing, it is time to test how well it tackles oversquashing, which is what it was designed for in the first place. To do this, we must turn to a dataset which is created to highlight oversquashing. A good candidate is the TreeNeighborsMatch problem from [Alon and Yahav](https://arxiv.org/pdf/2006.05205.pdf). \n",
        "\n",
        "First, we will download the dataset and understand and explain how it works. Then we will try to reimplement some results from the paper, to see if we understand what is going on. Finally, we will implement HopGAT on this dataset and see how it performs. Hopefully, we will observe that it is more resistant to oversquashing than a standard GAT. \n",
        "\n"
      ]
    },
    {
      "cell_type": "markdown",
      "metadata": {
        "id": "tgU-RFLdSbNX"
      },
      "source": [
        "### Data preparation"
      ]
    },
    {
      "cell_type": "markdown",
      "metadata": {
        "id": "jc2NtbChYIG_"
      },
      "source": [
        "To generate the dataset, we use the code from the paper. This can be found [here](https://github.com/tech-srl/bottleneck/). "
      ]
    },
    {
      "cell_type": "code",
      "execution_count": null,
      "metadata": {
        "id": "JuhUMdRsJNfr"
      },
      "outputs": [],
      "source": [
        "#this is not my code\n",
        "\n",
        "import torch\n",
        "import torch_geometric\n",
        "\n",
        "from torch_geometric.data import Data\n",
        "from torch.nn import functional as F\n",
        "from sklearn.model_selection import train_test_split\n",
        "import numpy as np\n",
        "import itertools\n",
        "import random\n",
        "import math\n",
        "\n",
        "import common\n",
        "\n",
        "\n",
        "class TreeDataset(object):\n",
        "    def __init__(self, depth):\n",
        "        super(TreeDataset, self).__init__()\n",
        "        self.depth = depth\n",
        "        self.num_nodes, self.edges, self.leaf_indices = self._create_blank_tree()\n",
        "        self.criterion = F.cross_entropy\n",
        "\n",
        "    def add_child_edges(self, cur_node, max_node):\n",
        "        edges = []\n",
        "        leaf_indices = []\n",
        "        stack = [(cur_node, max_node)]\n",
        "        while len(stack) > 0:\n",
        "            cur_node, max_node = stack.pop()\n",
        "            if cur_node == max_node:\n",
        "                leaf_indices.append(cur_node)\n",
        "                continue\n",
        "            left_child = cur_node + 1\n",
        "            right_child = cur_node + 1 + ((max_node - cur_node) // 2)\n",
        "            edges.append([left_child, cur_node])\n",
        "            edges.append([right_child, cur_node])\n",
        "            stack.append((right_child, max_node))\n",
        "            stack.append((left_child, right_child - 1))\n",
        "        return edges, leaf_indices\n",
        "\n",
        "    def _create_blank_tree(self):\n",
        "        max_node_id = 2 ** (self.depth + 1) - 2\n",
        "        edges, leaf_indices = self.add_child_edges(cur_node=0, max_node=max_node_id)\n",
        "        return max_node_id + 1, edges, leaf_indices\n",
        "\n",
        "    def create_blank_tree(self, add_self_loops=True):\n",
        "        edge_index = torch.tensor(self.edges).t()\n",
        "        if add_self_loops:\n",
        "            edge_index, _ = torch_geometric.utils.add_remaining_self_loops(edge_index=edge_index, )\n",
        "        return edge_index\n",
        "\n",
        "    def generate_data(self, train_fraction):\n",
        "        data_list = []\n",
        "\n",
        "        for comb in self.get_combinations():\n",
        "            edge_index = self.create_blank_tree(add_self_loops=True)\n",
        "            nodes = torch.tensor(self.get_nodes_features(comb), dtype=torch.long)\n",
        "            root_mask = torch.tensor([True] + [False] * (len(nodes) - 1))\n",
        "            label = self.label(comb)\n",
        "            data_list.append(Data(x=nodes, edge_index=edge_index, root_mask=root_mask, y=label))\n",
        "\n",
        "        dim0, out_dim = self.get_dims()\n",
        "        X_train, X_test = train_test_split(\n",
        "            data_list, train_size=train_fraction, shuffle=True, stratify=[data.y for data in data_list])\n",
        "\n",
        "\n",
        "        return X_train, X_test, dim0, out_dim, self.criterion\n",
        "\n",
        "\n",
        "    def get_combinations(self):\n",
        "        raise NotImplementedError\n",
        "\n",
        "    def get_nodes_features(self, combination):\n",
        "        raise NotImplementedError\n",
        "\n",
        "    def label(self, combination):\n",
        "        raise NotImplementedError\n",
        "\n",
        "    def get_dims(self):\n",
        "        raise NotImplementedError\n",
        "\n",
        "class DictionaryLookupDataset(TreeDataset):\n",
        "    def __init__(self, depth):\n",
        "        super(DictionaryLookupDataset, self).__init__(depth)\n",
        "\n",
        "    def get_combinations(self):\n",
        "        # returns: an iterable of [key, permutation(leaves)]\n",
        "        # number of combinations: (num_leaves!)*num_choices\n",
        "        num_leaves = len(self.leaf_indices)\n",
        "        num_permutations = 1000\n",
        "        max_examples = 32000\n",
        "\n",
        "        if self.depth > 3:\n",
        "            per_depth_num_permutations = min(num_permutations, math.factorial(num_leaves), max_examples // num_leaves)\n",
        "            permutations = [np.random.permutation(range(1, num_leaves + 1)) for _ in\n",
        "                            range(per_depth_num_permutations)]\n",
        "        else:\n",
        "            permutations = random.sample(list(itertools.permutations(range(1, num_leaves + 1))),\n",
        "                                         min(num_permutations, math.factorial(num_leaves)))\n",
        "\n",
        "        return itertools.chain.from_iterable(\n",
        "\n",
        "            zip(range(1, num_leaves + 1), itertools.repeat(perm))\n",
        "            for perm in permutations)\n",
        "\n",
        "    def get_nodes_features(self, combination):\n",
        "        # combination: a list of indices\n",
        "        # Each leaf contains a one-hot encoding of a key, and a one-hot encoding of the value\n",
        "        # Every other node is empty, for now\n",
        "        selected_key, values = combination\n",
        "\n",
        "        # The root is [one-hot selected key] + [0 ... 0]\n",
        "        nodes = [ (selected_key, 0) ]\n",
        "\n",
        "        for i in range(1, self.num_nodes):\n",
        "            if i in self.leaf_indices:\n",
        "                leaf_num = self.leaf_indices.index(i)\n",
        "                node = (leaf_num+1, values[leaf_num])\n",
        "            else:\n",
        "                node = (0, 0)\n",
        "            nodes.append(node)\n",
        "        return nodes\n",
        "\n",
        "    def label(self, combination):\n",
        "        selected_key, values = combination\n",
        "        return int(values[selected_key - 1])\n",
        "\n",
        "    def get_dims(self):\n",
        "        # get input and output dims\n",
        "        in_dim = len(self.leaf_indices)\n",
        "        out_dim = len(self.leaf_indices)\n",
        "        return in_dim, out_dim"
      ]
    },
    {
      "cell_type": "code",
      "execution_count": null,
      "metadata": {
        "id": "HWqlsIj9Jh_X"
      },
      "outputs": [],
      "source": [
        "d = DictionaryLookupDataset(2)\n",
        "X_train,X_test, dim0, out_dim, criterion = d.generate_data(0.8) #dim0,out_dim is always number of leaves (2^d)"
      ]
    },
    {
      "cell_type": "markdown",
      "metadata": {
        "id": "_RcUSOSbYWIg"
      },
      "source": [
        "Let's visualize one graph from the dataset:"
      ]
    },
    {
      "cell_type": "code",
      "execution_count": null,
      "metadata": {
        "colab": {
          "base_uri": "https://localhost:8080/",
          "height": 319
        },
        "id": "DPHVOM9JYef3",
        "outputId": "05f5a951-ba9f-4163-e96d-e902f2fe1da6"
      },
      "outputs": [
        {
          "data": {
            "image/png": "[encoded data removed]",
            "text/plain": [
              "<Figure size 432x288 with 1 Axes>"
            ]
          },
          "metadata": {},
          "output_type": "display_data"
        }
      ],
      "source": [
        "import networkx as nx\n",
        "import matplotlib.pyplot as plt\n",
        "graph = torch_geometric.utils.to_networkx(X_train[0])\n",
        "nx.draw(graph, with_labels = True)"
      ]
    },
    {
      "cell_type": "markdown",
      "metadata": {
        "id": "YFN_is41Ynvu"
      },
      "source": [
        "Each datapoint is a binary tree with root 0 and all edges directed towards the root. Each vertex has a label and a number of \"blue\" neighbours, stored as node features. Don't be confused - by \"blue\" we mean what the authors call \"blue\" in the paper. In the picture above, unfortunately, all nodes have the color blue, but this is not the same thing.  To confuse the reader even further, the \"blue\" nodes are NOT SHOWN, but are only stored as the node features of each vertex above.\n",
        "\n",
        "The classification task, is to predict the label of the root. The correct answer, is the label of the LEAF, which has the same number of \"blue\" neighbours as the root. Each leaf has a unique label ranging from 1 to $2^{depth}$.\n",
        "In the paper, the \"green nodes\" are the leaves. It took me a long time to figure out what the paper is saying about this dataset and I think it is easiest to illustrate it on an example:"
      ]
    },
    {
      "cell_type": "code",
      "execution_count": null,
      "metadata": {
        "colab": {
          "base_uri": "https://localhost:8080/"
        },
        "id": "EiyT_Yy8YnIk",
        "outputId": "450707ae-7ca8-4850-f7e3-51289b953c75"
      },
      "outputs": [
        {
          "name": "stdout",
          "output_type": "stream",
          "text": [
            "Target label is: 3\n",
            "This is because node 0 has 2 blue neighbors and so does the green node labeled 3. This can be seen here:\n"
          ]
        },
        {
          "data": {
            "text/plain": [
              "tensor([[2, 0],\n",
              "        [0, 0],\n",
              "        [1, 2],\n",
              "        [2, 3],\n",
              "        [0, 0],\n",
              "        [3, 4],\n",
              "        [4, 1]])"
            ]
          },
          "execution_count": 10,
          "metadata": {},
          "output_type": "execute_result"
        }
      ],
      "source": [
        "print('Target label is: '+ str(X_train[0].y))\n",
        "print('This is because node 0 has 2 blue neighbors and so does the green node labeled 3. This can be seen here:')\n",
        "X_train[0].x"
      ]
    },
    {
      "cell_type": "markdown",
      "metadata": {
        "id": "cXAx_QJxW3-X"
      },
      "source": [
        "Observe that there are $2^{depth}$ labels. This means that the classification task gets \"exponentially harder\" as the depth grows. This is even before we consider oversquashing, which will have a very significant impact. Since we are dealing with trees, the receptive field of the root node grows exponentially. We can therefore expect that the problem will get very hard very quickly (which is also reported in the paper) as we increase the depth. "
      ]
    },
    {
      "cell_type": "markdown",
      "metadata": {
        "id": "54mwpQZV309O"
      },
      "source": [
        "### Implementation of GAT"
      ]
    },
    {
      "cell_type": "markdown",
      "metadata": {
        "id": "Z1rnS2OtyHaD"
      },
      "source": [
        "Let us first try to replicate the results in the paper for classic GATs. This is to make sure that we understand how to work with the dataset, so that we can later implement our model. In everything that follows, I have used the exact same parameters and training set up as in the paper. The architecture used by the authors is one embedding layer, $depth + 1$ GAT layers, $depth + 1$ layer normalization layers, and a final linear layer. In particular, the GATs we will use will always have 4 heads and a hidden dimension of 8 (note that 4*8 = 32).\n",
        "\n",
        "\n",
        "The code below is more or less copied from their [github repo](hhttps://github.com/tech-srl/bottleneckttps://). I modified some stuff so that in runs in colab, but I tried to make as little change as possible so that nothing breaks. Even though this looks simple, it was not an easy task to figure out what is going on in the github repo, and took me a significant amount of time. "
      ]
    },
    {
      "cell_type": "code",
      "execution_count": null,
      "metadata": {
        "id": "xG33eAZEczXw"
      },
      "outputs": [],
      "source": [
        "from torch import nn\n",
        "from torch.nn import functional as F\n",
        "from torch_geometric.nn import GATConv\n",
        "\n",
        "class GAT(torch.nn.Module):\n",
        "    def __init__(self,num_layers, dim0, h_dim, out_dim, n_heads,layer_norm = True):\n",
        "        super(GAT, self).__init__()\n",
        "    \n",
        "        self.device = torch.device('cuda' if torch.cuda.is_available() else 'cpu')\n",
        "        \n",
        "        self.num_layers = num_layers\n",
        "        self.layer0_keys = nn.Embedding(num_embeddings=dim0 + 1, embedding_dim=h_dim)\n",
        "        self.layer0_values = nn.Embedding(num_embeddings=dim0 + 1, embedding_dim=h_dim)\n",
        "        self.layers = nn.ModuleList()\n",
        "        self.layer_norm = layer_norm\n",
        "        \n",
        "        if layer_norm:\n",
        "          self.layer_norms = nn.ModuleList()\n",
        "          for i in range(num_layers):\n",
        "            self.layer_norms.append(nn.LayerNorm(h_dim))\n",
        "       \n",
        "        self.out_dim = out_dim  \n",
        "        for i in range(num_layers):\n",
        "          self.layers.append(GATConv(h_dim,h_dim//n_heads,heads = n_heads))\n",
        "          \n",
        "        self.out_layer = nn.Linear(in_features=h_dim, out_features=out_dim + 1, bias=False)\n",
        "\n",
        "    def forward(self, data):\n",
        "        x, edge_index, batch, roots = data.x, data.edge_index, data.batch, data.root_mask\n",
        "\n",
        "        x_key, x_val = x[:, 0], x[:, 1]\n",
        "        x_key_embed = self.layer0_keys(x_key)\n",
        "        x_val_embed = self.layer0_values(x_val)\n",
        "        x = x_key_embed + x_val_embed\n",
        "        \n",
        "        for i in range(self.num_layers):\n",
        "            layer = self.layers[i]\n",
        "            \n",
        "            new_x = x\n",
        "            new_x = layer(new_x, edge_index)  \n",
        "            x = x + new_x #residual\n",
        "            if self.layer_norm == True:\n",
        "              x = self.layer_norms[i](x)\n",
        "            \n",
        "        \n",
        "        root_nodes = x[roots]\n",
        "        logits = self.out_layer(root_nodes)\n",
        "        return logits"
      ]
    },
    {
      "cell_type": "markdown",
      "metadata": {
        "id": "L3KjODHn3-EX"
      },
      "source": [
        "### Implementation of training"
      ]
    },
    {
      "cell_type": "markdown",
      "metadata": {
        "id": "zFPWNhA50cSx"
      },
      "source": [
        "Now we implement the training function (again, this is almost identical to what is on their github). "
      ]
    },
    {
      "cell_type": "code",
      "execution_count": null,
      "metadata": {
        "id": "KP96X5nsdGAb"
      },
      "outputs": [],
      "source": [
        "from torch_geometric.data import DataLoader\n",
        "import numpy as np\n",
        "import random\n",
        "from torch.optim.lr_scheduler import ReduceLROnPlateau\n",
        "from tqdm import tqdm\n",
        "\n",
        "class Experiment():\n",
        "    def __init__(self, depth,dim,n_heads,train_fraction,max_epochs,batch_size,eval_every,loader_workers, layer_norm = True):\n",
        "        \n",
        "        self.depth = depth\n",
        "        num_layers = self.depth + 1\n",
        "        self.dim = dim\n",
        "       \n",
        "        self.train_fraction = train_fraction\n",
        "        self.max_epochs = max_epochs\n",
        "        self.batch_size = batch_size\n",
        "        \n",
        "        self.eval_every = eval_every\n",
        "        self.loader_workers = loader_workers\n",
        "        self.device = torch.device('cuda' if torch.cuda.is_available() else 'cpu')\n",
        "        \n",
        "\n",
        "        seed = 11\n",
        "        torch.manual_seed(seed)\n",
        "        np.random.seed(seed)\n",
        "        random.seed(seed)\n",
        "       \n",
        "\n",
        "        self.X_train, self.X_test, dim0, out_dim, self.criterion = DictionaryLookupDataset(depth).generate_data(train_fraction)\n",
        "\n",
        "        \n",
        "        self.model = GAT(num_layers=num_layers, dim0=dim0, h_dim=self.dim, out_dim=out_dim,n_heads = n_heads, layer_norm = layer_norm).to(self.device)\n",
        "\n",
        "        print(f'Starting experiment')\n",
        "        \n",
        "        print(f'Training examples: {len(self.X_train)}, test examples: {len(self.X_test)}')\n",
        "\n",
        "\n",
        "    def run(self):\n",
        "        optimizer = torch.optim.Adam(self.model.parameters(), lr=0.001)\n",
        "        scheduler = ReduceLROnPlateau(optimizer, mode='max', threshold_mode='abs', factor=0.5, patience=10)\n",
        "        train_accuracies = []\n",
        "        test_accuracies = []\n",
        "        losses = []\n",
        "        \n",
        "        for epoch in tqdm(range(1, (self.max_epochs // self.eval_every) + 1)):\n",
        "            self.model.train()\n",
        "            loader = DataLoader(self.X_train * self.eval_every, batch_size=self.batch_size, shuffle=True,\n",
        "                                pin_memory=True, num_workers=self.loader_workers)\n",
        "\n",
        "            \n",
        "            total_loss = 0\n",
        "            total_num_examples = 0\n",
        "            train_correct = 0\n",
        "            optimizer.zero_grad()\n",
        "            for i, batch in enumerate(loader):\n",
        "                batch = batch.to(self.device)\n",
        "                out = self.model(batch)\n",
        "                loss = self.criterion(input=out, target=batch.y)\n",
        "                total_num_examples += batch.num_graphs\n",
        "                total_loss += (loss.item() * batch.num_graphs)\n",
        "                _, train_pred = out.max(dim=1)\n",
        "                train_correct += train_pred.eq(batch.y).sum().item()\n",
        "\n",
        "            \n",
        "                loss.backward()\n",
        "                \n",
        "                optimizer.step()\n",
        "                optimizer.zero_grad()\n",
        "\n",
        "            avg_training_loss = total_loss / total_num_examples\n",
        "            train_acc = train_correct / total_num_examples\n",
        "            print(\"Training Accuracy:\" + str(train_acc))\n",
        "            print(\"Loss:\" + str(loss.item()))\n",
        "            scheduler.step(train_acc)\n",
        "\n",
        "            test_acc = self.eval()\n",
        "            print(\"Test Accuracy:\" + str(test_acc))\n",
        "            losses.append(loss.item())\n",
        "            train_accuracies.append(train_acc)\n",
        "            test_accuracies.append(test_acc)\n",
        "            if train_acc >= 0.99:\n",
        "              break\n",
        "        return train_accuracies, test_accuracies,losses\n",
        "\n",
        "    def eval(self):\n",
        "        self.model.eval()\n",
        "        with torch.no_grad():\n",
        "            loader = DataLoader(self.X_test, batch_size=self.batch_size, shuffle=False,\n",
        "                                pin_memory=True, num_workers=self.loader_workers)\n",
        "\n",
        "            total_correct = 0\n",
        "            total_examples = 0\n",
        "            for batch in loader:\n",
        "                batch = batch.to(self.device)\n",
        "                _, pred = self.model(batch).max(dim=1)\n",
        "                total_correct += pred.eq(batch.y).sum().item()\n",
        "                total_examples += batch.y.size(0)\n",
        "            acc = total_correct / total_examples\n",
        "            return acc"
      ]
    },
    {
      "cell_type": "markdown",
      "metadata": {
        "id": "uBgKEplR4Hid"
      },
      "source": [
        "###Evaluation"
      ]
    },
    {
      "cell_type": "markdown",
      "metadata": {
        "id": "vkSZRRX64ZSl"
      },
      "source": [
        "Let's first see what happens for $depth = 2$:"
      ]
    },
    {
      "cell_type": "code",
      "execution_count": null,
      "metadata": {
        "colab": {
          "base_uri": "https://localhost:8080/"
        },
        "id": "HeXOzNNfpMp-",
        "outputId": "81639861-e701-4040-ad77-1572922790a7"
      },
      "outputs": [
        {
          "name": "stdout",
          "output_type": "stream",
          "text": [
            "Starting experiment\n",
            "Training examples: 76, test examples: 20\n"
          ]
        }
      ],
      "source": [
        "e = Experiment(depth = 2, dim = 32,n_heads = 4, train_fraction = 0.8, max_epochs = 50000, batch_size = 64, eval_every = 100,loader_workers = 7)"
      ]
    },
    {
      "cell_type": "code",
      "execution_count": null,
      "metadata": {
        "colab": {
          "base_uri": "https://localhost:8080/"
        },
        "id": "oDDaH112qOaX",
        "outputId": "74dde176-ab6c-4240-8dd7-74ece8754a8d"
      },
      "outputs": [
        {
          "data": {
            "text/plain": [
              "GAT(\n",
              "  (layer0_keys): Embedding(5, 32)\n",
              "  (layer0_values): Embedding(5, 32)\n",
              "  (layers): ModuleList(\n",
              "    (0): GATConv(32, 8, heads=4)\n",
              "    (1): GATConv(32, 8, heads=4)\n",
              "    (2): GATConv(32, 8, heads=4)\n",
              "  )\n",
              "  (layer_norms): ModuleList(\n",
              "    (0): LayerNorm((32,), eps=1e-05, elementwise_affine=True)\n",
              "    (1): LayerNorm((32,), eps=1e-05, elementwise_affine=True)\n",
              "    (2): LayerNorm((32,), eps=1e-05, elementwise_affine=True)\n",
              "  )\n",
              "  (out_layer): Linear(in_features=32, out_features=5, bias=False)\n",
              ")"
            ]
          },
          "execution_count": 66,
          "metadata": {},
          "output_type": "execute_result"
        }
      ],
      "source": [
        "e.model"
      ]
    },
    {
      "cell_type": "code",
      "execution_count": null,
      "metadata": {
        "colab": {
          "base_uri": "https://localhost:8080/"
        },
        "id": "ty5S7NyssFdb",
        "outputId": "5362eaec-c1fd-446d-b845-595433aa38bd"
      },
      "outputs": [
        {
          "name": "stderr",
          "output_type": "stream",
          "text": [
            "\r  0%|          | 0/500 [00:00<?, ?it/s]/usr/local/lib/python3.8/dist-packages/torch_geometric/deprecation.py:12: UserWarning: 'data.DataLoader' is deprecated, use 'loader.DataLoader' instead\n",
            "  warnings.warn(out)\n"
          ]
        },
        {
          "name": "stdout",
          "output_type": "stream",
          "text": [
            "Training Accuracy:0.3030263157894737\n",
            "Loss:1.2649099826812744\n"
          ]
        },
        {
          "name": "stderr",
          "output_type": "stream",
          "text": [
            "\r  0%|          | 1/500 [00:02<17:49,  2.14s/it]"
          ]
        },
        {
          "name": "stdout",
          "output_type": "stream",
          "text": [
            "Test Accuracy:0.1\n",
            "Training Accuracy:0.4706578947368421\n",
            "Loss:0.9371171593666077\n"
          ]
        },
        {
          "name": "stderr",
          "output_type": "stream",
          "text": [
            "\r  0%|          | 2/500 [00:04<18:05,  2.18s/it]"
          ]
        },
        {
          "name": "stdout",
          "output_type": "stream",
          "text": [
            "Test Accuracy:0.2\n",
            "Training Accuracy:0.7477631578947368\n",
            "Loss:0.5349785685539246\n"
          ]
        },
        {
          "name": "stderr",
          "output_type": "stream",
          "text": [
            "\r  1%|          | 3/500 [00:06<18:20,  2.21s/it]"
          ]
        },
        {
          "name": "stdout",
          "output_type": "stream",
          "text": [
            "Test Accuracy:0.35\n",
            "Training Accuracy:0.8913157894736842\n",
            "Loss:0.24793986976146698\n"
          ]
        },
        {
          "name": "stderr",
          "output_type": "stream",
          "text": [
            "\r  1%|          | 4/500 [00:08<18:01,  2.18s/it]"
          ]
        },
        {
          "name": "stdout",
          "output_type": "stream",
          "text": [
            "Test Accuracy:0.45\n",
            "Training Accuracy:0.9855263157894737\n",
            "Loss:0.08617740124464035\n"
          ]
        },
        {
          "name": "stderr",
          "output_type": "stream",
          "text": [
            "\r  1%|          | 5/500 [00:10<18:03,  2.19s/it]"
          ]
        },
        {
          "name": "stdout",
          "output_type": "stream",
          "text": [
            "Test Accuracy:0.65\n",
            "Training Accuracy:1.0\n",
            "Loss:0.027241872623562813\n"
          ]
        },
        {
          "name": "stderr",
          "output_type": "stream",
          "text": [
            "\r  1%|          | 5/500 [00:13<21:34,  2.62s/it]"
          ]
        },
        {
          "name": "stdout",
          "output_type": "stream",
          "text": [
            "Test Accuracy:0.7\n"
          ]
        },
        {
          "name": "stderr",
          "output_type": "stream",
          "text": [
            "\n"
          ]
        }
      ],
      "source": [
        "train_acc,test_acc,losses = e.run()"
      ]
    },
    {
      "cell_type": "markdown",
      "metadata": {
        "id": "RsdPzCP5CnuZ"
      },
      "source": [
        "We quickly overfit the training data - this agrees with what is reported in the paper. "
      ]
    },
    {
      "cell_type": "markdown",
      "metadata": {
        "id": "0jJD0itH5IPb"
      },
      "source": [
        "Let's now look at depth = 3. "
      ]
    },
    {
      "cell_type": "code",
      "execution_count": null,
      "metadata": {
        "colab": {
          "base_uri": "https://localhost:8080/"
        },
        "id": "LD9hHfBV5JrR",
        "outputId": "66db4d01-ebdb-412a-def6-bb8a699381c2"
      },
      "outputs": [
        {
          "name": "stdout",
          "output_type": "stream",
          "text": [
            "Starting experiment\n",
            "Training examples: 6400, test examples: 1600\n"
          ]
        }
      ],
      "source": [
        "e = Experiment(depth = 3, dim = 32,n_heads = 4, train_fraction = 0.8, max_epochs = 2000, batch_size = 64, eval_every = 10,loader_workers = 7)"
      ]
    },
    {
      "cell_type": "code",
      "execution_count": null,
      "metadata": {
        "colab": {
          "base_uri": "https://localhost:8080/"
        },
        "id": "Dc6FfE_a5QX-",
        "outputId": "f91c9b24-03f7-40ab-aeaf-58e917aafedc"
      },
      "outputs": [
        {
          "name": "stderr",
          "output_type": "stream",
          "text": [
            "\r  0%|          | 0/200 [00:00<?, ?it/s]/usr/local/lib/python3.8/dist-packages/torch_geometric/deprecation.py:12: UserWarning: 'data.DataLoader' is deprecated, use 'loader.DataLoader' instead\n",
            "  warnings.warn(out)\n"
          ]
        },
        {
          "name": "stdout",
          "output_type": "stream",
          "text": [
            "Training Accuracy:0.13209375\n",
            "Loss:2.0677380561828613\n"
          ]
        },
        {
          "name": "stderr",
          "output_type": "stream",
          "text": [
            "\r  0%|          | 1/200 [00:14<46:51, 14.13s/it]"
          ]
        },
        {
          "name": "stdout",
          "output_type": "stream",
          "text": [
            "Test Accuracy:0.14125\n",
            "Training Accuracy:0.2555\n",
            "Loss:1.6500310897827148\n"
          ]
        },
        {
          "name": "stderr",
          "output_type": "stream",
          "text": [
            "\r  1%|          | 2/200 [00:28<46:29, 14.09s/it]"
          ]
        },
        {
          "name": "stdout",
          "output_type": "stream",
          "text": [
            "Test Accuracy:0.319375\n",
            "Training Accuracy:0.364765625\n",
            "Loss:1.4654383659362793\n"
          ]
        },
        {
          "name": "stderr",
          "output_type": "stream",
          "text": [
            "\r  2%|▏         | 3/200 [00:42<46:13, 14.08s/it]"
          ]
        },
        {
          "name": "stdout",
          "output_type": "stream",
          "text": [
            "Test Accuracy:0.353125\n",
            "Training Accuracy:0.37996875\n",
            "Loss:1.1417409181594849\n"
          ]
        },
        {
          "name": "stderr",
          "output_type": "stream",
          "text": [
            "\r  2%|▏         | 4/200 [00:56<46:07, 14.12s/it]"
          ]
        },
        {
          "name": "stdout",
          "output_type": "stream",
          "text": [
            "Test Accuracy:0.3575\n",
            "Training Accuracy:0.380546875\n",
            "Loss:1.3417816162109375\n"
          ]
        },
        {
          "name": "stderr",
          "output_type": "stream",
          "text": [
            "\r  2%|▎         | 5/200 [01:10<45:50, 14.10s/it]"
          ]
        },
        {
          "name": "stdout",
          "output_type": "stream",
          "text": [
            "Test Accuracy:0.358125\n",
            "Training Accuracy:0.3858125\n",
            "Loss:1.5152791738510132\n"
          ]
        },
        {
          "name": "stderr",
          "output_type": "stream",
          "text": [
            "\r  3%|▎         | 6/200 [01:24<45:33, 14.09s/it]"
          ]
        },
        {
          "name": "stdout",
          "output_type": "stream",
          "text": [
            "Test Accuracy:0.36625\n",
            "Training Accuracy:0.3831875\n",
            "Loss:1.4495552778244019\n"
          ]
        },
        {
          "name": "stderr",
          "output_type": "stream",
          "text": [
            "\r  4%|▎         | 7/200 [01:38<45:02, 14.00s/it]"
          ]
        },
        {
          "name": "stdout",
          "output_type": "stream",
          "text": [
            "Test Accuracy:0.350625\n",
            "Training Accuracy:0.3854375\n",
            "Loss:1.2997198104858398\n"
          ]
        },
        {
          "name": "stderr",
          "output_type": "stream",
          "text": [
            "\r  4%|▍         | 8/200 [01:52<44:52, 14.02s/it]"
          ]
        },
        {
          "name": "stdout",
          "output_type": "stream",
          "text": [
            "Test Accuracy:0.36\n",
            "Training Accuracy:0.387125\n",
            "Loss:1.479285717010498\n"
          ]
        },
        {
          "name": "stderr",
          "output_type": "stream",
          "text": [
            "\r  4%|▍         | 9/200 [02:06<44:39, 14.03s/it]"
          ]
        },
        {
          "name": "stdout",
          "output_type": "stream",
          "text": [
            "Test Accuracy:0.35375\n",
            "Training Accuracy:0.390453125\n",
            "Loss:1.4155123233795166\n"
          ]
        },
        {
          "name": "stderr",
          "output_type": "stream",
          "text": [
            "\r  5%|▌         | 10/200 [02:20<44:38, 14.10s/it]"
          ]
        },
        {
          "name": "stdout",
          "output_type": "stream",
          "text": [
            "Test Accuracy:0.36\n",
            "Training Accuracy:0.3893125\n",
            "Loss:1.3432388305664062\n"
          ]
        },
        {
          "name": "stderr",
          "output_type": "stream",
          "text": [
            "\r  6%|▌         | 11/200 [02:34<44:31, 14.14s/it]"
          ]
        },
        {
          "name": "stdout",
          "output_type": "stream",
          "text": [
            "Test Accuracy:0.3525\n",
            "Training Accuracy:0.39171875\n",
            "Loss:1.2236113548278809\n"
          ]
        },
        {
          "name": "stderr",
          "output_type": "stream",
          "text": [
            "\r  6%|▌         | 12/200 [02:49<44:27, 14.19s/it]"
          ]
        },
        {
          "name": "stdout",
          "output_type": "stream",
          "text": [
            "Test Accuracy:0.359375\n",
            "Training Accuracy:0.393265625\n",
            "Loss:1.2143579721450806\n"
          ]
        },
        {
          "name": "stderr",
          "output_type": "stream",
          "text": [
            "\r  6%|▋         | 13/200 [03:03<44:02, 14.13s/it]"
          ]
        },
        {
          "name": "stdout",
          "output_type": "stream",
          "text": [
            "Test Accuracy:0.3425\n",
            "Training Accuracy:0.3935625\n",
            "Loss:1.3947727680206299\n"
          ]
        },
        {
          "name": "stderr",
          "output_type": "stream",
          "text": [
            "\r  7%|▋         | 14/200 [03:17<43:45, 14.12s/it]"
          ]
        },
        {
          "name": "stdout",
          "output_type": "stream",
          "text": [
            "Test Accuracy:0.3475\n",
            "Training Accuracy:0.398453125\n",
            "Loss:1.4001151323318481\n"
          ]
        },
        {
          "name": "stderr",
          "output_type": "stream",
          "text": [
            "\r  8%|▊         | 15/200 [03:31<43:37, 14.15s/it]"
          ]
        },
        {
          "name": "stdout",
          "output_type": "stream",
          "text": [
            "Test Accuracy:0.3475\n",
            "Training Accuracy:0.40159375\n",
            "Loss:1.448595404624939\n"
          ]
        },
        {
          "name": "stderr",
          "output_type": "stream",
          "text": [
            "\r  8%|▊         | 16/200 [03:45<43:33, 14.20s/it]"
          ]
        },
        {
          "name": "stdout",
          "output_type": "stream",
          "text": [
            "Test Accuracy:0.344375\n",
            "Training Accuracy:0.416796875\n",
            "Loss:1.2851505279541016\n"
          ]
        },
        {
          "name": "stderr",
          "output_type": "stream",
          "text": [
            "\r  8%|▊         | 17/200 [04:00<43:25, 14.24s/it]"
          ]
        },
        {
          "name": "stdout",
          "output_type": "stream",
          "text": [
            "Test Accuracy:0.36375\n",
            "Training Accuracy:0.432765625\n",
            "Loss:1.3316237926483154\n"
          ]
        },
        {
          "name": "stderr",
          "output_type": "stream",
          "text": [
            "\r  9%|▉         | 18/200 [04:14<43:00, 14.18s/it]"
          ]
        },
        {
          "name": "stdout",
          "output_type": "stream",
          "text": [
            "Test Accuracy:0.37625\n",
            "Training Accuracy:0.4570625\n",
            "Loss:1.0312789678573608\n"
          ]
        },
        {
          "name": "stderr",
          "output_type": "stream",
          "text": [
            "\r 10%|▉         | 19/200 [04:28<42:47, 14.19s/it]"
          ]
        },
        {
          "name": "stdout",
          "output_type": "stream",
          "text": [
            "Test Accuracy:0.41625\n",
            "Training Accuracy:0.494109375\n",
            "Loss:1.0259915590286255\n"
          ]
        },
        {
          "name": "stderr",
          "output_type": "stream",
          "text": [
            "\r 10%|█         | 20/200 [04:42<42:29, 14.16s/it]"
          ]
        },
        {
          "name": "stdout",
          "output_type": "stream",
          "text": [
            "Test Accuracy:0.449375\n",
            "Training Accuracy:0.524265625\n",
            "Loss:1.0771427154541016\n"
          ]
        },
        {
          "name": "stderr",
          "output_type": "stream",
          "text": [
            "\r 10%|█         | 21/200 [04:56<42:02, 14.09s/it]"
          ]
        },
        {
          "name": "stdout",
          "output_type": "stream",
          "text": [
            "Test Accuracy:0.461875\n",
            "Training Accuracy:0.53975\n",
            "Loss:1.0642752647399902\n"
          ]
        },
        {
          "name": "stderr",
          "output_type": "stream",
          "text": [
            "\r 11%|█         | 22/200 [05:10<41:45, 14.07s/it]"
          ]
        },
        {
          "name": "stdout",
          "output_type": "stream",
          "text": [
            "Test Accuracy:0.491875\n",
            "Training Accuracy:0.553921875\n",
            "Loss:0.9213026165962219\n"
          ]
        },
        {
          "name": "stderr",
          "output_type": "stream",
          "text": [
            "\r 12%|█▏        | 23/200 [05:24<41:40, 14.13s/it]"
          ]
        },
        {
          "name": "stdout",
          "output_type": "stream",
          "text": [
            "Test Accuracy:0.506875\n",
            "Training Accuracy:0.576796875\n",
            "Loss:0.9694521427154541\n"
          ]
        },
        {
          "name": "stderr",
          "output_type": "stream",
          "text": [
            "\r 12%|█▏        | 24/200 [05:38<41:18, 14.08s/it]"
          ]
        },
        {
          "name": "stdout",
          "output_type": "stream",
          "text": [
            "Test Accuracy:0.53375\n",
            "Training Accuracy:0.600046875\n",
            "Loss:0.9606292247772217\n"
          ]
        },
        {
          "name": "stderr",
          "output_type": "stream",
          "text": [
            "\r 12%|█▎        | 25/200 [05:52<41:06, 14.09s/it]"
          ]
        },
        {
          "name": "stdout",
          "output_type": "stream",
          "text": [
            "Test Accuracy:0.549375\n",
            "Training Accuracy:0.6218125\n",
            "Loss:0.9187757968902588\n"
          ]
        },
        {
          "name": "stderr",
          "output_type": "stream",
          "text": [
            "\r 13%|█▎        | 26/200 [06:07<40:54, 14.10s/it]"
          ]
        },
        {
          "name": "stdout",
          "output_type": "stream",
          "text": [
            "Test Accuracy:0.575\n",
            "Training Accuracy:0.637609375\n",
            "Loss:0.8158190250396729\n"
          ]
        },
        {
          "name": "stderr",
          "output_type": "stream",
          "text": [
            "\r 14%|█▎        | 27/200 [06:21<40:35, 14.08s/it]"
          ]
        },
        {
          "name": "stdout",
          "output_type": "stream",
          "text": [
            "Test Accuracy:0.573125\n",
            "Training Accuracy:0.65709375\n",
            "Loss:0.9152523279190063\n"
          ]
        },
        {
          "name": "stderr",
          "output_type": "stream",
          "text": [
            "\r 14%|█▍        | 28/200 [06:35<40:32, 14.14s/it]"
          ]
        },
        {
          "name": "stdout",
          "output_type": "stream",
          "text": [
            "Test Accuracy:0.5875\n",
            "Training Accuracy:0.681203125\n",
            "Loss:0.8249585032463074\n"
          ]
        },
        {
          "name": "stderr",
          "output_type": "stream",
          "text": [
            "\r 14%|█▍        | 29/200 [06:49<40:07, 14.08s/it]"
          ]
        },
        {
          "name": "stdout",
          "output_type": "stream",
          "text": [
            "Test Accuracy:0.64125\n",
            "Training Accuracy:0.718453125\n",
            "Loss:0.7321566939353943\n"
          ]
        },
        {
          "name": "stderr",
          "output_type": "stream",
          "text": [
            "\r 15%|█▌        | 30/200 [07:03<39:44, 14.03s/it]"
          ]
        },
        {
          "name": "stdout",
          "output_type": "stream",
          "text": [
            "Test Accuracy:0.67625\n",
            "Training Accuracy:0.7625625\n",
            "Loss:0.4073779582977295\n"
          ]
        },
        {
          "name": "stderr",
          "output_type": "stream",
          "text": [
            "\r 16%|█▌        | 31/200 [07:17<39:33, 14.05s/it]"
          ]
        },
        {
          "name": "stdout",
          "output_type": "stream",
          "text": [
            "Test Accuracy:0.733125\n",
            "Training Accuracy:0.806921875\n",
            "Loss:0.3171360492706299\n"
          ]
        },
        {
          "name": "stderr",
          "output_type": "stream",
          "text": [
            "\r 16%|█▌        | 32/200 [07:31<39:34, 14.13s/it]"
          ]
        },
        {
          "name": "stdout",
          "output_type": "stream",
          "text": [
            "Test Accuracy:0.7725\n",
            "Training Accuracy:0.854875\n",
            "Loss:0.3351384997367859\n"
          ]
        },
        {
          "name": "stderr",
          "output_type": "stream",
          "text": [
            "\r 16%|█▋        | 33/200 [07:45<39:19, 14.13s/it]"
          ]
        },
        {
          "name": "stdout",
          "output_type": "stream",
          "text": [
            "Test Accuracy:0.815\n",
            "Training Accuracy:0.895625\n",
            "Loss:0.38014712929725647\n"
          ]
        },
        {
          "name": "stderr",
          "output_type": "stream",
          "text": [
            "\r 17%|█▋        | 34/200 [07:59<39:09, 14.15s/it]"
          ]
        },
        {
          "name": "stdout",
          "output_type": "stream",
          "text": [
            "Test Accuracy:0.849375\n",
            "Training Accuracy:0.92028125\n",
            "Loss:0.2630748748779297\n"
          ]
        },
        {
          "name": "stderr",
          "output_type": "stream",
          "text": [
            "\r 18%|█▊        | 35/200 [08:14<38:52, 14.13s/it]"
          ]
        },
        {
          "name": "stdout",
          "output_type": "stream",
          "text": [
            "Test Accuracy:0.8825\n",
            "Training Accuracy:0.936453125\n",
            "Loss:0.1812926083803177\n"
          ]
        },
        {
          "name": "stderr",
          "output_type": "stream",
          "text": [
            "\r 18%|█▊        | 36/200 [08:28<38:38, 14.14s/it]"
          ]
        },
        {
          "name": "stdout",
          "output_type": "stream",
          "text": [
            "Test Accuracy:0.9025\n",
            "Training Accuracy:0.953453125\n",
            "Loss:0.08498814702033997\n"
          ]
        },
        {
          "name": "stderr",
          "output_type": "stream",
          "text": [
            "\r 18%|█▊        | 37/200 [08:42<38:18, 14.10s/it]"
          ]
        },
        {
          "name": "stdout",
          "output_type": "stream",
          "text": [
            "Test Accuracy:0.918125\n",
            "Training Accuracy:0.964375\n",
            "Loss:0.061289653182029724\n"
          ]
        },
        {
          "name": "stderr",
          "output_type": "stream",
          "text": [
            "\r 19%|█▉        | 38/200 [08:56<38:08, 14.13s/it]"
          ]
        },
        {
          "name": "stdout",
          "output_type": "stream",
          "text": [
            "Test Accuracy:0.913125\n",
            "Training Accuracy:0.972078125\n",
            "Loss:0.06562401354312897\n"
          ]
        },
        {
          "name": "stderr",
          "output_type": "stream",
          "text": [
            "\r 20%|█▉        | 39/200 [09:10<38:10, 14.22s/it]"
          ]
        },
        {
          "name": "stdout",
          "output_type": "stream",
          "text": [
            "Test Accuracy:0.945625\n",
            "Training Accuracy:0.978265625\n",
            "Loss:0.0653771460056305\n"
          ]
        },
        {
          "name": "stderr",
          "output_type": "stream",
          "text": [
            "\r 20%|██        | 40/200 [09:25<37:53, 14.21s/it]"
          ]
        },
        {
          "name": "stdout",
          "output_type": "stream",
          "text": [
            "Test Accuracy:0.93875\n",
            "Training Accuracy:0.984140625\n",
            "Loss:0.05558532476425171\n"
          ]
        },
        {
          "name": "stderr",
          "output_type": "stream",
          "text": [
            "\r 20%|██        | 41/200 [09:39<37:32, 14.17s/it]"
          ]
        },
        {
          "name": "stdout",
          "output_type": "stream",
          "text": [
            "Test Accuracy:0.95625\n",
            "Training Accuracy:0.986859375\n",
            "Loss:0.02216114103794098\n"
          ]
        },
        {
          "name": "stderr",
          "output_type": "stream",
          "text": [
            "\r 21%|██        | 42/200 [09:53<37:09, 14.11s/it]"
          ]
        },
        {
          "name": "stdout",
          "output_type": "stream",
          "text": [
            "Test Accuracy:0.96125\n",
            "Training Accuracy:0.98734375\n",
            "Loss:0.019127903506159782\n"
          ]
        },
        {
          "name": "stderr",
          "output_type": "stream",
          "text": [
            "\r 22%|██▏       | 43/200 [10:07<36:55, 14.11s/it]"
          ]
        },
        {
          "name": "stdout",
          "output_type": "stream",
          "text": [
            "Test Accuracy:0.948125\n",
            "Training Accuracy:0.98821875\n",
            "Loss:0.06564347445964813\n"
          ]
        },
        {
          "name": "stderr",
          "output_type": "stream",
          "text": [
            "\r 22%|██▏       | 44/200 [10:21<36:48, 14.16s/it]"
          ]
        },
        {
          "name": "stdout",
          "output_type": "stream",
          "text": [
            "Test Accuracy:0.93875\n",
            "Training Accuracy:0.9906875\n",
            "Loss:0.021490752696990967\n"
          ]
        },
        {
          "name": "stderr",
          "output_type": "stream",
          "text": [
            "\r 22%|██▏       | 44/200 [10:35<37:33, 14.45s/it]"
          ]
        },
        {
          "name": "stdout",
          "output_type": "stream",
          "text": [
            "Test Accuracy:0.9725\n"
          ]
        },
        {
          "name": "stderr",
          "output_type": "stream",
          "text": [
            "\n"
          ]
        }
      ],
      "source": [
        "train_acc,test_acc,losses = e.run()"
      ]
    },
    {
      "cell_type": "markdown",
      "metadata": {
        "id": "Tgc1ajziW1ab"
      },
      "source": [
        "We managed to overfit the data and thus we have succesfully reimplemented the results from the paper for a GAT and depths 2 and 3. We will not try bigger depths (for now), because it's very computationally expensive. Instead, let's implement HopGAT. "
      ]
    },
    {
      "cell_type": "markdown",
      "metadata": {
        "id": "NXHRzSSPSoRB"
      },
      "source": [
        "### Implementing HopGAT on TreeNeighborsMatch"
      ]
    },
    {
      "cell_type": "markdown",
      "metadata": {
        "id": "x9DfMEJeSnTk"
      },
      "source": [
        "Now we would like to evaluate the performance of HopGAT on this dataset. There are two things that we would like to achieve. The first is, that we would like to match the performance of GATs as is reported in the paper, for $depths = 1,2,3,4$. This means that HopGAT should achieve a training accuracy of $1$ (it should overfit the training set). The second is, that we would like to achieve a training accuracy of more than $41\\%$ for $depth = 5$. This is the accuracy achieved by GATs that is reported in the paper. By doing so, we would show that HopGAT is more resistant to oversquashing, which would match our intuition. \n",
        "\n",
        "Before we begin, one observation. In this dataset, the only relevant information is coming from the leaves of the tree, and everything else is completely irrelevant. This means that in fact, if we wanted to achieve a high accuracy, we should aggregate ONLY over the $depth$-hop neighborhood. Our setup allows us to treat the neighborhoods over which we aggregate as a hyperparameter and we can easily do this. I have decided to include these experiments in the appendix in the section \"HopGAT with one attention layer\". There you will find that this performs exceptionally well (please do check it out). In a standard GAT, you cannot do this without introducing more layers - in order to receive information from the leaves, you need at least $depth$ number of layers and this will be problematic because of oversquashing. This is another strenght of our model. \n",
        "\n",
        "However, in practice, we seldom know which neighborhood we should aggregate over and which to ignore. For this reason, it is important that we experiment with HopGAT which aggregates over all neighborhoods. Thus, in the following experiments, HopGAT will aggregate over all neighborhoods up to $depth$. This means that our model will have an initial embedding layer, a $depth$ number of GAT layers (aggregating over different neighborhoods), a layer normalization layer, an MLP and a final linear layer. If we don't count the layer normalization layers, our model has the same amount of layers as the standard GAT model. However, it does have more parameters, because our final MLP is larger that the final GAT layer (in the previous model), because of the concatenation.  \n",
        "\n"
      ]
    },
    {
      "cell_type": "markdown",
      "metadata": {
        "id": "4WPsiTmq-osR"
      },
      "source": [
        "### Data preparation. "
      ]
    },
    {
      "cell_type": "markdown",
      "metadata": {
        "id": "S36LKZiJ-q0s"
      },
      "source": [
        "In order to implement our model, we need to compute the desired $k$ neighborhoods. Now, there is a catch. We cannot just naively use the function provided by [Abboud et al](https://arxiv.org/abs/2206.01003ps://), because it converts the input graph into an undirected graph. The graphs in TreeNeighborsMatch are directed, which makes a difference. To illustrate this, let's naively use the function and plot:\n"
      ]
    },
    {
      "cell_type": "code",
      "execution_count": null,
      "metadata": {
        "colab": {
          "base_uri": "https://localhost:8080/",
          "height": 319
        },
        "id": "YQsd8oQx_XGr",
        "outputId": "80be9a2b-c2d3-4696-db3f-02058c82af1d"
      },
      "outputs": [
        {
          "data": {
            "image/png": "[encoded data removed]",
            "text/plain": [
              "<Figure size 432x288 with 1 Axes>"
            ]
          },
          "metadata": {},
          "output_type": "display_data"
        }
      ],
      "source": [
        "d = DictionaryLookupDataset(2)\n",
        "\n",
        "X_train,X_test,dim0, out_dim, criterion = d.generate_data(0.8)\n",
        "spt = ShortestPathTransform(2)\n",
        "spt.transform(X_train[0])\n",
        "\n",
        "#for plotting\n",
        "import networkx as nx\n",
        "distance2 = X_train[0].edge_weights == 2\n",
        "X_train[0].edge_index = X_train[0].edge_index[:,distance2]\n",
        "graph = torch_geometric.utils.to_networkx(X_train[0])\n",
        "nx.draw(graph, with_labels = True)"
      ]
    },
    {
      "cell_type": "markdown",
      "metadata": {
        "id": "glAeUgM8AGb1"
      },
      "source": [
        "And this is not good. Luckily, we can just take what we need from the aforementioned function. Namely, we need the Floyd Warshall algorithm."
      ]
    },
    {
      "cell_type": "code",
      "execution_count": null,
      "metadata": {
        "id": "p99R4GTmAK4x"
      },
      "outputs": [],
      "source": [
        "from scipy.sparse.csgraph import floyd_warshall\n",
        "from torch_geometric.utils import to_dense_adj\n",
        "\n",
        "def directed_transform(graph,depth):\n",
        "  #This is the ugly implementation - instead of storing the edge indices for hop neighborhoods in a dictionary, we store it in separate variables\n",
        "\n",
        "  adj_matrix = to_dense_adj(graph.edge_index, max_num_nodes=graph.num_nodes)[0]\n",
        "  shortest_paths = torch.tensor(floyd_warshall(adj_matrix, directed = True), dtype=torch.long)\n",
        "\n",
        "  edge_index0 = ((shortest_paths == 0).nonzero()).T #dont forget self loops\n",
        "  edge_index1 = ((shortest_paths == 1).nonzero()).T\n",
        "  edge_index2 = ((shortest_paths == 2).nonzero()).T\n",
        "  graph.edge_index1 = torch.cat((edge_index0,edge_index1), dim = 1)\n",
        "  graph.edge_index2 = edge_index2\n",
        "  \n",
        "  if depth >= 3:\n",
        "    edge_index3 = ((shortest_paths == 3).nonzero()).T\n",
        "    graph.edge_index3 = edge_index3\n",
        "  \n",
        "  if depth >= 4:\n",
        "    edge_index4 = ((shortest_paths == 4).nonzero()).T\n",
        "    graph.edge_index4 = edge_index4\n",
        "  \n",
        "  if depth >= 5:\n",
        "    edge_index5 = ((shortest_paths == 5).nonzero()).T\n",
        "    graph.edge_index5 = edge_index5\n",
        "  \n",
        "  return graph \n"
      ]
    },
    {
      "cell_type": "markdown",
      "metadata": {
        "id": "ey5IvA0gCNBa"
      },
      "source": [
        "Let us plot the case $depth = 3$:"
      ]
    },
    {
      "cell_type": "code",
      "execution_count": null,
      "metadata": {
        "colab": {
          "base_uri": "https://localhost:8080/",
          "height": 319
        },
        "id": "H179ltH7CRQm",
        "outputId": "a861bbd5-db39-497e-aced-582cb859bbde"
      },
      "outputs": [
        {
          "data": {
            "image/png": "[encoded data removed]",
            "text/plain": [
              "<Figure size 432x288 with 1 Axes>"
            ]
          },
          "metadata": {},
          "output_type": "display_data"
        }
      ],
      "source": [
        "d = DictionaryLookupDataset(3)\n",
        "X_train,X_test,dim0, out_dim, criterion = d.generate_data(0.8)\n",
        "import networkx as nx\n",
        "graph = X_train[0]\n",
        "graph = torch_geometric.utils.to_networkx(graph)\n",
        "nx.draw(graph, with_labels = True)"
      ]
    },
    {
      "cell_type": "code",
      "execution_count": null,
      "metadata": {
        "colab": {
          "base_uri": "https://localhost:8080/",
          "height": 319
        },
        "id": "vNthQDu_BYUV",
        "outputId": "45ae50e9-f28d-403d-8a33-085142b72486"
      },
      "outputs": [
        {
          "data": {
            "image/png": "[encoded data removed]",
            "text/plain": [
              "<Figure size 432x288 with 1 Axes>"
            ]
          },
          "metadata": {},
          "output_type": "display_data"
        }
      ],
      "source": [
        "#let's plot 2 -hop neighborhood\n",
        "graph = directed_transform(X_train[0],3)\n",
        "\n",
        "#for plotting\n",
        "import networkx as nx\n",
        "graph.edge_index = graph.edge_index2\n",
        "graph = torch_geometric.utils.to_networkx(graph)\n",
        "nx.draw(graph, with_labels = True)"
      ]
    },
    {
      "cell_type": "markdown",
      "metadata": {
        "id": "QUDYFJuQJIKH"
      },
      "source": [
        "Now we need a function to convert each graph in the dataset:"
      ]
    },
    {
      "cell_type": "code",
      "execution_count": null,
      "metadata": {
        "id": "LQIB-rk0_1TF"
      },
      "outputs": [],
      "source": [
        "def generateHopData(depth):\n",
        "  d = DictionaryLookupDataset(depth)\n",
        "  X_train,X_test, dim0, out_dim, criterion = d.generate_data(0.8)\n",
        "  \n",
        "  for graph in X_train:\n",
        "    directed_transform(graph,depth)\n",
        "      \n",
        "  for graph in X_test:\n",
        "    directed_transform(graph,depth)\n",
        "      \n",
        "  return X_train,X_test,dim0, out_dim, criterion"
      ]
    },
    {
      "cell_type": "markdown",
      "metadata": {
        "id": "pmaXrT_rJRpM"
      },
      "source": [
        "Now we are ready to implement our models. "
      ]
    },
    {
      "cell_type": "markdown",
      "metadata": {
        "id": "GUMK4JfEHXle"
      },
      "source": [
        "Remark. \n",
        "\n",
        "I ran into some difficulties when storing the hop neighborhoods in a dictionary (like before), so I've decided to use a more ugly solution. It is exactly the same idea, it works, but it is not clean. I think the problem was that the dictionaries were not batched together correctly during training, but I am not sure. Furthermore, we will not conduct experiments for $depth > 5$ (due to insufficient computational resources), and our model is implemented with this in mind (which is why it is \"ugly\").  "
      ]
    },
    {
      "cell_type": "markdown",
      "metadata": {
        "id": "uqubZGEGS8ib"
      },
      "source": [
        "### Implementation"
      ]
    },
    {
      "cell_type": "markdown",
      "metadata": {
        "id": "XIwKT65Ag7DP"
      },
      "source": [
        "Now we prepare our model, HopGAT. The implementation is a bit ugly, but it works. "
      ]
    },
    {
      "cell_type": "code",
      "execution_count": null,
      "metadata": {
        "id": "iWAHOaXqn4BX"
      },
      "outputs": [],
      "source": [
        "from torch import nn\n",
        "from torch.nn import functional as F\n",
        "from torch_geometric.nn import GATConv\n",
        "\n",
        "class HopGAT(torch.nn.Module):\n",
        "    def __init__(self, depth, dim0, h_dim, out_dim, n_heads, layer_norm = True):\n",
        "        super(HopGAT, self).__init__()\n",
        "  \n",
        "        self.device = torch.device('cuda' if torch.cuda.is_available() else 'cpu')\n",
        "\n",
        "        self.layer0_keys = nn.Embedding(num_embeddings=dim0 + 1, embedding_dim=h_dim)\n",
        "        self.layer0_values = nn.Embedding(num_embeddings=dim0 + 1, embedding_dim=h_dim)\n",
        "        self.depth = depth\n",
        "        self.out_dim = out_dim\n",
        "       \n",
        "        self.gat1 = GATConv(h_dim,h_dim//n_heads,heads = n_heads)\n",
        "        self.gat2 = GATConv(h_dim,h_dim//n_heads,heads = n_heads)\n",
        "        \n",
        "        if depth >= 3:\n",
        "          self.gat3 = GATConv(h_dim,h_dim//n_heads,heads = n_heads)\n",
        "        \n",
        "        if depth >= 4:\n",
        "          self.gat4 = GATConv(h_dim,h_dim//n_heads,heads = n_heads)\n",
        "        \n",
        "        if depth >= 5:\n",
        "          self.gat5 = GATConv(h_dim,h_dim//n_heads,heads = n_heads)\n",
        "        \n",
        "        self.mlp = nn.Linear(h_dim*(depth+1),h_dim)\n",
        "        self.layer_norm = layer_norm\n",
        "        if layer_norm:\n",
        "          self.layer_norms = nn.LayerNorm(h_dim)\n",
        "        self.out_layer = nn.Linear(in_features=h_dim, out_features=out_dim + 1, bias=False)\n",
        "\n",
        "    def forward(self, data):\n",
        "        x, edge_index1, batch, roots,edge_index2 = data.x, data.edge_index1, data.batch, data.root_mask,data.edge_index2\n",
        "\n",
        "      \n",
        "        x_key, x_val = x[:, 0], x[:, 1]\n",
        "        x_key_embed = self.layer0_keys(x_key)\n",
        "        x_val_embed = self.layer0_values(x_val)\n",
        "        x = x_key_embed + x_val_embed\n",
        "        \n",
        "        if self.depth == 2:\n",
        "          x = torch.cat((x,self.gat1(x,edge_index1),self.gat2(x,edge_index2)),dim = 1)\n",
        "        elif self.depth == 3:\n",
        "          x = torch.cat((x,self.gat1(x,edge_index1),self.gat2(x,edge_index2),self.gat3(x,data.edge_index3)),dim = 1)\n",
        "        elif self.depth == 4:\n",
        "          x = torch.cat((x,self.gat1(x,edge_index1),self.gat2(x,edge_index2),self.gat3(x,data.edge_index3),self.gat4(x,data.edge_index4)),dim = 1)\n",
        "        elif self.depth == 5:\n",
        "          x = torch.cat((x,self.gat1(x,edge_index1),self.gat2(x,edge_index2),self.gat3(x,data.edge_index3), self.gat4(x,data.edge_index4), self.gat5(x,data.edge_index5)),dim = 1)\n",
        "        \n",
        "        x = self.mlp(x)\n",
        "        if self.layer_norm:\n",
        "          x = self.layer_norms(x)\n",
        "            \n",
        "\n",
        "        root_nodes = x[roots]\n",
        "        logits = self.out_layer(root_nodes)\n",
        "        return logits"
      ]
    },
    {
      "cell_type": "code",
      "execution_count": null,
      "metadata": {
        "id": "CcOPyB0ap9VT"
      },
      "outputs": [],
      "source": [
        "from torch_geometric.data import DataLoader\n",
        "import numpy as np\n",
        "import random\n",
        "from torch.optim.lr_scheduler import ReduceLROnPlateau\n",
        "from tqdm import tqdm\n",
        "\n",
        "class HopExperiment():\n",
        "    def __init__(self,depth,dim,n_heads,train_fraction,max_epochs,batch_size,eval_every,loader_workers, layer_norm = True):\n",
        "        self.dim = dim\n",
        "       \n",
        "        self.train_fraction = train_fraction\n",
        "        self.max_epochs = max_epochs\n",
        "        self.batch_size = batch_size\n",
        "        \n",
        "        self.eval_every = eval_every\n",
        "        self.loader_workers = loader_workers\n",
        "        self.device = torch.device('cuda' if torch.cuda.is_available() else 'cpu')\n",
        "        \n",
        "\n",
        "        seed = 11\n",
        "        torch.manual_seed(seed)\n",
        "        np.random.seed(seed)\n",
        "        random.seed(seed)\n",
        "       \n",
        "        \n",
        "        self.X_train, self.X_test, dim0, out_dim, self.criterion = generateHopData(depth)\n",
        "        self.model = HopGAT(depth,dim0=dim0, h_dim=self.dim, out_dim=out_dim,n_heads = n_heads, layer_norm = layer_norm).to(self.device)\n",
        "        \n",
        "        print(f'Starting experiment')\n",
        "        \n",
        "        print(f'Training examples: {len(self.X_train)}, test examples: {len(self.X_test)}')\n",
        "\n",
        "\n",
        "    def run(self):\n",
        "        optimizer = torch.optim.Adam(self.model.parameters(), lr=0.001)\n",
        "        scheduler = ReduceLROnPlateau(optimizer, mode='max', threshold_mode='abs', factor=0.5, patience=10)\n",
        "        train_accuracies = []\n",
        "        test_accuracies = []\n",
        "        losses = []\n",
        "        \n",
        "        for epoch in tqdm(range(1, (self.max_epochs // self.eval_every) + 1)):\n",
        "            self.model.train()\n",
        "            loader = DataLoader(self.X_train * self.eval_every, batch_size=self.batch_size, shuffle=True,\n",
        "                                pin_memory=True, num_workers=self.loader_workers)\n",
        "\n",
        "            \n",
        "            total_loss = 0\n",
        "            total_num_examples = 0\n",
        "            train_correct = 0\n",
        "            optimizer.zero_grad()\n",
        "            for i, batch in enumerate(loader):\n",
        "                batch = batch.to(self.device)\n",
        "                out = self.model(batch)\n",
        "                loss = self.criterion(input=out, target=batch.y)\n",
        "                total_num_examples += batch.num_graphs\n",
        "                total_loss += (loss.item() * batch.num_graphs)\n",
        "                _, train_pred = out.max(dim=1)\n",
        "                train_correct += train_pred.eq(batch.y).sum().item()\n",
        "\n",
        "            \n",
        "                loss.backward()\n",
        "                \n",
        "                optimizer.step()\n",
        "                optimizer.zero_grad()\n",
        "\n",
        "            avg_training_loss = total_loss / total_num_examples\n",
        "            train_acc = train_correct / total_num_examples\n",
        "            print(\"Training Accuracy:\" + str(train_acc))\n",
        "            print(\"Loss:\" + str(loss.item()))\n",
        "            scheduler.step(train_acc)\n",
        "\n",
        "            test_acc = self.eval()\n",
        "            print(\"Test Accuracy:\" + str(test_acc))\n",
        "            losses.append(loss.item())\n",
        "            train_accuracies.append(train_acc)\n",
        "            test_accuracies.append(test_acc)\n",
        "\n",
        "            if train_acc >= 0.99:\n",
        "              break\n",
        "\n",
        "        return train_accuracies, test_accuracies,losses,self.model\n",
        "\n",
        "    def eval(self):\n",
        "        self.model.eval()\n",
        "        with torch.no_grad():\n",
        "            loader = DataLoader(self.X_test, batch_size=self.batch_size, shuffle=False,\n",
        "                                pin_memory=True, num_workers=self.loader_workers)\n",
        "\n",
        "            total_correct = 0\n",
        "            total_examples = 0\n",
        "            for batch in loader:\n",
        "                batch = batch.to(self.device)\n",
        "                _, pred = self.model(batch).max(dim=1)\n",
        "                total_correct += pred.eq(batch.y).sum().item()\n",
        "                total_examples += batch.y.size(0)\n",
        "            acc = total_correct / total_examples\n",
        "            return acc"
      ]
    },
    {
      "cell_type": "markdown",
      "metadata": {
        "id": "0tBEeiPRUY2a"
      },
      "source": [
        "### Evaluation "
      ]
    },
    {
      "cell_type": "markdown",
      "metadata": {
        "id": "fxDgcDbBgy6s"
      },
      "source": [
        "Let us train our model on the dataset for $depth = 2$:"
      ]
    },
    {
      "cell_type": "code",
      "execution_count": null,
      "metadata": {
        "colab": {
          "base_uri": "https://localhost:8080/"
        },
        "id": "6_nVuZwNqQt7",
        "outputId": "f2a8fd7e-2eaf-4ac1-9c05-3e077b41f0ec"
      },
      "outputs": [
        {
          "name": "stdout",
          "output_type": "stream",
          "text": [
            "Starting experiment\n",
            "Training examples: 76, test examples: 20\n"
          ]
        }
      ],
      "source": [
        "e = HopExperiment(depth = 2,dim = 32,n_heads = 4, train_fraction = 0.8, max_epochs = 50000, batch_size = 64, eval_every = 100,loader_workers = 7)"
      ]
    },
    {
      "cell_type": "code",
      "execution_count": null,
      "metadata": {
        "colab": {
          "base_uri": "https://localhost:8080/"
        },
        "id": "w69RwzSqqlOc",
        "outputId": "401995a7-c2e4-44eb-a5a6-a2e1e9f05d37"
      },
      "outputs": [
        {
          "data": {
            "text/plain": [
              "HopGAT(\n",
              "  (layer0_keys): Embedding(5, 32)\n",
              "  (layer0_values): Embedding(5, 32)\n",
              "  (gat1): GATConv(32, 8, heads=4)\n",
              "  (gat2): GATConv(32, 8, heads=4)\n",
              "  (mlp): Linear(in_features=96, out_features=32, bias=True)\n",
              "  (layer_norm): LayerNorm((32,), eps=1e-05, elementwise_affine=True)\n",
              "  (out_layer): Linear(in_features=32, out_features=5, bias=False)\n",
              ")"
            ]
          },
          "execution_count": 32,
          "metadata": {},
          "output_type": "execute_result"
        }
      ],
      "source": [
        "e.model"
      ]
    },
    {
      "cell_type": "code",
      "execution_count": null,
      "metadata": {
        "colab": {
          "base_uri": "https://localhost:8080/"
        },
        "id": "AFl_aN3ZqxDn",
        "outputId": "8289f8c7-4c05-4019-eca0-0d0a7ac665f2"
      },
      "outputs": [
        {
          "name": "stderr",
          "output_type": "stream",
          "text": [
            "\r  0%|          | 0/500 [00:00<?, ?it/s]/usr/local/lib/python3.8/dist-packages/torch_geometric/deprecation.py:12: UserWarning: 'data.DataLoader' is deprecated, use 'loader.DataLoader' instead\n",
            "  warnings.warn(out)\n"
          ]
        },
        {
          "name": "stdout",
          "output_type": "stream",
          "text": [
            "Training Accuracy:0.41\n",
            "Loss:0.7453638911247253\n"
          ]
        },
        {
          "name": "stderr",
          "output_type": "stream",
          "text": [
            "\r  0%|          | 1/500 [00:05<42:50,  5.15s/it]"
          ]
        },
        {
          "name": "stdout",
          "output_type": "stream",
          "text": [
            "Test Accuracy:0.35\n",
            "Training Accuracy:0.8421052631578947\n",
            "Loss:0.27823829650878906\n"
          ]
        },
        {
          "name": "stderr",
          "output_type": "stream",
          "text": [
            "\r  0%|          | 2/500 [00:07<27:43,  3.34s/it]"
          ]
        },
        {
          "name": "stdout",
          "output_type": "stream",
          "text": [
            "Test Accuracy:0.6\n",
            "Training Accuracy:0.9582894736842106\n",
            "Loss:0.22952772676944733\n"
          ]
        },
        {
          "name": "stderr",
          "output_type": "stream",
          "text": [
            "\r  1%|          | 3/500 [00:09<22:59,  2.78s/it]"
          ]
        },
        {
          "name": "stdout",
          "output_type": "stream",
          "text": [
            "Test Accuracy:0.65\n",
            "Training Accuracy:0.9852631578947368\n",
            "Loss:0.029837550595402718\n"
          ]
        },
        {
          "name": "stderr",
          "output_type": "stream",
          "text": [
            "\r  1%|          | 4/500 [00:11<20:32,  2.49s/it]"
          ]
        },
        {
          "name": "stdout",
          "output_type": "stream",
          "text": [
            "Test Accuracy:0.65\n",
            "Training Accuracy:0.9977631578947368\n",
            "Loss:0.046467553824186325\n"
          ]
        },
        {
          "name": "stderr",
          "output_type": "stream",
          "text": [
            "\r  1%|          | 4/500 [00:13<27:53,  3.37s/it]"
          ]
        },
        {
          "name": "stdout",
          "output_type": "stream",
          "text": [
            "Test Accuracy:0.6\n"
          ]
        },
        {
          "name": "stderr",
          "output_type": "stream",
          "text": [
            "\n"
          ]
        }
      ],
      "source": [
        "train_acc,test_acc,loss,TwoHopModel = e.run()"
      ]
    },
    {
      "cell_type": "code",
      "execution_count": null,
      "metadata": {
        "colab": {
          "base_uri": "https://localhost:8080/",
          "height": 282
        },
        "id": "cmU1-mhYfbJD",
        "outputId": "ba40c3a3-e3b3-48e6-bb71-d90ba49d03d0"
      },
      "outputs": [
        {
          "data": {
            "text/plain": [
              "[<matplotlib.lines.Line2D at 0x7f9b5de97970>]"
            ]
          },
          "execution_count": 224,
          "metadata": {},
          "output_type": "execute_result"
        },
        {
          "data": {
            "image/png": "[encoded data removed]",
            "text/plain": [
              "<Figure size 432x288 with 1 Axes>"
            ]
          },
          "metadata": {},
          "output_type": "display_data"
        }
      ],
      "source": [
        "import matplotlib.pyplot as plt\n",
        "plt.plot(train_acc)"
      ]
    },
    {
      "cell_type": "markdown",
      "metadata": {
        "id": "hd0OkwZgh_mQ"
      },
      "source": [
        "We overfit the dataset very quickly, similarly as in the case of a three layer GAT. Now $depth = 3$:"
      ]
    },
    {
      "cell_type": "code",
      "execution_count": null,
      "metadata": {
        "colab": {
          "base_uri": "https://localhost:8080/"
        },
        "id": "bkQMsWjKFVje",
        "outputId": "bf1abd28-38ac-42cb-9261-6e1e974e4859"
      },
      "outputs": [
        {
          "name": "stdout",
          "output_type": "stream",
          "text": [
            "Starting experiment\n",
            "Training examples: 6400, test examples: 1600\n"
          ]
        }
      ],
      "source": [
        "e = HopExperiment(depth = 3,dim = 32,n_heads = 4, train_fraction = 0.8, max_epochs = 1200, batch_size = 64, eval_every = 10,loader_workers = 2)"
      ]
    },
    {
      "cell_type": "code",
      "execution_count": null,
      "metadata": {
        "colab": {
          "base_uri": "https://localhost:8080/"
        },
        "id": "BogMq2UQsnP6",
        "outputId": "e03d1557-210a-46d0-c265-a73d76064930"
      },
      "outputs": [
        {
          "data": {
            "text/plain": [
              "HopGAT(\n",
              "  (layer0_keys): Embedding(9, 32)\n",
              "  (layer0_values): Embedding(9, 32)\n",
              "  (gat1): GATConv(32, 8, heads=4)\n",
              "  (gat2): GATConv(32, 8, heads=4)\n",
              "  (gat3): GATConv(32, 8, heads=4)\n",
              "  (mlp): Linear(in_features=128, out_features=32, bias=True)\n",
              "  (layer_norm): LayerNorm((32,), eps=1e-05, elementwise_affine=True)\n",
              "  (out_layer): Linear(in_features=32, out_features=9, bias=False)\n",
              ")"
            ]
          },
          "execution_count": 70,
          "metadata": {},
          "output_type": "execute_result"
        }
      ],
      "source": [
        "e.model"
      ]
    },
    {
      "cell_type": "code",
      "execution_count": null,
      "metadata": {
        "colab": {
          "base_uri": "https://localhost:8080/"
        },
        "id": "hlAeq3rzFZ3J",
        "outputId": "1258664f-97fd-4ae3-dfd0-667847ebe433"
      },
      "outputs": [
        {
          "name": "stderr",
          "output_type": "stream",
          "text": [
            "\r  0%|          | 0/120 [00:00<?, ?it/s]/usr/local/lib/python3.8/dist-packages/torch_geometric/deprecation.py:12: UserWarning: 'data.DataLoader' is deprecated, use 'loader.DataLoader' instead\n",
            "  warnings.warn(out)\n"
          ]
        },
        {
          "name": "stdout",
          "output_type": "stream",
          "text": [
            "Training Accuracy:0.260109375\n",
            "Loss:1.6725132465362549\n"
          ]
        },
        {
          "name": "stderr",
          "output_type": "stream",
          "text": [
            "\r  1%|          | 1/120 [00:16<33:19, 16.80s/it]"
          ]
        },
        {
          "name": "stdout",
          "output_type": "stream",
          "text": [
            "Test Accuracy:0.338125\n",
            "Training Accuracy:0.43290625\n",
            "Loss:1.3135507106781006\n"
          ]
        },
        {
          "name": "stderr",
          "output_type": "stream",
          "text": [
            "\r  2%|▏         | 2/120 [00:33<33:00, 16.79s/it]"
          ]
        },
        {
          "name": "stdout",
          "output_type": "stream",
          "text": [
            "Test Accuracy:0.449375\n",
            "Training Accuracy:0.533609375\n",
            "Loss:1.0136282444000244\n"
          ]
        },
        {
          "name": "stderr",
          "output_type": "stream",
          "text": [
            "\r  2%|▎         | 3/120 [00:50<32:29, 16.66s/it]"
          ]
        },
        {
          "name": "stdout",
          "output_type": "stream",
          "text": [
            "Test Accuracy:0.545\n",
            "Training Accuracy:0.6963125\n",
            "Loss:0.42185842990875244\n"
          ]
        },
        {
          "name": "stderr",
          "output_type": "stream",
          "text": [
            "\r  3%|▎         | 4/120 [01:06<32:16, 16.69s/it]"
          ]
        },
        {
          "name": "stdout",
          "output_type": "stream",
          "text": [
            "Test Accuracy:0.76375\n",
            "Training Accuracy:0.90728125\n",
            "Loss:0.1793455183506012\n"
          ]
        },
        {
          "name": "stderr",
          "output_type": "stream",
          "text": [
            "\r  4%|▍         | 5/120 [01:23<31:56, 16.66s/it]"
          ]
        },
        {
          "name": "stdout",
          "output_type": "stream",
          "text": [
            "Test Accuracy:0.969375\n",
            "Training Accuracy:0.974078125\n",
            "Loss:0.050118912011384964\n"
          ]
        },
        {
          "name": "stderr",
          "output_type": "stream",
          "text": [
            "\r  5%|▌         | 6/120 [01:40<31:40, 16.67s/it]"
          ]
        },
        {
          "name": "stdout",
          "output_type": "stream",
          "text": [
            "Test Accuracy:0.990625\n",
            "Training Accuracy:0.98659375\n",
            "Loss:0.03713541477918625\n"
          ]
        },
        {
          "name": "stderr",
          "output_type": "stream",
          "text": [
            "\r  6%|▌         | 7/120 [01:56<31:25, 16.69s/it]"
          ]
        },
        {
          "name": "stdout",
          "output_type": "stream",
          "text": [
            "Test Accuracy:0.998125\n",
            "Training Accuracy:0.990109375\n",
            "Loss:0.023159224539995193\n"
          ]
        },
        {
          "name": "stderr",
          "output_type": "stream",
          "text": [
            "\r  6%|▌         | 7/120 [02:13<35:50, 19.04s/it]"
          ]
        },
        {
          "name": "stdout",
          "output_type": "stream",
          "text": [
            "Test Accuracy:0.9975\n"
          ]
        },
        {
          "name": "stderr",
          "output_type": "stream",
          "text": [
            "\n"
          ]
        }
      ],
      "source": [
        "train_acc,test_acc,loss,ThreeHopModel = e.run()"
      ]
    },
    {
      "cell_type": "code",
      "execution_count": null,
      "metadata": {
        "colab": {
          "base_uri": "https://localhost:8080/",
          "height": 282
        },
        "id": "c_p-orwwrcoG",
        "outputId": "6f086418-33b3-4af4-c600-a0cb9349af81"
      },
      "outputs": [
        {
          "data": {
            "text/plain": [
              "[<matplotlib.lines.Line2D at 0x7f9b5d847880>]"
            ]
          },
          "execution_count": 96,
          "metadata": {},
          "output_type": "execute_result"
        },
        {
          "data": {
            "image/png": "[encoded data removed]",
            "text/plain": [
              "<Figure size 432x288 with 1 Axes>"
            ]
          },
          "metadata": {},
          "output_type": "display_data"
        }
      ],
      "source": [
        "plt.plot(train_acc)"
      ]
    },
    {
      "cell_type": "markdown",
      "metadata": {
        "id": "_AGMevYQ9FWe"
      },
      "source": [
        "We managed to overfit the dataset and achieve a very high test accuracy. Furthermore, the model converged much faster than the four layer GAT implemented previously. This could mean that our model is more suited for this dataset (which is what we expect), but we need to bear in mind that our model does have more parameters, because of the concatenation and MLP. \n",
        "\n",
        "Due to the fast convergence of our model, let us try $depth = 4$. To do so, we will use the same training settings as the authors did in the paper. This will mean that training will most likely take a long time, but if we wish to explore the case $depth = 5$, we first better do $depth = 4$ properly. "
      ]
    },
    {
      "cell_type": "code",
      "execution_count": null,
      "metadata": {
        "colab": {
          "base_uri": "https://localhost:8080/"
        },
        "id": "wjasoxVaGbMJ",
        "outputId": "88500a90-ed51-4182-c2ea-2ab24afee3f9"
      },
      "outputs": [
        {
          "output_type": "stream",
          "name": "stdout",
          "text": [
            "Starting experiment\n",
            "Training examples: 12800, test examples: 3200\n"
          ]
        }
      ],
      "source": [
        "e = HopExperiment(depth = 4,dim = 32,n_heads = 4, train_fraction = 0.8, max_epochs = 50000, batch_size = 1024, eval_every = 100,loader_workers = 7)"
      ]
    },
    {
      "cell_type": "code",
      "execution_count": null,
      "metadata": {
        "colab": {
          "base_uri": "https://localhost:8080/"
        },
        "id": "8uYX_aO6G9Uu",
        "outputId": "fd234f32-c975-468a-a56d-c7540959f427"
      },
      "outputs": [
        {
          "output_type": "execute_result",
          "data": {
            "text/plain": [
              "HopGAT(\n",
              "  (layer0_keys): Embedding(17, 32)\n",
              "  (layer0_values): Embedding(17, 32)\n",
              "  (gat1): GATConv(32, 8, heads=4)\n",
              "  (gat2): GATConv(32, 8, heads=4)\n",
              "  (gat3): GATConv(32, 8, heads=4)\n",
              "  (gat4): GATConv(32, 8, heads=4)\n",
              "  (mlp): Linear(in_features=160, out_features=32, bias=True)\n",
              "  (layer_norms): LayerNorm((32,), eps=1e-05, elementwise_affine=True)\n",
              "  (out_layer): Linear(in_features=32, out_features=17, bias=False)\n",
              ")"
            ]
          },
          "metadata": {},
          "execution_count": 82
        }
      ],
      "source": [
        "e.model"
      ]
    },
    {
      "cell_type": "code",
      "source": [
        "sum(p.numel() for p in e.model.parameters())"
      ],
      "metadata": {
        "colab": {
          "base_uri": "https://localhost:8080/"
        },
        "id": "nslsTHoaRQdk",
        "outputId": "6f12259c-8e51-479c-9e3a-ffc8a407f86c"
      },
      "execution_count": null,
      "outputs": [
        {
          "output_type": "execute_result",
          "data": {
            "text/plain": [
              "11328"
            ]
          },
          "metadata": {},
          "execution_count": 83
        }
      ]
    },
    {
      "cell_type": "code",
      "execution_count": null,
      "metadata": {
        "colab": {
          "base_uri": "https://localhost:8080/"
        },
        "id": "wwM4g_6mHAPc",
        "outputId": "966e3c81-d1de-42bf-c933-d5322262d914"
      },
      "outputs": [
        {
          "name": "stderr",
          "output_type": "stream",
          "text": [
            "\r  0%|          | 0/500 [00:00<?, ?it/s]/usr/local/lib/python3.8/dist-packages/torch_geometric/deprecation.py:12: UserWarning: 'data.DataLoader' is deprecated, use 'loader.DataLoader' instead\n",
            "  warnings.warn(out)\n"
          ]
        },
        {
          "name": "stdout",
          "output_type": "stream",
          "text": [
            "Training Accuracy:0.1812140625\n",
            "Loss:2.2679429054260254\n"
          ]
        },
        {
          "name": "stderr",
          "output_type": "stream",
          "text": [
            "\r  0%|          | 1/500 [00:32<4:28:42, 32.31s/it]"
          ]
        },
        {
          "name": "stdout",
          "output_type": "stream",
          "text": [
            "Test Accuracy:0.2284375\n",
            "Training Accuracy:0.31337578125\n",
            "Loss:1.9182343482971191\n"
          ]
        },
        {
          "name": "stderr",
          "output_type": "stream",
          "text": [
            "\r  0%|          | 2/500 [01:05<4:30:39, 32.61s/it]"
          ]
        },
        {
          "name": "stdout",
          "output_type": "stream",
          "text": [
            "Test Accuracy:0.32125\n",
            "Training Accuracy:0.35901171875\n",
            "Loss:1.8481417894363403\n"
          ]
        },
        {
          "name": "stderr",
          "output_type": "stream",
          "text": [
            "\r  1%|          | 3/500 [01:37<4:29:21, 32.52s/it]"
          ]
        },
        {
          "name": "stdout",
          "output_type": "stream",
          "text": [
            "Test Accuracy:0.341875\n",
            "Training Accuracy:0.401728125\n",
            "Loss:1.6339060068130493\n"
          ]
        },
        {
          "name": "stderr",
          "output_type": "stream",
          "text": [
            "\r  1%|          | 4/500 [02:10<4:30:45, 32.75s/it]"
          ]
        },
        {
          "name": "stdout",
          "output_type": "stream",
          "text": [
            "Test Accuracy:0.4084375\n",
            "Training Accuracy:0.4392125\n",
            "Loss:1.569912075996399\n"
          ]
        },
        {
          "name": "stderr",
          "output_type": "stream",
          "text": [
            "\r  1%|          | 5/500 [02:43<4:29:01, 32.61s/it]"
          ]
        },
        {
          "name": "stdout",
          "output_type": "stream",
          "text": [
            "Test Accuracy:0.4290625\n",
            "Training Accuracy:0.4629640625\n",
            "Loss:1.4957228899002075\n"
          ]
        },
        {
          "name": "stderr",
          "output_type": "stream",
          "text": [
            "\r  1%|          | 6/500 [03:15<4:27:53, 32.54s/it]"
          ]
        },
        {
          "name": "stdout",
          "output_type": "stream",
          "text": [
            "Test Accuracy:0.4659375\n",
            "Training Accuracy:0.5049921875\n",
            "Loss:1.376282811164856\n"
          ]
        },
        {
          "name": "stderr",
          "output_type": "stream",
          "text": [
            "\r  1%|▏         | 7/500 [03:48<4:29:16, 32.77s/it]"
          ]
        },
        {
          "name": "stdout",
          "output_type": "stream",
          "text": [
            "Test Accuracy:0.5046875\n",
            "Training Accuracy:0.54778203125\n",
            "Loss:1.176908254623413\n"
          ]
        },
        {
          "name": "stderr",
          "output_type": "stream",
          "text": [
            "\r  2%|▏         | 8/500 [04:21<4:29:02, 32.81s/it]"
          ]
        },
        {
          "name": "stdout",
          "output_type": "stream",
          "text": [
            "Test Accuracy:0.55875\n",
            "Training Accuracy:0.58825703125\n",
            "Loss:1.1505711078643799\n"
          ]
        },
        {
          "name": "stderr",
          "output_type": "stream",
          "text": [
            "\r  2%|▏         | 9/500 [04:54<4:29:08, 32.89s/it]"
          ]
        },
        {
          "name": "stdout",
          "output_type": "stream",
          "text": [
            "Test Accuracy:0.579375\n",
            "Training Accuracy:0.60312109375\n",
            "Loss:1.0422556400299072\n"
          ]
        },
        {
          "name": "stderr",
          "output_type": "stream",
          "text": [
            "\r  2%|▏         | 10/500 [05:28<4:30:10, 33.08s/it]"
          ]
        },
        {
          "name": "stdout",
          "output_type": "stream",
          "text": [
            "Test Accuracy:0.59375\n",
            "Training Accuracy:0.6143953125\n",
            "Loss:0.9732475876808167\n"
          ]
        },
        {
          "name": "stderr",
          "output_type": "stream",
          "text": [
            "\r  2%|▏         | 11/500 [06:00<4:28:53, 32.99s/it]"
          ]
        },
        {
          "name": "stdout",
          "output_type": "stream",
          "text": [
            "Test Accuracy:0.6084375\n",
            "Training Accuracy:0.62165078125\n",
            "Loss:1.0059946775436401\n"
          ]
        },
        {
          "name": "stderr",
          "output_type": "stream",
          "text": [
            "\r  2%|▏         | 12/500 [06:34<4:30:37, 33.27s/it]"
          ]
        },
        {
          "name": "stdout",
          "output_type": "stream",
          "text": [
            "Test Accuracy:0.6171875\n",
            "Training Accuracy:0.6250984375\n",
            "Loss:0.9864656329154968\n"
          ]
        },
        {
          "name": "stderr",
          "output_type": "stream",
          "text": [
            "\r  3%|▎         | 13/500 [07:08<4:30:51, 33.37s/it]"
          ]
        },
        {
          "name": "stdout",
          "output_type": "stream",
          "text": [
            "Test Accuracy:0.6153125\n",
            "Training Accuracy:0.624259375\n",
            "Loss:0.9517157077789307\n"
          ]
        },
        {
          "name": "stderr",
          "output_type": "stream",
          "text": [
            "\r  3%|▎         | 14/500 [07:41<4:30:05, 33.34s/it]"
          ]
        },
        {
          "name": "stdout",
          "output_type": "stream",
          "text": [
            "Test Accuracy:0.6146875\n",
            "Training Accuracy:0.61939140625\n",
            "Loss:0.9674901962280273\n"
          ]
        },
        {
          "name": "stderr",
          "output_type": "stream",
          "text": [
            "\r  3%|▎         | 15/500 [08:14<4:27:22, 33.08s/it]"
          ]
        },
        {
          "name": "stdout",
          "output_type": "stream",
          "text": [
            "Test Accuracy:0.6140625\n",
            "Training Accuracy:0.63015625\n",
            "Loss:1.051153302192688\n"
          ]
        },
        {
          "name": "stderr",
          "output_type": "stream",
          "text": [
            "\r  3%|▎         | 16/500 [08:47<4:26:39, 33.06s/it]"
          ]
        },
        {
          "name": "stdout",
          "output_type": "stream",
          "text": [
            "Test Accuracy:0.5828125\n",
            "Training Accuracy:0.6301125\n",
            "Loss:0.9043712615966797\n"
          ]
        },
        {
          "name": "stderr",
          "output_type": "stream",
          "text": [
            "\r  3%|▎         | 17/500 [09:20<4:25:56, 33.04s/it]"
          ]
        },
        {
          "name": "stdout",
          "output_type": "stream",
          "text": [
            "Test Accuracy:0.6228125\n",
            "Training Accuracy:0.634925\n",
            "Loss:0.9897181987762451\n"
          ]
        },
        {
          "name": "stderr",
          "output_type": "stream",
          "text": [
            "\r  4%|▎         | 18/500 [09:53<4:25:02, 32.99s/it]"
          ]
        },
        {
          "name": "stdout",
          "output_type": "stream",
          "text": [
            "Test Accuracy:0.624375\n",
            "Training Accuracy:0.63018359375\n",
            "Loss:0.9108412265777588\n"
          ]
        },
        {
          "name": "stderr",
          "output_type": "stream",
          "text": [
            "\r  4%|▍         | 19/500 [10:26<4:24:43, 33.02s/it]"
          ]
        },
        {
          "name": "stdout",
          "output_type": "stream",
          "text": [
            "Test Accuracy:0.6234375\n",
            "Training Accuracy:0.63804140625\n",
            "Loss:0.8440123200416565\n"
          ]
        },
        {
          "name": "stderr",
          "output_type": "stream",
          "text": [
            "\r  4%|▍         | 20/500 [10:59<4:24:23, 33.05s/it]"
          ]
        },
        {
          "name": "stdout",
          "output_type": "stream",
          "text": [
            "Test Accuracy:0.6184375\n",
            "Training Accuracy:0.64112265625\n",
            "Loss:0.8905049562454224\n"
          ]
        },
        {
          "name": "stderr",
          "output_type": "stream",
          "text": [
            "\r  4%|▍         | 21/500 [11:31<4:22:47, 32.92s/it]"
          ]
        },
        {
          "name": "stdout",
          "output_type": "stream",
          "text": [
            "Test Accuracy:0.6309375\n",
            "Training Accuracy:0.6424828125\n",
            "Loss:0.8916734457015991\n"
          ]
        },
        {
          "name": "stderr",
          "output_type": "stream",
          "text": [
            "\r  4%|▍         | 22/500 [12:05<4:24:44, 33.23s/it]"
          ]
        },
        {
          "name": "stdout",
          "output_type": "stream",
          "text": [
            "Test Accuracy:0.6203125\n",
            "Training Accuracy:0.6389875\n",
            "Loss:0.9843016862869263\n"
          ]
        },
        {
          "name": "stderr",
          "output_type": "stream",
          "text": [
            "\r  5%|▍         | 23/500 [12:38<4:22:48, 33.06s/it]"
          ]
        },
        {
          "name": "stdout",
          "output_type": "stream",
          "text": [
            "Test Accuracy:0.6215625\n",
            "Training Accuracy:0.6436296875\n",
            "Loss:0.866924524307251\n"
          ]
        },
        {
          "name": "stderr",
          "output_type": "stream",
          "text": [
            "\r  5%|▍         | 24/500 [13:12<4:23:43, 33.24s/it]"
          ]
        },
        {
          "name": "stdout",
          "output_type": "stream",
          "text": [
            "Test Accuracy:0.6228125\n",
            "Training Accuracy:0.64574296875\n",
            "Loss:0.895488440990448\n"
          ]
        },
        {
          "name": "stderr",
          "output_type": "stream",
          "text": [
            "\r  5%|▌         | 25/500 [13:45<4:22:34, 33.17s/it]"
          ]
        },
        {
          "name": "stdout",
          "output_type": "stream",
          "text": [
            "Test Accuracy:0.63875\n",
            "Training Accuracy:0.6463515625\n",
            "Loss:0.9482425451278687\n"
          ]
        },
        {
          "name": "stderr",
          "output_type": "stream",
          "text": [
            "\r  5%|▌         | 26/500 [14:19<4:23:43, 33.38s/it]"
          ]
        },
        {
          "name": "stdout",
          "output_type": "stream",
          "text": [
            "Test Accuracy:0.6315625\n",
            "Training Accuracy:0.64957734375\n",
            "Loss:0.901479959487915\n"
          ]
        },
        {
          "name": "stderr",
          "output_type": "stream",
          "text": [
            "\r  5%|▌         | 27/500 [14:52<4:23:02, 33.37s/it]"
          ]
        },
        {
          "name": "stdout",
          "output_type": "stream",
          "text": [
            "Test Accuracy:0.6353125\n",
            "Training Accuracy:0.6430625\n",
            "Loss:0.8525658249855042\n"
          ]
        },
        {
          "name": "stderr",
          "output_type": "stream",
          "text": [
            "\r  6%|▌         | 28/500 [15:25<4:21:40, 33.26s/it]"
          ]
        },
        {
          "name": "stdout",
          "output_type": "stream",
          "text": [
            "Test Accuracy:0.6315625\n",
            "Training Accuracy:0.65083359375\n",
            "Loss:1.3877512216567993\n"
          ]
        },
        {
          "name": "stderr",
          "output_type": "stream",
          "text": [
            "\r  6%|▌         | 29/500 [15:59<4:22:04, 33.39s/it]"
          ]
        },
        {
          "name": "stdout",
          "output_type": "stream",
          "text": [
            "Test Accuracy:0.59125\n",
            "Training Accuracy:0.6512203125\n",
            "Loss:0.930452287197113\n"
          ]
        },
        {
          "name": "stderr",
          "output_type": "stream",
          "text": [
            "\r  6%|▌         | 30/500 [16:32<4:20:55, 33.31s/it]"
          ]
        },
        {
          "name": "stdout",
          "output_type": "stream",
          "text": [
            "Test Accuracy:0.6421875\n",
            "Training Accuracy:0.6545171875\n",
            "Loss:0.8493182063102722\n"
          ]
        },
        {
          "name": "stderr",
          "output_type": "stream",
          "text": [
            "\r  6%|▌         | 31/500 [17:04<4:18:47, 33.11s/it]"
          ]
        },
        {
          "name": "stdout",
          "output_type": "stream",
          "text": [
            "Test Accuracy:0.6415625\n",
            "Training Accuracy:0.65553046875\n",
            "Loss:0.8768190145492554\n"
          ]
        },
        {
          "name": "stderr",
          "output_type": "stream",
          "text": [
            "\r  6%|▋         | 32/500 [17:38<4:19:14, 33.24s/it]"
          ]
        },
        {
          "name": "stdout",
          "output_type": "stream",
          "text": [
            "Test Accuracy:0.6446875\n",
            "Training Accuracy:0.65710859375\n",
            "Loss:0.9570980072021484\n"
          ]
        },
        {
          "name": "stderr",
          "output_type": "stream",
          "text": [
            "\r  7%|▋         | 33/500 [18:11<4:18:05, 33.16s/it]"
          ]
        },
        {
          "name": "stdout",
          "output_type": "stream",
          "text": [
            "Test Accuracy:0.633125\n",
            "Training Accuracy:0.65591015625\n",
            "Loss:0.8057040572166443\n"
          ]
        },
        {
          "name": "stderr",
          "output_type": "stream",
          "text": [
            "\r  7%|▋         | 34/500 [18:44<4:18:32, 33.29s/it]"
          ]
        },
        {
          "name": "stdout",
          "output_type": "stream",
          "text": [
            "Test Accuracy:0.6415625\n",
            "Training Accuracy:0.65708359375\n",
            "Loss:0.8460528254508972\n"
          ]
        },
        {
          "name": "stderr",
          "output_type": "stream",
          "text": [
            "\r  7%|▋         | 35/500 [19:18<4:17:34, 33.24s/it]"
          ]
        },
        {
          "name": "stdout",
          "output_type": "stream",
          "text": [
            "Test Accuracy:0.6415625\n",
            "Training Accuracy:0.658946875\n",
            "Loss:0.9094069600105286\n"
          ]
        },
        {
          "name": "stderr",
          "output_type": "stream",
          "text": [
            "\r  7%|▋         | 36/500 [19:50<4:15:54, 33.09s/it]"
          ]
        },
        {
          "name": "stdout",
          "output_type": "stream",
          "text": [
            "Test Accuracy:0.6478125\n",
            "Training Accuracy:0.6655171875\n",
            "Loss:0.8897343277931213\n"
          ]
        },
        {
          "name": "stderr",
          "output_type": "stream",
          "text": [
            "\r  7%|▋         | 37/500 [20:23<4:14:23, 32.97s/it]"
          ]
        },
        {
          "name": "stdout",
          "output_type": "stream",
          "text": [
            "Test Accuracy:0.65125\n",
            "Training Accuracy:0.66680546875\n",
            "Loss:0.8254570960998535\n"
          ]
        },
        {
          "name": "stderr",
          "output_type": "stream",
          "text": [
            "\r  8%|▊         | 38/500 [20:56<4:14:11, 33.01s/it]"
          ]
        },
        {
          "name": "stdout",
          "output_type": "stream",
          "text": [
            "Test Accuracy:0.6503125\n",
            "Training Accuracy:0.6722203125\n",
            "Loss:0.9110193252563477\n"
          ]
        },
        {
          "name": "stderr",
          "output_type": "stream",
          "text": [
            "\r  8%|▊         | 39/500 [21:29<4:13:58, 33.06s/it]"
          ]
        },
        {
          "name": "stdout",
          "output_type": "stream",
          "text": [
            "Test Accuracy:0.645625\n",
            "Training Accuracy:0.6711546875\n",
            "Loss:0.8571058511734009\n"
          ]
        },
        {
          "name": "stderr",
          "output_type": "stream",
          "text": [
            "\r  8%|▊         | 40/500 [22:02<4:13:48, 33.11s/it]"
          ]
        },
        {
          "name": "stdout",
          "output_type": "stream",
          "text": [
            "Test Accuracy:0.6490625\n",
            "Training Accuracy:0.6744359375\n",
            "Loss:0.7672392725944519\n"
          ]
        },
        {
          "name": "stderr",
          "output_type": "stream",
          "text": [
            "\r  8%|▊         | 41/500 [22:36<4:13:11, 33.10s/it]"
          ]
        },
        {
          "name": "stdout",
          "output_type": "stream",
          "text": [
            "Test Accuracy:0.66375\n",
            "Training Accuracy:0.6759375\n",
            "Loss:0.8373052477836609\n"
          ]
        },
        {
          "name": "stderr",
          "output_type": "stream",
          "text": [
            "\r  8%|▊         | 42/500 [23:09<4:13:07, 33.16s/it]"
          ]
        },
        {
          "name": "stdout",
          "output_type": "stream",
          "text": [
            "Test Accuracy:0.663125\n",
            "Training Accuracy:0.67919765625\n",
            "Loss:0.8504107594490051\n"
          ]
        },
        {
          "name": "stderr",
          "output_type": "stream",
          "text": [
            "\r  9%|▊         | 43/500 [23:42<4:12:53, 33.20s/it]"
          ]
        },
        {
          "name": "stdout",
          "output_type": "stream",
          "text": [
            "Test Accuracy:0.664375\n",
            "Training Accuracy:0.67834296875\n",
            "Loss:0.7883958220481873\n"
          ]
        },
        {
          "name": "stderr",
          "output_type": "stream",
          "text": [
            "\r  9%|▉         | 44/500 [24:16<4:13:13, 33.32s/it]"
          ]
        },
        {
          "name": "stdout",
          "output_type": "stream",
          "text": [
            "Test Accuracy:0.6615625\n",
            "Training Accuracy:0.6804859375\n",
            "Loss:0.7774575352668762\n"
          ]
        },
        {
          "name": "stderr",
          "output_type": "stream",
          "text": [
            "\r  9%|▉         | 45/500 [24:49<4:12:12, 33.26s/it]"
          ]
        },
        {
          "name": "stdout",
          "output_type": "stream",
          "text": [
            "Test Accuracy:0.661875\n",
            "Training Accuracy:0.682040625\n",
            "Loss:0.958646833896637\n"
          ]
        },
        {
          "name": "stderr",
          "output_type": "stream",
          "text": [
            "\r  9%|▉         | 46/500 [25:22<4:10:52, 33.16s/it]"
          ]
        },
        {
          "name": "stdout",
          "output_type": "stream",
          "text": [
            "Test Accuracy:0.6465625\n",
            "Training Accuracy:0.68512421875\n",
            "Loss:0.7884064316749573\n"
          ]
        },
        {
          "name": "stderr",
          "output_type": "stream",
          "text": [
            "\r  9%|▉         | 47/500 [25:54<4:09:01, 32.98s/it]"
          ]
        },
        {
          "name": "stdout",
          "output_type": "stream",
          "text": [
            "Test Accuracy:0.66625\n",
            "Training Accuracy:0.68588359375\n",
            "Loss:0.8561486005783081\n"
          ]
        },
        {
          "name": "stderr",
          "output_type": "stream",
          "text": [
            "\r 10%|▉         | 48/500 [26:28<4:09:11, 33.08s/it]"
          ]
        },
        {
          "name": "stdout",
          "output_type": "stream",
          "text": [
            "Test Accuracy:0.6678125\n",
            "Training Accuracy:0.6889296875\n",
            "Loss:0.7714627385139465\n"
          ]
        },
        {
          "name": "stderr",
          "output_type": "stream",
          "text": [
            "\r 10%|▉         | 49/500 [27:01<4:08:36, 33.07s/it]"
          ]
        },
        {
          "name": "stdout",
          "output_type": "stream",
          "text": [
            "Test Accuracy:0.6734375\n",
            "Training Accuracy:0.68416328125\n",
            "Loss:0.7456932663917542\n"
          ]
        },
        {
          "name": "stderr",
          "output_type": "stream",
          "text": [
            "\r 10%|█         | 50/500 [27:34<4:08:01, 33.07s/it]"
          ]
        },
        {
          "name": "stdout",
          "output_type": "stream",
          "text": [
            "Test Accuracy:0.6775\n",
            "Training Accuracy:0.69140234375\n",
            "Loss:0.7797964215278625\n"
          ]
        },
        {
          "name": "stderr",
          "output_type": "stream",
          "text": [
            "\r 10%|█         | 51/500 [28:07<4:07:23, 33.06s/it]"
          ]
        },
        {
          "name": "stdout",
          "output_type": "stream",
          "text": [
            "Test Accuracy:0.6721875\n",
            "Training Accuracy:0.69326484375\n",
            "Loss:0.77764493227005\n"
          ]
        },
        {
          "name": "stderr",
          "output_type": "stream",
          "text": [
            "\r 10%|█         | 52/500 [28:39<4:05:36, 32.89s/it]"
          ]
        },
        {
          "name": "stdout",
          "output_type": "stream",
          "text": [
            "Test Accuracy:0.6771875\n",
            "Training Accuracy:0.6917\n",
            "Loss:0.7420260906219482\n"
          ]
        },
        {
          "name": "stderr",
          "output_type": "stream",
          "text": [
            "\r 11%|█         | 53/500 [29:11<4:03:12, 32.65s/it]"
          ]
        },
        {
          "name": "stdout",
          "output_type": "stream",
          "text": [
            "Test Accuracy:0.680625\n",
            "Training Accuracy:0.69572265625\n",
            "Loss:0.7828013896942139\n"
          ]
        },
        {
          "name": "stderr",
          "output_type": "stream",
          "text": [
            "\r 11%|█         | 54/500 [29:44<4:02:41, 32.65s/it]"
          ]
        },
        {
          "name": "stdout",
          "output_type": "stream",
          "text": [
            "Test Accuracy:0.676875\n",
            "Training Accuracy:0.69514140625\n",
            "Loss:0.7062178254127502\n"
          ]
        },
        {
          "name": "stderr",
          "output_type": "stream",
          "text": [
            "\r 11%|█         | 55/500 [30:17<4:02:52, 32.75s/it]"
          ]
        },
        {
          "name": "stdout",
          "output_type": "stream",
          "text": [
            "Test Accuracy:0.6878125\n",
            "Training Accuracy:0.69628984375\n",
            "Loss:0.6831279993057251\n"
          ]
        },
        {
          "name": "stderr",
          "output_type": "stream",
          "text": [
            "\r 11%|█         | 56/500 [30:52<4:06:27, 33.30s/it]"
          ]
        },
        {
          "name": "stdout",
          "output_type": "stream",
          "text": [
            "Test Accuracy:0.68875\n",
            "Training Accuracy:0.69876328125\n",
            "Loss:0.7962037324905396\n"
          ]
        },
        {
          "name": "stderr",
          "output_type": "stream",
          "text": [
            "\r 11%|█▏        | 57/500 [31:25<4:06:13, 33.35s/it]"
          ]
        },
        {
          "name": "stdout",
          "output_type": "stream",
          "text": [
            "Test Accuracy:0.681875\n",
            "Training Accuracy:0.69863828125\n",
            "Loss:0.7279213070869446\n"
          ]
        },
        {
          "name": "stderr",
          "output_type": "stream",
          "text": [
            "\r 12%|█▏        | 58/500 [31:59<4:07:03, 33.54s/it]"
          ]
        },
        {
          "name": "stdout",
          "output_type": "stream",
          "text": [
            "Test Accuracy:0.68375\n",
            "Training Accuracy:0.70123359375\n",
            "Loss:0.7148534059524536\n"
          ]
        },
        {
          "name": "stderr",
          "output_type": "stream",
          "text": [
            "\r 12%|█▏        | 59/500 [32:33<4:06:37, 33.55s/it]"
          ]
        },
        {
          "name": "stdout",
          "output_type": "stream",
          "text": [
            "Test Accuracy:0.6878125\n",
            "Training Accuracy:0.70086328125\n",
            "Loss:0.7184721231460571\n"
          ]
        },
        {
          "name": "stderr",
          "output_type": "stream",
          "text": [
            "\r 12%|█▏        | 60/500 [33:07<4:08:05, 33.83s/it]"
          ]
        },
        {
          "name": "stdout",
          "output_type": "stream",
          "text": [
            "Test Accuracy:0.685\n",
            "Training Accuracy:0.70280234375\n",
            "Loss:2.020866632461548\n"
          ]
        },
        {
          "name": "stderr",
          "output_type": "stream",
          "text": [
            "\r 12%|█▏        | 61/500 [33:41<4:08:29, 33.96s/it]"
          ]
        },
        {
          "name": "stdout",
          "output_type": "stream",
          "text": [
            "Test Accuracy:0.6034375\n",
            "Training Accuracy:0.70239375\n",
            "Loss:0.7311447858810425\n"
          ]
        },
        {
          "name": "stderr",
          "output_type": "stream",
          "text": [
            "\r 12%|█▏        | 62/500 [34:16<4:08:15, 34.01s/it]"
          ]
        },
        {
          "name": "stdout",
          "output_type": "stream",
          "text": [
            "Test Accuracy:0.6953125\n",
            "Training Accuracy:0.70258828125\n",
            "Loss:0.7043666839599609\n"
          ]
        },
        {
          "name": "stderr",
          "output_type": "stream",
          "text": [
            "\r 13%|█▎        | 63/500 [34:49<4:06:59, 33.91s/it]"
          ]
        },
        {
          "name": "stdout",
          "output_type": "stream",
          "text": [
            "Test Accuracy:0.6978125\n",
            "Training Accuracy:0.7055859375\n",
            "Loss:0.6815489530563354\n"
          ]
        },
        {
          "name": "stderr",
          "output_type": "stream",
          "text": [
            "\r 13%|█▎        | 64/500 [35:23<4:05:35, 33.80s/it]"
          ]
        },
        {
          "name": "stdout",
          "output_type": "stream",
          "text": [
            "Test Accuracy:0.6975\n",
            "Training Accuracy:0.7044\n",
            "Loss:0.6391801834106445\n"
          ]
        },
        {
          "name": "stderr",
          "output_type": "stream",
          "text": [
            "\r 13%|█▎        | 65/500 [35:56<4:04:34, 33.73s/it]"
          ]
        },
        {
          "name": "stdout",
          "output_type": "stream",
          "text": [
            "Test Accuracy:0.691875\n",
            "Training Accuracy:0.7028484375\n",
            "Loss:0.6704010963439941\n"
          ]
        },
        {
          "name": "stderr",
          "output_type": "stream",
          "text": [
            "\r 13%|█▎        | 66/500 [36:30<4:03:50, 33.71s/it]"
          ]
        },
        {
          "name": "stdout",
          "output_type": "stream",
          "text": [
            "Test Accuracy:0.695625\n",
            "Training Accuracy:0.7062875\n",
            "Loss:0.6787133812904358\n"
          ]
        },
        {
          "name": "stderr",
          "output_type": "stream",
          "text": [
            "\r 13%|█▎        | 67/500 [37:03<4:01:14, 33.43s/it]"
          ]
        },
        {
          "name": "stdout",
          "output_type": "stream",
          "text": [
            "Test Accuracy:0.6896875\n",
            "Training Accuracy:0.700809375\n",
            "Loss:0.7337050437927246\n"
          ]
        },
        {
          "name": "stderr",
          "output_type": "stream",
          "text": [
            "\r 14%|█▎        | 68/500 [37:37<4:01:28, 33.54s/it]"
          ]
        },
        {
          "name": "stdout",
          "output_type": "stream",
          "text": [
            "Test Accuracy:0.671875\n",
            "Training Accuracy:0.70706171875\n",
            "Loss:0.6825273633003235\n"
          ]
        },
        {
          "name": "stderr",
          "output_type": "stream",
          "text": [
            "\r 14%|█▍        | 69/500 [38:10<4:00:47, 33.52s/it]"
          ]
        },
        {
          "name": "stdout",
          "output_type": "stream",
          "text": [
            "Test Accuracy:0.695\n",
            "Training Accuracy:0.70596015625\n",
            "Loss:0.6310837268829346\n"
          ]
        },
        {
          "name": "stderr",
          "output_type": "stream",
          "text": [
            "\r 14%|█▍        | 70/500 [38:43<3:59:27, 33.41s/it]"
          ]
        },
        {
          "name": "stdout",
          "output_type": "stream",
          "text": [
            "Test Accuracy:0.699375\n",
            "Training Accuracy:0.70707265625\n",
            "Loss:0.6797354817390442\n"
          ]
        },
        {
          "name": "stderr",
          "output_type": "stream",
          "text": [
            "\r 14%|█▍        | 71/500 [39:16<3:58:35, 33.37s/it]"
          ]
        },
        {
          "name": "stdout",
          "output_type": "stream",
          "text": [
            "Test Accuracy:0.69625\n",
            "Training Accuracy:0.70681484375\n",
            "Loss:0.6564921736717224\n"
          ]
        },
        {
          "name": "stderr",
          "output_type": "stream",
          "text": [
            "\r 14%|█▍        | 72/500 [39:51<3:59:49, 33.62s/it]"
          ]
        },
        {
          "name": "stdout",
          "output_type": "stream",
          "text": [
            "Test Accuracy:0.6925\n",
            "Training Accuracy:0.70669609375\n",
            "Loss:0.6752825975418091\n"
          ]
        },
        {
          "name": "stderr",
          "output_type": "stream",
          "text": [
            "\r 15%|█▍        | 73/500 [40:24<3:59:09, 33.61s/it]"
          ]
        },
        {
          "name": "stdout",
          "output_type": "stream",
          "text": [
            "Test Accuracy:0.6971875\n",
            "Training Accuracy:0.70775234375\n",
            "Loss:0.7035309076309204\n"
          ]
        },
        {
          "name": "stderr",
          "output_type": "stream",
          "text": [
            "\r 15%|█▍        | 74/500 [40:58<3:58:15, 33.56s/it]"
          ]
        },
        {
          "name": "stdout",
          "output_type": "stream",
          "text": [
            "Test Accuracy:0.69125\n",
            "Training Accuracy:0.70873828125\n",
            "Loss:0.6355517506599426\n"
          ]
        },
        {
          "name": "stderr",
          "output_type": "stream",
          "text": [
            "\r 15%|█▌        | 75/500 [41:31<3:56:21, 33.37s/it]"
          ]
        },
        {
          "name": "stdout",
          "output_type": "stream",
          "text": [
            "Test Accuracy:0.69375\n",
            "Training Accuracy:0.70860625\n",
            "Loss:0.626035749912262\n"
          ]
        },
        {
          "name": "stderr",
          "output_type": "stream",
          "text": [
            "\r 15%|█▌        | 76/500 [42:04<3:54:59, 33.25s/it]"
          ]
        },
        {
          "name": "stdout",
          "output_type": "stream",
          "text": [
            "Test Accuracy:0.6940625\n",
            "Training Accuracy:0.70896484375\n",
            "Loss:0.6944440603256226\n"
          ]
        },
        {
          "name": "stderr",
          "output_type": "stream",
          "text": [
            "\r 15%|█▌        | 77/500 [42:36<3:53:28, 33.12s/it]"
          ]
        },
        {
          "name": "stdout",
          "output_type": "stream",
          "text": [
            "Test Accuracy:0.7\n",
            "Training Accuracy:0.7101\n",
            "Loss:0.6151452660560608\n"
          ]
        },
        {
          "name": "stderr",
          "output_type": "stream",
          "text": [
            "\r 16%|█▌        | 78/500 [43:09<3:51:36, 32.93s/it]"
          ]
        },
        {
          "name": "stdout",
          "output_type": "stream",
          "text": [
            "Test Accuracy:0.6953125\n",
            "Training Accuracy:0.71024140625\n",
            "Loss:0.6847092509269714\n"
          ]
        },
        {
          "name": "stderr",
          "output_type": "stream",
          "text": [
            "\r 16%|█▌        | 79/500 [43:42<3:52:16, 33.10s/it]"
          ]
        },
        {
          "name": "stdout",
          "output_type": "stream",
          "text": [
            "Test Accuracy:0.7053125\n",
            "Training Accuracy:0.70693046875\n",
            "Loss:0.7086899280548096\n"
          ]
        },
        {
          "name": "stderr",
          "output_type": "stream",
          "text": [
            "\r 16%|█▌        | 80/500 [44:16<3:52:06, 33.16s/it]"
          ]
        },
        {
          "name": "stdout",
          "output_type": "stream",
          "text": [
            "Test Accuracy:0.696875\n",
            "Training Accuracy:0.71123203125\n",
            "Loss:1.2632839679718018\n"
          ]
        },
        {
          "name": "stderr",
          "output_type": "stream",
          "text": [
            "\r 16%|█▌        | 81/500 [44:48<3:49:26, 32.86s/it]"
          ]
        },
        {
          "name": "stdout",
          "output_type": "stream",
          "text": [
            "Test Accuracy:0.5715625\n",
            "Training Accuracy:0.71016484375\n",
            "Loss:0.6379689574241638\n"
          ]
        },
        {
          "name": "stderr",
          "output_type": "stream",
          "text": [
            "\r 16%|█▋        | 82/500 [45:21<3:48:35, 32.81s/it]"
          ]
        },
        {
          "name": "stdout",
          "output_type": "stream",
          "text": [
            "Test Accuracy:0.7025\n",
            "Training Accuracy:0.71116328125\n",
            "Loss:0.69377601146698\n"
          ]
        },
        {
          "name": "stderr",
          "output_type": "stream",
          "text": [
            "\r 17%|█▋        | 83/500 [45:54<3:48:28, 32.87s/it]"
          ]
        },
        {
          "name": "stdout",
          "output_type": "stream",
          "text": [
            "Test Accuracy:0.6971875\n",
            "Training Accuracy:0.71196953125\n",
            "Loss:0.7161679267883301\n"
          ]
        },
        {
          "name": "stderr",
          "output_type": "stream",
          "text": [
            "\r 17%|█▋        | 84/500 [46:27<3:49:20, 33.08s/it]"
          ]
        },
        {
          "name": "stdout",
          "output_type": "stream",
          "text": [
            "Test Accuracy:0.688125\n",
            "Training Accuracy:0.7112171875\n",
            "Loss:0.6205490827560425\n"
          ]
        },
        {
          "name": "stderr",
          "output_type": "stream",
          "text": [
            "\r 17%|█▋        | 85/500 [47:00<3:48:31, 33.04s/it]"
          ]
        },
        {
          "name": "stdout",
          "output_type": "stream",
          "text": [
            "Test Accuracy:0.699375\n",
            "Training Accuracy:0.7123671875\n",
            "Loss:0.663723349571228\n"
          ]
        },
        {
          "name": "stderr",
          "output_type": "stream",
          "text": [
            "\r 17%|█▋        | 86/500 [47:34<3:49:19, 33.23s/it]"
          ]
        },
        {
          "name": "stdout",
          "output_type": "stream",
          "text": [
            "Test Accuracy:0.7\n",
            "Training Accuracy:0.71349609375\n",
            "Loss:0.5936393737792969\n"
          ]
        },
        {
          "name": "stderr",
          "output_type": "stream",
          "text": [
            "\r 17%|█▋        | 87/500 [48:07<3:49:10, 33.29s/it]"
          ]
        },
        {
          "name": "stdout",
          "output_type": "stream",
          "text": [
            "Test Accuracy:0.7009375\n",
            "Training Accuracy:0.71235625\n",
            "Loss:0.693078875541687\n"
          ]
        },
        {
          "name": "stderr",
          "output_type": "stream",
          "text": [
            "\r 18%|█▊        | 88/500 [48:40<3:48:03, 33.21s/it]"
          ]
        },
        {
          "name": "stdout",
          "output_type": "stream",
          "text": [
            "Test Accuracy:0.7040625\n",
            "Training Accuracy:0.71312421875\n",
            "Loss:0.6866102814674377\n"
          ]
        },
        {
          "name": "stderr",
          "output_type": "stream",
          "text": [
            "\r 18%|█▊        | 89/500 [49:13<3:47:31, 33.22s/it]"
          ]
        },
        {
          "name": "stdout",
          "output_type": "stream",
          "text": [
            "Test Accuracy:0.699375\n",
            "Training Accuracy:0.71203046875\n",
            "Loss:0.7225830554962158\n"
          ]
        },
        {
          "name": "stderr",
          "output_type": "stream",
          "text": [
            "\r 18%|█▊        | 90/500 [49:47<3:48:36, 33.46s/it]"
          ]
        },
        {
          "name": "stdout",
          "output_type": "stream",
          "text": [
            "Test Accuracy:0.698125\n",
            "Training Accuracy:0.7150734375\n",
            "Loss:0.6529017686843872\n"
          ]
        },
        {
          "name": "stderr",
          "output_type": "stream",
          "text": [
            "\r 18%|█▊        | 91/500 [50:21<3:47:58, 33.44s/it]"
          ]
        },
        {
          "name": "stdout",
          "output_type": "stream",
          "text": [
            "Test Accuracy:0.705\n",
            "Training Accuracy:0.71243359375\n",
            "Loss:0.6820367574691772\n"
          ]
        },
        {
          "name": "stderr",
          "output_type": "stream",
          "text": [
            "\r 18%|█▊        | 92/500 [50:54<3:47:42, 33.49s/it]"
          ]
        },
        {
          "name": "stdout",
          "output_type": "stream",
          "text": [
            "Test Accuracy:0.7053125\n",
            "Training Accuracy:0.71353046875\n",
            "Loss:0.6119827628135681\n"
          ]
        },
        {
          "name": "stderr",
          "output_type": "stream",
          "text": [
            "\r 19%|█▊        | 93/500 [51:28<3:46:24, 33.38s/it]"
          ]
        },
        {
          "name": "stdout",
          "output_type": "stream",
          "text": [
            "Test Accuracy:0.7028125\n",
            "Training Accuracy:0.7129484375\n",
            "Loss:0.6650078892707825\n"
          ]
        },
        {
          "name": "stderr",
          "output_type": "stream",
          "text": [
            "\r 19%|█▉        | 94/500 [52:01<3:45:04, 33.26s/it]"
          ]
        },
        {
          "name": "stdout",
          "output_type": "stream",
          "text": [
            "Test Accuracy:0.7\n",
            "Training Accuracy:0.7146890625\n",
            "Loss:0.6622811555862427\n"
          ]
        },
        {
          "name": "stderr",
          "output_type": "stream",
          "text": [
            "\r 19%|█▉        | 95/500 [52:33<3:43:39, 33.13s/it]"
          ]
        },
        {
          "name": "stdout",
          "output_type": "stream",
          "text": [
            "Test Accuracy:0.7025\n",
            "Training Accuracy:0.71346953125\n",
            "Loss:0.7461655735969543\n"
          ]
        },
        {
          "name": "stderr",
          "output_type": "stream",
          "text": [
            "\r 19%|█▉        | 96/500 [53:07<3:43:15, 33.16s/it]"
          ]
        },
        {
          "name": "stdout",
          "output_type": "stream",
          "text": [
            "Test Accuracy:0.701875\n",
            "Training Accuracy:0.714684375\n",
            "Loss:0.6651971340179443\n"
          ]
        },
        {
          "name": "stderr",
          "output_type": "stream",
          "text": [
            "\r 19%|█▉        | 97/500 [53:40<3:42:15, 33.09s/it]"
          ]
        },
        {
          "name": "stdout",
          "output_type": "stream",
          "text": [
            "Test Accuracy:0.7028125\n",
            "Training Accuracy:0.7132671875\n",
            "Loss:0.6334384679794312\n"
          ]
        },
        {
          "name": "stderr",
          "output_type": "stream",
          "text": [
            "\r 20%|█▉        | 98/500 [54:12<3:41:10, 33.01s/it]"
          ]
        },
        {
          "name": "stdout",
          "output_type": "stream",
          "text": [
            "Test Accuracy:0.7003125\n",
            "Training Accuracy:0.71475078125\n",
            "Loss:0.6630948185920715\n"
          ]
        },
        {
          "name": "stderr",
          "output_type": "stream",
          "text": [
            "\r 20%|█▉        | 99/500 [54:46<3:42:50, 33.34s/it]"
          ]
        },
        {
          "name": "stdout",
          "output_type": "stream",
          "text": [
            "Test Accuracy:0.703125\n",
            "Training Accuracy:0.71596328125\n",
            "Loss:0.6599699258804321\n"
          ]
        },
        {
          "name": "stderr",
          "output_type": "stream",
          "text": [
            "\r 20%|██        | 100/500 [55:21<3:44:11, 33.63s/it]"
          ]
        },
        {
          "name": "stdout",
          "output_type": "stream",
          "text": [
            "Test Accuracy:0.7025\n",
            "Training Accuracy:0.717415625\n",
            "Loss:0.666926383972168\n"
          ]
        },
        {
          "name": "stderr",
          "output_type": "stream",
          "text": [
            "\r 20%|██        | 101/500 [55:53<3:41:37, 33.33s/it]"
          ]
        },
        {
          "name": "stdout",
          "output_type": "stream",
          "text": [
            "Test Accuracy:0.703125\n",
            "Training Accuracy:0.7136\n",
            "Loss:0.6633003354072571\n"
          ]
        },
        {
          "name": "stderr",
          "output_type": "stream",
          "text": [
            "\r 20%|██        | 102/500 [56:26<3:40:35, 33.25s/it]"
          ]
        },
        {
          "name": "stdout",
          "output_type": "stream",
          "text": [
            "Test Accuracy:0.7084375\n",
            "Training Accuracy:0.715821875\n",
            "Loss:0.6429771780967712\n"
          ]
        },
        {
          "name": "stderr",
          "output_type": "stream",
          "text": [
            "\r 21%|██        | 103/500 [57:00<3:39:54, 33.23s/it]"
          ]
        },
        {
          "name": "stdout",
          "output_type": "stream",
          "text": [
            "Test Accuracy:0.7\n",
            "Training Accuracy:0.71550703125\n",
            "Loss:0.6217657327651978\n"
          ]
        },
        {
          "name": "stderr",
          "output_type": "stream",
          "text": [
            "\r 21%|██        | 104/500 [57:33<3:39:38, 33.28s/it]"
          ]
        },
        {
          "name": "stdout",
          "output_type": "stream",
          "text": [
            "Test Accuracy:0.705625\n",
            "Training Accuracy:0.7188328125\n",
            "Loss:0.628548800945282\n"
          ]
        },
        {
          "name": "stderr",
          "output_type": "stream",
          "text": [
            "\r 21%|██        | 105/500 [58:07<3:39:59, 33.42s/it]"
          ]
        },
        {
          "name": "stdout",
          "output_type": "stream",
          "text": [
            "Test Accuracy:0.7028125\n",
            "Training Accuracy:0.71858125\n",
            "Loss:0.6462756991386414\n"
          ]
        },
        {
          "name": "stderr",
          "output_type": "stream",
          "text": [
            "\r 21%|██        | 106/500 [58:40<3:38:25, 33.26s/it]"
          ]
        },
        {
          "name": "stdout",
          "output_type": "stream",
          "text": [
            "Test Accuracy:0.7028125\n",
            "Training Accuracy:0.71530390625\n",
            "Loss:0.6177418231964111\n"
          ]
        },
        {
          "name": "stderr",
          "output_type": "stream",
          "text": [
            "\r 21%|██▏       | 107/500 [59:13<3:38:10, 33.31s/it]"
          ]
        },
        {
          "name": "stdout",
          "output_type": "stream",
          "text": [
            "Test Accuracy:0.70375\n",
            "Training Accuracy:0.718928125\n",
            "Loss:0.6498222351074219\n"
          ]
        },
        {
          "name": "stderr",
          "output_type": "stream",
          "text": [
            "\r 22%|██▏       | 108/500 [59:46<3:36:33, 33.15s/it]"
          ]
        },
        {
          "name": "stdout",
          "output_type": "stream",
          "text": [
            "Test Accuracy:0.7034375\n",
            "Training Accuracy:0.71752109375\n",
            "Loss:0.640125572681427\n"
          ]
        },
        {
          "name": "stderr",
          "output_type": "stream",
          "text": [
            "\r 22%|██▏       | 109/500 [1:00:19<3:36:45, 33.26s/it]"
          ]
        },
        {
          "name": "stdout",
          "output_type": "stream",
          "text": [
            "Test Accuracy:0.7015625\n",
            "Training Accuracy:0.71917578125\n",
            "Loss:0.6527941226959229\n"
          ]
        },
        {
          "name": "stderr",
          "output_type": "stream",
          "text": [
            "\r 22%|██▏       | 110/500 [1:00:54<3:38:23, 33.60s/it]"
          ]
        },
        {
          "name": "stdout",
          "output_type": "stream",
          "text": [
            "Test Accuracy:0.6971875\n",
            "Training Accuracy:0.71742890625\n",
            "Loss:0.6875696778297424\n"
          ]
        },
        {
          "name": "stderr",
          "output_type": "stream",
          "text": [
            "\r 22%|██▏       | 111/500 [1:01:27<3:37:49, 33.60s/it]"
          ]
        },
        {
          "name": "stdout",
          "output_type": "stream",
          "text": [
            "Test Accuracy:0.704375\n",
            "Training Accuracy:0.718640625\n",
            "Loss:0.6237817406654358\n"
          ]
        },
        {
          "name": "stderr",
          "output_type": "stream",
          "text": [
            "\r 22%|██▏       | 112/500 [1:02:01<3:37:17, 33.60s/it]"
          ]
        },
        {
          "name": "stdout",
          "output_type": "stream",
          "text": [
            "Test Accuracy:0.7\n",
            "Training Accuracy:0.71968125\n",
            "Loss:0.6853148341178894\n"
          ]
        },
        {
          "name": "stderr",
          "output_type": "stream",
          "text": [
            "\r 23%|██▎       | 113/500 [1:02:35<3:37:16, 33.69s/it]"
          ]
        },
        {
          "name": "stdout",
          "output_type": "stream",
          "text": [
            "Test Accuracy:0.7059375\n",
            "Training Accuracy:0.721071875\n",
            "Loss:0.6044625639915466\n"
          ]
        },
        {
          "name": "stderr",
          "output_type": "stream",
          "text": [
            "\r 23%|██▎       | 114/500 [1:03:09<3:37:35, 33.82s/it]"
          ]
        },
        {
          "name": "stdout",
          "output_type": "stream",
          "text": [
            "Test Accuracy:0.7059375\n",
            "Training Accuracy:0.7197359375\n",
            "Loss:0.6546567678451538\n"
          ]
        },
        {
          "name": "stderr",
          "output_type": "stream",
          "text": [
            "\r 23%|██▎       | 115/500 [1:03:43<3:36:49, 33.79s/it]"
          ]
        },
        {
          "name": "stdout",
          "output_type": "stream",
          "text": [
            "Test Accuracy:0.7040625\n",
            "Training Accuracy:0.72244453125\n",
            "Loss:0.6413964629173279\n"
          ]
        },
        {
          "name": "stderr",
          "output_type": "stream",
          "text": [
            "\r 23%|██▎       | 116/500 [1:04:18<3:38:39, 34.16s/it]"
          ]
        },
        {
          "name": "stdout",
          "output_type": "stream",
          "text": [
            "Test Accuracy:0.709375\n",
            "Training Accuracy:0.7214875\n",
            "Loss:0.6472906470298767\n"
          ]
        },
        {
          "name": "stderr",
          "output_type": "stream",
          "text": [
            "\r 23%|██▎       | 117/500 [1:04:51<3:36:32, 33.92s/it]"
          ]
        },
        {
          "name": "stdout",
          "output_type": "stream",
          "text": [
            "Test Accuracy:0.698125\n",
            "Training Accuracy:0.72119765625\n",
            "Loss:0.5876544117927551\n"
          ]
        },
        {
          "name": "stderr",
          "output_type": "stream",
          "text": [
            "\r 24%|██▎       | 118/500 [1:05:25<3:35:15, 33.81s/it]"
          ]
        },
        {
          "name": "stdout",
          "output_type": "stream",
          "text": [
            "Test Accuracy:0.70625\n",
            "Training Accuracy:0.724709375\n",
            "Loss:0.6012872457504272\n"
          ]
        },
        {
          "name": "stderr",
          "output_type": "stream",
          "text": [
            "\r 24%|██▍       | 119/500 [1:05:58<3:33:26, 33.61s/it]"
          ]
        },
        {
          "name": "stdout",
          "output_type": "stream",
          "text": [
            "Test Accuracy:0.709375\n",
            "Training Accuracy:0.72200390625\n",
            "Loss:0.9123603701591492\n"
          ]
        },
        {
          "name": "stderr",
          "output_type": "stream",
          "text": [
            "\r 24%|██▍       | 120/500 [1:06:31<3:31:25, 33.38s/it]"
          ]
        },
        {
          "name": "stdout",
          "output_type": "stream",
          "text": [
            "Test Accuracy:0.6378125\n",
            "Training Accuracy:0.72278359375\n",
            "Loss:0.6468470096588135\n"
          ]
        },
        {
          "name": "stderr",
          "output_type": "stream",
          "text": [
            "\r 24%|██▍       | 121/500 [1:07:04<3:30:32, 33.33s/it]"
          ]
        },
        {
          "name": "stdout",
          "output_type": "stream",
          "text": [
            "Test Accuracy:0.7090625\n",
            "Training Accuracy:0.724215625\n",
            "Loss:0.6154780387878418\n"
          ]
        },
        {
          "name": "stderr",
          "output_type": "stream",
          "text": [
            "\r 24%|██▍       | 122/500 [1:07:38<3:30:36, 33.43s/it]"
          ]
        },
        {
          "name": "stdout",
          "output_type": "stream",
          "text": [
            "Test Accuracy:0.7090625\n",
            "Training Accuracy:0.72626328125\n",
            "Loss:0.6689385175704956\n"
          ]
        },
        {
          "name": "stderr",
          "output_type": "stream",
          "text": [
            "\r 25%|██▍       | 123/500 [1:08:12<3:31:18, 33.63s/it]"
          ]
        },
        {
          "name": "stdout",
          "output_type": "stream",
          "text": [
            "Test Accuracy:0.7103125\n",
            "Training Accuracy:0.72406796875\n",
            "Loss:0.583465576171875\n"
          ]
        },
        {
          "name": "stderr",
          "output_type": "stream",
          "text": [
            "\r 25%|██▍       | 124/500 [1:08:45<3:29:49, 33.48s/it]"
          ]
        },
        {
          "name": "stdout",
          "output_type": "stream",
          "text": [
            "Test Accuracy:0.7109375\n",
            "Training Accuracy:0.7277625\n",
            "Loss:0.672599196434021\n"
          ]
        },
        {
          "name": "stderr",
          "output_type": "stream",
          "text": [
            "\r 25%|██▌       | 125/500 [1:09:17<3:27:28, 33.20s/it]"
          ]
        },
        {
          "name": "stdout",
          "output_type": "stream",
          "text": [
            "Test Accuracy:0.7140625\n",
            "Training Accuracy:0.72705625\n",
            "Loss:0.5960650444030762\n"
          ]
        },
        {
          "name": "stderr",
          "output_type": "stream",
          "text": [
            "\r 25%|██▌       | 126/500 [1:09:50<3:26:49, 33.18s/it]"
          ]
        },
        {
          "name": "stdout",
          "output_type": "stream",
          "text": [
            "Test Accuracy:0.715\n",
            "Training Accuracy:0.72640078125\n",
            "Loss:0.6100271940231323\n"
          ]
        },
        {
          "name": "stderr",
          "output_type": "stream",
          "text": [
            "\r 25%|██▌       | 127/500 [1:10:24<3:26:47, 33.27s/it]"
          ]
        },
        {
          "name": "stdout",
          "output_type": "stream",
          "text": [
            "Test Accuracy:0.715\n",
            "Training Accuracy:0.72802265625\n",
            "Loss:0.6223520040512085\n"
          ]
        },
        {
          "name": "stderr",
          "output_type": "stream",
          "text": [
            "\r 26%|██▌       | 128/500 [1:10:56<3:24:29, 32.98s/it]"
          ]
        },
        {
          "name": "stdout",
          "output_type": "stream",
          "text": [
            "Test Accuracy:0.714375\n",
            "Training Accuracy:0.72766171875\n",
            "Loss:0.66348797082901\n"
          ]
        },
        {
          "name": "stderr",
          "output_type": "stream",
          "text": [
            "\r 26%|██▌       | 129/500 [1:11:29<3:23:07, 32.85s/it]"
          ]
        },
        {
          "name": "stdout",
          "output_type": "stream",
          "text": [
            "Test Accuracy:0.715\n",
            "Training Accuracy:0.7305203125\n",
            "Loss:0.6208019256591797\n"
          ]
        },
        {
          "name": "stderr",
          "output_type": "stream",
          "text": [
            "\r 26%|██▌       | 130/500 [1:12:01<3:21:35, 32.69s/it]"
          ]
        },
        {
          "name": "stdout",
          "output_type": "stream",
          "text": [
            "Test Accuracy:0.7171875\n",
            "Training Accuracy:0.72775078125\n",
            "Loss:0.6457095146179199\n"
          ]
        },
        {
          "name": "stderr",
          "output_type": "stream",
          "text": [
            "\r 26%|██▌       | 131/500 [1:12:34<3:20:47, 32.65s/it]"
          ]
        },
        {
          "name": "stdout",
          "output_type": "stream",
          "text": [
            "Test Accuracy:0.7103125\n",
            "Training Accuracy:0.73015625\n",
            "Loss:0.6307446360588074\n"
          ]
        },
        {
          "name": "stderr",
          "output_type": "stream",
          "text": [
            "\r 26%|██▋       | 132/500 [1:13:07<3:21:35, 32.87s/it]"
          ]
        },
        {
          "name": "stdout",
          "output_type": "stream",
          "text": [
            "Test Accuracy:0.7121875\n",
            "Training Accuracy:0.72973046875\n",
            "Loss:0.6153530478477478\n"
          ]
        },
        {
          "name": "stderr",
          "output_type": "stream",
          "text": [
            "\r 27%|██▋       | 133/500 [1:13:40<3:21:12, 32.89s/it]"
          ]
        },
        {
          "name": "stdout",
          "output_type": "stream",
          "text": [
            "Test Accuracy:0.7165625\n",
            "Training Accuracy:0.73165859375\n",
            "Loss:0.6126680970191956\n"
          ]
        },
        {
          "name": "stderr",
          "output_type": "stream",
          "text": [
            "\r 27%|██▋       | 134/500 [1:14:13<3:21:36, 33.05s/it]"
          ]
        },
        {
          "name": "stdout",
          "output_type": "stream",
          "text": [
            "Test Accuracy:0.714375\n",
            "Training Accuracy:0.73218984375\n",
            "Loss:0.5767456293106079\n"
          ]
        },
        {
          "name": "stderr",
          "output_type": "stream",
          "text": [
            "\r 27%|██▋       | 135/500 [1:14:46<3:20:51, 33.02s/it]"
          ]
        },
        {
          "name": "stdout",
          "output_type": "stream",
          "text": [
            "Test Accuracy:0.7165625\n",
            "Training Accuracy:0.734534375\n",
            "Loss:0.6612526178359985\n"
          ]
        },
        {
          "name": "stderr",
          "output_type": "stream",
          "text": [
            "\r 27%|██▋       | 136/500 [1:15:20<3:21:30, 33.22s/it]"
          ]
        },
        {
          "name": "stdout",
          "output_type": "stream",
          "text": [
            "Test Accuracy:0.715625\n",
            "Training Accuracy:0.73266484375\n",
            "Loss:0.6012638211250305\n"
          ]
        },
        {
          "name": "stderr",
          "output_type": "stream",
          "text": [
            "\r 27%|██▋       | 137/500 [1:15:53<3:21:01, 33.23s/it]"
          ]
        },
        {
          "name": "stdout",
          "output_type": "stream",
          "text": [
            "Test Accuracy:0.718125\n",
            "Training Accuracy:0.73515234375\n",
            "Loss:0.6255563497543335\n"
          ]
        },
        {
          "name": "stderr",
          "output_type": "stream",
          "text": [
            "\r 28%|██▊       | 138/500 [1:16:26<3:20:08, 33.17s/it]"
          ]
        },
        {
          "name": "stdout",
          "output_type": "stream",
          "text": [
            "Test Accuracy:0.721875\n",
            "Training Accuracy:0.734921875\n",
            "Loss:0.6225700974464417\n"
          ]
        },
        {
          "name": "stderr",
          "output_type": "stream",
          "text": [
            "\r 28%|██▊       | 139/500 [1:17:01<3:22:12, 33.61s/it]"
          ]
        },
        {
          "name": "stdout",
          "output_type": "stream",
          "text": [
            "Test Accuracy:0.720625\n",
            "Training Accuracy:0.73766953125\n",
            "Loss:0.6039020419120789\n"
          ]
        },
        {
          "name": "stderr",
          "output_type": "stream",
          "text": [
            "\r 28%|██▊       | 140/500 [1:17:35<3:23:15, 33.88s/it]"
          ]
        },
        {
          "name": "stdout",
          "output_type": "stream",
          "text": [
            "Test Accuracy:0.7221875\n",
            "Training Accuracy:0.740496875\n",
            "Loss:0.6217020153999329\n"
          ]
        },
        {
          "name": "stderr",
          "output_type": "stream",
          "text": [
            "\r 28%|██▊       | 141/500 [1:18:08<3:20:57, 33.59s/it]"
          ]
        },
        {
          "name": "stdout",
          "output_type": "stream",
          "text": [
            "Test Accuracy:0.7140625\n",
            "Training Accuracy:0.74108984375\n",
            "Loss:0.5957228541374207\n"
          ]
        },
        {
          "name": "stderr",
          "output_type": "stream",
          "text": [
            "\r 28%|██▊       | 142/500 [1:18:42<3:20:45, 33.65s/it]"
          ]
        },
        {
          "name": "stdout",
          "output_type": "stream",
          "text": [
            "Test Accuracy:0.7228125\n",
            "Training Accuracy:0.74228203125\n",
            "Loss:0.5501571297645569\n"
          ]
        },
        {
          "name": "stderr",
          "output_type": "stream",
          "text": [
            "\r 29%|██▊       | 143/500 [1:19:15<3:18:52, 33.42s/it]"
          ]
        },
        {
          "name": "stdout",
          "output_type": "stream",
          "text": [
            "Test Accuracy:0.7284375\n",
            "Training Accuracy:0.74412421875\n",
            "Loss:0.6526066064834595\n"
          ]
        },
        {
          "name": "stderr",
          "output_type": "stream",
          "text": [
            "\r 29%|██▉       | 144/500 [1:19:49<3:18:55, 33.53s/it]"
          ]
        },
        {
          "name": "stdout",
          "output_type": "stream",
          "text": [
            "Test Accuracy:0.72375\n",
            "Training Accuracy:0.75020234375\n",
            "Loss:0.9435737729072571\n"
          ]
        },
        {
          "name": "stderr",
          "output_type": "stream",
          "text": [
            "\r 29%|██▉       | 145/500 [1:20:23<3:19:42, 33.75s/it]"
          ]
        },
        {
          "name": "stdout",
          "output_type": "stream",
          "text": [
            "Test Accuracy:0.5540625\n",
            "Training Accuracy:0.74828671875\n",
            "Loss:0.5737142562866211\n"
          ]
        },
        {
          "name": "stderr",
          "output_type": "stream",
          "text": [
            "\r 29%|██▉       | 146/500 [1:20:57<3:19:50, 33.87s/it]"
          ]
        },
        {
          "name": "stdout",
          "output_type": "stream",
          "text": [
            "Test Accuracy:0.734375\n",
            "Training Accuracy:0.754415625\n",
            "Loss:0.5990197658538818\n"
          ]
        },
        {
          "name": "stderr",
          "output_type": "stream",
          "text": [
            "\r 29%|██▉       | 147/500 [1:21:31<3:19:25, 33.90s/it]"
          ]
        },
        {
          "name": "stdout",
          "output_type": "stream",
          "text": [
            "Test Accuracy:0.73\n",
            "Training Accuracy:0.7526625\n",
            "Loss:0.5838999152183533\n"
          ]
        },
        {
          "name": "stderr",
          "output_type": "stream",
          "text": [
            "\r 30%|██▉       | 148/500 [1:22:05<3:18:05, 33.77s/it]"
          ]
        },
        {
          "name": "stdout",
          "output_type": "stream",
          "text": [
            "Test Accuracy:0.731875\n",
            "Training Accuracy:0.75553125\n",
            "Loss:0.5882661938667297\n"
          ]
        },
        {
          "name": "stderr",
          "output_type": "stream",
          "text": [
            "\r 30%|██▉       | 149/500 [1:22:38<3:17:17, 33.72s/it]"
          ]
        },
        {
          "name": "stdout",
          "output_type": "stream",
          "text": [
            "Test Accuracy:0.736875\n",
            "Training Accuracy:0.76028515625\n",
            "Loss:0.5130864381790161\n"
          ]
        },
        {
          "name": "stderr",
          "output_type": "stream",
          "text": [
            "\r 30%|███       | 150/500 [1:23:13<3:18:06, 33.96s/it]"
          ]
        },
        {
          "name": "stdout",
          "output_type": "stream",
          "text": [
            "Test Accuracy:0.73875\n",
            "Training Accuracy:0.75665234375\n",
            "Loss:0.5747023224830627\n"
          ]
        },
        {
          "name": "stderr",
          "output_type": "stream",
          "text": [
            "\r 30%|███       | 151/500 [1:23:47<3:18:42, 34.16s/it]"
          ]
        },
        {
          "name": "stdout",
          "output_type": "stream",
          "text": [
            "Test Accuracy:0.7384375\n",
            "Training Accuracy:0.76097578125\n",
            "Loss:0.5162427425384521\n"
          ]
        },
        {
          "name": "stderr",
          "output_type": "stream",
          "text": [
            "\r 30%|███       | 152/500 [1:24:22<3:18:55, 34.30s/it]"
          ]
        },
        {
          "name": "stdout",
          "output_type": "stream",
          "text": [
            "Test Accuracy:0.7415625\n",
            "Training Accuracy:0.7599953125\n",
            "Loss:0.5523340106010437\n"
          ]
        },
        {
          "name": "stderr",
          "output_type": "stream",
          "text": [
            "\r 31%|███       | 153/500 [1:24:57<3:19:12, 34.45s/it]"
          ]
        },
        {
          "name": "stdout",
          "output_type": "stream",
          "text": [
            "Test Accuracy:0.739375\n",
            "Training Accuracy:0.76366484375\n",
            "Loss:0.9319778680801392\n"
          ]
        },
        {
          "name": "stderr",
          "output_type": "stream",
          "text": [
            "\r 31%|███       | 154/500 [1:25:30<3:16:25, 34.06s/it]"
          ]
        },
        {
          "name": "stdout",
          "output_type": "stream",
          "text": [
            "Test Accuracy:0.7275\n",
            "Training Accuracy:0.762796875\n",
            "Loss:0.5396141409873962\n"
          ]
        },
        {
          "name": "stderr",
          "output_type": "stream",
          "text": [
            "\r 31%|███       | 155/500 [1:26:04<3:15:46, 34.05s/it]"
          ]
        },
        {
          "name": "stdout",
          "output_type": "stream",
          "text": [
            "Test Accuracy:0.7446875\n",
            "Training Accuracy:0.7643609375\n",
            "Loss:0.5261316299438477\n"
          ]
        },
        {
          "name": "stderr",
          "output_type": "stream",
          "text": [
            "\r 31%|███       | 156/500 [1:26:37<3:13:26, 33.74s/it]"
          ]
        },
        {
          "name": "stdout",
          "output_type": "stream",
          "text": [
            "Test Accuracy:0.7484375\n",
            "Training Accuracy:0.76121875\n",
            "Loss:0.5247134566307068\n"
          ]
        },
        {
          "name": "stderr",
          "output_type": "stream",
          "text": [
            "\r 31%|███▏      | 157/500 [1:27:11<3:12:54, 33.74s/it]"
          ]
        },
        {
          "name": "stdout",
          "output_type": "stream",
          "text": [
            "Test Accuracy:0.7478125\n",
            "Training Accuracy:0.76575078125\n",
            "Loss:0.46531954407691956\n"
          ]
        },
        {
          "name": "stderr",
          "output_type": "stream",
          "text": [
            "\r 32%|███▏      | 158/500 [1:27:43<3:09:46, 33.29s/it]"
          ]
        },
        {
          "name": "stdout",
          "output_type": "stream",
          "text": [
            "Test Accuracy:0.74375\n",
            "Training Accuracy:0.7663875\n",
            "Loss:0.539880633354187\n"
          ]
        },
        {
          "name": "stderr",
          "output_type": "stream",
          "text": [
            "\r 32%|███▏      | 159/500 [1:28:16<3:09:26, 33.33s/it]"
          ]
        },
        {
          "name": "stdout",
          "output_type": "stream",
          "text": [
            "Test Accuracy:0.7371875\n",
            "Training Accuracy:0.76376171875\n",
            "Loss:0.49596652388572693\n"
          ]
        },
        {
          "name": "stderr",
          "output_type": "stream",
          "text": [
            "\r 32%|███▏      | 160/500 [1:28:50<3:09:37, 33.46s/it]"
          ]
        },
        {
          "name": "stdout",
          "output_type": "stream",
          "text": [
            "Test Accuracy:0.7475\n",
            "Training Accuracy:0.766890625\n",
            "Loss:0.4952153265476227\n"
          ]
        },
        {
          "name": "stderr",
          "output_type": "stream",
          "text": [
            "\r 32%|███▏      | 161/500 [1:29:24<3:09:07, 33.47s/it]"
          ]
        },
        {
          "name": "stdout",
          "output_type": "stream",
          "text": [
            "Test Accuracy:0.7471875\n",
            "Training Accuracy:0.76794765625\n",
            "Loss:0.5262631773948669\n"
          ]
        },
        {
          "name": "stderr",
          "output_type": "stream",
          "text": [
            "\r 32%|███▏      | 162/500 [1:29:58<3:09:12, 33.59s/it]"
          ]
        },
        {
          "name": "stdout",
          "output_type": "stream",
          "text": [
            "Test Accuracy:0.746875\n",
            "Training Accuracy:0.76537734375\n",
            "Loss:0.494571328163147\n"
          ]
        },
        {
          "name": "stderr",
          "output_type": "stream",
          "text": [
            "\r 33%|███▎      | 163/500 [1:30:31<3:08:36, 33.58s/it]"
          ]
        },
        {
          "name": "stdout",
          "output_type": "stream",
          "text": [
            "Test Accuracy:0.7453125\n",
            "Training Accuracy:0.76701171875\n",
            "Loss:0.5230057239532471\n"
          ]
        },
        {
          "name": "stderr",
          "output_type": "stream",
          "text": [
            "\r 33%|███▎      | 164/500 [1:31:04<3:07:18, 33.45s/it]"
          ]
        },
        {
          "name": "stdout",
          "output_type": "stream",
          "text": [
            "Test Accuracy:0.7471875\n",
            "Training Accuracy:0.76782578125\n",
            "Loss:0.5261113047599792\n"
          ]
        },
        {
          "name": "stderr",
          "output_type": "stream",
          "text": [
            "\r 33%|███▎      | 165/500 [1:31:37<3:06:13, 33.35s/it]"
          ]
        },
        {
          "name": "stdout",
          "output_type": "stream",
          "text": [
            "Test Accuracy:0.74375\n",
            "Training Accuracy:0.7688375\n",
            "Loss:0.5285962820053101\n"
          ]
        },
        {
          "name": "stderr",
          "output_type": "stream",
          "text": [
            "\r 33%|███▎      | 166/500 [1:32:11<3:06:20, 33.47s/it]"
          ]
        },
        {
          "name": "stdout",
          "output_type": "stream",
          "text": [
            "Test Accuracy:0.751875\n",
            "Training Accuracy:0.76534609375\n",
            "Loss:0.5095557570457458\n"
          ]
        },
        {
          "name": "stderr",
          "output_type": "stream",
          "text": [
            "\r 33%|███▎      | 167/500 [1:32:45<3:06:09, 33.54s/it]"
          ]
        },
        {
          "name": "stdout",
          "output_type": "stream",
          "text": [
            "Test Accuracy:0.74625\n",
            "Training Accuracy:0.769659375\n",
            "Loss:0.5286896228790283\n"
          ]
        },
        {
          "name": "stderr",
          "output_type": "stream",
          "text": [
            "\r 34%|███▎      | 168/500 [1:33:18<3:05:23, 33.50s/it]"
          ]
        },
        {
          "name": "stdout",
          "output_type": "stream",
          "text": [
            "Test Accuracy:0.7496875\n",
            "Training Accuracy:0.76673046875\n",
            "Loss:0.5199909210205078\n"
          ]
        },
        {
          "name": "stderr",
          "output_type": "stream",
          "text": [
            "\r 34%|███▍      | 169/500 [1:33:52<3:05:29, 33.63s/it]"
          ]
        },
        {
          "name": "stdout",
          "output_type": "stream",
          "text": [
            "Test Accuracy:0.746875\n",
            "Training Accuracy:0.76993515625\n",
            "Loss:0.514028012752533\n"
          ]
        },
        {
          "name": "stderr",
          "output_type": "stream",
          "text": [
            "\r 34%|███▍      | 170/500 [1:34:25<3:04:09, 33.48s/it]"
          ]
        },
        {
          "name": "stdout",
          "output_type": "stream",
          "text": [
            "Test Accuracy:0.7484375\n",
            "Training Accuracy:0.76950703125\n",
            "Loss:0.48746398091316223\n"
          ]
        },
        {
          "name": "stderr",
          "output_type": "stream",
          "text": [
            "\r 34%|███▍      | 171/500 [1:34:58<3:02:57, 33.37s/it]"
          ]
        },
        {
          "name": "stdout",
          "output_type": "stream",
          "text": [
            "Test Accuracy:0.7496875\n",
            "Training Accuracy:0.76795859375\n",
            "Loss:0.5363336205482483\n"
          ]
        },
        {
          "name": "stderr",
          "output_type": "stream",
          "text": [
            "\r 34%|███▍      | 172/500 [1:35:33<3:04:02, 33.67s/it]"
          ]
        },
        {
          "name": "stdout",
          "output_type": "stream",
          "text": [
            "Test Accuracy:0.7496875\n",
            "Training Accuracy:0.769115625\n",
            "Loss:0.516201376914978\n"
          ]
        },
        {
          "name": "stderr",
          "output_type": "stream",
          "text": [
            "\r 35%|███▍      | 173/500 [1:36:08<3:05:20, 34.01s/it]"
          ]
        },
        {
          "name": "stdout",
          "output_type": "stream",
          "text": [
            "Test Accuracy:0.7478125\n",
            "Training Accuracy:0.7680515625\n",
            "Loss:0.5070062279701233\n"
          ]
        },
        {
          "name": "stderr",
          "output_type": "stream",
          "text": [
            "\r 35%|███▍      | 174/500 [1:36:44<3:08:45, 34.74s/it]"
          ]
        },
        {
          "name": "stdout",
          "output_type": "stream",
          "text": [
            "Test Accuracy:0.7525\n",
            "Training Accuracy:0.76987890625\n",
            "Loss:0.46222424507141113\n"
          ]
        },
        {
          "name": "stderr",
          "output_type": "stream",
          "text": [
            "\r 35%|███▌      | 175/500 [1:37:19<3:09:04, 34.91s/it]"
          ]
        },
        {
          "name": "stdout",
          "output_type": "stream",
          "text": [
            "Test Accuracy:0.7496875\n",
            "Training Accuracy:0.7699703125\n",
            "Loss:0.5142893195152283\n"
          ]
        },
        {
          "name": "stderr",
          "output_type": "stream",
          "text": [
            "\r 35%|███▌      | 176/500 [1:37:54<3:08:22, 34.88s/it]"
          ]
        },
        {
          "name": "stdout",
          "output_type": "stream",
          "text": [
            "Test Accuracy:0.755\n",
            "Training Accuracy:0.77063828125\n",
            "Loss:0.5331341028213501\n"
          ]
        },
        {
          "name": "stderr",
          "output_type": "stream",
          "text": [
            "\r 35%|███▌      | 177/500 [1:38:29<3:08:02, 34.93s/it]"
          ]
        },
        {
          "name": "stdout",
          "output_type": "stream",
          "text": [
            "Test Accuracy:0.75125\n",
            "Training Accuracy:0.77071328125\n",
            "Loss:0.47949618101119995\n"
          ]
        },
        {
          "name": "stderr",
          "output_type": "stream",
          "text": [
            "\r 36%|███▌      | 178/500 [1:39:04<3:07:21, 34.91s/it]"
          ]
        },
        {
          "name": "stdout",
          "output_type": "stream",
          "text": [
            "Test Accuracy:0.75\n",
            "Training Accuracy:0.770590625\n",
            "Loss:0.5126227736473083\n"
          ]
        },
        {
          "name": "stderr",
          "output_type": "stream",
          "text": [
            "\r 36%|███▌      | 179/500 [1:39:39<3:06:56, 34.94s/it]"
          ]
        },
        {
          "name": "stdout",
          "output_type": "stream",
          "text": [
            "Test Accuracy:0.74875\n",
            "Training Accuracy:0.76870625\n",
            "Loss:0.486498087644577\n"
          ]
        },
        {
          "name": "stderr",
          "output_type": "stream",
          "text": [
            "\r 36%|███▌      | 180/500 [1:40:14<3:06:59, 35.06s/it]"
          ]
        },
        {
          "name": "stdout",
          "output_type": "stream",
          "text": [
            "Test Accuracy:0.746875\n",
            "Training Accuracy:0.7711796875\n",
            "Loss:0.5057643055915833\n"
          ]
        },
        {
          "name": "stderr",
          "output_type": "stream",
          "text": [
            "\r 36%|███▌      | 181/500 [1:40:48<3:04:23, 34.68s/it]"
          ]
        },
        {
          "name": "stdout",
          "output_type": "stream",
          "text": [
            "Test Accuracy:0.7540625\n",
            "Training Accuracy:0.771590625\n",
            "Loss:0.4937078356742859\n"
          ]
        },
        {
          "name": "stderr",
          "output_type": "stream",
          "text": [
            "\r 36%|███▋      | 182/500 [1:41:21<3:00:52, 34.13s/it]"
          ]
        },
        {
          "name": "stdout",
          "output_type": "stream",
          "text": [
            "Test Accuracy:0.75375\n",
            "Training Accuracy:0.7703234375\n",
            "Loss:0.46465831995010376\n"
          ]
        },
        {
          "name": "stderr",
          "output_type": "stream",
          "text": [
            "\r 37%|███▋      | 183/500 [1:41:54<2:59:08, 33.91s/it]"
          ]
        },
        {
          "name": "stdout",
          "output_type": "stream",
          "text": [
            "Test Accuracy:0.755\n",
            "Training Accuracy:0.77184375\n",
            "Loss:0.5021201372146606\n"
          ]
        },
        {
          "name": "stderr",
          "output_type": "stream",
          "text": [
            "\r 37%|███▋      | 184/500 [1:42:27<2:56:56, 33.60s/it]"
          ]
        },
        {
          "name": "stdout",
          "output_type": "stream",
          "text": [
            "Test Accuracy:0.753125\n",
            "Training Accuracy:0.774025\n",
            "Loss:0.48316413164138794\n"
          ]
        },
        {
          "name": "stderr",
          "output_type": "stream",
          "text": [
            "\r 37%|███▋      | 185/500 [1:43:00<2:55:01, 33.34s/it]"
          ]
        },
        {
          "name": "stdout",
          "output_type": "stream",
          "text": [
            "Test Accuracy:0.7565625\n",
            "Training Accuracy:0.7730453125\n",
            "Loss:0.4695764482021332\n"
          ]
        },
        {
          "name": "stderr",
          "output_type": "stream",
          "text": [
            "\r 37%|███▋      | 186/500 [1:43:33<2:54:18, 33.31s/it]"
          ]
        },
        {
          "name": "stdout",
          "output_type": "stream",
          "text": [
            "Test Accuracy:0.7534375\n",
            "Training Accuracy:0.7696203125\n",
            "Loss:0.4801490008831024\n"
          ]
        },
        {
          "name": "stderr",
          "output_type": "stream",
          "text": [
            "\r 37%|███▋      | 187/500 [1:44:06<2:53:30, 33.26s/it]"
          ]
        },
        {
          "name": "stdout",
          "output_type": "stream",
          "text": [
            "Test Accuracy:0.754375\n",
            "Training Accuracy:0.772734375\n",
            "Loss:0.43115705251693726\n"
          ]
        },
        {
          "name": "stderr",
          "output_type": "stream",
          "text": [
            "\r 38%|███▊      | 188/500 [1:44:40<2:53:21, 33.34s/it]"
          ]
        },
        {
          "name": "stdout",
          "output_type": "stream",
          "text": [
            "Test Accuracy:0.7534375\n",
            "Training Accuracy:0.77507265625\n",
            "Loss:0.485283762216568\n"
          ]
        },
        {
          "name": "stderr",
          "output_type": "stream",
          "text": [
            "\r 38%|███▊      | 189/500 [1:45:13<2:51:50, 33.15s/it]"
          ]
        },
        {
          "name": "stdout",
          "output_type": "stream",
          "text": [
            "Test Accuracy:0.7565625\n",
            "Training Accuracy:0.7738515625\n",
            "Loss:0.5360224843025208\n"
          ]
        },
        {
          "name": "stderr",
          "output_type": "stream",
          "text": [
            "\r 38%|███▊      | 190/500 [1:45:46<2:52:03, 33.30s/it]"
          ]
        },
        {
          "name": "stdout",
          "output_type": "stream",
          "text": [
            "Test Accuracy:0.753125\n",
            "Training Accuracy:0.77183125\n",
            "Loss:0.4842427670955658\n"
          ]
        },
        {
          "name": "stderr",
          "output_type": "stream",
          "text": [
            "\r 38%|███▊      | 191/500 [1:46:20<2:52:40, 33.53s/it]"
          ]
        },
        {
          "name": "stdout",
          "output_type": "stream",
          "text": [
            "Test Accuracy:0.755625\n",
            "Training Accuracy:0.7758203125\n",
            "Loss:0.48634660243988037\n"
          ]
        },
        {
          "name": "stderr",
          "output_type": "stream",
          "text": [
            "\r 38%|███▊      | 192/500 [1:46:54<2:52:03, 33.52s/it]"
          ]
        },
        {
          "name": "stdout",
          "output_type": "stream",
          "text": [
            "Test Accuracy:0.7559375\n",
            "Training Accuracy:0.77236875\n",
            "Loss:0.472817987203598\n"
          ]
        },
        {
          "name": "stderr",
          "output_type": "stream",
          "text": [
            "\r 39%|███▊      | 193/500 [1:47:27<2:51:23, 33.50s/it]"
          ]
        },
        {
          "name": "stdout",
          "output_type": "stream",
          "text": [
            "Test Accuracy:0.7534375\n",
            "Training Accuracy:0.77504453125\n",
            "Loss:0.4506932199001312\n"
          ]
        },
        {
          "name": "stderr",
          "output_type": "stream",
          "text": [
            "\r 39%|███▉      | 194/500 [1:48:01<2:50:46, 33.49s/it]"
          ]
        },
        {
          "name": "stdout",
          "output_type": "stream",
          "text": [
            "Test Accuracy:0.75875\n",
            "Training Accuracy:0.7748390625\n",
            "Loss:0.5306474566459656\n"
          ]
        },
        {
          "name": "stderr",
          "output_type": "stream",
          "text": [
            "\r 39%|███▉      | 195/500 [1:48:34<2:49:49, 33.41s/it]"
          ]
        },
        {
          "name": "stdout",
          "output_type": "stream",
          "text": [
            "Test Accuracy:0.755\n",
            "Training Accuracy:0.77396171875\n",
            "Loss:0.4746078550815582\n"
          ]
        },
        {
          "name": "stderr",
          "output_type": "stream",
          "text": [
            "\r 39%|███▉      | 196/500 [1:49:08<2:50:31, 33.66s/it]"
          ]
        },
        {
          "name": "stdout",
          "output_type": "stream",
          "text": [
            "Test Accuracy:0.755\n",
            "Training Accuracy:0.77502421875\n",
            "Loss:0.5069997310638428\n"
          ]
        },
        {
          "name": "stderr",
          "output_type": "stream",
          "text": [
            "\r 39%|███▉      | 197/500 [1:49:42<2:49:22, 33.54s/it]"
          ]
        },
        {
          "name": "stdout",
          "output_type": "stream",
          "text": [
            "Test Accuracy:0.758125\n",
            "Training Accuracy:0.77267109375\n",
            "Loss:0.5451058149337769\n"
          ]
        },
        {
          "name": "stderr",
          "output_type": "stream",
          "text": [
            "\r 40%|███▉      | 198/500 [1:50:16<2:49:55, 33.76s/it]"
          ]
        },
        {
          "name": "stdout",
          "output_type": "stream",
          "text": [
            "Test Accuracy:0.7546875\n",
            "Training Accuracy:0.77526875\n",
            "Loss:0.4852665960788727\n"
          ]
        },
        {
          "name": "stderr",
          "output_type": "stream",
          "text": [
            "\r 40%|███▉      | 199/500 [1:50:49<2:49:06, 33.71s/it]"
          ]
        },
        {
          "name": "stdout",
          "output_type": "stream",
          "text": [
            "Test Accuracy:0.75375\n",
            "Training Accuracy:0.775053125\n",
            "Loss:0.5476482510566711\n"
          ]
        },
        {
          "name": "stderr",
          "output_type": "stream",
          "text": [
            "\r 40%|████      | 200/500 [1:51:23<2:48:19, 33.66s/it]"
          ]
        },
        {
          "name": "stdout",
          "output_type": "stream",
          "text": [
            "Test Accuracy:0.721875\n",
            "Training Accuracy:0.77496875\n",
            "Loss:0.49913159012794495\n"
          ]
        },
        {
          "name": "stderr",
          "output_type": "stream",
          "text": [
            "\r 40%|████      | 201/500 [1:51:57<2:48:05, 33.73s/it]"
          ]
        },
        {
          "name": "stdout",
          "output_type": "stream",
          "text": [
            "Test Accuracy:0.759375\n",
            "Training Accuracy:0.77263984375\n",
            "Loss:0.5097411274909973\n"
          ]
        },
        {
          "name": "stderr",
          "output_type": "stream",
          "text": [
            "\r 40%|████      | 202/500 [1:52:30<2:46:30, 33.53s/it]"
          ]
        },
        {
          "name": "stdout",
          "output_type": "stream",
          "text": [
            "Test Accuracy:0.7509375\n",
            "Training Accuracy:0.7801296875\n",
            "Loss:0.5035362243652344\n"
          ]
        },
        {
          "name": "stderr",
          "output_type": "stream",
          "text": [
            "\r 41%|████      | 203/500 [1:53:03<2:45:33, 33.45s/it]"
          ]
        },
        {
          "name": "stdout",
          "output_type": "stream",
          "text": [
            "Test Accuracy:0.755\n",
            "Training Accuracy:0.7725453125\n",
            "Loss:0.4947437345981598\n"
          ]
        },
        {
          "name": "stderr",
          "output_type": "stream",
          "text": [
            "\r 41%|████      | 204/500 [1:53:36<2:44:35, 33.36s/it]"
          ]
        },
        {
          "name": "stdout",
          "output_type": "stream",
          "text": [
            "Test Accuracy:0.75625\n",
            "Training Accuracy:0.77625078125\n",
            "Loss:0.49736908078193665\n"
          ]
        },
        {
          "name": "stderr",
          "output_type": "stream",
          "text": [
            "\r 41%|████      | 205/500 [1:54:09<2:42:51, 33.12s/it]"
          ]
        },
        {
          "name": "stdout",
          "output_type": "stream",
          "text": [
            "Test Accuracy:0.7471875\n",
            "Training Accuracy:0.7773875\n",
            "Loss:0.5001588463783264\n"
          ]
        },
        {
          "name": "stderr",
          "output_type": "stream",
          "text": [
            "\r 41%|████      | 206/500 [1:54:42<2:42:10, 33.10s/it]"
          ]
        },
        {
          "name": "stdout",
          "output_type": "stream",
          "text": [
            "Test Accuracy:0.7546875\n",
            "Training Accuracy:0.7755625\n",
            "Loss:0.49820366501808167\n"
          ]
        },
        {
          "name": "stderr",
          "output_type": "stream",
          "text": [
            "\r 41%|████▏     | 207/500 [1:55:15<2:41:48, 33.14s/it]"
          ]
        },
        {
          "name": "stdout",
          "output_type": "stream",
          "text": [
            "Test Accuracy:0.75875\n",
            "Training Accuracy:0.777803125\n",
            "Loss:0.48237672448158264\n"
          ]
        },
        {
          "name": "stderr",
          "output_type": "stream",
          "text": [
            "\r 42%|████▏     | 208/500 [1:55:48<2:40:21, 32.95s/it]"
          ]
        },
        {
          "name": "stdout",
          "output_type": "stream",
          "text": [
            "Test Accuracy:0.75625\n",
            "Training Accuracy:0.775990625\n",
            "Loss:0.4769884943962097\n"
          ]
        },
        {
          "name": "stderr",
          "output_type": "stream",
          "text": [
            "\r 42%|████▏     | 209/500 [1:56:21<2:39:47, 32.95s/it]"
          ]
        },
        {
          "name": "stdout",
          "output_type": "stream",
          "text": [
            "Test Accuracy:0.7575\n",
            "Training Accuracy:0.773690625\n",
            "Loss:0.5632379651069641\n"
          ]
        },
        {
          "name": "stderr",
          "output_type": "stream",
          "text": [
            "\r 42%|████▏     | 210/500 [1:56:53<2:38:57, 32.89s/it]"
          ]
        },
        {
          "name": "stdout",
          "output_type": "stream",
          "text": [
            "Test Accuracy:0.7525\n",
            "Training Accuracy:0.777434375\n",
            "Loss:0.6538987159729004\n"
          ]
        },
        {
          "name": "stderr",
          "output_type": "stream",
          "text": [
            "\r 42%|████▏     | 211/500 [1:57:26<2:38:14, 32.85s/it]"
          ]
        },
        {
          "name": "stdout",
          "output_type": "stream",
          "text": [
            "Test Accuracy:0.728125\n",
            "Training Accuracy:0.77744375\n",
            "Loss:0.5254035592079163\n"
          ]
        },
        {
          "name": "stderr",
          "output_type": "stream",
          "text": [
            "\r 42%|████▏     | 212/500 [1:57:59<2:38:18, 32.98s/it]"
          ]
        },
        {
          "name": "stdout",
          "output_type": "stream",
          "text": [
            "Test Accuracy:0.76\n",
            "Training Accuracy:0.77523984375\n",
            "Loss:0.5408609509468079\n"
          ]
        },
        {
          "name": "stderr",
          "output_type": "stream",
          "text": [
            "\r 43%|████▎     | 213/500 [1:58:32<2:36:59, 32.82s/it]"
          ]
        },
        {
          "name": "stdout",
          "output_type": "stream",
          "text": [
            "Test Accuracy:0.7396875\n",
            "Training Accuracy:0.7768578125\n",
            "Loss:0.5217970609664917\n"
          ]
        },
        {
          "name": "stderr",
          "output_type": "stream",
          "text": [
            "\r 43%|████▎     | 214/500 [1:59:05<2:37:34, 33.06s/it]"
          ]
        },
        {
          "name": "stdout",
          "output_type": "stream",
          "text": [
            "Test Accuracy:0.7609375\n",
            "Training Accuracy:0.783153125\n",
            "Loss:0.47278356552124023\n"
          ]
        },
        {
          "name": "stderr",
          "output_type": "stream",
          "text": [
            "\r 43%|████▎     | 215/500 [1:59:38<2:36:47, 33.01s/it]"
          ]
        },
        {
          "name": "stdout",
          "output_type": "stream",
          "text": [
            "Test Accuracy:0.7575\n",
            "Training Accuracy:0.781475\n",
            "Loss:0.4800195097923279\n"
          ]
        },
        {
          "name": "stderr",
          "output_type": "stream",
          "text": [
            "\r 43%|████▎     | 216/500 [2:00:12<2:37:27, 33.27s/it]"
          ]
        },
        {
          "name": "stdout",
          "output_type": "stream",
          "text": [
            "Test Accuracy:0.7615625\n",
            "Training Accuracy:0.78369921875\n",
            "Loss:0.49503692984580994\n"
          ]
        },
        {
          "name": "stderr",
          "output_type": "stream",
          "text": [
            "\r 43%|████▎     | 217/500 [2:00:46<2:37:15, 33.34s/it]"
          ]
        },
        {
          "name": "stdout",
          "output_type": "stream",
          "text": [
            "Test Accuracy:0.759375\n",
            "Training Accuracy:0.78206953125\n",
            "Loss:0.4526158273220062\n"
          ]
        },
        {
          "name": "stderr",
          "output_type": "stream",
          "text": [
            "\r 44%|████▎     | 218/500 [2:01:19<2:36:21, 33.27s/it]"
          ]
        },
        {
          "name": "stdout",
          "output_type": "stream",
          "text": [
            "Test Accuracy:0.7615625\n",
            "Training Accuracy:0.78286875\n",
            "Loss:0.487150102853775\n"
          ]
        },
        {
          "name": "stderr",
          "output_type": "stream",
          "text": [
            "\r 44%|████▍     | 219/500 [2:01:52<2:35:32, 33.21s/it]"
          ]
        },
        {
          "name": "stdout",
          "output_type": "stream",
          "text": [
            "Test Accuracy:0.758125\n",
            "Training Accuracy:0.78185\n",
            "Loss:0.491985559463501\n"
          ]
        },
        {
          "name": "stderr",
          "output_type": "stream",
          "text": [
            "\r 44%|████▍     | 220/500 [2:02:25<2:34:51, 33.18s/it]"
          ]
        },
        {
          "name": "stdout",
          "output_type": "stream",
          "text": [
            "Test Accuracy:0.76\n",
            "Training Accuracy:0.7838953125\n",
            "Loss:0.4552540183067322\n"
          ]
        },
        {
          "name": "stderr",
          "output_type": "stream",
          "text": [
            "\r 44%|████▍     | 221/500 [2:02:59<2:34:46, 33.29s/it]"
          ]
        },
        {
          "name": "stdout",
          "output_type": "stream",
          "text": [
            "Test Accuracy:0.7596875\n",
            "Training Accuracy:0.783925\n",
            "Loss:0.4719353914260864\n"
          ]
        },
        {
          "name": "stderr",
          "output_type": "stream",
          "text": [
            "\r 44%|████▍     | 222/500 [2:03:32<2:33:58, 33.23s/it]"
          ]
        },
        {
          "name": "stdout",
          "output_type": "stream",
          "text": [
            "Test Accuracy:0.7590625\n",
            "Training Accuracy:0.78296953125\n",
            "Loss:0.49090251326560974\n"
          ]
        },
        {
          "name": "stderr",
          "output_type": "stream",
          "text": [
            "\r 45%|████▍     | 223/500 [2:04:06<2:34:26, 33.45s/it]"
          ]
        },
        {
          "name": "stdout",
          "output_type": "stream",
          "text": [
            "Test Accuracy:0.758125\n",
            "Training Accuracy:0.78353125\n",
            "Loss:0.46560394763946533\n"
          ]
        },
        {
          "name": "stderr",
          "output_type": "stream",
          "text": [
            "\r 45%|████▍     | 224/500 [2:04:39<2:33:55, 33.46s/it]"
          ]
        },
        {
          "name": "stdout",
          "output_type": "stream",
          "text": [
            "Test Accuracy:0.7584375\n",
            "Training Accuracy:0.7823859375\n",
            "Loss:0.454340398311615\n"
          ]
        },
        {
          "name": "stderr",
          "output_type": "stream",
          "text": [
            "\r 45%|████▌     | 225/500 [2:05:12<2:32:08, 33.19s/it]"
          ]
        },
        {
          "name": "stdout",
          "output_type": "stream",
          "text": [
            "Test Accuracy:0.7621875\n",
            "Training Accuracy:0.785809375\n",
            "Loss:0.4985397160053253\n"
          ]
        },
        {
          "name": "stderr",
          "output_type": "stream",
          "text": [
            "\r 45%|████▌     | 226/500 [2:05:45<2:31:10, 33.10s/it]"
          ]
        },
        {
          "name": "stdout",
          "output_type": "stream",
          "text": [
            "Test Accuracy:0.763125\n",
            "Training Accuracy:0.7830515625\n",
            "Loss:0.5186412930488586\n"
          ]
        },
        {
          "name": "stderr",
          "output_type": "stream",
          "text": [
            "\r 45%|████▌     | 227/500 [2:06:17<2:29:55, 32.95s/it]"
          ]
        },
        {
          "name": "stdout",
          "output_type": "stream",
          "text": [
            "Test Accuracy:0.760625\n",
            "Training Accuracy:0.786515625\n",
            "Loss:0.4867612421512604\n"
          ]
        },
        {
          "name": "stderr",
          "output_type": "stream",
          "text": [
            "\r 46%|████▌     | 228/500 [2:06:50<2:29:07, 32.90s/it]"
          ]
        },
        {
          "name": "stdout",
          "output_type": "stream",
          "text": [
            "Test Accuracy:0.7584375\n",
            "Training Accuracy:0.785153125\n",
            "Loss:0.4677702784538269\n"
          ]
        },
        {
          "name": "stderr",
          "output_type": "stream",
          "text": [
            "\r 46%|████▌     | 229/500 [2:07:23<2:28:28, 32.87s/it]"
          ]
        },
        {
          "name": "stdout",
          "output_type": "stream",
          "text": [
            "Test Accuracy:0.759375\n",
            "Training Accuracy:0.7850625\n",
            "Loss:0.4624214470386505\n"
          ]
        },
        {
          "name": "stderr",
          "output_type": "stream",
          "text": [
            "\r 46%|████▌     | 230/500 [2:07:55<2:27:27, 32.77s/it]"
          ]
        },
        {
          "name": "stdout",
          "output_type": "stream",
          "text": [
            "Test Accuracy:0.7565625\n",
            "Training Accuracy:0.78558828125\n",
            "Loss:0.46554532647132874\n"
          ]
        },
        {
          "name": "stderr",
          "output_type": "stream",
          "text": [
            "\r 46%|████▌     | 231/500 [2:08:28<2:26:32, 32.69s/it]"
          ]
        },
        {
          "name": "stdout",
          "output_type": "stream",
          "text": [
            "Test Accuracy:0.7553125\n",
            "Training Accuracy:0.78516328125\n",
            "Loss:0.4833862781524658\n"
          ]
        },
        {
          "name": "stderr",
          "output_type": "stream",
          "text": [
            "\r 46%|████▋     | 232/500 [2:09:00<2:25:32, 32.58s/it]"
          ]
        },
        {
          "name": "stdout",
          "output_type": "stream",
          "text": [
            "Test Accuracy:0.7625\n",
            "Training Accuracy:0.78546328125\n",
            "Loss:0.4305335581302643\n"
          ]
        },
        {
          "name": "stderr",
          "output_type": "stream",
          "text": [
            "\r 47%|████▋     | 233/500 [2:09:33<2:25:10, 32.62s/it]"
          ]
        },
        {
          "name": "stdout",
          "output_type": "stream",
          "text": [
            "Test Accuracy:0.765\n",
            "Training Accuracy:0.78741484375\n",
            "Loss:0.4612501859664917\n"
          ]
        },
        {
          "name": "stderr",
          "output_type": "stream",
          "text": [
            "\r 47%|████▋     | 234/500 [2:10:05<2:24:01, 32.49s/it]"
          ]
        },
        {
          "name": "stdout",
          "output_type": "stream",
          "text": [
            "Test Accuracy:0.761875\n",
            "Training Accuracy:0.7874140625\n",
            "Loss:0.4981124699115753\n"
          ]
        },
        {
          "name": "stderr",
          "output_type": "stream",
          "text": [
            "\r 47%|████▋     | 235/500 [2:10:38<2:23:36, 32.52s/it]"
          ]
        },
        {
          "name": "stdout",
          "output_type": "stream",
          "text": [
            "Test Accuracy:0.7584375\n",
            "Training Accuracy:0.78701484375\n",
            "Loss:0.4853803813457489\n"
          ]
        },
        {
          "name": "stderr",
          "output_type": "stream",
          "text": [
            "\r 47%|████▋     | 236/500 [2:11:10<2:23:29, 32.61s/it]"
          ]
        },
        {
          "name": "stdout",
          "output_type": "stream",
          "text": [
            "Test Accuracy:0.7615625\n",
            "Training Accuracy:0.78779296875\n",
            "Loss:0.47279107570648193\n"
          ]
        },
        {
          "name": "stderr",
          "output_type": "stream",
          "text": [
            "\r 47%|████▋     | 237/500 [2:11:43<2:22:35, 32.53s/it]"
          ]
        },
        {
          "name": "stdout",
          "output_type": "stream",
          "text": [
            "Test Accuracy:0.7546875\n",
            "Training Accuracy:0.78868515625\n",
            "Loss:0.4436657130718231\n"
          ]
        },
        {
          "name": "stderr",
          "output_type": "stream",
          "text": [
            "\r 48%|████▊     | 238/500 [2:12:16<2:22:29, 32.63s/it]"
          ]
        },
        {
          "name": "stdout",
          "output_type": "stream",
          "text": [
            "Test Accuracy:0.7653125\n",
            "Training Accuracy:0.78928828125\n",
            "Loss:0.48150840401649475\n"
          ]
        },
        {
          "name": "stderr",
          "output_type": "stream",
          "text": [
            "\r 48%|████▊     | 239/500 [2:12:49<2:23:18, 32.95s/it]"
          ]
        },
        {
          "name": "stdout",
          "output_type": "stream",
          "text": [
            "Test Accuracy:0.7609375\n",
            "Training Accuracy:0.78864453125\n",
            "Loss:0.4500371515750885\n"
          ]
        },
        {
          "name": "stderr",
          "output_type": "stream",
          "text": [
            "\r 48%|████▊     | 240/500 [2:13:24<2:24:52, 33.43s/it]"
          ]
        },
        {
          "name": "stdout",
          "output_type": "stream",
          "text": [
            "Test Accuracy:0.76375\n",
            "Training Accuracy:0.7896515625\n",
            "Loss:0.4518713355064392\n"
          ]
        },
        {
          "name": "stderr",
          "output_type": "stream",
          "text": [
            "\r 48%|████▊     | 241/500 [2:13:58<2:24:50, 33.55s/it]"
          ]
        },
        {
          "name": "stdout",
          "output_type": "stream",
          "text": [
            "Test Accuracy:0.7684375\n",
            "Training Accuracy:0.789846875\n",
            "Loss:0.5042988061904907\n"
          ]
        },
        {
          "name": "stderr",
          "output_type": "stream",
          "text": [
            "\r 48%|████▊     | 242/500 [2:14:32<2:25:19, 33.80s/it]"
          ]
        },
        {
          "name": "stdout",
          "output_type": "stream",
          "text": [
            "Test Accuracy:0.764375\n",
            "Training Accuracy:0.79220546875\n",
            "Loss:0.47409507632255554\n"
          ]
        },
        {
          "name": "stderr",
          "output_type": "stream",
          "text": [
            "\r 49%|████▊     | 243/500 [2:15:07<2:25:55, 34.07s/it]"
          ]
        },
        {
          "name": "stdout",
          "output_type": "stream",
          "text": [
            "Test Accuracy:0.76625\n",
            "Training Accuracy:0.79116484375\n",
            "Loss:0.7004147171974182\n"
          ]
        },
        {
          "name": "stderr",
          "output_type": "stream",
          "text": [
            "\r 49%|████▉     | 244/500 [2:15:40<2:24:45, 33.93s/it]"
          ]
        },
        {
          "name": "stdout",
          "output_type": "stream",
          "text": [
            "Test Accuracy:0.74\n",
            "Training Accuracy:0.7925828125\n",
            "Loss:0.7132687568664551\n"
          ]
        },
        {
          "name": "stderr",
          "output_type": "stream",
          "text": [
            "\r 49%|████▉     | 245/500 [2:16:17<2:27:05, 34.61s/it]"
          ]
        },
        {
          "name": "stdout",
          "output_type": "stream",
          "text": [
            "Test Accuracy:0.7309375\n",
            "Training Accuracy:0.79120078125\n",
            "Loss:0.4433649182319641\n"
          ]
        },
        {
          "name": "stderr",
          "output_type": "stream",
          "text": [
            "\r 49%|████▉     | 246/500 [2:16:51<2:26:26, 34.59s/it]"
          ]
        },
        {
          "name": "stdout",
          "output_type": "stream",
          "text": [
            "Test Accuracy:0.7625\n",
            "Training Accuracy:0.79293828125\n",
            "Loss:0.4785242974758148\n"
          ]
        },
        {
          "name": "stderr",
          "output_type": "stream",
          "text": [
            "\r 49%|████▉     | 247/500 [2:17:25<2:25:22, 34.47s/it]"
          ]
        },
        {
          "name": "stdout",
          "output_type": "stream",
          "text": [
            "Test Accuracy:0.76\n",
            "Training Accuracy:0.79415703125\n",
            "Loss:0.5431751012802124\n"
          ]
        },
        {
          "name": "stderr",
          "output_type": "stream",
          "text": [
            "\r 50%|████▉     | 248/500 [2:17:58<2:22:43, 33.98s/it]"
          ]
        },
        {
          "name": "stdout",
          "output_type": "stream",
          "text": [
            "Test Accuracy:0.765625\n",
            "Training Accuracy:0.79640703125\n",
            "Loss:0.48247528076171875\n"
          ]
        },
        {
          "name": "stderr",
          "output_type": "stream",
          "text": [
            "\r 50%|████▉     | 249/500 [2:18:33<2:23:22, 34.27s/it]"
          ]
        },
        {
          "name": "stdout",
          "output_type": "stream",
          "text": [
            "Test Accuracy:0.7665625\n",
            "Training Accuracy:0.79589921875\n",
            "Loss:0.4286823272705078\n"
          ]
        },
        {
          "name": "stderr",
          "output_type": "stream",
          "text": [
            "\r 50%|█████     | 250/500 [2:19:08<2:24:08, 34.59s/it]"
          ]
        },
        {
          "name": "stdout",
          "output_type": "stream",
          "text": [
            "Test Accuracy:0.7725\n",
            "Training Accuracy:0.7957625\n",
            "Loss:0.4456044137477875\n"
          ]
        },
        {
          "name": "stderr",
          "output_type": "stream",
          "text": [
            "\r 50%|█████     | 251/500 [2:19:42<2:22:30, 34.34s/it]"
          ]
        },
        {
          "name": "stdout",
          "output_type": "stream",
          "text": [
            "Test Accuracy:0.7715625\n",
            "Training Accuracy:0.79962578125\n",
            "Loss:0.463683158159256\n"
          ]
        },
        {
          "name": "stderr",
          "output_type": "stream",
          "text": [
            "\r 50%|█████     | 252/500 [2:20:16<2:21:16, 34.18s/it]"
          ]
        },
        {
          "name": "stdout",
          "output_type": "stream",
          "text": [
            "Test Accuracy:0.7728125\n",
            "Training Accuracy:0.79747421875\n",
            "Loss:0.4936356544494629\n"
          ]
        },
        {
          "name": "stderr",
          "output_type": "stream",
          "text": [
            "\r 51%|█████     | 253/500 [2:20:51<2:21:28, 34.36s/it]"
          ]
        },
        {
          "name": "stdout",
          "output_type": "stream",
          "text": [
            "Test Accuracy:0.7696875\n",
            "Training Accuracy:0.7987046875\n",
            "Loss:0.4668719172477722\n"
          ]
        },
        {
          "name": "stderr",
          "output_type": "stream",
          "text": [
            "\r 51%|█████     | 254/500 [2:21:26<2:22:16, 34.70s/it]"
          ]
        },
        {
          "name": "stdout",
          "output_type": "stream",
          "text": [
            "Test Accuracy:0.766875\n",
            "Training Accuracy:0.798590625\n",
            "Loss:0.44352012872695923\n"
          ]
        },
        {
          "name": "stderr",
          "output_type": "stream",
          "text": [
            "\r 51%|█████     | 255/500 [2:22:02<2:22:27, 34.89s/it]"
          ]
        },
        {
          "name": "stdout",
          "output_type": "stream",
          "text": [
            "Test Accuracy:0.7725\n",
            "Training Accuracy:0.80020625\n",
            "Loss:0.47156983613967896\n"
          ]
        },
        {
          "name": "stderr",
          "output_type": "stream",
          "text": [
            "\r 51%|█████     | 256/500 [2:22:37<2:21:51, 34.88s/it]"
          ]
        },
        {
          "name": "stdout",
          "output_type": "stream",
          "text": [
            "Test Accuracy:0.7703125\n",
            "Training Accuracy:0.8008\n",
            "Loss:0.5140939950942993\n"
          ]
        },
        {
          "name": "stderr",
          "output_type": "stream",
          "text": [
            "\r 51%|█████▏    | 257/500 [2:23:11<2:21:22, 34.91s/it]"
          ]
        },
        {
          "name": "stdout",
          "output_type": "stream",
          "text": [
            "Test Accuracy:0.761875\n",
            "Training Accuracy:0.801053125\n",
            "Loss:0.4317837357521057\n"
          ]
        },
        {
          "name": "stderr",
          "output_type": "stream",
          "text": [
            "\r 52%|█████▏    | 258/500 [2:23:47<2:21:01, 34.97s/it]"
          ]
        },
        {
          "name": "stdout",
          "output_type": "stream",
          "text": [
            "Test Accuracy:0.773125\n",
            "Training Accuracy:0.80201015625\n",
            "Loss:0.4439272880554199\n"
          ]
        },
        {
          "name": "stderr",
          "output_type": "stream",
          "text": [
            "\r 52%|█████▏    | 259/500 [2:24:21<2:19:39, 34.77s/it]"
          ]
        },
        {
          "name": "stdout",
          "output_type": "stream",
          "text": [
            "Test Accuracy:0.7734375\n",
            "Training Accuracy:0.8018296875\n",
            "Loss:0.4479127526283264\n"
          ]
        },
        {
          "name": "stderr",
          "output_type": "stream",
          "text": [
            "\r 52%|█████▏    | 260/500 [2:24:55<2:18:28, 34.62s/it]"
          ]
        },
        {
          "name": "stdout",
          "output_type": "stream",
          "text": [
            "Test Accuracy:0.7715625\n",
            "Training Accuracy:0.80115625\n",
            "Loss:0.4244209825992584\n"
          ]
        },
        {
          "name": "stderr",
          "output_type": "stream",
          "text": [
            "\r 52%|█████▏    | 261/500 [2:25:30<2:18:34, 34.79s/it]"
          ]
        },
        {
          "name": "stdout",
          "output_type": "stream",
          "text": [
            "Test Accuracy:0.7753125\n",
            "Training Accuracy:0.80212578125\n",
            "Loss:0.40837424993515015\n"
          ]
        },
        {
          "name": "stderr",
          "output_type": "stream",
          "text": [
            "\r 52%|█████▏    | 262/500 [2:26:06<2:18:30, 34.92s/it]"
          ]
        },
        {
          "name": "stdout",
          "output_type": "stream",
          "text": [
            "Test Accuracy:0.7796875\n",
            "Training Accuracy:0.80378203125\n",
            "Loss:0.46471938490867615\n"
          ]
        },
        {
          "name": "stderr",
          "output_type": "stream",
          "text": [
            "\r 53%|█████▎    | 263/500 [2:26:40<2:17:02, 34.69s/it]"
          ]
        },
        {
          "name": "stdout",
          "output_type": "stream",
          "text": [
            "Test Accuracy:0.7721875\n",
            "Training Accuracy:0.803315625\n",
            "Loss:0.49113452434539795\n"
          ]
        },
        {
          "name": "stderr",
          "output_type": "stream",
          "text": [
            "\r 53%|█████▎    | 264/500 [2:27:14<2:16:31, 34.71s/it]"
          ]
        },
        {
          "name": "stdout",
          "output_type": "stream",
          "text": [
            "Test Accuracy:0.7696875\n",
            "Training Accuracy:0.80272734375\n",
            "Loss:0.4152129292488098\n"
          ]
        },
        {
          "name": "stderr",
          "output_type": "stream",
          "text": [
            "\r 53%|█████▎    | 265/500 [2:27:48<2:14:16, 34.28s/it]"
          ]
        },
        {
          "name": "stdout",
          "output_type": "stream",
          "text": [
            "Test Accuracy:0.774375\n",
            "Training Accuracy:0.8033578125\n",
            "Loss:0.4226180613040924\n"
          ]
        },
        {
          "name": "stderr",
          "output_type": "stream",
          "text": [
            "\r 53%|█████▎    | 266/500 [2:28:21<2:11:57, 33.84s/it]"
          ]
        },
        {
          "name": "stdout",
          "output_type": "stream",
          "text": [
            "Test Accuracy:0.778125\n",
            "Training Accuracy:0.80286484375\n",
            "Loss:0.38579121232032776\n"
          ]
        },
        {
          "name": "stderr",
          "output_type": "stream",
          "text": [
            "\r 53%|█████▎    | 267/500 [2:28:55<2:11:33, 33.88s/it]"
          ]
        },
        {
          "name": "stdout",
          "output_type": "stream",
          "text": [
            "Test Accuracy:0.7765625\n",
            "Training Accuracy:0.80529375\n",
            "Loss:0.4135971963405609\n"
          ]
        },
        {
          "name": "stderr",
          "output_type": "stream",
          "text": [
            "\r 54%|█████▎    | 268/500 [2:29:28<2:10:36, 33.78s/it]"
          ]
        },
        {
          "name": "stdout",
          "output_type": "stream",
          "text": [
            "Test Accuracy:0.7759375\n",
            "Training Accuracy:0.804253125\n",
            "Loss:0.42550697922706604\n"
          ]
        },
        {
          "name": "stderr",
          "output_type": "stream",
          "text": [
            "\r 54%|█████▍    | 269/500 [2:30:01<2:09:22, 33.60s/it]"
          ]
        },
        {
          "name": "stdout",
          "output_type": "stream",
          "text": [
            "Test Accuracy:0.7803125\n",
            "Training Accuracy:0.80637265625\n",
            "Loss:0.43459296226501465\n"
          ]
        },
        {
          "name": "stderr",
          "output_type": "stream",
          "text": [
            "\r 54%|█████▍    | 270/500 [2:30:35<2:09:08, 33.69s/it]"
          ]
        },
        {
          "name": "stdout",
          "output_type": "stream",
          "text": [
            "Test Accuracy:0.7796875\n",
            "Training Accuracy:0.8054375\n",
            "Loss:0.40871137380599976\n"
          ]
        },
        {
          "name": "stderr",
          "output_type": "stream",
          "text": [
            "\r 54%|█████▍    | 271/500 [2:31:08<2:08:03, 33.55s/it]"
          ]
        },
        {
          "name": "stdout",
          "output_type": "stream",
          "text": [
            "Test Accuracy:0.7740625\n",
            "Training Accuracy:0.80431796875\n",
            "Loss:0.41117963194847107\n"
          ]
        },
        {
          "name": "stderr",
          "output_type": "stream",
          "text": [
            "\r 54%|█████▍    | 272/500 [2:31:41<2:06:48, 33.37s/it]"
          ]
        },
        {
          "name": "stdout",
          "output_type": "stream",
          "text": [
            "Test Accuracy:0.78125\n",
            "Training Accuracy:0.8061453125\n",
            "Loss:0.6483457088470459\n"
          ]
        },
        {
          "name": "stderr",
          "output_type": "stream",
          "text": [
            "\r 55%|█████▍    | 273/500 [2:32:14<2:05:25, 33.15s/it]"
          ]
        },
        {
          "name": "stdout",
          "output_type": "stream",
          "text": [
            "Test Accuracy:0.7653125\n",
            "Training Accuracy:0.806721875\n",
            "Loss:0.43107134103775024\n"
          ]
        },
        {
          "name": "stderr",
          "output_type": "stream",
          "text": [
            "\r 55%|█████▍    | 274/500 [2:32:48<2:05:45, 33.39s/it]"
          ]
        },
        {
          "name": "stdout",
          "output_type": "stream",
          "text": [
            "Test Accuracy:0.7765625\n",
            "Training Accuracy:0.8058578125\n",
            "Loss:0.45117104053497314\n"
          ]
        },
        {
          "name": "stderr",
          "output_type": "stream",
          "text": [
            "\r 55%|█████▌    | 275/500 [2:33:22<2:06:22, 33.70s/it]"
          ]
        },
        {
          "name": "stdout",
          "output_type": "stream",
          "text": [
            "Test Accuracy:0.784375\n",
            "Training Accuracy:0.80538203125\n",
            "Loss:0.44919121265411377\n"
          ]
        },
        {
          "name": "stderr",
          "output_type": "stream",
          "text": [
            "\r 55%|█████▌    | 276/500 [2:33:57<2:06:39, 33.93s/it]"
          ]
        },
        {
          "name": "stdout",
          "output_type": "stream",
          "text": [
            "Test Accuracy:0.7771875\n",
            "Training Accuracy:0.80572578125\n",
            "Loss:0.42521655559539795\n"
          ]
        },
        {
          "name": "stderr",
          "output_type": "stream",
          "text": [
            "\r 55%|█████▌    | 277/500 [2:34:31<2:06:28, 34.03s/it]"
          ]
        },
        {
          "name": "stdout",
          "output_type": "stream",
          "text": [
            "Test Accuracy:0.7803125\n",
            "Training Accuracy:0.80834453125\n",
            "Loss:0.39665549993515015\n"
          ]
        },
        {
          "name": "stderr",
          "output_type": "stream",
          "text": [
            "\r 56%|█████▌    | 278/500 [2:35:05<2:05:23, 33.89s/it]"
          ]
        },
        {
          "name": "stdout",
          "output_type": "stream",
          "text": [
            "Test Accuracy:0.778125\n",
            "Training Accuracy:0.80593125\n",
            "Loss:0.4037606716156006\n"
          ]
        },
        {
          "name": "stderr",
          "output_type": "stream",
          "text": [
            "\r 56%|█████▌    | 279/500 [2:35:38<2:04:09, 33.71s/it]"
          ]
        },
        {
          "name": "stdout",
          "output_type": "stream",
          "text": [
            "Test Accuracy:0.7753125\n",
            "Training Accuracy:0.80732421875\n",
            "Loss:0.3843272626399994\n"
          ]
        },
        {
          "name": "stderr",
          "output_type": "stream",
          "text": [
            "\r 56%|█████▌    | 280/500 [2:36:12<2:03:59, 33.82s/it]"
          ]
        },
        {
          "name": "stdout",
          "output_type": "stream",
          "text": [
            "Test Accuracy:0.785\n",
            "Training Accuracy:0.80798359375\n",
            "Loss:0.4040887951850891\n"
          ]
        },
        {
          "name": "stderr",
          "output_type": "stream",
          "text": [
            "\r 56%|█████▌    | 281/500 [2:36:46<2:03:37, 33.87s/it]"
          ]
        },
        {
          "name": "stdout",
          "output_type": "stream",
          "text": [
            "Test Accuracy:0.7765625\n",
            "Training Accuracy:0.80720625\n",
            "Loss:0.40439432859420776\n"
          ]
        },
        {
          "name": "stderr",
          "output_type": "stream",
          "text": [
            "\r 56%|█████▋    | 282/500 [2:37:19<2:02:20, 33.67s/it]"
          ]
        },
        {
          "name": "stdout",
          "output_type": "stream",
          "text": [
            "Test Accuracy:0.7790625\n",
            "Training Accuracy:0.80683046875\n",
            "Loss:0.371425598859787\n"
          ]
        },
        {
          "name": "stderr",
          "output_type": "stream",
          "text": [
            "\r 57%|█████▋    | 283/500 [2:37:53<2:01:34, 33.61s/it]"
          ]
        },
        {
          "name": "stdout",
          "output_type": "stream",
          "text": [
            "Test Accuracy:0.785\n",
            "Training Accuracy:0.8075234375\n",
            "Loss:0.3976704180240631\n"
          ]
        },
        {
          "name": "stderr",
          "output_type": "stream",
          "text": [
            "\r 57%|█████▋    | 284/500 [2:38:26<2:01:14, 33.68s/it]"
          ]
        },
        {
          "name": "stdout",
          "output_type": "stream",
          "text": [
            "Test Accuracy:0.7790625\n",
            "Training Accuracy:0.80785546875\n",
            "Loss:0.38934922218322754\n"
          ]
        },
        {
          "name": "stderr",
          "output_type": "stream",
          "text": [
            "\r 57%|█████▋    | 285/500 [2:38:59<1:59:49, 33.44s/it]"
          ]
        },
        {
          "name": "stdout",
          "output_type": "stream",
          "text": [
            "Test Accuracy:0.7778125\n",
            "Training Accuracy:0.80894140625\n",
            "Loss:0.4074684679508209\n"
          ]
        },
        {
          "name": "stderr",
          "output_type": "stream",
          "text": [
            "\r 57%|█████▋    | 286/500 [2:39:33<1:58:55, 33.35s/it]"
          ]
        },
        {
          "name": "stdout",
          "output_type": "stream",
          "text": [
            "Test Accuracy:0.7728125\n",
            "Training Accuracy:0.80751015625\n",
            "Loss:0.3669288754463196\n"
          ]
        },
        {
          "name": "stderr",
          "output_type": "stream",
          "text": [
            "\r 57%|█████▋    | 287/500 [2:40:05<1:57:40, 33.15s/it]"
          ]
        },
        {
          "name": "stdout",
          "output_type": "stream",
          "text": [
            "Test Accuracy:0.778125\n",
            "Training Accuracy:0.806740625\n",
            "Loss:0.44772136211395264\n"
          ]
        },
        {
          "name": "stderr",
          "output_type": "stream",
          "text": [
            "\r 58%|█████▊    | 288/500 [2:40:38<1:56:36, 33.00s/it]"
          ]
        },
        {
          "name": "stdout",
          "output_type": "stream",
          "text": [
            "Test Accuracy:0.77625\n",
            "Training Accuracy:0.8079765625\n",
            "Loss:0.43176165223121643\n"
          ]
        },
        {
          "name": "stderr",
          "output_type": "stream",
          "text": [
            "\r 58%|█████▊    | 289/500 [2:41:11<1:56:09, 33.03s/it]"
          ]
        },
        {
          "name": "stdout",
          "output_type": "stream",
          "text": [
            "Test Accuracy:0.769375\n",
            "Training Accuracy:0.810015625\n",
            "Loss:0.4118189811706543\n"
          ]
        },
        {
          "name": "stderr",
          "output_type": "stream",
          "text": [
            "\r 58%|█████▊    | 290/500 [2:41:45<1:56:55, 33.41s/it]"
          ]
        },
        {
          "name": "stdout",
          "output_type": "stream",
          "text": [
            "Test Accuracy:0.7753125\n",
            "Training Accuracy:0.80920390625\n",
            "Loss:0.40406152606010437\n"
          ]
        },
        {
          "name": "stderr",
          "output_type": "stream",
          "text": [
            "\r 58%|█████▊    | 291/500 [2:42:20<1:57:34, 33.75s/it]"
          ]
        },
        {
          "name": "stdout",
          "output_type": "stream",
          "text": [
            "Test Accuracy:0.773125\n",
            "Training Accuracy:0.8086984375\n",
            "Loss:0.39306989312171936\n"
          ]
        },
        {
          "name": "stderr",
          "output_type": "stream",
          "text": [
            "\r 58%|█████▊    | 292/500 [2:42:52<1:55:54, 33.44s/it]"
          ]
        },
        {
          "name": "stdout",
          "output_type": "stream",
          "text": [
            "Test Accuracy:0.7809375\n",
            "Training Accuracy:0.81021953125\n",
            "Loss:0.5055157542228699\n"
          ]
        },
        {
          "name": "stderr",
          "output_type": "stream",
          "text": [
            "\r 59%|█████▊    | 293/500 [2:43:26<1:54:59, 33.33s/it]"
          ]
        },
        {
          "name": "stdout",
          "output_type": "stream",
          "text": [
            "Test Accuracy:0.7571875\n",
            "Training Accuracy:0.80903671875\n",
            "Loss:0.40381133556365967\n"
          ]
        },
        {
          "name": "stderr",
          "output_type": "stream",
          "text": [
            "\r 59%|█████▉    | 294/500 [2:43:59<1:54:16, 33.28s/it]"
          ]
        },
        {
          "name": "stdout",
          "output_type": "stream",
          "text": [
            "Test Accuracy:0.775625\n",
            "Training Accuracy:0.80943671875\n",
            "Loss:0.4277966320514679\n"
          ]
        },
        {
          "name": "stderr",
          "output_type": "stream",
          "text": [
            "\r 59%|█████▉    | 295/500 [2:44:31<1:52:38, 32.97s/it]"
          ]
        },
        {
          "name": "stdout",
          "output_type": "stream",
          "text": [
            "Test Accuracy:0.778125\n",
            "Training Accuracy:0.80787890625\n",
            "Loss:0.5669209957122803\n"
          ]
        },
        {
          "name": "stderr",
          "output_type": "stream",
          "text": [
            "\r 59%|█████▉    | 296/500 [2:45:04<1:52:06, 32.97s/it]"
          ]
        },
        {
          "name": "stdout",
          "output_type": "stream",
          "text": [
            "Test Accuracy:0.7384375\n",
            "Training Accuracy:0.81033828125\n",
            "Loss:0.4233510494232178\n"
          ]
        },
        {
          "name": "stderr",
          "output_type": "stream",
          "text": [
            "\r 59%|█████▉    | 297/500 [2:45:37<1:51:29, 32.95s/it]"
          ]
        },
        {
          "name": "stdout",
          "output_type": "stream",
          "text": [
            "Test Accuracy:0.7790625\n",
            "Training Accuracy:0.8091546875\n",
            "Loss:0.41290727257728577\n"
          ]
        },
        {
          "name": "stderr",
          "output_type": "stream",
          "text": [
            "\r 60%|█████▉    | 298/500 [2:46:10<1:51:04, 32.99s/it]"
          ]
        },
        {
          "name": "stdout",
          "output_type": "stream",
          "text": [
            "Test Accuracy:0.7771875\n",
            "Training Accuracy:0.8086625\n",
            "Loss:0.41716668009757996\n"
          ]
        },
        {
          "name": "stderr",
          "output_type": "stream",
          "text": [
            "\r 60%|█████▉    | 299/500 [2:46:43<1:50:43, 33.05s/it]"
          ]
        },
        {
          "name": "stdout",
          "output_type": "stream",
          "text": [
            "Test Accuracy:0.7796875\n",
            "Training Accuracy:0.8101921875\n",
            "Loss:0.39006149768829346\n"
          ]
        },
        {
          "name": "stderr",
          "output_type": "stream",
          "text": [
            "\r 60%|██████    | 300/500 [2:47:16<1:50:06, 33.03s/it]"
          ]
        },
        {
          "name": "stdout",
          "output_type": "stream",
          "text": [
            "Test Accuracy:0.78125\n",
            "Training Accuracy:0.80940546875\n",
            "Loss:0.3633729815483093\n"
          ]
        },
        {
          "name": "stderr",
          "output_type": "stream",
          "text": [
            "\r 60%|██████    | 301/500 [2:47:49<1:49:37, 33.05s/it]"
          ]
        },
        {
          "name": "stdout",
          "output_type": "stream",
          "text": [
            "Test Accuracy:0.7815625\n",
            "Training Accuracy:0.80878515625\n",
            "Loss:0.3961227238178253\n"
          ]
        },
        {
          "name": "stderr",
          "output_type": "stream",
          "text": [
            "\r 60%|██████    | 302/500 [2:48:22<1:48:18, 32.82s/it]"
          ]
        },
        {
          "name": "stdout",
          "output_type": "stream",
          "text": [
            "Test Accuracy:0.7796875\n",
            "Training Accuracy:0.80892109375\n",
            "Loss:0.4107140302658081\n"
          ]
        },
        {
          "name": "stderr",
          "output_type": "stream",
          "text": [
            "\r 61%|██████    | 303/500 [2:48:54<1:47:44, 32.82s/it]"
          ]
        },
        {
          "name": "stdout",
          "output_type": "stream",
          "text": [
            "Test Accuracy:0.778125\n",
            "Training Accuracy:0.81167265625\n",
            "Loss:0.40882670879364014\n"
          ]
        },
        {
          "name": "stderr",
          "output_type": "stream",
          "text": [
            "\r 61%|██████    | 304/500 [2:49:27<1:47:11, 32.81s/it]"
          ]
        },
        {
          "name": "stdout",
          "output_type": "stream",
          "text": [
            "Test Accuracy:0.7796875\n",
            "Training Accuracy:0.809590625\n",
            "Loss:0.4176366329193115\n"
          ]
        },
        {
          "name": "stderr",
          "output_type": "stream",
          "text": [
            "\r 61%|██████    | 305/500 [2:50:02<1:48:12, 33.29s/it]"
          ]
        },
        {
          "name": "stdout",
          "output_type": "stream",
          "text": [
            "Test Accuracy:0.78125\n",
            "Training Accuracy:0.8104453125\n",
            "Loss:0.350243479013443\n"
          ]
        },
        {
          "name": "stderr",
          "output_type": "stream",
          "text": [
            "\r 61%|██████    | 306/500 [2:50:36<1:48:37, 33.59s/it]"
          ]
        },
        {
          "name": "stdout",
          "output_type": "stream",
          "text": [
            "Test Accuracy:0.7821875\n",
            "Training Accuracy:0.809784375\n",
            "Loss:0.41857969760894775\n"
          ]
        },
        {
          "name": "stderr",
          "output_type": "stream",
          "text": [
            "\r 61%|██████▏   | 307/500 [2:51:09<1:47:39, 33.47s/it]"
          ]
        },
        {
          "name": "stdout",
          "output_type": "stream",
          "text": [
            "Test Accuracy:0.778125\n",
            "Training Accuracy:0.80962109375\n",
            "Loss:0.46340203285217285\n"
          ]
        },
        {
          "name": "stderr",
          "output_type": "stream",
          "text": [
            "\r 62%|██████▏   | 308/500 [2:51:43<1:47:14, 33.51s/it]"
          ]
        },
        {
          "name": "stdout",
          "output_type": "stream",
          "text": [
            "Test Accuracy:0.7653125\n",
            "Training Accuracy:0.8119453125\n",
            "Loss:0.42170068621635437\n"
          ]
        },
        {
          "name": "stderr",
          "output_type": "stream",
          "text": [
            "\r 62%|██████▏   | 309/500 [2:52:18<1:48:12, 33.99s/it]"
          ]
        },
        {
          "name": "stdout",
          "output_type": "stream",
          "text": [
            "Test Accuracy:0.778125\n",
            "Training Accuracy:0.80912109375\n",
            "Loss:0.38994500041007996\n"
          ]
        },
        {
          "name": "stderr",
          "output_type": "stream",
          "text": [
            "\r 62%|██████▏   | 310/500 [2:52:53<1:49:02, 34.43s/it]"
          ]
        },
        {
          "name": "stdout",
          "output_type": "stream",
          "text": [
            "Test Accuracy:0.7784375\n",
            "Training Accuracy:0.8112390625\n",
            "Loss:0.37010252475738525\n"
          ]
        },
        {
          "name": "stderr",
          "output_type": "stream",
          "text": [
            "\r 62%|██████▏   | 311/500 [2:53:28<1:48:54, 34.57s/it]"
          ]
        },
        {
          "name": "stdout",
          "output_type": "stream",
          "text": [
            "Test Accuracy:0.78\n",
            "Training Accuracy:0.8088734375\n",
            "Loss:0.41024622321128845\n"
          ]
        },
        {
          "name": "stderr",
          "output_type": "stream",
          "text": [
            "\r 62%|██████▏   | 312/500 [2:54:01<1:46:52, 34.11s/it]"
          ]
        },
        {
          "name": "stdout",
          "output_type": "stream",
          "text": [
            "Test Accuracy:0.7828125\n",
            "Training Accuracy:0.80993125\n",
            "Loss:0.7731238007545471\n"
          ]
        },
        {
          "name": "stderr",
          "output_type": "stream",
          "text": [
            "\r 63%|██████▎   | 313/500 [2:54:35<1:46:02, 34.02s/it]"
          ]
        },
        {
          "name": "stdout",
          "output_type": "stream",
          "text": [
            "Test Accuracy:0.7340625\n",
            "Training Accuracy:0.8132484375\n",
            "Loss:0.4124529957771301\n"
          ]
        },
        {
          "name": "stderr",
          "output_type": "stream",
          "text": [
            "\r 63%|██████▎   | 314/500 [2:55:08<1:44:43, 33.78s/it]"
          ]
        },
        {
          "name": "stdout",
          "output_type": "stream",
          "text": [
            "Test Accuracy:0.7771875\n",
            "Training Accuracy:0.8104046875\n",
            "Loss:0.4565812945365906\n"
          ]
        },
        {
          "name": "stderr",
          "output_type": "stream",
          "text": [
            "\r 63%|██████▎   | 315/500 [2:55:42<1:44:08, 33.78s/it]"
          ]
        },
        {
          "name": "stdout",
          "output_type": "stream",
          "text": [
            "Test Accuracy:0.7709375\n",
            "Training Accuracy:0.8107546875\n",
            "Loss:0.4235433042049408\n"
          ]
        },
        {
          "name": "stderr",
          "output_type": "stream",
          "text": [
            "\r 63%|██████▎   | 316/500 [2:56:16<1:44:05, 33.95s/it]"
          ]
        },
        {
          "name": "stdout",
          "output_type": "stream",
          "text": [
            "Test Accuracy:0.7778125\n",
            "Training Accuracy:0.81076015625\n",
            "Loss:0.4167868196964264\n"
          ]
        },
        {
          "name": "stderr",
          "output_type": "stream",
          "text": [
            "\r 63%|██████▎   | 317/500 [2:56:50<1:43:20, 33.88s/it]"
          ]
        },
        {
          "name": "stdout",
          "output_type": "stream",
          "text": [
            "Test Accuracy:0.771875\n",
            "Training Accuracy:0.810034375\n",
            "Loss:0.3791184425354004\n"
          ]
        },
        {
          "name": "stderr",
          "output_type": "stream",
          "text": [
            "\r 64%|██████▎   | 318/500 [2:57:24<1:42:53, 33.92s/it]"
          ]
        },
        {
          "name": "stdout",
          "output_type": "stream",
          "text": [
            "Test Accuracy:0.7740625\n",
            "Training Accuracy:0.81045625\n",
            "Loss:0.39206159114837646\n"
          ]
        },
        {
          "name": "stderr",
          "output_type": "stream",
          "text": [
            "\r 64%|██████▍   | 319/500 [2:57:58<1:42:08, 33.86s/it]"
          ]
        },
        {
          "name": "stdout",
          "output_type": "stream",
          "text": [
            "Test Accuracy:0.7821875\n",
            "Training Accuracy:0.81169609375\n",
            "Loss:0.4266273081302643\n"
          ]
        },
        {
          "name": "stderr",
          "output_type": "stream",
          "text": [
            "\r 64%|██████▍   | 320/500 [2:58:31<1:41:24, 33.80s/it]"
          ]
        },
        {
          "name": "stdout",
          "output_type": "stream",
          "text": [
            "Test Accuracy:0.7765625\n",
            "Training Accuracy:0.8104390625\n",
            "Loss:0.4090960919857025\n"
          ]
        },
        {
          "name": "stderr",
          "output_type": "stream",
          "text": [
            "\r 64%|██████▍   | 321/500 [2:59:06<1:41:24, 33.99s/it]"
          ]
        },
        {
          "name": "stdout",
          "output_type": "stream",
          "text": [
            "Test Accuracy:0.7778125\n",
            "Training Accuracy:0.81077421875\n",
            "Loss:0.3824138045310974\n"
          ]
        },
        {
          "name": "stderr",
          "output_type": "stream",
          "text": [
            "\r 64%|██████▍   | 322/500 [2:59:40<1:40:36, 33.91s/it]"
          ]
        },
        {
          "name": "stdout",
          "output_type": "stream",
          "text": [
            "Test Accuracy:0.774375\n",
            "Training Accuracy:0.8089171875\n",
            "Loss:0.391452431678772\n"
          ]
        },
        {
          "name": "stderr",
          "output_type": "stream",
          "text": [
            "\r 65%|██████▍   | 323/500 [3:00:14<1:40:25, 34.04s/it]"
          ]
        },
        {
          "name": "stdout",
          "output_type": "stream",
          "text": [
            "Test Accuracy:0.783125\n",
            "Training Accuracy:0.81203984375\n",
            "Loss:0.4362807273864746\n"
          ]
        },
        {
          "name": "stderr",
          "output_type": "stream",
          "text": [
            "\r 65%|██████▍   | 324/500 [3:00:48<1:40:13, 34.17s/it]"
          ]
        },
        {
          "name": "stdout",
          "output_type": "stream",
          "text": [
            "Test Accuracy:0.7834375\n",
            "Training Accuracy:0.811259375\n",
            "Loss:0.4408728778362274\n"
          ]
        },
        {
          "name": "stderr",
          "output_type": "stream",
          "text": [
            "\r 65%|██████▌   | 325/500 [3:01:23<1:40:19, 34.40s/it]"
          ]
        },
        {
          "name": "stdout",
          "output_type": "stream",
          "text": [
            "Test Accuracy:0.7834375\n",
            "Training Accuracy:0.81640625\n",
            "Loss:0.42010003328323364\n"
          ]
        },
        {
          "name": "stderr",
          "output_type": "stream",
          "text": [
            "\r 65%|██████▌   | 326/500 [3:01:57<1:39:11, 34.20s/it]"
          ]
        },
        {
          "name": "stdout",
          "output_type": "stream",
          "text": [
            "Test Accuracy:0.78\n",
            "Training Accuracy:0.81566640625\n",
            "Loss:0.43696799874305725\n"
          ]
        },
        {
          "name": "stderr",
          "output_type": "stream",
          "text": [
            "\r 65%|██████▌   | 327/500 [3:02:32<1:38:50, 34.28s/it]"
          ]
        },
        {
          "name": "stdout",
          "output_type": "stream",
          "text": [
            "Test Accuracy:0.783125\n",
            "Training Accuracy:0.81438046875\n",
            "Loss:0.3769835829734802\n"
          ]
        },
        {
          "name": "stderr",
          "output_type": "stream",
          "text": [
            "\r 66%|██████▌   | 328/500 [3:03:06<1:38:03, 34.21s/it]"
          ]
        },
        {
          "name": "stdout",
          "output_type": "stream",
          "text": [
            "Test Accuracy:0.78125\n",
            "Training Accuracy:0.815571875\n",
            "Loss:0.415584921836853\n"
          ]
        },
        {
          "name": "stderr",
          "output_type": "stream",
          "text": [
            "\r 66%|██████▌   | 329/500 [3:03:38<1:36:08, 33.74s/it]"
          ]
        },
        {
          "name": "stdout",
          "output_type": "stream",
          "text": [
            "Test Accuracy:0.76125\n",
            "Training Accuracy:0.81551015625\n",
            "Loss:0.43133115768432617\n"
          ]
        },
        {
          "name": "stderr",
          "output_type": "stream",
          "text": [
            "\r 66%|██████▌   | 330/500 [3:04:12<1:35:16, 33.63s/it]"
          ]
        },
        {
          "name": "stdout",
          "output_type": "stream",
          "text": [
            "Test Accuracy:0.78\n",
            "Training Accuracy:0.81532578125\n",
            "Loss:0.38736221194267273\n"
          ]
        },
        {
          "name": "stderr",
          "output_type": "stream",
          "text": [
            "\r 66%|██████▌   | 331/500 [3:04:44<1:33:58, 33.36s/it]"
          ]
        },
        {
          "name": "stdout",
          "output_type": "stream",
          "text": [
            "Test Accuracy:0.7784375\n",
            "Training Accuracy:0.81593203125\n",
            "Loss:0.3887927532196045\n"
          ]
        },
        {
          "name": "stderr",
          "output_type": "stream",
          "text": [
            "\r 66%|██████▋   | 332/500 [3:05:17<1:32:41, 33.11s/it]"
          ]
        },
        {
          "name": "stdout",
          "output_type": "stream",
          "text": [
            "Test Accuracy:0.7746875\n",
            "Training Accuracy:0.81528984375\n",
            "Loss:0.3990026116371155\n"
          ]
        },
        {
          "name": "stderr",
          "output_type": "stream",
          "text": [
            "\r 67%|██████▋   | 333/500 [3:05:49<1:31:44, 32.96s/it]"
          ]
        },
        {
          "name": "stdout",
          "output_type": "stream",
          "text": [
            "Test Accuracy:0.783125\n",
            "Training Accuracy:0.81605390625\n",
            "Loss:0.40357211232185364\n"
          ]
        },
        {
          "name": "stderr",
          "output_type": "stream",
          "text": [
            "\r 67%|██████▋   | 334/500 [3:06:22<1:30:29, 32.71s/it]"
          ]
        },
        {
          "name": "stdout",
          "output_type": "stream",
          "text": [
            "Test Accuracy:0.780625\n",
            "Training Accuracy:0.8155265625\n",
            "Loss:0.4286186993122101\n"
          ]
        },
        {
          "name": "stderr",
          "output_type": "stream",
          "text": [
            "\r 67%|██████▋   | 335/500 [3:06:54<1:29:53, 32.68s/it]"
          ]
        },
        {
          "name": "stdout",
          "output_type": "stream",
          "text": [
            "Test Accuracy:0.776875\n",
            "Training Accuracy:0.81611484375\n",
            "Loss:0.418767511844635\n"
          ]
        },
        {
          "name": "stderr",
          "output_type": "stream",
          "text": [
            "\r 67%|██████▋   | 336/500 [3:07:28<1:30:05, 32.96s/it]"
          ]
        },
        {
          "name": "stdout",
          "output_type": "stream",
          "text": [
            "Test Accuracy:0.78375\n",
            "Training Accuracy:0.81588515625\n",
            "Loss:0.39521467685699463\n"
          ]
        },
        {
          "name": "stderr",
          "output_type": "stream",
          "text": [
            "\r 67%|██████▋   | 337/500 [3:08:03<1:31:24, 33.65s/it]"
          ]
        },
        {
          "name": "stdout",
          "output_type": "stream",
          "text": [
            "Test Accuracy:0.781875\n",
            "Training Accuracy:0.81892578125\n",
            "Loss:0.37006720900535583\n"
          ]
        },
        {
          "name": "stderr",
          "output_type": "stream",
          "text": [
            "\r 68%|██████▊   | 338/500 [3:08:37<1:30:54, 33.67s/it]"
          ]
        },
        {
          "name": "stdout",
          "output_type": "stream",
          "text": [
            "Test Accuracy:0.7809375\n",
            "Training Accuracy:0.81809609375\n",
            "Loss:0.36617884039878845\n"
          ]
        },
        {
          "name": "stderr",
          "output_type": "stream",
          "text": [
            "\r 68%|██████▊   | 339/500 [3:09:10<1:30:07, 33.59s/it]"
          ]
        },
        {
          "name": "stdout",
          "output_type": "stream",
          "text": [
            "Test Accuracy:0.7796875\n",
            "Training Accuracy:0.81855078125\n",
            "Loss:0.3809937536716461\n"
          ]
        },
        {
          "name": "stderr",
          "output_type": "stream",
          "text": [
            "\r 68%|██████▊   | 340/500 [3:09:46<1:31:44, 34.40s/it]"
          ]
        },
        {
          "name": "stdout",
          "output_type": "stream",
          "text": [
            "Test Accuracy:0.78\n",
            "Training Accuracy:0.81838671875\n",
            "Loss:0.36083918809890747\n"
          ]
        },
        {
          "name": "stderr",
          "output_type": "stream",
          "text": [
            "\r 68%|██████▊   | 341/500 [3:10:21<1:31:18, 34.46s/it]"
          ]
        },
        {
          "name": "stdout",
          "output_type": "stream",
          "text": [
            "Test Accuracy:0.7821875\n",
            "Training Accuracy:0.81847734375\n",
            "Loss:0.40929698944091797\n"
          ]
        },
        {
          "name": "stderr",
          "output_type": "stream",
          "text": [
            "\r 68%|██████▊   | 342/500 [3:10:56<1:31:17, 34.67s/it]"
          ]
        },
        {
          "name": "stdout",
          "output_type": "stream",
          "text": [
            "Test Accuracy:0.7825\n",
            "Training Accuracy:0.81884140625\n",
            "Loss:0.3995930850505829\n"
          ]
        },
        {
          "name": "stderr",
          "output_type": "stream",
          "text": [
            "\r 69%|██████▊   | 343/500 [3:11:31<1:30:55, 34.75s/it]"
          ]
        },
        {
          "name": "stdout",
          "output_type": "stream",
          "text": [
            "Test Accuracy:0.7803125\n",
            "Training Accuracy:0.81838125\n",
            "Loss:0.39782142639160156\n"
          ]
        },
        {
          "name": "stderr",
          "output_type": "stream",
          "text": [
            "\r 69%|██████▉   | 344/500 [3:12:06<1:30:32, 34.82s/it]"
          ]
        },
        {
          "name": "stdout",
          "output_type": "stream",
          "text": [
            "Test Accuracy:0.7796875\n",
            "Training Accuracy:0.819134375\n",
            "Loss:0.424774706363678\n"
          ]
        },
        {
          "name": "stderr",
          "output_type": "stream",
          "text": [
            "\r 69%|██████▉   | 345/500 [3:12:41<1:30:01, 34.85s/it]"
          ]
        },
        {
          "name": "stdout",
          "output_type": "stream",
          "text": [
            "Test Accuracy:0.779375\n",
            "Training Accuracy:0.81892578125\n",
            "Loss:0.35993632674217224\n"
          ]
        },
        {
          "name": "stderr",
          "output_type": "stream",
          "text": [
            "\r 69%|██████▉   | 346/500 [3:13:16<1:29:38, 34.92s/it]"
          ]
        },
        {
          "name": "stdout",
          "output_type": "stream",
          "text": [
            "Test Accuracy:0.78625\n",
            "Training Accuracy:0.8194234375\n",
            "Loss:0.3661940097808838\n"
          ]
        },
        {
          "name": "stderr",
          "output_type": "stream",
          "text": [
            "\r 69%|██████▉   | 347/500 [3:13:50<1:28:23, 34.67s/it]"
          ]
        },
        {
          "name": "stdout",
          "output_type": "stream",
          "text": [
            "Test Accuracy:0.7878125\n",
            "Training Accuracy:0.819153125\n",
            "Loss:0.36898550391197205\n"
          ]
        },
        {
          "name": "stderr",
          "output_type": "stream",
          "text": [
            "\r 70%|██████▉   | 348/500 [3:14:24<1:27:21, 34.49s/it]"
          ]
        },
        {
          "name": "stdout",
          "output_type": "stream",
          "text": [
            "Test Accuracy:0.788125\n",
            "Training Accuracy:0.81979765625\n",
            "Loss:0.37810802459716797\n"
          ]
        },
        {
          "name": "stderr",
          "output_type": "stream",
          "text": [
            "\r 70%|██████▉   | 349/500 [3:14:57<1:25:48, 34.09s/it]"
          ]
        },
        {
          "name": "stdout",
          "output_type": "stream",
          "text": [
            "Test Accuracy:0.784375\n",
            "Training Accuracy:0.81929921875\n",
            "Loss:0.3583553433418274\n"
          ]
        },
        {
          "name": "stderr",
          "output_type": "stream",
          "text": [
            "\r 70%|███████   | 350/500 [3:15:31<1:24:28, 33.79s/it]"
          ]
        },
        {
          "name": "stdout",
          "output_type": "stream",
          "text": [
            "Test Accuracy:0.7865625\n",
            "Training Accuracy:0.81941171875\n",
            "Loss:0.3390103578567505\n"
          ]
        },
        {
          "name": "stderr",
          "output_type": "stream",
          "text": [
            "\r 70%|███████   | 351/500 [3:16:03<1:23:10, 33.49s/it]"
          ]
        },
        {
          "name": "stdout",
          "output_type": "stream",
          "text": [
            "Test Accuracy:0.7846875\n",
            "Training Accuracy:0.81988125\n",
            "Loss:0.36412128806114197\n"
          ]
        },
        {
          "name": "stderr",
          "output_type": "stream",
          "text": [
            "\r 70%|███████   | 352/500 [3:16:37<1:23:00, 33.65s/it]"
          ]
        },
        {
          "name": "stdout",
          "output_type": "stream",
          "text": [
            "Test Accuracy:0.785625\n",
            "Training Accuracy:0.81923125\n",
            "Loss:0.37305471301078796\n"
          ]
        },
        {
          "name": "stderr",
          "output_type": "stream",
          "text": [
            "\r 71%|███████   | 353/500 [3:17:11<1:22:23, 33.63s/it]"
          ]
        },
        {
          "name": "stdout",
          "output_type": "stream",
          "text": [
            "Test Accuracy:0.7853125\n",
            "Training Accuracy:0.82039453125\n",
            "Loss:0.37329480051994324\n"
          ]
        },
        {
          "name": "stderr",
          "output_type": "stream",
          "text": [
            "\r 71%|███████   | 354/500 [3:17:44<1:21:34, 33.53s/it]"
          ]
        },
        {
          "name": "stdout",
          "output_type": "stream",
          "text": [
            "Test Accuracy:0.78375\n",
            "Training Accuracy:0.81972265625\n",
            "Loss:0.3618223965167999\n"
          ]
        },
        {
          "name": "stderr",
          "output_type": "stream",
          "text": [
            "\r 71%|███████   | 355/500 [3:18:17<1:20:19, 33.23s/it]"
          ]
        },
        {
          "name": "stdout",
          "output_type": "stream",
          "text": [
            "Test Accuracy:0.78375\n",
            "Training Accuracy:0.82053515625\n",
            "Loss:0.3546868860721588\n"
          ]
        },
        {
          "name": "stderr",
          "output_type": "stream",
          "text": [
            "\r 71%|███████   | 356/500 [3:18:51<1:20:16, 33.45s/it]"
          ]
        },
        {
          "name": "stdout",
          "output_type": "stream",
          "text": [
            "Test Accuracy:0.7853125\n",
            "Training Accuracy:0.82015859375\n",
            "Loss:0.37760844826698303\n"
          ]
        },
        {
          "name": "stderr",
          "output_type": "stream",
          "text": [
            "\r 71%|███████▏  | 357/500 [3:19:24<1:19:26, 33.33s/it]"
          ]
        },
        {
          "name": "stdout",
          "output_type": "stream",
          "text": [
            "Test Accuracy:0.7803125\n",
            "Training Accuracy:0.82009375\n",
            "Loss:0.36657124757766724\n"
          ]
        },
        {
          "name": "stderr",
          "output_type": "stream",
          "text": [
            "\r 72%|███████▏  | 358/500 [3:19:57<1:18:56, 33.35s/it]"
          ]
        },
        {
          "name": "stdout",
          "output_type": "stream",
          "text": [
            "Test Accuracy:0.7821875\n",
            "Training Accuracy:0.82019765625\n",
            "Loss:0.3750733733177185\n"
          ]
        },
        {
          "name": "stderr",
          "output_type": "stream",
          "text": [
            "\r 72%|███████▏  | 359/500 [3:20:31<1:18:31, 33.42s/it]"
          ]
        },
        {
          "name": "stdout",
          "output_type": "stream",
          "text": [
            "Test Accuracy:0.785625\n",
            "Training Accuracy:0.82082109375\n",
            "Loss:0.391484797000885\n"
          ]
        },
        {
          "name": "stderr",
          "output_type": "stream",
          "text": [
            "\r 72%|███████▏  | 360/500 [3:21:04<1:17:44, 33.32s/it]"
          ]
        },
        {
          "name": "stdout",
          "output_type": "stream",
          "text": [
            "Test Accuracy:0.7828125\n",
            "Training Accuracy:0.820315625\n",
            "Loss:0.38095495104789734\n"
          ]
        },
        {
          "name": "stderr",
          "output_type": "stream",
          "text": [
            "\r 72%|███████▏  | 361/500 [3:21:37<1:17:20, 33.38s/it]"
          ]
        },
        {
          "name": "stdout",
          "output_type": "stream",
          "text": [
            "Test Accuracy:0.7828125\n",
            "Training Accuracy:0.8200265625\n",
            "Loss:0.3804355561733246\n"
          ]
        },
        {
          "name": "stderr",
          "output_type": "stream",
          "text": [
            "\r 72%|███████▏  | 362/500 [3:22:10<1:16:21, 33.20s/it]"
          ]
        },
        {
          "name": "stdout",
          "output_type": "stream",
          "text": [
            "Test Accuracy:0.7853125\n",
            "Training Accuracy:0.82064140625\n",
            "Loss:0.3328718841075897\n"
          ]
        },
        {
          "name": "stderr",
          "output_type": "stream",
          "text": [
            "\r 73%|███████▎  | 363/500 [3:22:43<1:15:37, 33.12s/it]"
          ]
        },
        {
          "name": "stdout",
          "output_type": "stream",
          "text": [
            "Test Accuracy:0.7865625\n",
            "Training Accuracy:0.82071796875\n",
            "Loss:0.35354679822921753\n"
          ]
        },
        {
          "name": "stderr",
          "output_type": "stream",
          "text": [
            "\r 73%|███████▎  | 364/500 [3:23:16<1:15:01, 33.10s/it]"
          ]
        },
        {
          "name": "stdout",
          "output_type": "stream",
          "text": [
            "Test Accuracy:0.785\n",
            "Training Accuracy:0.8206203125\n",
            "Loss:0.37000328302383423\n"
          ]
        },
        {
          "name": "stderr",
          "output_type": "stream",
          "text": [
            "\r 73%|███████▎  | 365/500 [3:23:49<1:14:23, 33.06s/it]"
          ]
        },
        {
          "name": "stdout",
          "output_type": "stream",
          "text": [
            "Test Accuracy:0.78625\n",
            "Training Accuracy:0.82022265625\n",
            "Loss:0.3527255654335022\n"
          ]
        },
        {
          "name": "stderr",
          "output_type": "stream",
          "text": [
            "\r 73%|███████▎  | 366/500 [3:24:23<1:14:08, 33.20s/it]"
          ]
        },
        {
          "name": "stdout",
          "output_type": "stream",
          "text": [
            "Test Accuracy:0.788125\n",
            "Training Accuracy:0.8210421875\n",
            "Loss:0.37820619344711304\n"
          ]
        },
        {
          "name": "stderr",
          "output_type": "stream",
          "text": [
            "\r 73%|███████▎  | 367/500 [3:24:56<1:13:33, 33.18s/it]"
          ]
        },
        {
          "name": "stdout",
          "output_type": "stream",
          "text": [
            "Test Accuracy:0.7875\n",
            "Training Accuracy:0.8207859375\n",
            "Loss:0.3578045964241028\n"
          ]
        },
        {
          "name": "stderr",
          "output_type": "stream",
          "text": [
            "\r 74%|███████▎  | 368/500 [3:25:29<1:13:10, 33.26s/it]"
          ]
        },
        {
          "name": "stdout",
          "output_type": "stream",
          "text": [
            "Test Accuracy:0.7834375\n",
            "Training Accuracy:0.82053828125\n",
            "Loss:0.3837660253047943\n"
          ]
        },
        {
          "name": "stderr",
          "output_type": "stream",
          "text": [
            "\r 74%|███████▍  | 369/500 [3:26:04<1:13:53, 33.85s/it]"
          ]
        },
        {
          "name": "stdout",
          "output_type": "stream",
          "text": [
            "Test Accuracy:0.7865625\n",
            "Training Accuracy:0.82151875\n",
            "Loss:0.39407533407211304\n"
          ]
        },
        {
          "name": "stderr",
          "output_type": "stream",
          "text": [
            "\r 74%|███████▍  | 370/500 [3:26:38<1:13:27, 33.91s/it]"
          ]
        },
        {
          "name": "stdout",
          "output_type": "stream",
          "text": [
            "Test Accuracy:0.78125\n",
            "Training Accuracy:0.82093671875\n",
            "Loss:0.3536304831504822\n"
          ]
        },
        {
          "name": "stderr",
          "output_type": "stream",
          "text": [
            "\r 74%|███████▍  | 371/500 [3:27:12<1:12:35, 33.76s/it]"
          ]
        },
        {
          "name": "stdout",
          "output_type": "stream",
          "text": [
            "Test Accuracy:0.7834375\n",
            "Training Accuracy:0.82081015625\n",
            "Loss:0.3761529326438904\n"
          ]
        },
        {
          "name": "stderr",
          "output_type": "stream",
          "text": [
            "\r 74%|███████▍  | 372/500 [3:27:46<1:12:24, 33.94s/it]"
          ]
        },
        {
          "name": "stdout",
          "output_type": "stream",
          "text": [
            "Test Accuracy:0.786875\n",
            "Training Accuracy:0.8213625\n",
            "Loss:0.3628283441066742\n"
          ]
        },
        {
          "name": "stderr",
          "output_type": "stream",
          "text": [
            "\r 75%|███████▍  | 373/500 [3:28:20<1:11:40, 33.86s/it]"
          ]
        },
        {
          "name": "stdout",
          "output_type": "stream",
          "text": [
            "Test Accuracy:0.780625\n",
            "Training Accuracy:0.82024296875\n",
            "Loss:0.3739091455936432\n"
          ]
        },
        {
          "name": "stderr",
          "output_type": "stream",
          "text": [
            "\r 75%|███████▍  | 374/500 [3:28:54<1:11:02, 33.83s/it]"
          ]
        },
        {
          "name": "stdout",
          "output_type": "stream",
          "text": [
            "Test Accuracy:0.785625\n",
            "Training Accuracy:0.82184140625\n",
            "Loss:0.3847423493862152\n"
          ]
        },
        {
          "name": "stderr",
          "output_type": "stream",
          "text": [
            "\r 75%|███████▌  | 375/500 [3:29:27<1:10:06, 33.65s/it]"
          ]
        },
        {
          "name": "stdout",
          "output_type": "stream",
          "text": [
            "Test Accuracy:0.78875\n",
            "Training Accuracy:0.82055390625\n",
            "Loss:0.4012749493122101\n"
          ]
        },
        {
          "name": "stderr",
          "output_type": "stream",
          "text": [
            "\r 75%|███████▌  | 376/500 [3:30:02<1:10:22, 34.05s/it]"
          ]
        },
        {
          "name": "stdout",
          "output_type": "stream",
          "text": [
            "Test Accuracy:0.7884375\n",
            "Training Accuracy:0.82174921875\n",
            "Loss:0.34932801127433777\n"
          ]
        },
        {
          "name": "stderr",
          "output_type": "stream",
          "text": [
            "\r 75%|███████▌  | 377/500 [3:30:35<1:09:06, 33.71s/it]"
          ]
        },
        {
          "name": "stdout",
          "output_type": "stream",
          "text": [
            "Test Accuracy:0.7825\n",
            "Training Accuracy:0.82097109375\n",
            "Loss:0.3527700901031494\n"
          ]
        },
        {
          "name": "stderr",
          "output_type": "stream",
          "text": [
            "\r 76%|███████▌  | 378/500 [3:31:08<1:08:18, 33.59s/it]"
          ]
        },
        {
          "name": "stdout",
          "output_type": "stream",
          "text": [
            "Test Accuracy:0.7853125\n",
            "Training Accuracy:0.82094140625\n",
            "Loss:0.3775515556335449\n"
          ]
        },
        {
          "name": "stderr",
          "output_type": "stream",
          "text": [
            "\r 76%|███████▌  | 379/500 [3:31:42<1:07:49, 33.63s/it]"
          ]
        },
        {
          "name": "stdout",
          "output_type": "stream",
          "text": [
            "Test Accuracy:0.7884375\n",
            "Training Accuracy:0.821140625\n",
            "Loss:0.3816501498222351\n"
          ]
        },
        {
          "name": "stderr",
          "output_type": "stream",
          "text": [
            "\r 76%|███████▌  | 380/500 [3:32:15<1:06:57, 33.48s/it]"
          ]
        },
        {
          "name": "stdout",
          "output_type": "stream",
          "text": [
            "Test Accuracy:0.786875\n",
            "Training Accuracy:0.8221625\n",
            "Loss:0.3649768531322479\n"
          ]
        },
        {
          "name": "stderr",
          "output_type": "stream",
          "text": [
            "\r 76%|███████▌  | 381/500 [3:32:48<1:06:21, 33.46s/it]"
          ]
        },
        {
          "name": "stdout",
          "output_type": "stream",
          "text": [
            "Test Accuracy:0.788125\n",
            "Training Accuracy:0.82105625\n",
            "Loss:0.3639262914657593\n"
          ]
        },
        {
          "name": "stderr",
          "output_type": "stream",
          "text": [
            "\r 76%|███████▋  | 382/500 [3:33:21<1:05:19, 33.21s/it]"
          ]
        },
        {
          "name": "stdout",
          "output_type": "stream",
          "text": [
            "Test Accuracy:0.788125\n",
            "Training Accuracy:0.82162890625\n",
            "Loss:0.36279404163360596\n"
          ]
        },
        {
          "name": "stderr",
          "output_type": "stream",
          "text": [
            "\r 77%|███████▋  | 383/500 [3:33:54<1:04:42, 33.18s/it]"
          ]
        },
        {
          "name": "stdout",
          "output_type": "stream",
          "text": [
            "Test Accuracy:0.78375\n",
            "Training Accuracy:0.82181328125\n",
            "Loss:0.35484543442726135\n"
          ]
        },
        {
          "name": "stderr",
          "output_type": "stream",
          "text": [
            "\r 77%|███████▋  | 384/500 [3:34:27<1:04:01, 33.12s/it]"
          ]
        },
        {
          "name": "stdout",
          "output_type": "stream",
          "text": [
            "Test Accuracy:0.781875\n",
            "Training Accuracy:0.82098984375\n",
            "Loss:0.3829268217086792\n"
          ]
        },
        {
          "name": "stderr",
          "output_type": "stream",
          "text": [
            "\r 77%|███████▋  | 385/500 [3:35:00<1:03:10, 32.96s/it]"
          ]
        },
        {
          "name": "stdout",
          "output_type": "stream",
          "text": [
            "Test Accuracy:0.78875\n",
            "Training Accuracy:0.82190546875\n",
            "Loss:0.364656001329422\n"
          ]
        },
        {
          "name": "stderr",
          "output_type": "stream",
          "text": [
            "\r 77%|███████▋  | 386/500 [3:35:33<1:02:40, 32.99s/it]"
          ]
        },
        {
          "name": "stdout",
          "output_type": "stream",
          "text": [
            "Test Accuracy:0.7834375\n",
            "Training Accuracy:0.82126875\n",
            "Loss:0.3668617904186249\n"
          ]
        },
        {
          "name": "stderr",
          "output_type": "stream",
          "text": [
            "\r 77%|███████▋  | 387/500 [3:36:05<1:01:44, 32.78s/it]"
          ]
        },
        {
          "name": "stdout",
          "output_type": "stream",
          "text": [
            "Test Accuracy:0.78625\n",
            "Training Accuracy:0.822234375\n",
            "Loss:0.34036925435066223\n"
          ]
        },
        {
          "name": "stderr",
          "output_type": "stream",
          "text": [
            "\r 78%|███████▊  | 388/500 [3:36:38<1:01:15, 32.82s/it]"
          ]
        },
        {
          "name": "stdout",
          "output_type": "stream",
          "text": [
            "Test Accuracy:0.788125\n",
            "Training Accuracy:0.821021875\n",
            "Loss:0.3236050605773926\n"
          ]
        },
        {
          "name": "stderr",
          "output_type": "stream",
          "text": [
            "\r 78%|███████▊  | 389/500 [3:37:11<1:00:37, 32.77s/it]"
          ]
        },
        {
          "name": "stdout",
          "output_type": "stream",
          "text": [
            "Test Accuracy:0.7890625\n",
            "Training Accuracy:0.8222140625\n",
            "Loss:0.4032050669193268\n"
          ]
        },
        {
          "name": "stderr",
          "output_type": "stream",
          "text": [
            "\r 78%|███████▊  | 390/500 [3:37:43<59:52, 32.66s/it]  "
          ]
        },
        {
          "name": "stdout",
          "output_type": "stream",
          "text": [
            "Test Accuracy:0.7859375\n",
            "Training Accuracy:0.82169765625\n",
            "Loss:0.3366714119911194\n"
          ]
        },
        {
          "name": "stderr",
          "output_type": "stream",
          "text": [
            "\r 78%|███████▊  | 391/500 [3:38:16<59:21, 32.67s/it]"
          ]
        },
        {
          "name": "stdout",
          "output_type": "stream",
          "text": [
            "Test Accuracy:0.7871875\n",
            "Training Accuracy:0.82187265625\n",
            "Loss:0.3986571729183197\n"
          ]
        },
        {
          "name": "stderr",
          "output_type": "stream",
          "text": [
            "\r 78%|███████▊  | 392/500 [3:38:49<59:01, 32.79s/it]"
          ]
        },
        {
          "name": "stdout",
          "output_type": "stream",
          "text": [
            "Test Accuracy:0.779375\n",
            "Training Accuracy:0.8229171875\n",
            "Loss:0.37759244441986084\n"
          ]
        },
        {
          "name": "stderr",
          "output_type": "stream",
          "text": [
            "\r 79%|███████▊  | 393/500 [3:39:22<58:31, 32.81s/it]"
          ]
        },
        {
          "name": "stdout",
          "output_type": "stream",
          "text": [
            "Test Accuracy:0.784375\n",
            "Training Accuracy:0.82299375\n",
            "Loss:0.3634602427482605\n"
          ]
        },
        {
          "name": "stderr",
          "output_type": "stream",
          "text": [
            "\r 79%|███████▉  | 394/500 [3:39:55<57:59, 32.82s/it]"
          ]
        },
        {
          "name": "stdout",
          "output_type": "stream",
          "text": [
            "Test Accuracy:0.78375\n",
            "Training Accuracy:0.82275703125\n",
            "Loss:0.374403178691864\n"
          ]
        },
        {
          "name": "stderr",
          "output_type": "stream",
          "text": [
            "\r 79%|███████▉  | 395/500 [3:40:27<57:12, 32.69s/it]"
          ]
        },
        {
          "name": "stdout",
          "output_type": "stream",
          "text": [
            "Test Accuracy:0.7840625\n",
            "Training Accuracy:0.822709375\n",
            "Loss:0.33203113079071045\n"
          ]
        },
        {
          "name": "stderr",
          "output_type": "stream",
          "text": [
            "\r 79%|███████▉  | 396/500 [3:41:00<56:39, 32.69s/it]"
          ]
        },
        {
          "name": "stdout",
          "output_type": "stream",
          "text": [
            "Test Accuracy:0.7865625\n",
            "Training Accuracy:0.82286640625\n",
            "Loss:0.3672462999820709\n"
          ]
        },
        {
          "name": "stderr",
          "output_type": "stream",
          "text": [
            "\r 79%|███████▉  | 397/500 [3:41:32<56:07, 32.69s/it]"
          ]
        },
        {
          "name": "stdout",
          "output_type": "stream",
          "text": [
            "Test Accuracy:0.7871875\n",
            "Training Accuracy:0.8228578125\n",
            "Loss:0.33347055315971375\n"
          ]
        },
        {
          "name": "stderr",
          "output_type": "stream",
          "text": [
            "\r 80%|███████▉  | 398/500 [3:42:05<55:31, 32.66s/it]"
          ]
        },
        {
          "name": "stdout",
          "output_type": "stream",
          "text": [
            "Test Accuracy:0.7859375\n",
            "Training Accuracy:0.823175\n",
            "Loss:0.35899388790130615\n"
          ]
        },
        {
          "name": "stderr",
          "output_type": "stream",
          "text": [
            "\r 80%|███████▉  | 399/500 [3:42:38<55:08, 32.75s/it]"
          ]
        },
        {
          "name": "stdout",
          "output_type": "stream",
          "text": [
            "Test Accuracy:0.7859375\n",
            "Training Accuracy:0.8232703125\n",
            "Loss:0.3692690432071686\n"
          ]
        },
        {
          "name": "stderr",
          "output_type": "stream",
          "text": [
            "\r 80%|████████  | 400/500 [3:43:10<54:21, 32.62s/it]"
          ]
        },
        {
          "name": "stdout",
          "output_type": "stream",
          "text": [
            "Test Accuracy:0.785\n",
            "Training Accuracy:0.8227078125\n",
            "Loss:0.3592342734336853\n"
          ]
        },
        {
          "name": "stderr",
          "output_type": "stream",
          "text": [
            "\r 80%|████████  | 401/500 [3:43:43<54:02, 32.75s/it]"
          ]
        },
        {
          "name": "stdout",
          "output_type": "stream",
          "text": [
            "Test Accuracy:0.7853125\n",
            "Training Accuracy:0.8234328125\n",
            "Loss:0.34125766158103943\n"
          ]
        },
        {
          "name": "stderr",
          "output_type": "stream",
          "text": [
            "\r 80%|████████  | 402/500 [3:44:16<53:30, 32.76s/it]"
          ]
        },
        {
          "name": "stdout",
          "output_type": "stream",
          "text": [
            "Test Accuracy:0.7846875\n",
            "Training Accuracy:0.823396875\n",
            "Loss:0.3456793427467346\n"
          ]
        },
        {
          "name": "stderr",
          "output_type": "stream",
          "text": [
            "\r 81%|████████  | 403/500 [3:44:49<53:00, 32.79s/it]"
          ]
        },
        {
          "name": "stdout",
          "output_type": "stream",
          "text": [
            "Test Accuracy:0.785\n",
            "Training Accuracy:0.82264296875\n",
            "Loss:0.34689149260520935\n"
          ]
        },
        {
          "name": "stderr",
          "output_type": "stream",
          "text": [
            "\r 81%|████████  | 404/500 [3:45:22<52:27, 32.79s/it]"
          ]
        },
        {
          "name": "stdout",
          "output_type": "stream",
          "text": [
            "Test Accuracy:0.7846875\n",
            "Training Accuracy:0.82333984375\n",
            "Loss:0.3447568416595459\n"
          ]
        },
        {
          "name": "stderr",
          "output_type": "stream",
          "text": [
            "\r 81%|████████  | 405/500 [3:45:54<51:36, 32.59s/it]"
          ]
        },
        {
          "name": "stdout",
          "output_type": "stream",
          "text": [
            "Test Accuracy:0.7834375\n",
            "Training Accuracy:0.82352421875\n",
            "Loss:0.3952997922897339\n"
          ]
        },
        {
          "name": "stderr",
          "output_type": "stream",
          "text": [
            "\r 81%|████████  | 406/500 [3:46:27<51:21, 32.79s/it]"
          ]
        },
        {
          "name": "stdout",
          "output_type": "stream",
          "text": [
            "Test Accuracy:0.786875\n",
            "Training Accuracy:0.82325859375\n",
            "Loss:0.3534238040447235\n"
          ]
        },
        {
          "name": "stderr",
          "output_type": "stream",
          "text": [
            "\r 81%|████████▏ | 407/500 [3:47:00<50:58, 32.89s/it]"
          ]
        },
        {
          "name": "stdout",
          "output_type": "stream",
          "text": [
            "Test Accuracy:0.7834375\n",
            "Training Accuracy:0.8232296875\n",
            "Loss:0.36787962913513184\n"
          ]
        },
        {
          "name": "stderr",
          "output_type": "stream",
          "text": [
            "\r 82%|████████▏ | 408/500 [3:47:33<50:17, 32.80s/it]"
          ]
        },
        {
          "name": "stdout",
          "output_type": "stream",
          "text": [
            "Test Accuracy:0.7828125\n",
            "Training Accuracy:0.82333671875\n",
            "Loss:0.3613347113132477\n"
          ]
        },
        {
          "name": "stderr",
          "output_type": "stream",
          "text": [
            "\r 82%|████████▏ | 409/500 [3:48:05<49:42, 32.77s/it]"
          ]
        },
        {
          "name": "stdout",
          "output_type": "stream",
          "text": [
            "Test Accuracy:0.783125\n",
            "Training Accuracy:0.8235296875\n",
            "Loss:0.3446683883666992\n"
          ]
        },
        {
          "name": "stderr",
          "output_type": "stream",
          "text": [
            "\r 82%|████████▏ | 410/500 [3:48:39<49:21, 32.91s/it]"
          ]
        },
        {
          "name": "stdout",
          "output_type": "stream",
          "text": [
            "Test Accuracy:0.784375\n",
            "Training Accuracy:0.8232125\n",
            "Loss:0.356698602437973\n"
          ]
        },
        {
          "name": "stderr",
          "output_type": "stream",
          "text": [
            "\r 82%|████████▏ | 411/500 [3:49:11<48:31, 32.71s/it]"
          ]
        },
        {
          "name": "stdout",
          "output_type": "stream",
          "text": [
            "Test Accuracy:0.784375\n",
            "Training Accuracy:0.823171875\n",
            "Loss:0.3511255383491516\n"
          ]
        },
        {
          "name": "stderr",
          "output_type": "stream",
          "text": [
            "\r 82%|████████▏ | 412/500 [3:49:44<48:18, 32.93s/it]"
          ]
        },
        {
          "name": "stdout",
          "output_type": "stream",
          "text": [
            "Test Accuracy:0.785625\n",
            "Training Accuracy:0.82374453125\n",
            "Loss:0.35268735885620117\n"
          ]
        },
        {
          "name": "stderr",
          "output_type": "stream",
          "text": [
            "\r 83%|████████▎ | 413/500 [3:50:17<47:35, 32.83s/it]"
          ]
        },
        {
          "name": "stdout",
          "output_type": "stream",
          "text": [
            "Test Accuracy:0.785625\n",
            "Training Accuracy:0.82332578125\n",
            "Loss:0.39333224296569824\n"
          ]
        },
        {
          "name": "stderr",
          "output_type": "stream",
          "text": [
            "\r 83%|████████▎ | 414/500 [3:50:50<47:02, 32.82s/it]"
          ]
        },
        {
          "name": "stdout",
          "output_type": "stream",
          "text": [
            "Test Accuracy:0.7846875\n",
            "Training Accuracy:0.8234984375\n",
            "Loss:0.34701013565063477\n"
          ]
        },
        {
          "name": "stderr",
          "output_type": "stream",
          "text": [
            "\r 83%|████████▎ | 415/500 [3:51:23<46:29, 32.82s/it]"
          ]
        },
        {
          "name": "stdout",
          "output_type": "stream",
          "text": [
            "Test Accuracy:0.7821875\n",
            "Training Accuracy:0.8236140625\n",
            "Loss:0.35169997811317444\n"
          ]
        },
        {
          "name": "stderr",
          "output_type": "stream",
          "text": [
            "\r 83%|████████▎ | 416/500 [3:51:55<45:49, 32.73s/it]"
          ]
        },
        {
          "name": "stdout",
          "output_type": "stream",
          "text": [
            "Test Accuracy:0.784375\n",
            "Training Accuracy:0.823634375\n",
            "Loss:0.3545498549938202\n"
          ]
        },
        {
          "name": "stderr",
          "output_type": "stream",
          "text": [
            "\r 83%|████████▎ | 417/500 [3:52:27<45:08, 32.63s/it]"
          ]
        },
        {
          "name": "stdout",
          "output_type": "stream",
          "text": [
            "Test Accuracy:0.785625\n",
            "Training Accuracy:0.82374453125\n",
            "Loss:0.36068275570869446\n"
          ]
        },
        {
          "name": "stderr",
          "output_type": "stream",
          "text": [
            "\r 84%|████████▎ | 418/500 [3:53:00<44:39, 32.68s/it]"
          ]
        },
        {
          "name": "stdout",
          "output_type": "stream",
          "text": [
            "Test Accuracy:0.785\n",
            "Training Accuracy:0.823390625\n",
            "Loss:0.3451167643070221\n"
          ]
        },
        {
          "name": "stderr",
          "output_type": "stream",
          "text": [
            "\r 84%|████████▍ | 419/500 [3:53:33<44:07, 32.69s/it]"
          ]
        },
        {
          "name": "stdout",
          "output_type": "stream",
          "text": [
            "Test Accuracy:0.7853125\n",
            "Training Accuracy:0.82366796875\n",
            "Loss:0.40230390429496765\n"
          ]
        },
        {
          "name": "stderr",
          "output_type": "stream",
          "text": [
            "\r 84%|████████▍ | 420/500 [3:54:05<43:26, 32.58s/it]"
          ]
        },
        {
          "name": "stdout",
          "output_type": "stream",
          "text": [
            "Test Accuracy:0.785\n",
            "Training Accuracy:0.823796875\n",
            "Loss:0.41458556056022644\n"
          ]
        },
        {
          "name": "stderr",
          "output_type": "stream",
          "text": [
            "\r 84%|████████▍ | 421/500 [3:54:38<43:01, 32.68s/it]"
          ]
        },
        {
          "name": "stdout",
          "output_type": "stream",
          "text": [
            "Test Accuracy:0.780625\n",
            "Training Accuracy:0.82368828125\n",
            "Loss:0.3521367609500885\n"
          ]
        },
        {
          "name": "stderr",
          "output_type": "stream",
          "text": [
            "\r 84%|████████▍ | 422/500 [3:55:10<42:17, 32.53s/it]"
          ]
        },
        {
          "name": "stdout",
          "output_type": "stream",
          "text": [
            "Test Accuracy:0.7846875\n",
            "Training Accuracy:0.82360546875\n",
            "Loss:0.36283987760543823\n"
          ]
        },
        {
          "name": "stderr",
          "output_type": "stream",
          "text": [
            "\r 85%|████████▍ | 423/500 [3:55:43<41:38, 32.44s/it]"
          ]
        },
        {
          "name": "stdout",
          "output_type": "stream",
          "text": [
            "Test Accuracy:0.7834375\n",
            "Training Accuracy:0.8235578125\n",
            "Loss:0.3414590358734131\n"
          ]
        },
        {
          "name": "stderr",
          "output_type": "stream",
          "text": [
            "\r 85%|████████▍ | 424/500 [3:56:15<41:09, 32.49s/it]"
          ]
        },
        {
          "name": "stdout",
          "output_type": "stream",
          "text": [
            "Test Accuracy:0.7846875\n",
            "Training Accuracy:0.82451484375\n",
            "Loss:0.37579983472824097\n"
          ]
        },
        {
          "name": "stderr",
          "output_type": "stream",
          "text": [
            "\r 85%|████████▌ | 425/500 [3:56:48<40:36, 32.48s/it]"
          ]
        },
        {
          "name": "stdout",
          "output_type": "stream",
          "text": [
            "Test Accuracy:0.7859375\n",
            "Training Accuracy:0.824415625\n",
            "Loss:0.40307047963142395\n"
          ]
        },
        {
          "name": "stderr",
          "output_type": "stream",
          "text": [
            "\r 85%|████████▌ | 426/500 [3:57:20<40:08, 32.55s/it]"
          ]
        },
        {
          "name": "stdout",
          "output_type": "stream",
          "text": [
            "Test Accuracy:0.7809375\n",
            "Training Accuracy:0.82445078125\n",
            "Loss:0.3848937451839447\n"
          ]
        },
        {
          "name": "stderr",
          "output_type": "stream",
          "text": [
            "\r 85%|████████▌ | 427/500 [3:57:53<39:30, 32.47s/it]"
          ]
        },
        {
          "name": "stdout",
          "output_type": "stream",
          "text": [
            "Test Accuracy:0.7875\n",
            "Training Accuracy:0.82444765625\n",
            "Loss:0.34709304571151733\n"
          ]
        },
        {
          "name": "stderr",
          "output_type": "stream",
          "text": [
            "\r 86%|████████▌ | 428/500 [3:58:25<39:05, 32.58s/it]"
          ]
        },
        {
          "name": "stdout",
          "output_type": "stream",
          "text": [
            "Test Accuracy:0.785\n",
            "Training Accuracy:0.82461328125\n",
            "Loss:0.3425987958908081\n"
          ]
        },
        {
          "name": "stderr",
          "output_type": "stream",
          "text": [
            "\r 86%|████████▌ | 429/500 [3:58:57<38:16, 32.35s/it]"
          ]
        },
        {
          "name": "stdout",
          "output_type": "stream",
          "text": [
            "Test Accuracy:0.78625\n",
            "Training Accuracy:0.8243359375\n",
            "Loss:0.3585720658302307\n"
          ]
        },
        {
          "name": "stderr",
          "output_type": "stream",
          "text": [
            "\r 86%|████████▌ | 430/500 [3:59:30<37:48, 32.40s/it]"
          ]
        },
        {
          "name": "stdout",
          "output_type": "stream",
          "text": [
            "Test Accuracy:0.785\n",
            "Training Accuracy:0.8247203125\n",
            "Loss:0.3781125545501709\n"
          ]
        },
        {
          "name": "stderr",
          "output_type": "stream",
          "text": [
            "\r 86%|████████▌ | 431/500 [4:00:02<37:18, 32.45s/it]"
          ]
        },
        {
          "name": "stdout",
          "output_type": "stream",
          "text": [
            "Test Accuracy:0.7846875\n",
            "Training Accuracy:0.824559375\n",
            "Loss:0.3769083321094513\n"
          ]
        },
        {
          "name": "stderr",
          "output_type": "stream",
          "text": [
            "\r 86%|████████▋ | 432/500 [4:00:35<36:44, 32.43s/it]"
          ]
        },
        {
          "name": "stdout",
          "output_type": "stream",
          "text": [
            "Test Accuracy:0.785\n",
            "Training Accuracy:0.82441015625\n",
            "Loss:0.3650113344192505\n"
          ]
        },
        {
          "name": "stderr",
          "output_type": "stream",
          "text": [
            "\r 87%|████████▋ | 433/500 [4:01:07<36:02, 32.28s/it]"
          ]
        },
        {
          "name": "stdout",
          "output_type": "stream",
          "text": [
            "Test Accuracy:0.785\n",
            "Training Accuracy:0.8246\n",
            "Loss:0.377733439207077\n"
          ]
        },
        {
          "name": "stderr",
          "output_type": "stream",
          "text": [
            "\r 87%|████████▋ | 434/500 [4:01:39<35:22, 32.17s/it]"
          ]
        },
        {
          "name": "stdout",
          "output_type": "stream",
          "text": [
            "Test Accuracy:0.784375\n",
            "Training Accuracy:0.82457890625\n",
            "Loss:0.34355977177619934\n"
          ]
        },
        {
          "name": "stderr",
          "output_type": "stream",
          "text": [
            "\r 87%|████████▋ | 435/500 [4:02:11<35:00, 32.31s/it]"
          ]
        },
        {
          "name": "stdout",
          "output_type": "stream",
          "text": [
            "Test Accuracy:0.785\n",
            "Training Accuracy:0.82451953125\n",
            "Loss:0.3748549520969391\n"
          ]
        },
        {
          "name": "stderr",
          "output_type": "stream",
          "text": [
            "\r 87%|████████▋ | 436/500 [4:02:44<34:29, 32.33s/it]"
          ]
        },
        {
          "name": "stdout",
          "output_type": "stream",
          "text": [
            "Test Accuracy:0.78375\n",
            "Training Accuracy:0.8245453125\n",
            "Loss:0.36285316944122314\n"
          ]
        },
        {
          "name": "stderr",
          "output_type": "stream",
          "text": [
            "\r 87%|████████▋ | 437/500 [4:03:16<33:59, 32.37s/it]"
          ]
        },
        {
          "name": "stdout",
          "output_type": "stream",
          "text": [
            "Test Accuracy:0.784375\n",
            "Training Accuracy:0.8246890625\n",
            "Loss:0.3524506092071533\n"
          ]
        },
        {
          "name": "stderr",
          "output_type": "stream",
          "text": [
            "\r 88%|████████▊ | 438/500 [4:03:49<33:29, 32.41s/it]"
          ]
        },
        {
          "name": "stdout",
          "output_type": "stream",
          "text": [
            "Test Accuracy:0.7853125\n",
            "Training Accuracy:0.82458359375\n",
            "Loss:0.3958054780960083\n"
          ]
        },
        {
          "name": "stderr",
          "output_type": "stream",
          "text": [
            "\r 88%|████████▊ | 439/500 [4:04:21<32:49, 32.28s/it]"
          ]
        },
        {
          "name": "stdout",
          "output_type": "stream",
          "text": [
            "Test Accuracy:0.78375\n",
            "Training Accuracy:0.82467109375\n",
            "Loss:0.3207988142967224\n"
          ]
        },
        {
          "name": "stderr",
          "output_type": "stream",
          "text": [
            "\r 88%|████████▊ | 440/500 [4:04:53<32:12, 32.21s/it]"
          ]
        },
        {
          "name": "stdout",
          "output_type": "stream",
          "text": [
            "Test Accuracy:0.7853125\n",
            "Training Accuracy:0.82486328125\n",
            "Loss:0.32174813747406006\n"
          ]
        },
        {
          "name": "stderr",
          "output_type": "stream",
          "text": [
            "\r 88%|████████▊ | 441/500 [4:05:25<31:43, 32.26s/it]"
          ]
        },
        {
          "name": "stdout",
          "output_type": "stream",
          "text": [
            "Test Accuracy:0.7853125\n",
            "Training Accuracy:0.82472265625\n",
            "Loss:0.37078315019607544\n"
          ]
        },
        {
          "name": "stderr",
          "output_type": "stream",
          "text": [
            "\r 88%|████████▊ | 442/500 [4:05:58<31:15, 32.34s/it]"
          ]
        },
        {
          "name": "stdout",
          "output_type": "stream",
          "text": [
            "Test Accuracy:0.7828125\n",
            "Training Accuracy:0.82485703125\n",
            "Loss:0.3672790229320526\n"
          ]
        },
        {
          "name": "stderr",
          "output_type": "stream",
          "text": [
            "\r 89%|████████▊ | 443/500 [4:06:30<30:42, 32.32s/it]"
          ]
        },
        {
          "name": "stdout",
          "output_type": "stream",
          "text": [
            "Test Accuracy:0.7815625\n",
            "Training Accuracy:0.82452265625\n",
            "Loss:0.36156654357910156\n"
          ]
        },
        {
          "name": "stderr",
          "output_type": "stream",
          "text": [
            "\r 89%|████████▉ | 444/500 [4:07:02<30:07, 32.27s/it]"
          ]
        },
        {
          "name": "stdout",
          "output_type": "stream",
          "text": [
            "Test Accuracy:0.786875\n",
            "Training Accuracy:0.82472421875\n",
            "Loss:0.37143903970718384\n"
          ]
        },
        {
          "name": "stderr",
          "output_type": "stream",
          "text": [
            "\r 89%|████████▉ | 445/500 [4:07:35<29:46, 32.49s/it]"
          ]
        },
        {
          "name": "stdout",
          "output_type": "stream",
          "text": [
            "Test Accuracy:0.7840625\n",
            "Training Accuracy:0.82462265625\n",
            "Loss:0.358271986246109\n"
          ]
        },
        {
          "name": "stderr",
          "output_type": "stream",
          "text": [
            "\r 89%|████████▉ | 446/500 [4:08:08<29:20, 32.60s/it]"
          ]
        },
        {
          "name": "stdout",
          "output_type": "stream",
          "text": [
            "Test Accuracy:0.7821875\n",
            "Training Accuracy:0.824996875\n",
            "Loss:0.3449725806713104\n"
          ]
        },
        {
          "name": "stderr",
          "output_type": "stream",
          "text": [
            "\r 89%|████████▉ | 447/500 [4:08:41<28:54, 32.72s/it]"
          ]
        },
        {
          "name": "stdout",
          "output_type": "stream",
          "text": [
            "Test Accuracy:0.7846875\n",
            "Training Accuracy:0.82475\n",
            "Loss:0.38134053349494934\n"
          ]
        },
        {
          "name": "stderr",
          "output_type": "stream",
          "text": [
            "\r 90%|████████▉ | 448/500 [4:09:14<28:23, 32.77s/it]"
          ]
        },
        {
          "name": "stdout",
          "output_type": "stream",
          "text": [
            "Test Accuracy:0.7846875\n",
            "Training Accuracy:0.8246140625\n",
            "Loss:0.36638277769088745\n"
          ]
        },
        {
          "name": "stderr",
          "output_type": "stream",
          "text": [
            "\r 90%|████████▉ | 449/500 [4:09:47<27:53, 32.81s/it]"
          ]
        },
        {
          "name": "stdout",
          "output_type": "stream",
          "text": [
            "Test Accuracy:0.7846875\n",
            "Training Accuracy:0.82470390625\n",
            "Loss:0.3766591250896454\n"
          ]
        },
        {
          "name": "stderr",
          "output_type": "stream",
          "text": [
            "\r 90%|█████████ | 450/500 [4:10:20<27:25, 32.90s/it]"
          ]
        },
        {
          "name": "stdout",
          "output_type": "stream",
          "text": [
            "Test Accuracy:0.78625\n",
            "Training Accuracy:0.8246078125\n",
            "Loss:0.3818366825580597\n"
          ]
        },
        {
          "name": "stderr",
          "output_type": "stream",
          "text": [
            "\r 90%|█████████ | 451/500 [4:10:52<26:49, 32.85s/it]"
          ]
        },
        {
          "name": "stdout",
          "output_type": "stream",
          "text": [
            "Test Accuracy:0.7865625\n",
            "Training Accuracy:0.82498046875\n",
            "Loss:0.3390858471393585\n"
          ]
        },
        {
          "name": "stderr",
          "output_type": "stream",
          "text": [
            "\r 90%|█████████ | 452/500 [4:11:25<26:19, 32.90s/it]"
          ]
        },
        {
          "name": "stdout",
          "output_type": "stream",
          "text": [
            "Test Accuracy:0.7875\n",
            "Training Accuracy:0.824965625\n",
            "Loss:0.37026676535606384\n"
          ]
        },
        {
          "name": "stderr",
          "output_type": "stream",
          "text": [
            "\r 91%|█████████ | 453/500 [4:11:58<25:41, 32.81s/it]"
          ]
        },
        {
          "name": "stdout",
          "output_type": "stream",
          "text": [
            "Test Accuracy:0.785\n",
            "Training Accuracy:0.82493046875\n",
            "Loss:0.34298521280288696\n"
          ]
        },
        {
          "name": "stderr",
          "output_type": "stream",
          "text": [
            "\r 91%|█████████ | 454/500 [4:12:30<24:59, 32.61s/it]"
          ]
        },
        {
          "name": "stdout",
          "output_type": "stream",
          "text": [
            "Test Accuracy:0.785625\n",
            "Training Accuracy:0.82485\n",
            "Loss:0.32235977053642273\n"
          ]
        },
        {
          "name": "stderr",
          "output_type": "stream",
          "text": [
            "\r 91%|█████████ | 455/500 [4:13:03<24:29, 32.66s/it]"
          ]
        },
        {
          "name": "stdout",
          "output_type": "stream",
          "text": [
            "Test Accuracy:0.7871875\n",
            "Training Accuracy:0.82477890625\n",
            "Loss:0.36398255825042725\n"
          ]
        },
        {
          "name": "stderr",
          "output_type": "stream",
          "text": [
            "\r 91%|█████████ | 456/500 [4:13:36<24:00, 32.73s/it]"
          ]
        },
        {
          "name": "stdout",
          "output_type": "stream",
          "text": [
            "Test Accuracy:0.785625\n",
            "Training Accuracy:0.8248953125\n",
            "Loss:0.35207900404930115\n"
          ]
        },
        {
          "name": "stderr",
          "output_type": "stream",
          "text": [
            "\r 91%|█████████▏| 457/500 [4:14:09<23:28, 32.75s/it]"
          ]
        },
        {
          "name": "stdout",
          "output_type": "stream",
          "text": [
            "Test Accuracy:0.7853125\n",
            "Training Accuracy:0.825184375\n",
            "Loss:0.370809406042099\n"
          ]
        },
        {
          "name": "stderr",
          "output_type": "stream",
          "text": [
            "\r 92%|█████████▏| 458/500 [4:14:42<22:59, 32.83s/it]"
          ]
        },
        {
          "name": "stdout",
          "output_type": "stream",
          "text": [
            "Test Accuracy:0.7884375\n",
            "Training Accuracy:0.82500390625\n",
            "Loss:0.34392455220222473\n"
          ]
        },
        {
          "name": "stderr",
          "output_type": "stream",
          "text": [
            "\r 92%|█████████▏| 459/500 [4:15:16<22:38, 33.14s/it]"
          ]
        },
        {
          "name": "stdout",
          "output_type": "stream",
          "text": [
            "Test Accuracy:0.7859375\n",
            "Training Accuracy:0.82504609375\n",
            "Loss:0.3340563476085663\n"
          ]
        },
        {
          "name": "stderr",
          "output_type": "stream",
          "text": [
            "\r 92%|█████████▏| 460/500 [4:15:49<22:04, 33.10s/it]"
          ]
        },
        {
          "name": "stdout",
          "output_type": "stream",
          "text": [
            "Test Accuracy:0.7853125\n",
            "Training Accuracy:0.8247359375\n",
            "Loss:0.36577895283699036\n"
          ]
        },
        {
          "name": "stderr",
          "output_type": "stream",
          "text": [
            "\r 92%|█████████▏| 461/500 [4:16:22<21:31, 33.11s/it]"
          ]
        },
        {
          "name": "stdout",
          "output_type": "stream",
          "text": [
            "Test Accuracy:0.78625\n",
            "Training Accuracy:0.8249546875\n",
            "Loss:0.35144516825675964\n"
          ]
        },
        {
          "name": "stderr",
          "output_type": "stream",
          "text": [
            "\r 92%|█████████▏| 462/500 [4:16:55<21:02, 33.22s/it]"
          ]
        },
        {
          "name": "stdout",
          "output_type": "stream",
          "text": [
            "Test Accuracy:0.785\n",
            "Training Accuracy:0.824971875\n",
            "Loss:0.3246155083179474\n"
          ]
        },
        {
          "name": "stderr",
          "output_type": "stream",
          "text": [
            "\r 93%|█████████▎| 463/500 [4:17:28<20:20, 33.00s/it]"
          ]
        },
        {
          "name": "stdout",
          "output_type": "stream",
          "text": [
            "Test Accuracy:0.7853125\n",
            "Training Accuracy:0.82475234375\n",
            "Loss:0.35412561893463135\n"
          ]
        },
        {
          "name": "stderr",
          "output_type": "stream",
          "text": [
            "\r 93%|█████████▎| 464/500 [4:18:01<19:46, 32.96s/it]"
          ]
        },
        {
          "name": "stdout",
          "output_type": "stream",
          "text": [
            "Test Accuracy:0.786875\n",
            "Training Accuracy:0.8248828125\n",
            "Loss:0.38027721643447876\n"
          ]
        },
        {
          "name": "stderr",
          "output_type": "stream",
          "text": [
            "\r 93%|█████████▎| 465/500 [4:18:33<19:06, 32.76s/it]"
          ]
        },
        {
          "name": "stdout",
          "output_type": "stream",
          "text": [
            "Test Accuracy:0.7878125\n",
            "Training Accuracy:0.82472421875\n",
            "Loss:0.3428671360015869\n"
          ]
        },
        {
          "name": "stderr",
          "output_type": "stream",
          "text": [
            "\r 93%|█████████▎| 466/500 [4:19:06<18:36, 32.84s/it]"
          ]
        },
        {
          "name": "stdout",
          "output_type": "stream",
          "text": [
            "Test Accuracy:0.784375\n",
            "Training Accuracy:0.82506875\n",
            "Loss:0.35300275683403015\n"
          ]
        },
        {
          "name": "stderr",
          "output_type": "stream",
          "text": [
            "\r 93%|█████████▎| 467/500 [4:19:39<18:06, 32.93s/it]"
          ]
        },
        {
          "name": "stdout",
          "output_type": "stream",
          "text": [
            "Test Accuracy:0.7871875\n",
            "Training Accuracy:0.82472890625\n",
            "Loss:0.3780871629714966\n"
          ]
        },
        {
          "name": "stderr",
          "output_type": "stream",
          "text": [
            "\r 94%|█████████▎| 468/500 [4:20:11<17:28, 32.76s/it]"
          ]
        },
        {
          "name": "stdout",
          "output_type": "stream",
          "text": [
            "Test Accuracy:0.7859375\n",
            "Training Accuracy:0.825003125\n",
            "Loss:0.37556618452072144\n"
          ]
        },
        {
          "name": "stderr",
          "output_type": "stream",
          "text": [
            "\r 94%|█████████▍| 469/500 [4:20:44<16:50, 32.60s/it]"
          ]
        },
        {
          "name": "stdout",
          "output_type": "stream",
          "text": [
            "Test Accuracy:0.784375\n",
            "Training Accuracy:0.82532734375\n",
            "Loss:0.3291742503643036\n"
          ]
        },
        {
          "name": "stderr",
          "output_type": "stream",
          "text": [
            "\r 94%|█████████▍| 470/500 [4:21:17<16:21, 32.73s/it]"
          ]
        },
        {
          "name": "stdout",
          "output_type": "stream",
          "text": [
            "Test Accuracy:0.7875\n",
            "Training Accuracy:0.82504296875\n",
            "Loss:0.3740106523036957\n"
          ]
        },
        {
          "name": "stderr",
          "output_type": "stream",
          "text": [
            "\r 94%|█████████▍| 471/500 [4:21:50<15:54, 32.91s/it]"
          ]
        },
        {
          "name": "stdout",
          "output_type": "stream",
          "text": [
            "Test Accuracy:0.7878125\n",
            "Training Accuracy:0.82515390625\n",
            "Loss:0.35359492897987366\n"
          ]
        },
        {
          "name": "stderr",
          "output_type": "stream",
          "text": [
            "\r 94%|█████████▍| 472/500 [4:22:23<15:25, 33.07s/it]"
          ]
        },
        {
          "name": "stdout",
          "output_type": "stream",
          "text": [
            "Test Accuracy:0.78875\n",
            "Training Accuracy:0.82556953125\n",
            "Loss:0.34847086668014526\n"
          ]
        },
        {
          "name": "stderr",
          "output_type": "stream",
          "text": [
            "\r 95%|█████████▍| 473/500 [4:22:56<14:46, 32.84s/it]"
          ]
        },
        {
          "name": "stdout",
          "output_type": "stream",
          "text": [
            "Test Accuracy:0.7875\n",
            "Training Accuracy:0.82560546875\n",
            "Loss:0.3446279764175415\n"
          ]
        },
        {
          "name": "stderr",
          "output_type": "stream",
          "text": [
            "\r 95%|█████████▍| 474/500 [4:23:28<14:12, 32.79s/it]"
          ]
        },
        {
          "name": "stdout",
          "output_type": "stream",
          "text": [
            "Test Accuracy:0.78375\n",
            "Training Accuracy:0.8253640625\n",
            "Loss:0.38207918405532837\n"
          ]
        },
        {
          "name": "stderr",
          "output_type": "stream",
          "text": [
            "\r 95%|█████████▌| 475/500 [4:24:01<13:39, 32.79s/it]"
          ]
        },
        {
          "name": "stdout",
          "output_type": "stream",
          "text": [
            "Test Accuracy:0.7875\n",
            "Training Accuracy:0.825284375\n",
            "Loss:0.34945979714393616\n"
          ]
        },
        {
          "name": "stderr",
          "output_type": "stream",
          "text": [
            "\r 95%|█████████▌| 476/500 [4:24:34<13:09, 32.89s/it]"
          ]
        },
        {
          "name": "stdout",
          "output_type": "stream",
          "text": [
            "Test Accuracy:0.7871875\n",
            "Training Accuracy:0.82563671875\n",
            "Loss:0.34955868124961853\n"
          ]
        },
        {
          "name": "stderr",
          "output_type": "stream",
          "text": [
            "\r 95%|█████████▌| 477/500 [4:25:07<12:38, 32.96s/it]"
          ]
        },
        {
          "name": "stdout",
          "output_type": "stream",
          "text": [
            "Test Accuracy:0.7865625\n",
            "Training Accuracy:0.82508203125\n",
            "Loss:0.3525151312351227\n"
          ]
        },
        {
          "name": "stderr",
          "output_type": "stream",
          "text": [
            "\r 96%|█████████▌| 478/500 [4:25:40<12:00, 32.77s/it]"
          ]
        },
        {
          "name": "stdout",
          "output_type": "stream",
          "text": [
            "Test Accuracy:0.7853125\n",
            "Training Accuracy:0.82505546875\n",
            "Loss:0.3451992869377136\n"
          ]
        },
        {
          "name": "stderr",
          "output_type": "stream",
          "text": [
            "\r 96%|█████████▌| 479/500 [4:26:13<11:33, 33.04s/it]"
          ]
        },
        {
          "name": "stdout",
          "output_type": "stream",
          "text": [
            "Test Accuracy:0.7875\n",
            "Training Accuracy:0.8256796875\n",
            "Loss:0.37385082244873047\n"
          ]
        },
        {
          "name": "stderr",
          "output_type": "stream",
          "text": [
            "\r 96%|█████████▌| 480/500 [4:26:46<11:00, 33.00s/it]"
          ]
        },
        {
          "name": "stdout",
          "output_type": "stream",
          "text": [
            "Test Accuracy:0.78875\n",
            "Training Accuracy:0.825446875\n",
            "Loss:0.359183669090271\n"
          ]
        },
        {
          "name": "stderr",
          "output_type": "stream",
          "text": [
            "\r 96%|█████████▌| 481/500 [4:27:19<10:24, 32.89s/it]"
          ]
        },
        {
          "name": "stdout",
          "output_type": "stream",
          "text": [
            "Test Accuracy:0.78875\n",
            "Training Accuracy:0.8253421875\n",
            "Loss:0.3206019699573517\n"
          ]
        },
        {
          "name": "stderr",
          "output_type": "stream",
          "text": [
            "\r 96%|█████████▋| 482/500 [4:27:52<09:54, 33.01s/it]"
          ]
        },
        {
          "name": "stdout",
          "output_type": "stream",
          "text": [
            "Test Accuracy:0.7853125\n",
            "Training Accuracy:0.8256015625\n",
            "Loss:0.35410138964653015\n"
          ]
        },
        {
          "name": "stderr",
          "output_type": "stream",
          "text": [
            "\r 97%|█████████▋| 483/500 [4:28:25<09:19, 32.91s/it]"
          ]
        },
        {
          "name": "stdout",
          "output_type": "stream",
          "text": [
            "Test Accuracy:0.7878125\n",
            "Training Accuracy:0.8251703125\n",
            "Loss:0.3583977222442627\n"
          ]
        },
        {
          "name": "stderr",
          "output_type": "stream",
          "text": [
            "\r 97%|█████████▋| 484/500 [4:28:58<08:48, 33.02s/it]"
          ]
        },
        {
          "name": "stdout",
          "output_type": "stream",
          "text": [
            "Test Accuracy:0.7871875\n",
            "Training Accuracy:0.82526875\n",
            "Loss:0.34365397691726685\n"
          ]
        },
        {
          "name": "stderr",
          "output_type": "stream",
          "text": [
            "\r 97%|█████████▋| 485/500 [4:29:31<08:13, 32.90s/it]"
          ]
        },
        {
          "name": "stdout",
          "output_type": "stream",
          "text": [
            "Test Accuracy:0.788125\n",
            "Training Accuracy:0.82533359375\n",
            "Loss:0.3698485195636749\n"
          ]
        },
        {
          "name": "stderr",
          "output_type": "stream",
          "text": [
            "\r 97%|█████████▋| 486/500 [4:30:03<07:39, 32.84s/it]"
          ]
        },
        {
          "name": "stdout",
          "output_type": "stream",
          "text": [
            "Test Accuracy:0.7859375\n",
            "Training Accuracy:0.825475\n",
            "Loss:0.3560217618942261\n"
          ]
        },
        {
          "name": "stderr",
          "output_type": "stream",
          "text": [
            "\r 97%|█████████▋| 487/500 [4:30:36<07:06, 32.80s/it]"
          ]
        },
        {
          "name": "stdout",
          "output_type": "stream",
          "text": [
            "Test Accuracy:0.7875\n",
            "Training Accuracy:0.82509921875\n",
            "Loss:0.38736268877983093\n"
          ]
        },
        {
          "name": "stderr",
          "output_type": "stream",
          "text": [
            "\r 98%|█████████▊| 488/500 [4:31:09<06:35, 32.93s/it]"
          ]
        },
        {
          "name": "stdout",
          "output_type": "stream",
          "text": [
            "Test Accuracy:0.784375\n",
            "Training Accuracy:0.82550078125\n",
            "Loss:0.362172394990921\n"
          ]
        },
        {
          "name": "stderr",
          "output_type": "stream",
          "text": [
            "\r 98%|█████████▊| 489/500 [4:31:42<06:00, 32.77s/it]"
          ]
        },
        {
          "name": "stdout",
          "output_type": "stream",
          "text": [
            "Test Accuracy:0.78625\n",
            "Training Accuracy:0.82515078125\n",
            "Loss:0.36314859986305237\n"
          ]
        },
        {
          "name": "stderr",
          "output_type": "stream",
          "text": [
            "\r 98%|█████████▊| 490/500 [4:32:15<05:29, 32.94s/it]"
          ]
        },
        {
          "name": "stdout",
          "output_type": "stream",
          "text": [
            "Test Accuracy:0.7871875\n",
            "Training Accuracy:0.8253578125\n",
            "Loss:0.31992441415786743\n"
          ]
        },
        {
          "name": "stderr",
          "output_type": "stream",
          "text": [
            "\r 98%|█████████▊| 491/500 [4:32:48<04:55, 32.84s/it]"
          ]
        },
        {
          "name": "stdout",
          "output_type": "stream",
          "text": [
            "Test Accuracy:0.7859375\n",
            "Training Accuracy:0.825615625\n",
            "Loss:0.3289634883403778\n"
          ]
        },
        {
          "name": "stderr",
          "output_type": "stream",
          "text": [
            "\r 98%|█████████▊| 492/500 [4:33:21<04:22, 32.86s/it]"
          ]
        },
        {
          "name": "stdout",
          "output_type": "stream",
          "text": [
            "Test Accuracy:0.7875\n",
            "Training Accuracy:0.825715625\n",
            "Loss:0.3685229420661926\n"
          ]
        },
        {
          "name": "stderr",
          "output_type": "stream",
          "text": [
            "\r 99%|█████████▊| 493/500 [4:33:54<03:50, 32.87s/it]"
          ]
        },
        {
          "name": "stdout",
          "output_type": "stream",
          "text": [
            "Test Accuracy:0.7878125\n",
            "Training Accuracy:0.8255109375\n",
            "Loss:0.3502980172634125\n"
          ]
        },
        {
          "name": "stderr",
          "output_type": "stream",
          "text": [
            "\r 99%|█████████▉| 494/500 [4:34:26<03:16, 32.71s/it]"
          ]
        },
        {
          "name": "stdout",
          "output_type": "stream",
          "text": [
            "Test Accuracy:0.786875\n",
            "Training Accuracy:0.82564296875\n",
            "Loss:0.3345814049243927\n"
          ]
        },
        {
          "name": "stderr",
          "output_type": "stream",
          "text": [
            "\r 99%|█████████▉| 495/500 [4:34:58<02:43, 32.67s/it]"
          ]
        },
        {
          "name": "stdout",
          "output_type": "stream",
          "text": [
            "Test Accuracy:0.7871875\n",
            "Training Accuracy:0.82548671875\n",
            "Loss:0.36951181292533875\n"
          ]
        },
        {
          "name": "stderr",
          "output_type": "stream",
          "text": [
            "\r 99%|█████████▉| 496/500 [4:35:32<02:11, 32.80s/it]"
          ]
        },
        {
          "name": "stdout",
          "output_type": "stream",
          "text": [
            "Test Accuracy:0.7875\n",
            "Training Accuracy:0.82553359375\n",
            "Loss:0.3613502085208893\n"
          ]
        },
        {
          "name": "stderr",
          "output_type": "stream",
          "text": [
            "\r 99%|█████████▉| 497/500 [4:36:04<01:38, 32.79s/it]"
          ]
        },
        {
          "name": "stdout",
          "output_type": "stream",
          "text": [
            "Test Accuracy:0.7875\n",
            "Training Accuracy:0.82554375\n",
            "Loss:0.345977783203125\n"
          ]
        },
        {
          "name": "stderr",
          "output_type": "stream",
          "text": [
            "\r100%|█████████▉| 498/500 [4:36:37<01:05, 32.66s/it]"
          ]
        },
        {
          "name": "stdout",
          "output_type": "stream",
          "text": [
            "Test Accuracy:0.788125\n",
            "Training Accuracy:0.82513828125\n",
            "Loss:0.35570549964904785\n"
          ]
        },
        {
          "name": "stderr",
          "output_type": "stream",
          "text": [
            "\r100%|█████████▉| 499/500 [4:37:10<00:32, 32.83s/it]"
          ]
        },
        {
          "name": "stdout",
          "output_type": "stream",
          "text": [
            "Test Accuracy:0.7859375\n",
            "Training Accuracy:0.82562421875\n",
            "Loss:0.3264510929584503\n"
          ]
        },
        {
          "name": "stderr",
          "output_type": "stream",
          "text": [
            "100%|██████████| 500/500 [4:37:43<00:00, 33.33s/it]"
          ]
        },
        {
          "name": "stdout",
          "output_type": "stream",
          "text": [
            "Test Accuracy:0.7878125\n"
          ]
        },
        {
          "name": "stderr",
          "output_type": "stream",
          "text": [
            "\n"
          ]
        }
      ],
      "source": [
        "train_acc,test_acc,loss,FourHopModel = e.run()"
      ]
    },
    {
      "cell_type": "code",
      "execution_count": null,
      "metadata": {
        "colab": {
          "base_uri": "https://localhost:8080/",
          "height": 282
        },
        "id": "CXSHyFEQorAj",
        "outputId": "627df4eb-f9ab-4785-bb88-ea9ad7493ebe"
      },
      "outputs": [
        {
          "data": {
            "text/plain": [
              "[<matplotlib.lines.Line2D at 0x7fac4237a190>]"
            ]
          },
          "execution_count": 76,
          "metadata": {},
          "output_type": "execute_result"
        },
        {
          "data": {
            "image/png": "[encoded data removed]",
            "text/plain": [
              "<Figure size 432x288 with 1 Axes>"
            ]
          },
          "metadata": {},
          "output_type": "display_data"
        }
      ],
      "source": [
        "import matplotlib.pyplot as plt\n",
        "plt.plot(train_acc)"
      ]
    },
    {
      "cell_type": "markdown",
      "metadata": {
        "id": "qCXR7Aa52J7I"
      },
      "source": [
        "Unfortunately, we did not manage to overfit the dataset, even after training for over 4 hours on the premium GPU. The training accuracy reached 82.5% and stopped increasing, which means that even if we trained for longer, we would most likely not overfit the dataset. This is quite disappointing, because this means that HopGAT was not even able to match the performance of GATs reported in the paper. For this reason, we will not try higher depths.  We should still try to train a GAT on $depth = 4$ to verify the result in the paper. Since these experiments are very computationally expensive, we will train the GAT only for 100 epochs and compare the training accuracy with that of HopGAT after 100 epochs (71.7%). If the accuracy achieved by GAT is substantially higher/lower than 71.7%, we will be able to draw a conclusion. Obviously, this is not ideal and these experiments should be done thoroughly, but we don't have access to sufficient computing power. "
      ]
    },
    {
      "cell_type": "markdown",
      "source": [
        "### Implementing a GAT for $depth = 4$"
      ],
      "metadata": {
        "id": "TKOQ17W4WJta"
      }
    },
    {
      "cell_type": "code",
      "source": [
        "e = Experiment(depth = 4, dim = 32,n_heads = 4, train_fraction = 0.8, max_epochs = 10000, batch_size = 1024, eval_every = 100,loader_workers = 7)"
      ],
      "metadata": {
        "colab": {
          "base_uri": "https://localhost:8080/"
        },
        "id": "EJaBvj8tWPBt",
        "outputId": "49786935-ebcd-41f5-ef53-c8ac29116f34"
      },
      "execution_count": null,
      "outputs": [
        {
          "output_type": "stream",
          "name": "stdout",
          "text": [
            "Starting experiment\n",
            "Training examples: 12800, test examples: 3200\n"
          ]
        }
      ]
    },
    {
      "cell_type": "code",
      "source": [
        "e.model"
      ],
      "metadata": {
        "colab": {
          "base_uri": "https://localhost:8080/"
        },
        "id": "YuJQ3PdMWQMH",
        "outputId": "d3c02b1e-e8f2-49a9-97e6-8159d1c2e328"
      },
      "execution_count": null,
      "outputs": [
        {
          "output_type": "execute_result",
          "data": {
            "text/plain": [
              "GAT(\n",
              "  (layer0_keys): Embedding(17, 32)\n",
              "  (layer0_values): Embedding(17, 32)\n",
              "  (layers): ModuleList(\n",
              "    (0): GATConv(32, 8, heads=4)\n",
              "    (1): GATConv(32, 8, heads=4)\n",
              "    (2): GATConv(32, 8, heads=4)\n",
              "    (3): GATConv(32, 8, heads=4)\n",
              "    (4): GATConv(32, 8, heads=4)\n",
              "  )\n",
              "  (layer_norms): ModuleList(\n",
              "    (0): LayerNorm((32,), eps=1e-05, elementwise_affine=True)\n",
              "    (1): LayerNorm((32,), eps=1e-05, elementwise_affine=True)\n",
              "    (2): LayerNorm((32,), eps=1e-05, elementwise_affine=True)\n",
              "    (3): LayerNorm((32,), eps=1e-05, elementwise_affine=True)\n",
              "    (4): LayerNorm((32,), eps=1e-05, elementwise_affine=True)\n",
              "  )\n",
              "  (out_layer): Linear(in_features=32, out_features=17, bias=False)\n",
              ")"
            ]
          },
          "metadata": {},
          "execution_count": 9
        }
      ]
    },
    {
      "cell_type": "code",
      "source": [
        "train_acc,test_acc,loss,FourGATModel = e.run()"
      ],
      "metadata": {
        "colab": {
          "base_uri": "https://localhost:8080/",
          "height": 1000
        },
        "id": "XFYpbbz7Wfi8",
        "outputId": "a1914e9d-8d17-4a0a-df94-50fbdd8b3aa5"
      },
      "execution_count": null,
      "outputs": [
        {
          "output_type": "stream",
          "name": "stderr",
          "text": [
            "\r  0%|          | 0/100 [00:00<?, ?it/s]/usr/local/lib/python3.8/dist-packages/torch_geometric/deprecation.py:12: UserWarning: 'data.DataLoader' is deprecated, use 'loader.DataLoader' instead\n",
            "  warnings.warn(out)\n"
          ]
        },
        {
          "output_type": "stream",
          "name": "stdout",
          "text": [
            "Training Accuracy:0.070078125\n",
            "Loss:2.7639288902282715\n"
          ]
        },
        {
          "output_type": "stream",
          "name": "stderr",
          "text": [
            "\r  1%|          | 1/100 [00:30<50:37, 30.68s/it]"
          ]
        },
        {
          "output_type": "stream",
          "name": "stdout",
          "text": [
            "Test Accuracy:0.06\n",
            "Training Accuracy:0.12366328125\n",
            "Loss:2.500309467315674\n"
          ]
        },
        {
          "output_type": "stream",
          "name": "stderr",
          "text": [
            "\r  2%|▏         | 2/100 [00:58<46:59, 28.77s/it]"
          ]
        },
        {
          "output_type": "stream",
          "name": "stdout",
          "text": [
            "Test Accuracy:0.1203125\n",
            "Training Accuracy:0.17061640625\n",
            "Loss:2.413712739944458\n"
          ]
        },
        {
          "output_type": "stream",
          "name": "stderr",
          "text": [
            "\r  3%|▎         | 3/100 [01:25<45:39, 28.24s/it]"
          ]
        },
        {
          "output_type": "stream",
          "name": "stdout",
          "text": [
            "Test Accuracy:0.1665625\n",
            "Training Accuracy:0.2253046875\n",
            "Loss:2.2210042476654053\n"
          ]
        },
        {
          "output_type": "stream",
          "name": "stderr",
          "text": [
            "\r  4%|▍         | 4/100 [01:53<44:37, 27.89s/it]"
          ]
        },
        {
          "output_type": "stream",
          "name": "stdout",
          "text": [
            "Test Accuracy:0.205\n",
            "Training Accuracy:0.26523359375\n",
            "Loss:2.16829776763916\n"
          ]
        },
        {
          "output_type": "stream",
          "name": "stderr",
          "text": [
            "\r  5%|▌         | 5/100 [02:20<43:47, 27.66s/it]"
          ]
        },
        {
          "output_type": "stream",
          "name": "stdout",
          "text": [
            "Test Accuracy:0.23875\n",
            "Training Accuracy:0.3080125\n",
            "Loss:2.016451597213745\n"
          ]
        },
        {
          "output_type": "stream",
          "name": "stderr",
          "text": [
            "\r  6%|▌         | 6/100 [02:47<43:11, 27.57s/it]"
          ]
        },
        {
          "output_type": "stream",
          "name": "stdout",
          "text": [
            "Test Accuracy:0.28125\n",
            "Training Accuracy:0.3435453125\n",
            "Loss:1.8912732601165771\n"
          ]
        },
        {
          "output_type": "stream",
          "name": "stderr",
          "text": [
            "\r  7%|▋         | 7/100 [03:15<42:46, 27.60s/it]"
          ]
        },
        {
          "output_type": "stream",
          "name": "stdout",
          "text": [
            "Test Accuracy:0.3140625\n",
            "Training Accuracy:0.39661171875\n",
            "Loss:1.726468563079834\n"
          ]
        },
        {
          "output_type": "stream",
          "name": "stderr",
          "text": [
            "\r  8%|▊         | 8/100 [03:42<42:14, 27.55s/it]"
          ]
        },
        {
          "output_type": "stream",
          "name": "stdout",
          "text": [
            "Test Accuracy:0.3715625\n",
            "Training Accuracy:0.462434375\n",
            "Loss:1.5132756233215332\n"
          ]
        },
        {
          "output_type": "stream",
          "name": "stderr",
          "text": [
            "\r  9%|▉         | 9/100 [04:10<41:36, 27.43s/it]"
          ]
        },
        {
          "output_type": "stream",
          "name": "stdout",
          "text": [
            "Test Accuracy:0.4240625\n",
            "Training Accuracy:0.50285546875\n",
            "Loss:1.5557409524917603\n"
          ]
        },
        {
          "output_type": "stream",
          "name": "stderr",
          "text": [
            "\r 10%|█         | 10/100 [04:37<41:05, 27.39s/it]"
          ]
        },
        {
          "output_type": "stream",
          "name": "stdout",
          "text": [
            "Test Accuracy:0.4571875\n",
            "Training Accuracy:0.51781328125\n",
            "Loss:1.414121389389038\n"
          ]
        },
        {
          "output_type": "stream",
          "name": "stderr",
          "text": [
            "\r 11%|█         | 11/100 [05:04<40:40, 27.42s/it]"
          ]
        },
        {
          "output_type": "stream",
          "name": "stdout",
          "text": [
            "Test Accuracy:0.4734375\n",
            "Training Accuracy:0.5268078125\n",
            "Loss:1.3960788249969482\n"
          ]
        },
        {
          "output_type": "stream",
          "name": "stderr",
          "text": [
            "\r 12%|█▏        | 12/100 [05:32<40:20, 27.51s/it]"
          ]
        },
        {
          "output_type": "stream",
          "name": "stdout",
          "text": [
            "Test Accuracy:0.4734375\n",
            "Training Accuracy:0.5299484375\n",
            "Loss:1.4166980981826782\n"
          ]
        },
        {
          "output_type": "stream",
          "name": "stderr",
          "text": [
            "\r 13%|█▎        | 13/100 [05:59<39:45, 27.42s/it]"
          ]
        },
        {
          "output_type": "stream",
          "name": "stdout",
          "text": [
            "Test Accuracy:0.4803125\n",
            "Training Accuracy:0.53270546875\n",
            "Loss:1.4246528148651123\n"
          ]
        },
        {
          "output_type": "stream",
          "name": "stderr",
          "text": [
            "\r 14%|█▍        | 14/100 [06:27<39:14, 27.38s/it]"
          ]
        },
        {
          "output_type": "stream",
          "name": "stdout",
          "text": [
            "Test Accuracy:0.4753125\n",
            "Training Accuracy:0.53769765625\n",
            "Loss:1.371509075164795\n"
          ]
        },
        {
          "output_type": "stream",
          "name": "stderr",
          "text": [
            "\r 15%|█▌        | 15/100 [06:54<38:46, 27.37s/it]"
          ]
        },
        {
          "output_type": "stream",
          "name": "stdout",
          "text": [
            "Test Accuracy:0.4709375\n",
            "Training Accuracy:0.53812109375\n",
            "Loss:1.4162156581878662\n"
          ]
        },
        {
          "output_type": "stream",
          "name": "stderr",
          "text": [
            "\r 16%|█▌        | 16/100 [07:21<38:13, 27.31s/it]"
          ]
        },
        {
          "output_type": "stream",
          "name": "stdout",
          "text": [
            "Test Accuracy:0.48\n",
            "Training Accuracy:0.543015625\n",
            "Loss:1.4011237621307373\n"
          ]
        },
        {
          "output_type": "stream",
          "name": "stderr",
          "text": [
            "\r 17%|█▋        | 17/100 [07:49<37:55, 27.42s/it]"
          ]
        },
        {
          "output_type": "stream",
          "name": "stdout",
          "text": [
            "Test Accuracy:0.485\n",
            "Training Accuracy:0.54389765625\n",
            "Loss:1.3923665285110474\n"
          ]
        },
        {
          "output_type": "stream",
          "name": "stderr",
          "text": [
            "\r 18%|█▊        | 18/100 [08:16<37:25, 27.39s/it]"
          ]
        },
        {
          "output_type": "stream",
          "name": "stdout",
          "text": [
            "Test Accuracy:0.4828125\n",
            "Training Accuracy:0.54806640625\n",
            "Loss:1.2934086322784424\n"
          ]
        },
        {
          "output_type": "stream",
          "name": "stderr",
          "text": [
            "\r 19%|█▉        | 19/100 [08:44<37:01, 27.42s/it]"
          ]
        },
        {
          "output_type": "stream",
          "name": "stdout",
          "text": [
            "Test Accuracy:0.4865625\n",
            "Training Accuracy:0.55296796875\n",
            "Loss:1.4053196907043457\n"
          ]
        },
        {
          "output_type": "stream",
          "name": "stderr",
          "text": [
            "\r 20%|██        | 20/100 [09:11<36:30, 27.39s/it]"
          ]
        },
        {
          "output_type": "stream",
          "name": "stdout",
          "text": [
            "Test Accuracy:0.493125\n",
            "Training Accuracy:0.56445\n",
            "Loss:1.2409403324127197\n"
          ]
        },
        {
          "output_type": "stream",
          "name": "stderr",
          "text": [
            "\r 21%|██        | 21/100 [09:39<36:11, 27.49s/it]"
          ]
        },
        {
          "output_type": "stream",
          "name": "stdout",
          "text": [
            "Test Accuracy:0.5078125\n",
            "Training Accuracy:0.57481640625\n",
            "Loss:1.2140531539916992\n"
          ]
        },
        {
          "output_type": "stream",
          "name": "stderr",
          "text": [
            "\r 22%|██▏       | 22/100 [10:06<35:37, 27.41s/it]"
          ]
        },
        {
          "output_type": "stream",
          "name": "stdout",
          "text": [
            "Test Accuracy:0.520625\n",
            "Training Accuracy:0.58108984375\n",
            "Loss:1.2479829788208008\n"
          ]
        },
        {
          "output_type": "stream",
          "name": "stderr",
          "text": [
            "\r 23%|██▎       | 23/100 [10:33<35:15, 27.47s/it]"
          ]
        },
        {
          "output_type": "stream",
          "name": "stdout",
          "text": [
            "Test Accuracy:0.5209375\n",
            "Training Accuracy:0.58764609375\n",
            "Loss:1.3469023704528809\n"
          ]
        },
        {
          "output_type": "stream",
          "name": "stderr",
          "text": [
            "\r 24%|██▍       | 24/100 [11:01<34:43, 27.42s/it]"
          ]
        },
        {
          "output_type": "stream",
          "name": "stdout",
          "text": [
            "Test Accuracy:0.5328125\n",
            "Training Accuracy:0.59183359375\n",
            "Loss:1.1842976808547974\n"
          ]
        },
        {
          "output_type": "stream",
          "name": "stderr",
          "text": [
            "\r 25%|██▌       | 25/100 [11:28<34:21, 27.49s/it]"
          ]
        },
        {
          "output_type": "stream",
          "name": "stdout",
          "text": [
            "Test Accuracy:0.5459375\n",
            "Training Accuracy:0.59905859375\n",
            "Loss:1.1448925733566284\n"
          ]
        },
        {
          "output_type": "stream",
          "name": "stderr",
          "text": [
            "\r 26%|██▌       | 26/100 [11:56<33:57, 27.54s/it]"
          ]
        },
        {
          "output_type": "stream",
          "name": "stdout",
          "text": [
            "Test Accuracy:0.5465625\n",
            "Training Accuracy:0.60323125\n",
            "Loss:1.172184705734253\n"
          ]
        },
        {
          "output_type": "stream",
          "name": "stderr",
          "text": [
            "\r 27%|██▋       | 27/100 [12:23<33:28, 27.52s/it]"
          ]
        },
        {
          "output_type": "stream",
          "name": "stdout",
          "text": [
            "Test Accuracy:0.5453125\n",
            "Training Accuracy:0.6076328125\n",
            "Loss:1.118500828742981\n"
          ]
        },
        {
          "output_type": "stream",
          "name": "stderr",
          "text": [
            "\r 28%|██▊       | 28/100 [12:51<33:04, 27.57s/it]"
          ]
        },
        {
          "output_type": "stream",
          "name": "stdout",
          "text": [
            "Test Accuracy:0.5540625\n",
            "Training Accuracy:0.61220546875\n",
            "Loss:1.1352324485778809\n"
          ]
        },
        {
          "output_type": "stream",
          "name": "stderr",
          "text": [
            "\r 29%|██▉       | 29/100 [13:19<32:34, 27.53s/it]"
          ]
        },
        {
          "output_type": "stream",
          "name": "stdout",
          "text": [
            "Test Accuracy:0.56125\n",
            "Training Accuracy:0.61494296875\n",
            "Loss:1.1258963346481323\n"
          ]
        },
        {
          "output_type": "stream",
          "name": "stderr",
          "text": [
            "\r 30%|███       | 30/100 [13:46<32:11, 27.59s/it]"
          ]
        },
        {
          "output_type": "stream",
          "name": "stdout",
          "text": [
            "Test Accuracy:0.558125\n",
            "Training Accuracy:0.6172890625\n",
            "Loss:1.1661593914031982\n"
          ]
        },
        {
          "output_type": "stream",
          "name": "stderr",
          "text": [
            "\r 31%|███       | 31/100 [14:14<31:41, 27.56s/it]"
          ]
        },
        {
          "output_type": "stream",
          "name": "stdout",
          "text": [
            "Test Accuracy:0.5678125\n",
            "Training Accuracy:0.62256171875\n",
            "Loss:1.141721487045288\n"
          ]
        },
        {
          "output_type": "stream",
          "name": "stderr",
          "text": [
            "\r 32%|███▏      | 32/100 [14:41<31:16, 27.59s/it]"
          ]
        },
        {
          "output_type": "stream",
          "name": "stdout",
          "text": [
            "Test Accuracy:0.564375\n",
            "Training Accuracy:0.62324375\n",
            "Loss:1.107393503189087\n"
          ]
        },
        {
          "output_type": "stream",
          "name": "stderr",
          "text": [
            "\r 33%|███▎      | 33/100 [15:09<30:51, 27.63s/it]"
          ]
        },
        {
          "output_type": "stream",
          "name": "stdout",
          "text": [
            "Test Accuracy:0.5675\n",
            "Training Accuracy:0.62691328125\n",
            "Loss:1.093376636505127\n"
          ]
        },
        {
          "output_type": "stream",
          "name": "stderr",
          "text": [
            "\r 34%|███▍      | 34/100 [15:37<30:23, 27.63s/it]"
          ]
        },
        {
          "output_type": "stream",
          "name": "stdout",
          "text": [
            "Test Accuracy:0.570625\n",
            "Training Accuracy:0.62925390625\n",
            "Loss:1.0461492538452148\n"
          ]
        },
        {
          "output_type": "stream",
          "name": "stderr",
          "text": [
            "\r 35%|███▌      | 35/100 [16:04<29:54, 27.60s/it]"
          ]
        },
        {
          "output_type": "stream",
          "name": "stdout",
          "text": [
            "Test Accuracy:0.57\n",
            "Training Accuracy:0.6331921875\n",
            "Loss:1.0328783988952637\n"
          ]
        },
        {
          "output_type": "stream",
          "name": "stderr",
          "text": [
            "\r 36%|███▌      | 36/100 [16:32<29:28, 27.63s/it]"
          ]
        },
        {
          "output_type": "stream",
          "name": "stdout",
          "text": [
            "Test Accuracy:0.5709375\n",
            "Training Accuracy:0.6360203125\n",
            "Loss:1.075906753540039\n"
          ]
        },
        {
          "output_type": "stream",
          "name": "stderr",
          "text": [
            "\r 37%|███▋      | 37/100 [16:59<28:54, 27.53s/it]"
          ]
        },
        {
          "output_type": "stream",
          "name": "stdout",
          "text": [
            "Test Accuracy:0.580625\n",
            "Training Accuracy:0.636596875\n",
            "Loss:1.0393942594528198\n"
          ]
        },
        {
          "output_type": "stream",
          "name": "stderr",
          "text": [
            "\r 38%|███▊      | 38/100 [17:27<28:29, 27.58s/it]"
          ]
        },
        {
          "output_type": "stream",
          "name": "stdout",
          "text": [
            "Test Accuracy:0.5821875\n",
            "Training Accuracy:0.6404265625\n",
            "Loss:0.9797175526618958\n"
          ]
        },
        {
          "output_type": "stream",
          "name": "stderr",
          "text": [
            "\r 39%|███▉      | 39/100 [17:55<28:01, 27.56s/it]"
          ]
        },
        {
          "output_type": "stream",
          "name": "stdout",
          "text": [
            "Test Accuracy:0.585625\n",
            "Training Accuracy:0.64294140625\n",
            "Loss:1.0636811256408691\n"
          ]
        },
        {
          "output_type": "stream",
          "name": "stderr",
          "text": [
            "\r 40%|████      | 40/100 [18:22<27:37, 27.63s/it]"
          ]
        },
        {
          "output_type": "stream",
          "name": "stdout",
          "text": [
            "Test Accuracy:0.58375\n",
            "Training Accuracy:0.64455859375\n",
            "Loss:1.0002955198287964\n"
          ]
        },
        {
          "output_type": "stream",
          "name": "stderr",
          "text": [
            "\r 41%|████      | 41/100 [18:50<27:05, 27.55s/it]"
          ]
        },
        {
          "output_type": "stream",
          "name": "stdout",
          "text": [
            "Test Accuracy:0.579375\n",
            "Training Accuracy:0.64551328125\n",
            "Loss:0.9979546666145325\n"
          ]
        },
        {
          "output_type": "stream",
          "name": "stderr",
          "text": [
            "\r 42%|████▏     | 42/100 [19:17<26:34, 27.48s/it]"
          ]
        },
        {
          "output_type": "stream",
          "name": "stdout",
          "text": [
            "Test Accuracy:0.588125\n",
            "Training Accuracy:0.64691015625\n",
            "Loss:1.0631093978881836\n"
          ]
        },
        {
          "output_type": "stream",
          "name": "stderr",
          "text": [
            "\r 43%|████▎     | 43/100 [19:45<26:09, 27.53s/it]"
          ]
        },
        {
          "output_type": "stream",
          "name": "stdout",
          "text": [
            "Test Accuracy:0.5778125\n",
            "Training Accuracy:0.6495796875\n",
            "Loss:1.0286632776260376\n"
          ]
        },
        {
          "output_type": "stream",
          "name": "stderr",
          "text": [
            "\r 44%|████▍     | 44/100 [20:13<25:49, 27.67s/it]"
          ]
        },
        {
          "output_type": "stream",
          "name": "stdout",
          "text": [
            "Test Accuracy:0.59375\n",
            "Training Accuracy:0.66321484375\n",
            "Loss:0.9520031213760376\n"
          ]
        },
        {
          "output_type": "stream",
          "name": "stderr",
          "text": [
            "\r 45%|████▌     | 45/100 [20:41<25:25, 27.73s/it]"
          ]
        },
        {
          "output_type": "stream",
          "name": "stdout",
          "text": [
            "Test Accuracy:0.6071875\n",
            "Training Accuracy:0.6711984375\n",
            "Loss:0.9640074968338013\n"
          ]
        },
        {
          "output_type": "stream",
          "name": "stderr",
          "text": [
            "\r 46%|████▌     | 46/100 [21:08<24:51, 27.62s/it]"
          ]
        },
        {
          "output_type": "stream",
          "name": "stdout",
          "text": [
            "Test Accuracy:0.6171875\n",
            "Training Accuracy:0.679734375\n",
            "Loss:0.9159924387931824\n"
          ]
        },
        {
          "output_type": "stream",
          "name": "stderr",
          "text": [
            "\r 47%|████▋     | 47/100 [21:36<24:26, 27.67s/it]"
          ]
        },
        {
          "output_type": "stream",
          "name": "stdout",
          "text": [
            "Test Accuracy:0.618125\n",
            "Training Accuracy:0.68508203125\n",
            "Loss:0.8506476283073425\n"
          ]
        },
        {
          "output_type": "stream",
          "name": "stderr",
          "text": [
            "\r 48%|████▊     | 48/100 [22:04<24:03, 27.76s/it]"
          ]
        },
        {
          "output_type": "stream",
          "name": "stdout",
          "text": [
            "Test Accuracy:0.615\n",
            "Training Accuracy:0.68791484375\n",
            "Loss:0.8770341873168945\n"
          ]
        },
        {
          "output_type": "stream",
          "name": "stderr",
          "text": [
            "\r 49%|████▉     | 49/100 [22:31<23:35, 27.75s/it]"
          ]
        },
        {
          "output_type": "stream",
          "name": "stdout",
          "text": [
            "Test Accuracy:0.6290625\n",
            "Training Accuracy:0.6934796875\n",
            "Loss:1.000299096107483\n"
          ]
        },
        {
          "output_type": "stream",
          "name": "stderr",
          "text": [
            "\r 50%|█████     | 50/100 [22:59<23:05, 27.71s/it]"
          ]
        },
        {
          "output_type": "stream",
          "name": "stdout",
          "text": [
            "Test Accuracy:0.6271875\n",
            "Training Accuracy:0.69520234375\n",
            "Loss:0.9231511354446411\n"
          ]
        },
        {
          "output_type": "stream",
          "name": "stderr",
          "text": [
            "\r 51%|█████     | 51/100 [23:27<22:38, 27.73s/it]"
          ]
        },
        {
          "output_type": "stream",
          "name": "stdout",
          "text": [
            "Test Accuracy:0.625625\n",
            "Training Accuracy:0.6979171875\n",
            "Loss:0.9041821956634521\n"
          ]
        },
        {
          "output_type": "stream",
          "name": "stderr",
          "text": [
            "\r 52%|█████▏    | 52/100 [23:54<22:05, 27.61s/it]"
          ]
        },
        {
          "output_type": "stream",
          "name": "stdout",
          "text": [
            "Test Accuracy:0.63\n",
            "Training Accuracy:0.6977578125\n",
            "Loss:0.9195408225059509\n"
          ]
        },
        {
          "output_type": "stream",
          "name": "stderr",
          "text": [
            "\r 53%|█████▎    | 53/100 [24:22<21:38, 27.62s/it]"
          ]
        },
        {
          "output_type": "stream",
          "name": "stdout",
          "text": [
            "Test Accuracy:0.631875\n",
            "Training Accuracy:0.7015171875\n",
            "Loss:0.9221778512001038\n"
          ]
        },
        {
          "output_type": "stream",
          "name": "stderr",
          "text": [
            "\r 54%|█████▍    | 54/100 [24:49<21:09, 27.59s/it]"
          ]
        },
        {
          "output_type": "stream",
          "name": "stdout",
          "text": [
            "Test Accuracy:0.6346875\n",
            "Training Accuracy:0.7023859375\n",
            "Loss:0.8681639432907104\n"
          ]
        },
        {
          "output_type": "stream",
          "name": "stderr",
          "text": [
            "\r 55%|█████▌    | 55/100 [25:17<20:45, 27.67s/it]"
          ]
        },
        {
          "output_type": "stream",
          "name": "stdout",
          "text": [
            "Test Accuracy:0.630625\n",
            "Training Accuracy:0.70086953125\n",
            "Loss:0.8281090259552002\n"
          ]
        },
        {
          "output_type": "stream",
          "name": "stderr",
          "text": [
            "\r 56%|█████▌    | 56/100 [25:45<20:15, 27.62s/it]"
          ]
        },
        {
          "output_type": "stream",
          "name": "stdout",
          "text": [
            "Test Accuracy:0.6378125\n",
            "Training Accuracy:0.7040453125\n",
            "Loss:0.9224706888198853\n"
          ]
        },
        {
          "output_type": "stream",
          "name": "stderr",
          "text": [
            "\r 57%|█████▋    | 57/100 [26:12<19:48, 27.63s/it]"
          ]
        },
        {
          "output_type": "stream",
          "name": "stdout",
          "text": [
            "Test Accuracy:0.6328125\n",
            "Training Accuracy:0.7032375\n",
            "Loss:0.8802251815795898\n"
          ]
        },
        {
          "output_type": "stream",
          "name": "stderr",
          "text": [
            "\r 58%|█████▊    | 58/100 [26:40<19:22, 27.67s/it]"
          ]
        },
        {
          "output_type": "stream",
          "name": "stdout",
          "text": [
            "Test Accuracy:0.630625\n",
            "Training Accuracy:0.7054796875\n",
            "Loss:0.8452771902084351\n"
          ]
        },
        {
          "output_type": "stream",
          "name": "stderr",
          "text": [
            "\r 59%|█████▉    | 59/100 [27:08<18:57, 27.75s/it]"
          ]
        },
        {
          "output_type": "stream",
          "name": "stdout",
          "text": [
            "Test Accuracy:0.63875\n",
            "Training Accuracy:0.7049265625\n",
            "Loss:0.8399112224578857\n"
          ]
        },
        {
          "output_type": "stream",
          "name": "stderr",
          "text": [
            "\r 60%|██████    | 60/100 [27:36<18:32, 27.82s/it]"
          ]
        },
        {
          "output_type": "stream",
          "name": "stdout",
          "text": [
            "Test Accuracy:0.6428125\n",
            "Training Accuracy:0.7079734375\n",
            "Loss:0.8555845618247986\n"
          ]
        },
        {
          "output_type": "stream",
          "name": "stderr",
          "text": [
            "\r 61%|██████    | 61/100 [28:03<17:59, 27.68s/it]"
          ]
        },
        {
          "output_type": "stream",
          "name": "stdout",
          "text": [
            "Test Accuracy:0.6365625\n",
            "Training Accuracy:0.70674609375\n",
            "Loss:0.8702402114868164\n"
          ]
        },
        {
          "output_type": "stream",
          "name": "stderr",
          "text": [
            "\r 62%|██████▏   | 62/100 [28:31<17:28, 27.60s/it]"
          ]
        },
        {
          "output_type": "stream",
          "name": "stdout",
          "text": [
            "Test Accuracy:0.625\n",
            "Training Accuracy:0.70767578125\n",
            "Loss:0.7956888675689697\n"
          ]
        },
        {
          "output_type": "stream",
          "name": "stderr",
          "text": [
            "\r 63%|██████▎   | 63/100 [28:58<16:58, 27.52s/it]"
          ]
        },
        {
          "output_type": "stream",
          "name": "stdout",
          "text": [
            "Test Accuracy:0.643125\n",
            "Training Accuracy:0.71017890625\n",
            "Loss:0.8376885652542114\n"
          ]
        },
        {
          "output_type": "stream",
          "name": "stderr",
          "text": [
            "\r 64%|██████▍   | 64/100 [29:25<16:28, 27.47s/it]"
          ]
        },
        {
          "output_type": "stream",
          "name": "stdout",
          "text": [
            "Test Accuracy:0.641875\n",
            "Training Accuracy:0.70897578125\n",
            "Loss:0.8084524273872375\n"
          ]
        },
        {
          "output_type": "stream",
          "name": "stderr",
          "text": [
            "\r 65%|██████▌   | 65/100 [29:53<16:00, 27.45s/it]"
          ]
        },
        {
          "output_type": "stream",
          "name": "stdout",
          "text": [
            "Test Accuracy:0.6396875\n",
            "Training Accuracy:0.710190625\n",
            "Loss:0.8144720792770386\n"
          ]
        },
        {
          "output_type": "stream",
          "name": "stderr",
          "text": [
            "\r 66%|██████▌   | 66/100 [30:21<15:37, 27.57s/it]"
          ]
        },
        {
          "output_type": "stream",
          "name": "stdout",
          "text": [
            "Test Accuracy:0.645\n",
            "Training Accuracy:0.7084671875\n",
            "Loss:0.8919827938079834\n"
          ]
        },
        {
          "output_type": "stream",
          "name": "stderr",
          "text": [
            "\r 67%|██████▋   | 67/100 [30:48<15:08, 27.54s/it]"
          ]
        },
        {
          "output_type": "stream",
          "name": "stdout",
          "text": [
            "Test Accuracy:0.6309375\n",
            "Training Accuracy:0.711240625\n",
            "Loss:0.8611124753952026\n"
          ]
        },
        {
          "output_type": "stream",
          "name": "stderr",
          "text": [
            "\r 68%|██████▊   | 68/100 [31:16<14:40, 27.50s/it]"
          ]
        },
        {
          "output_type": "stream",
          "name": "stdout",
          "text": [
            "Test Accuracy:0.646875\n",
            "Training Accuracy:0.71240625\n",
            "Loss:0.8912211060523987\n"
          ]
        },
        {
          "output_type": "stream",
          "name": "stderr",
          "text": [
            "\r 69%|██████▉   | 69/100 [31:43<14:10, 27.43s/it]"
          ]
        },
        {
          "output_type": "stream",
          "name": "stdout",
          "text": [
            "Test Accuracy:0.6471875\n",
            "Training Accuracy:0.71367890625\n",
            "Loss:0.8383476138114929\n"
          ]
        },
        {
          "output_type": "stream",
          "name": "stderr",
          "text": [
            "\r 70%|███████   | 70/100 [32:10<13:43, 27.45s/it]"
          ]
        },
        {
          "output_type": "stream",
          "name": "stdout",
          "text": [
            "Test Accuracy:0.64875\n",
            "Training Accuracy:0.71202890625\n",
            "Loss:0.896801233291626\n"
          ]
        },
        {
          "output_type": "stream",
          "name": "stderr",
          "text": [
            "\r 71%|███████   | 71/100 [32:38<13:15, 27.43s/it]"
          ]
        },
        {
          "output_type": "stream",
          "name": "stdout",
          "text": [
            "Test Accuracy:0.64875\n",
            "Training Accuracy:0.7133796875\n",
            "Loss:0.8180475831031799\n"
          ]
        },
        {
          "output_type": "stream",
          "name": "stderr",
          "text": [
            "\r 72%|███████▏  | 72/100 [33:05<12:48, 27.45s/it]"
          ]
        },
        {
          "output_type": "stream",
          "name": "stdout",
          "text": [
            "Test Accuracy:0.6465625\n",
            "Training Accuracy:0.7149890625\n",
            "Loss:0.856645405292511\n"
          ]
        },
        {
          "output_type": "stream",
          "name": "stderr",
          "text": [
            "\r 73%|███████▎  | 73/100 [33:33<12:19, 27.40s/it]"
          ]
        },
        {
          "output_type": "stream",
          "name": "stdout",
          "text": [
            "Test Accuracy:0.6484375\n",
            "Training Accuracy:0.713321875\n",
            "Loss:0.8042376637458801\n"
          ]
        },
        {
          "output_type": "stream",
          "name": "stderr",
          "text": [
            "\r 74%|███████▍  | 74/100 [34:01<11:57, 27.60s/it]"
          ]
        },
        {
          "output_type": "stream",
          "name": "stdout",
          "text": [
            "Test Accuracy:0.650625\n",
            "Training Accuracy:0.716521875\n",
            "Loss:0.874293863773346\n"
          ]
        },
        {
          "output_type": "stream",
          "name": "stderr",
          "text": [
            "\r 75%|███████▌  | 75/100 [34:28<11:27, 27.51s/it]"
          ]
        },
        {
          "output_type": "stream",
          "name": "stdout",
          "text": [
            "Test Accuracy:0.646875\n",
            "Training Accuracy:0.71562890625\n",
            "Loss:0.87973552942276\n"
          ]
        },
        {
          "output_type": "stream",
          "name": "stderr",
          "text": [
            "\r 76%|███████▌  | 76/100 [34:56<11:02, 27.60s/it]"
          ]
        },
        {
          "output_type": "stream",
          "name": "stdout",
          "text": [
            "Test Accuracy:0.6496875\n",
            "Training Accuracy:0.71611953125\n",
            "Loss:0.8001338243484497\n"
          ]
        },
        {
          "output_type": "stream",
          "name": "stderr",
          "text": [
            "\r 77%|███████▋  | 77/100 [35:23<10:33, 27.54s/it]"
          ]
        },
        {
          "output_type": "stream",
          "name": "stdout",
          "text": [
            "Test Accuracy:0.650625\n",
            "Training Accuracy:0.716503125\n",
            "Loss:0.885817289352417\n"
          ]
        },
        {
          "output_type": "stream",
          "name": "stderr",
          "text": [
            "\r 78%|███████▊  | 78/100 [35:51<10:07, 27.61s/it]"
          ]
        },
        {
          "output_type": "stream",
          "name": "stdout",
          "text": [
            "Test Accuracy:0.650625\n",
            "Training Accuracy:0.71708359375\n",
            "Loss:0.8148669004440308\n"
          ]
        },
        {
          "output_type": "stream",
          "name": "stderr",
          "text": [
            "\r 79%|███████▉  | 79/100 [36:18<09:39, 27.61s/it]"
          ]
        },
        {
          "output_type": "stream",
          "name": "stdout",
          "text": [
            "Test Accuracy:0.6471875\n",
            "Training Accuracy:0.71773828125\n",
            "Loss:0.8218814134597778\n"
          ]
        },
        {
          "output_type": "stream",
          "name": "stderr",
          "text": [
            "\r 80%|████████  | 80/100 [36:46<09:10, 27.54s/it]"
          ]
        },
        {
          "output_type": "stream",
          "name": "stdout",
          "text": [
            "Test Accuracy:0.655625\n",
            "Training Accuracy:0.71639921875\n",
            "Loss:0.8169317841529846\n"
          ]
        },
        {
          "output_type": "stream",
          "name": "stderr",
          "text": [
            "\r 81%|████████  | 81/100 [37:13<08:41, 27.46s/it]"
          ]
        },
        {
          "output_type": "stream",
          "name": "stdout",
          "text": [
            "Test Accuracy:0.6575\n",
            "Training Accuracy:0.71996796875\n",
            "Loss:0.8993884325027466\n"
          ]
        },
        {
          "output_type": "stream",
          "name": "stderr",
          "text": [
            "\r 82%|████████▏ | 82/100 [37:40<08:13, 27.42s/it]"
          ]
        },
        {
          "output_type": "stream",
          "name": "stdout",
          "text": [
            "Test Accuracy:0.650625\n",
            "Training Accuracy:0.718825\n",
            "Loss:0.8109745383262634\n"
          ]
        },
        {
          "output_type": "stream",
          "name": "stderr",
          "text": [
            "\r 83%|████████▎ | 83/100 [38:08<07:46, 27.42s/it]"
          ]
        },
        {
          "output_type": "stream",
          "name": "stdout",
          "text": [
            "Test Accuracy:0.65125\n",
            "Training Accuracy:0.718196875\n",
            "Loss:0.8249468207359314\n"
          ]
        },
        {
          "output_type": "stream",
          "name": "stderr",
          "text": [
            "\r 84%|████████▍ | 84/100 [38:36<07:20, 27.50s/it]"
          ]
        },
        {
          "output_type": "stream",
          "name": "stdout",
          "text": [
            "Test Accuracy:0.648125\n",
            "Training Accuracy:0.72127734375\n",
            "Loss:0.8527429699897766\n"
          ]
        },
        {
          "output_type": "stream",
          "name": "stderr",
          "text": [
            "\r 85%|████████▌ | 85/100 [39:03<06:54, 27.63s/it]"
          ]
        },
        {
          "output_type": "stream",
          "name": "stdout",
          "text": [
            "Test Accuracy:0.65\n",
            "Training Accuracy:0.71910859375\n",
            "Loss:0.8660142421722412\n"
          ]
        },
        {
          "output_type": "stream",
          "name": "stderr",
          "text": [
            "\r 86%|████████▌ | 86/100 [39:31<06:26, 27.63s/it]"
          ]
        },
        {
          "output_type": "stream",
          "name": "stdout",
          "text": [
            "Test Accuracy:0.6578125\n",
            "Training Accuracy:0.721065625\n",
            "Loss:0.8221685290336609\n"
          ]
        },
        {
          "output_type": "stream",
          "name": "stderr",
          "text": [
            "\r 87%|████████▋ | 87/100 [39:59<05:58, 27.61s/it]"
          ]
        },
        {
          "output_type": "stream",
          "name": "stdout",
          "text": [
            "Test Accuracy:0.6521875\n",
            "Training Accuracy:0.72039921875\n",
            "Loss:0.9214335680007935\n"
          ]
        },
        {
          "output_type": "stream",
          "name": "stderr",
          "text": [
            "\r 88%|████████▊ | 88/100 [40:26<05:30, 27.54s/it]"
          ]
        },
        {
          "output_type": "stream",
          "name": "stdout",
          "text": [
            "Test Accuracy:0.6484375\n",
            "Training Accuracy:0.721034375\n",
            "Loss:0.7673380970954895\n"
          ]
        },
        {
          "output_type": "stream",
          "name": "stderr",
          "text": [
            "\r 89%|████████▉ | 89/100 [40:54<05:03, 27.62s/it]"
          ]
        },
        {
          "output_type": "stream",
          "name": "stdout",
          "text": [
            "Test Accuracy:0.651875\n",
            "Training Accuracy:0.7216703125\n",
            "Loss:0.7680387496948242\n"
          ]
        },
        {
          "output_type": "stream",
          "name": "stderr",
          "text": [
            "\r 90%|█████████ | 90/100 [41:21<04:35, 27.55s/it]"
          ]
        },
        {
          "output_type": "stream",
          "name": "stdout",
          "text": [
            "Test Accuracy:0.6446875\n",
            "Training Accuracy:0.72245859375\n",
            "Loss:0.8104004859924316\n"
          ]
        },
        {
          "output_type": "stream",
          "name": "stderr",
          "text": [
            "\r 91%|█████████ | 91/100 [41:49<04:08, 27.64s/it]"
          ]
        },
        {
          "output_type": "stream",
          "name": "stdout",
          "text": [
            "Test Accuracy:0.649375\n",
            "Training Accuracy:0.7236046875\n",
            "Loss:0.7454925775527954\n"
          ]
        },
        {
          "output_type": "stream",
          "name": "stderr",
          "text": [
            "\r 92%|█████████▏| 92/100 [42:17<03:41, 27.69s/it]"
          ]
        },
        {
          "output_type": "stream",
          "name": "stdout",
          "text": [
            "Test Accuracy:0.6496875\n",
            "Training Accuracy:0.72399296875\n",
            "Loss:0.7880260944366455\n"
          ]
        },
        {
          "output_type": "stream",
          "name": "stderr",
          "text": [
            "\r 93%|█████████▎| 93/100 [42:46<03:16, 28.13s/it]"
          ]
        },
        {
          "output_type": "stream",
          "name": "stdout",
          "text": [
            "Test Accuracy:0.6503125\n",
            "Training Accuracy:0.72356328125\n",
            "Loss:0.8109486103057861\n"
          ]
        },
        {
          "output_type": "stream",
          "name": "stderr",
          "text": [
            "\r 94%|█████████▍| 94/100 [43:15<02:49, 28.26s/it]"
          ]
        },
        {
          "output_type": "stream",
          "name": "stdout",
          "text": [
            "Test Accuracy:0.6509375\n",
            "Training Accuracy:0.72577890625\n",
            "Loss:0.785355806350708\n"
          ]
        },
        {
          "output_type": "stream",
          "name": "stderr",
          "text": [
            "\r 95%|█████████▌| 95/100 [43:43<02:21, 28.36s/it]"
          ]
        },
        {
          "output_type": "stream",
          "name": "stdout",
          "text": [
            "Test Accuracy:0.654375\n",
            "Training Accuracy:0.72460703125\n",
            "Loss:0.8074881434440613\n"
          ]
        },
        {
          "output_type": "stream",
          "name": "stderr",
          "text": [
            "\r 96%|█████████▌| 96/100 [44:12<01:53, 28.39s/it]"
          ]
        },
        {
          "output_type": "stream",
          "name": "stdout",
          "text": [
            "Test Accuracy:0.6484375\n",
            "Training Accuracy:0.72576875\n",
            "Loss:0.7876691818237305\n"
          ]
        },
        {
          "output_type": "stream",
          "name": "stderr",
          "text": [
            "\r 97%|█████████▋| 97/100 [44:40<01:25, 28.43s/it]"
          ]
        },
        {
          "output_type": "stream",
          "name": "stdout",
          "text": [
            "Test Accuracy:0.6528125\n",
            "Training Accuracy:0.72828203125\n",
            "Loss:0.8272513151168823\n"
          ]
        },
        {
          "output_type": "stream",
          "name": "stderr",
          "text": [
            "\r 98%|█████████▊| 98/100 [45:09<00:56, 28.50s/it]"
          ]
        },
        {
          "output_type": "stream",
          "name": "stdout",
          "text": [
            "Test Accuracy:0.653125\n",
            "Training Accuracy:0.7280921875\n",
            "Loss:0.8340852856636047\n"
          ]
        },
        {
          "output_type": "stream",
          "name": "stderr",
          "text": [
            "\r 99%|█████████▉| 99/100 [45:37<00:28, 28.35s/it]"
          ]
        },
        {
          "output_type": "stream",
          "name": "stdout",
          "text": [
            "Test Accuracy:0.6503125\n",
            "Training Accuracy:0.7278734375\n",
            "Loss:0.8265258073806763\n"
          ]
        },
        {
          "output_type": "stream",
          "name": "stderr",
          "text": [
            "100%|██████████| 100/100 [46:05<00:00, 27.66s/it]"
          ]
        },
        {
          "output_type": "stream",
          "name": "stdout",
          "text": [
            "Test Accuracy:0.64875\n"
          ]
        },
        {
          "output_type": "stream",
          "name": "stderr",
          "text": [
            "\n"
          ]
        },
        {
          "output_type": "error",
          "ename": "ValueError",
          "evalue": "ignored",
          "traceback": [
            "\u001b[0;31m---------------------------------------------------------------------------\u001b[0m",
            "\u001b[0;31mValueError\u001b[0m                                Traceback (most recent call last)",
            "\u001b[0;32m<ipython-input-10-81f9bd850744>\u001b[0m in \u001b[0;36m<module>\u001b[0;34m\u001b[0m\n\u001b[0;32m----> 1\u001b[0;31m \u001b[0mtrain_acc\u001b[0m\u001b[0;34m,\u001b[0m\u001b[0mtest_acc\u001b[0m\u001b[0;34m,\u001b[0m\u001b[0mloss\u001b[0m\u001b[0;34m,\u001b[0m\u001b[0mFourGATModel\u001b[0m \u001b[0;34m=\u001b[0m \u001b[0me\u001b[0m\u001b[0;34m.\u001b[0m\u001b[0mrun\u001b[0m\u001b[0;34m(\u001b[0m\u001b[0;34m)\u001b[0m\u001b[0;34m\u001b[0m\u001b[0;34m\u001b[0m\u001b[0m\n\u001b[0m",
            "\u001b[0;31mValueError\u001b[0m: not enough values to unpack (expected 4, got 3)"
          ]
        }
      ]
    },
    {
      "cell_type": "markdown",
      "source": [
        "The GAT has managed to achieve a slightly higher training accuracy (72.8%) than HopGAT (71.7%) after 100 epochs of training. This means that we definitely CANNOT conclude that HopGAT is more resistant to oversquashing. If anything, this experiment suggests the opposite. \n",
        "\n",
        "\n",
        "In my opinion, this is a surprising result, because HopGAT was designed to allow for better information flow, with the hope that it will alleviate oversquashing. This experiment tells us that the connection is not immediate. Even though direct communication between leaves and the root is enabled, this doesn't imply that oversquashing is alleviated. For some reason, the model is struggling to understand that the only relevant information is coming from the last layer. \n",
        "\n",
        "There are two ways we can fix this. The first is to treat the neighborhoods over which we aggregate as hyperparameters and choose a better configuration. The second is to increase the output dimension of the last layer while decreasing the other dimensions, in order to keep the number of parameters the same. This ensures information from the leaves layer is not squashed and the last GAT layer has a bigger expressive power. This way, we can achieve drastically better performance while using the same number of parameters. \n",
        "\n",
        "Both ideas are implemented in the appendix and please check them out.  "
      ],
      "metadata": {
        "id": "2-9P44BQgDQM"
      }
    },
    {
      "cell_type": "markdown",
      "metadata": {
        "id": "K4bTXjv8L_gH"
      },
      "source": [
        "# Summary and Outlook"
      ]
    },
    {
      "cell_type": "markdown",
      "metadata": {
        "id": "mT3ha49zMEZ5"
      },
      "source": [
        "In this notebook, we introduced graph attention networks (GATs) and designed a new model inspired by GATs and shortest path message passing neural networks (SPMPNNs), which we called HopGAT. The motivation behind our model was that we wanted to experiment with aggregation over $k$-hop neighborhoods. We hoped that this would improve the performance of GATs and alleviate some of their limitations, especially oversquashing.\n",
        "\n",
        "To test our model, we examined its performance on the Cora dataset, where we matched the performance of GATs. Then, we experimentally proved that GATs suffer from oversmoothing and observed that our model does not. To explain that, we concluded that our model is similar to Jumping Knowledge Connections, which are known to tackle oversmoothing. To deepen our understanding of HopGAT, we decided to shift our focus to oversquashing.\n",
        "\n",
        "To do that, we decided to conduct experiments on TreeNeighborsMatch, a synthetic task designed to highlight oversquashing. As a first step, we reimplemented results from [Alon and Yahav](https://arxiv.org/pdf/2006.05205.pdf) for standard graph attention networks and $depths = 2,3$. Then we implemented our model on this dataset and observed that it matches the performance of GATs for $depth = 2,3$. \n",
        "\n",
        "\n",
        "Next, we observed that HopGAT did not even overfit the dataset for $depth = 4$. This was surprising - I expected that HopGAT would easily match the performance of GATs on TreeNeighborsMatch, but we found that this is not the case. To make things worse, HopGAT was using more parameters than the standard GAT. This allows us to conclude that HopGAT aggregating over all layers is simply inferior to a standard GAT, since it does not even tackle oversquashing and uses more parameters. \n",
        "\n",
        "However, by incorporating strong inductive bias into our model, we can fix this problem. In the appendix we showed that when HopGAT aggregates only over the $depth$-hop neighborhood, it easily outperforms all models reported in the paper even for $depth = 5$, while using a similar amount of parameters. This supports our initial hypothesis that direct communication between nodes alleviates oversquashing. Alternatively, one can still aggregate over all hops, but can increase the dimensions of the final GATConv layer (and decrease the dimension of the other layers) to drastically improve performance while keeping the number of parameters the same. We must bear in mind that we are cheating a little bit -  we know exactly over which neighborhoods we should aggregate. In practice, this is not known and should be treated as a hyperparameter.  \n",
        "\n",
        "Further experiments must be conducted to explore the class of models described in the first section. In particular, it would be interesting to experiment with different architectures, bigger depths of TreeNeighborsMatch and also other datasets. Unfortunately, due to insufficient computational resources, this was impossible to do. Additionally, it would be interesting to see if aggregating with attention for each neighborhood actually increases performance on datasets where oversquashing/oversmoothing is not an issue (on tasks which can be solved with a small number of layers). We did not observe an increase in performance on Cora/Citeseer. Perhaps one could construct datasets where such an aggregation scheme is crucial. Another direction would be to further modify the aggregation scheme we proposed in order to improve performance. \n",
        "\n"
      ]
    },
    {
      "cell_type": "markdown",
      "source": [
        "# Self-evaluation"
      ],
      "metadata": {
        "id": "nN9ihC-_A7_1"
      }
    },
    {
      "cell_type": "markdown",
      "source": [
        "The question states that self-evaluation is part of the marking criteria, so I thought I would include that. In general, I am neither happy nor unhappy with what I did in this question. I think the idea that I explored was not bad, because it connected ideas from two papers, it was closely related to what we did in the lectures and it was a little creative. However, the experiments did not work as well as I expected. I considered completely changing my idea several times but decided against doing so because I had already invested a lot of time into this (which I don't think is adequately reflected in this notebook). Also, I think there are interesting results in this work. We found that HopGAT is resistant to oversmoothing and possibly to oversquashing, provided we choose the right hyperparameters (such as the neighborhoods over which we aggregate). I was simply hoping that the difference would be bigger, especially in TreeNeighborsMatch, but that was not the case. "
      ],
      "metadata": {
        "id": "1nUDTThEBCh0"
      }
    },
    {
      "cell_type": "markdown",
      "source": [
        "# Appendix "
      ],
      "metadata": {
        "id": "S-93A5-zu0Eq"
      }
    },
    {
      "cell_type": "markdown",
      "source": [
        "## HopGAT with one attention layer"
      ],
      "metadata": {
        "id": "Uz4Zi0v2u6b4"
      }
    },
    {
      "cell_type": "markdown",
      "source": [
        "Here we implement the version of HopGAT which aggregates only over the depth layer. "
      ],
      "metadata": {
        "id": "3cbPIaiR0dLz"
      }
    },
    {
      "cell_type": "code",
      "source": [
        "from torch import nn\n",
        "from torch.nn import functional as F\n",
        "from torch_geometric.nn import GATConv\n",
        "\n",
        "class HopGAT(torch.nn.Module):\n",
        "    def __init__(self, depth, dim0, h_dim, out_dim, n_heads, layer_norm = True):\n",
        "        super(HopGAT, self).__init__()\n",
        "  \n",
        "        self.device = torch.device('cuda' if torch.cuda.is_available() else 'cpu')\n",
        "\n",
        "        self.layer0_keys = nn.Embedding(num_embeddings=dim0 + 1, embedding_dim=h_dim)\n",
        "        self.layer0_values = nn.Embedding(num_embeddings=dim0 + 1, embedding_dim=h_dim)\n",
        "        self.depth = depth\n",
        "        self.out_dim = out_dim\n",
        "       \n",
        "        self.gat = GATConv(h_dim,h_dim//n_heads,heads = n_heads)\n",
        "        self.mlp = nn.Linear(2*h_dim,h_dim)\n",
        "        self.layer_norm = layer_norm\n",
        "        if layer_norm:\n",
        "          self.layer_norms = nn.LayerNorm(h_dim)\n",
        "        self.out_layer = nn.Linear(in_features=h_dim, out_features=out_dim + 1, bias=False)\n",
        "\n",
        "    def forward(self, data):\n",
        "        x, edge_index1, batch, roots,edge_index2 = data.x, data.edge_index1, data.batch, data.root_mask,data.edge_index2\n",
        "\n",
        "      \n",
        "        x_key, x_val = x[:, 0], x[:, 1]\n",
        "        x_key_embed = self.layer0_keys(x_key)\n",
        "        x_val_embed = self.layer0_values(x_val)\n",
        "        x = x_key_embed + x_val_embed\n",
        "        \n",
        "        if self.depth == 2:\n",
        "          x = torch.cat((x,self.gat(x,edge_index2)),dim = 1)\n",
        "        elif self.depth == 3:\n",
        "          x = torch.cat((x,self.gat(x,data.edge_index3)),dim = 1)\n",
        "        elif self.depth == 4:\n",
        "          x = torch.cat((x,self.gat(x,data.edge_index4)),dim = 1)\n",
        "        elif self.depth == 5:\n",
        "          x = torch.cat((x,self.gat(x,data.edge_index5)),dim = 1)\n",
        "        \n",
        "        x = self.mlp(x)\n",
        "        if self.layer_norm:\n",
        "          x = self.layer_norms(x)\n",
        "            \n",
        "\n",
        "        root_nodes = x[roots]\n",
        "        logits = self.out_layer(root_nodes)\n",
        "        return logits"
      ],
      "metadata": {
        "id": "PNKI0-Kiq7eh"
      },
      "execution_count": null,
      "outputs": []
    },
    {
      "cell_type": "code",
      "source": [
        "e = HopExperiment(depth = 3,dim = 32,n_heads = 4, train_fraction = 0.8, max_epochs = 1200, batch_size = 64, eval_every = 10,loader_workers = 2)"
      ],
      "metadata": {
        "colab": {
          "base_uri": "https://localhost:8080/"
        },
        "id": "F04V0K79rIDg",
        "outputId": "f2f0ec9c-0b98-499d-aeb3-6180beee9253"
      },
      "execution_count": null,
      "outputs": [
        {
          "output_type": "stream",
          "name": "stdout",
          "text": [
            "Starting experiment\n",
            "Training examples: 6400, test examples: 1600\n"
          ]
        }
      ]
    },
    {
      "cell_type": "code",
      "source": [
        "e.model"
      ],
      "metadata": {
        "colab": {
          "base_uri": "https://localhost:8080/"
        },
        "id": "m1DoSQizrIqG",
        "outputId": "936544b5-f683-49a2-ea28-5033481a6133"
      },
      "execution_count": null,
      "outputs": [
        {
          "output_type": "execute_result",
          "data": {
            "text/plain": [
              "HopGAT(\n",
              "  (layer0_keys): Embedding(9, 32)\n",
              "  (layer0_values): Embedding(9, 32)\n",
              "  (gat): GATConv(32, 8, heads=4)\n",
              "  (mlp): Linear(in_features=64, out_features=32, bias=True)\n",
              "  (layer_norms): LayerNorm((32,), eps=1e-05, elementwise_affine=True)\n",
              "  (out_layer): Linear(in_features=32, out_features=9, bias=False)\n",
              ")"
            ]
          },
          "metadata": {},
          "execution_count": 18
        }
      ]
    },
    {
      "cell_type": "code",
      "source": [
        "train_acc,test_acc,loss,ThreeHopModel = e.run()"
      ],
      "metadata": {
        "colab": {
          "base_uri": "https://localhost:8080/"
        },
        "id": "bTJz7h7XrKnH",
        "outputId": "48a8425e-66b2-4707-ef16-6a1ec30d27d6"
      },
      "execution_count": null,
      "outputs": [
        {
          "output_type": "stream",
          "name": "stderr",
          "text": [
            "\r  0%|          | 0/120 [00:00<?, ?it/s]/usr/local/lib/python3.8/dist-packages/torch_geometric/deprecation.py:12: UserWarning: 'data.DataLoader' is deprecated, use 'loader.DataLoader' instead\n",
            "  warnings.warn(out)\n"
          ]
        },
        {
          "output_type": "stream",
          "name": "stdout",
          "text": [
            "Training Accuracy:0.30103125\n",
            "Loss:1.1682132482528687\n"
          ]
        },
        {
          "output_type": "stream",
          "name": "stderr",
          "text": [
            "\r  1%|          | 1/120 [00:11<22:33, 11.37s/it]"
          ]
        },
        {
          "output_type": "stream",
          "name": "stdout",
          "text": [
            "Test Accuracy:0.454375\n",
            "Training Accuracy:0.598765625\n",
            "Loss:0.7452203035354614\n"
          ]
        },
        {
          "output_type": "stream",
          "name": "stderr",
          "text": [
            "\r  2%|▏         | 2/120 [00:22<22:14, 11.31s/it]"
          ]
        },
        {
          "output_type": "stream",
          "name": "stdout",
          "text": [
            "Test Accuracy:0.653125\n",
            "Training Accuracy:0.76421875\n",
            "Loss:0.43015193939208984\n"
          ]
        },
        {
          "output_type": "stream",
          "name": "stderr",
          "text": [
            "\r  2%|▎         | 3/120 [00:33<21:51, 11.21s/it]"
          ]
        },
        {
          "output_type": "stream",
          "name": "stdout",
          "text": [
            "Test Accuracy:0.78875\n",
            "Training Accuracy:0.835875\n",
            "Loss:0.24402378499507904\n"
          ]
        },
        {
          "output_type": "stream",
          "name": "stderr",
          "text": [
            "\r  3%|▎         | 4/120 [00:44<21:40, 11.21s/it]"
          ]
        },
        {
          "output_type": "stream",
          "name": "stdout",
          "text": [
            "Test Accuracy:0.84125\n",
            "Training Accuracy:0.896390625\n",
            "Loss:0.18353931605815887\n"
          ]
        },
        {
          "output_type": "stream",
          "name": "stderr",
          "text": [
            "\r  4%|▍         | 5/120 [00:56<21:35, 11.27s/it]"
          ]
        },
        {
          "output_type": "stream",
          "name": "stdout",
          "text": [
            "Test Accuracy:0.87\n",
            "Training Accuracy:0.979671875\n",
            "Loss:0.005567936226725578\n"
          ]
        },
        {
          "output_type": "stream",
          "name": "stderr",
          "text": [
            "\r  5%|▌         | 6/120 [01:07<21:34, 11.35s/it]"
          ]
        },
        {
          "output_type": "stream",
          "name": "stdout",
          "text": [
            "Test Accuracy:1.0\n",
            "Training Accuracy:1.0\n",
            "Loss:0.0024306336417794228\n"
          ]
        },
        {
          "output_type": "stream",
          "name": "stderr",
          "text": [
            "\r  5%|▌         | 6/120 [01:19<25:06, 13.21s/it]"
          ]
        },
        {
          "output_type": "stream",
          "name": "stdout",
          "text": [
            "Test Accuracy:1.0\n"
          ]
        },
        {
          "output_type": "stream",
          "name": "stderr",
          "text": [
            "\n"
          ]
        }
      ]
    },
    {
      "cell_type": "markdown",
      "source": [
        "Easy! Let's try bigger depths. "
      ],
      "metadata": {
        "id": "TAt08iyEOcUa"
      }
    },
    {
      "cell_type": "code",
      "source": [
        "e = HopExperiment(depth = 4,dim = 32,n_heads = 4, train_fraction = 0.8, max_epochs = 50000, batch_size = 1024, eval_every = 100,loader_workers = 7)"
      ],
      "metadata": {
        "colab": {
          "base_uri": "https://localhost:8080/"
        },
        "id": "KKhkRPVArzn4",
        "outputId": "88ab5206-10a8-446f-f8f1-3e871b1c70a2"
      },
      "execution_count": null,
      "outputs": [
        {
          "output_type": "stream",
          "name": "stdout",
          "text": [
            "Starting experiment\n",
            "Training examples: 12800, test examples: 3200\n"
          ]
        }
      ]
    },
    {
      "cell_type": "code",
      "source": [
        "e.model"
      ],
      "metadata": {
        "colab": {
          "base_uri": "https://localhost:8080/"
        },
        "id": "Zhiqm3Dts0TT",
        "outputId": "2c88f0ad-d89e-4313-b180-3012ec6fafff"
      },
      "execution_count": null,
      "outputs": [
        {
          "output_type": "execute_result",
          "data": {
            "text/plain": [
              "HopGAT(\n",
              "  (layer0_keys): Embedding(17, 32)\n",
              "  (layer0_values): Embedding(17, 32)\n",
              "  (gat): GATConv(32, 8, heads=4)\n",
              "  (mlp): Linear(in_features=64, out_features=32, bias=True)\n",
              "  (layer_norms): LayerNorm((32,), eps=1e-05, elementwise_affine=True)\n",
              "  (out_layer): Linear(in_features=32, out_features=17, bias=False)\n",
              ")"
            ]
          },
          "metadata": {},
          "execution_count": 21
        }
      ]
    },
    {
      "cell_type": "code",
      "source": [
        "train_acc,test_acc,loss,FourHopModel = e.run()"
      ],
      "metadata": {
        "colab": {
          "base_uri": "https://localhost:8080/",
          "height": 1000
        },
        "id": "EKRnecDas2yM",
        "outputId": "ff0f3928-9472-43c1-c3c2-2db0713deda2"
      },
      "execution_count": null,
      "outputs": [
        {
          "output_type": "stream",
          "name": "stderr",
          "text": [
            "\r  0%|          | 0/500 [00:00<?, ?it/s]/usr/local/lib/python3.8/dist-packages/torch_geometric/deprecation.py:12: UserWarning: 'data.DataLoader' is deprecated, use 'loader.DataLoader' instead\n",
            "  warnings.warn(out)\n"
          ]
        },
        {
          "output_type": "stream",
          "name": "stdout",
          "text": [
            "Training Accuracy:0.1771859375\n",
            "Loss:2.1592729091644287\n"
          ]
        },
        {
          "output_type": "stream",
          "name": "stderr",
          "text": [
            "\r  0%|          | 1/500 [00:27<3:49:27, 27.59s/it]"
          ]
        },
        {
          "output_type": "stream",
          "name": "stdout",
          "text": [
            "Test Accuracy:0.2171875\n",
            "Training Accuracy:0.29089921875\n",
            "Loss:1.9458181858062744\n"
          ]
        },
        {
          "output_type": "stream",
          "name": "stderr",
          "text": [
            "\r  0%|          | 2/500 [00:54<3:45:03, 27.12s/it]"
          ]
        },
        {
          "output_type": "stream",
          "name": "stdout",
          "text": [
            "Test Accuracy:0.3\n",
            "Training Accuracy:0.4038234375\n",
            "Loss:1.5390088558197021\n"
          ]
        },
        {
          "output_type": "stream",
          "name": "stderr",
          "text": [
            "\r  1%|          | 3/500 [01:21<3:44:46, 27.14s/it]"
          ]
        },
        {
          "output_type": "stream",
          "name": "stdout",
          "text": [
            "Test Accuracy:0.4146875\n",
            "Training Accuracy:0.4973671875\n",
            "Loss:1.3112024068832397\n"
          ]
        },
        {
          "output_type": "stream",
          "name": "stderr",
          "text": [
            "\r  1%|          | 4/500 [01:49<3:45:40, 27.30s/it]"
          ]
        },
        {
          "output_type": "stream",
          "name": "stdout",
          "text": [
            "Test Accuracy:0.4825\n",
            "Training Accuracy:0.54671640625\n",
            "Loss:1.2337186336517334\n"
          ]
        },
        {
          "output_type": "stream",
          "name": "stderr",
          "text": [
            "\r  1%|          | 5/500 [02:16<3:45:24, 27.32s/it]"
          ]
        },
        {
          "output_type": "stream",
          "name": "stdout",
          "text": [
            "Test Accuracy:0.5303125\n",
            "Training Accuracy:0.57504375\n",
            "Loss:1.204176664352417\n"
          ]
        },
        {
          "output_type": "stream",
          "name": "stderr",
          "text": [
            "\r  1%|          | 6/500 [02:43<3:44:50, 27.31s/it]"
          ]
        },
        {
          "output_type": "stream",
          "name": "stdout",
          "text": [
            "Test Accuracy:0.555625\n",
            "Training Accuracy:0.5903890625\n",
            "Loss:1.1986359357833862\n"
          ]
        },
        {
          "output_type": "stream",
          "name": "stderr",
          "text": [
            "\r  1%|▏         | 7/500 [03:11<3:44:18, 27.30s/it]"
          ]
        },
        {
          "output_type": "stream",
          "name": "stdout",
          "text": [
            "Test Accuracy:0.5546875\n",
            "Training Accuracy:0.5981875\n",
            "Loss:1.1128283739089966\n"
          ]
        },
        {
          "output_type": "stream",
          "name": "stderr",
          "text": [
            "\r  2%|▏         | 8/500 [03:38<3:43:38, 27.27s/it]"
          ]
        },
        {
          "output_type": "stream",
          "name": "stdout",
          "text": [
            "Test Accuracy:0.56625\n",
            "Training Accuracy:0.603903125\n",
            "Loss:1.0622676610946655\n"
          ]
        },
        {
          "output_type": "stream",
          "name": "stderr",
          "text": [
            "\r  2%|▏         | 9/500 [04:05<3:43:43, 27.34s/it]"
          ]
        },
        {
          "output_type": "stream",
          "name": "stdout",
          "text": [
            "Test Accuracy:0.5684375\n",
            "Training Accuracy:0.6071203125\n",
            "Loss:1.0462455749511719\n"
          ]
        },
        {
          "output_type": "stream",
          "name": "stderr",
          "text": [
            "\r  2%|▏         | 10/500 [04:33<3:43:17, 27.34s/it]"
          ]
        },
        {
          "output_type": "stream",
          "name": "stdout",
          "text": [
            "Test Accuracy:0.5790625\n",
            "Training Accuracy:0.6148046875\n",
            "Loss:1.0869553089141846\n"
          ]
        },
        {
          "output_type": "stream",
          "name": "stderr",
          "text": [
            "\r  2%|▏         | 11/500 [05:00<3:42:34, 27.31s/it]"
          ]
        },
        {
          "output_type": "stream",
          "name": "stdout",
          "text": [
            "Test Accuracy:0.5890625\n",
            "Training Accuracy:0.62650234375\n",
            "Loss:0.981914758682251\n"
          ]
        },
        {
          "output_type": "stream",
          "name": "stderr",
          "text": [
            "\r  2%|▏         | 12/500 [05:27<3:41:52, 27.28s/it]"
          ]
        },
        {
          "output_type": "stream",
          "name": "stdout",
          "text": [
            "Test Accuracy:0.600625\n",
            "Training Accuracy:0.63353515625\n",
            "Loss:0.9741618633270264\n"
          ]
        },
        {
          "output_type": "stream",
          "name": "stderr",
          "text": [
            "\r  3%|▎         | 13/500 [05:55<3:42:07, 27.37s/it]"
          ]
        },
        {
          "output_type": "stream",
          "name": "stdout",
          "text": [
            "Test Accuracy:0.6146875\n",
            "Training Accuracy:0.6512734375\n",
            "Loss:0.897200882434845\n"
          ]
        },
        {
          "output_type": "stream",
          "name": "stderr",
          "text": [
            "\r  3%|▎         | 14/500 [06:22<3:42:24, 27.46s/it]"
          ]
        },
        {
          "output_type": "stream",
          "name": "stdout",
          "text": [
            "Test Accuracy:0.619375\n",
            "Training Accuracy:0.66683984375\n",
            "Loss:0.8703389167785645\n"
          ]
        },
        {
          "output_type": "stream",
          "name": "stderr",
          "text": [
            "\r  3%|▎         | 15/500 [06:50<3:41:51, 27.45s/it]"
          ]
        },
        {
          "output_type": "stream",
          "name": "stdout",
          "text": [
            "Test Accuracy:0.648125\n",
            "Training Accuracy:0.70351640625\n",
            "Loss:0.7656790614128113\n"
          ]
        },
        {
          "output_type": "stream",
          "name": "stderr",
          "text": [
            "\r  3%|▎         | 16/500 [07:17<3:41:28, 27.46s/it]"
          ]
        },
        {
          "output_type": "stream",
          "name": "stdout",
          "text": [
            "Test Accuracy:0.68125\n",
            "Training Accuracy:0.7513546875\n",
            "Loss:0.5774926543235779\n"
          ]
        },
        {
          "output_type": "stream",
          "name": "stderr",
          "text": [
            "\r  3%|▎         | 17/500 [07:45<3:41:16, 27.49s/it]"
          ]
        },
        {
          "output_type": "stream",
          "name": "stdout",
          "text": [
            "Test Accuracy:0.723125\n",
            "Training Accuracy:0.78257421875\n",
            "Loss:0.5238744616508484\n"
          ]
        },
        {
          "output_type": "stream",
          "name": "stderr",
          "text": [
            "\r  4%|▎         | 18/500 [08:13<3:42:14, 27.66s/it]"
          ]
        },
        {
          "output_type": "stream",
          "name": "stdout",
          "text": [
            "Test Accuracy:0.7571875\n",
            "Training Accuracy:0.8012890625\n",
            "Loss:0.4849911034107208\n"
          ]
        },
        {
          "output_type": "stream",
          "name": "stderr",
          "text": [
            "\r  4%|▍         | 19/500 [08:42<3:45:42, 28.15s/it]"
          ]
        },
        {
          "output_type": "stream",
          "name": "stdout",
          "text": [
            "Test Accuracy:0.7753125\n",
            "Training Accuracy:0.8100875\n",
            "Loss:0.5389187932014465\n"
          ]
        },
        {
          "output_type": "stream",
          "name": "stderr",
          "text": [
            "\r  4%|▍         | 20/500 [09:11<3:46:47, 28.35s/it]"
          ]
        },
        {
          "output_type": "stream",
          "name": "stdout",
          "text": [
            "Test Accuracy:0.7646875\n",
            "Training Accuracy:0.817075\n",
            "Loss:0.5050325393676758\n"
          ]
        },
        {
          "output_type": "stream",
          "name": "stderr",
          "text": [
            "\r  4%|▍         | 21/500 [09:39<3:45:46, 28.28s/it]"
          ]
        },
        {
          "output_type": "stream",
          "name": "stdout",
          "text": [
            "Test Accuracy:0.7746875\n",
            "Training Accuracy:0.82213828125\n",
            "Loss:0.4100628197193146\n"
          ]
        },
        {
          "output_type": "stream",
          "name": "stderr",
          "text": [
            "\r  4%|▍         | 22/500 [10:07<3:44:42, 28.21s/it]"
          ]
        },
        {
          "output_type": "stream",
          "name": "stdout",
          "text": [
            "Test Accuracy:0.794375\n",
            "Training Accuracy:0.82654296875\n",
            "Loss:0.5004947185516357\n"
          ]
        },
        {
          "output_type": "stream",
          "name": "stderr",
          "text": [
            "\r  5%|▍         | 23/500 [10:35<3:44:47, 28.28s/it]"
          ]
        },
        {
          "output_type": "stream",
          "name": "stdout",
          "text": [
            "Test Accuracy:0.799375\n",
            "Training Accuracy:0.8308359375\n",
            "Loss:0.47583886981010437\n"
          ]
        },
        {
          "output_type": "stream",
          "name": "stderr",
          "text": [
            "\r  5%|▍         | 24/500 [11:03<3:43:27, 28.17s/it]"
          ]
        },
        {
          "output_type": "stream",
          "name": "stdout",
          "text": [
            "Test Accuracy:0.7903125\n",
            "Training Accuracy:0.8322859375\n",
            "Loss:0.40868476033210754\n"
          ]
        },
        {
          "output_type": "stream",
          "name": "stderr",
          "text": [
            "\r  5%|▌         | 25/500 [11:32<3:43:21, 28.21s/it]"
          ]
        },
        {
          "output_type": "stream",
          "name": "stdout",
          "text": [
            "Test Accuracy:0.801875\n",
            "Training Accuracy:0.8355578125\n",
            "Loss:0.3903540372848511\n"
          ]
        },
        {
          "output_type": "stream",
          "name": "stderr",
          "text": [
            "\r  5%|▌         | 26/500 [12:00<3:43:16, 28.26s/it]"
          ]
        },
        {
          "output_type": "stream",
          "name": "stdout",
          "text": [
            "Test Accuracy:0.804375\n",
            "Training Accuracy:0.83691484375\n",
            "Loss:0.4167853891849518\n"
          ]
        },
        {
          "output_type": "stream",
          "name": "stderr",
          "text": [
            "\r  5%|▌         | 27/500 [12:29<3:43:17, 28.32s/it]"
          ]
        },
        {
          "output_type": "stream",
          "name": "stdout",
          "text": [
            "Test Accuracy:0.7940625\n",
            "Training Accuracy:0.84025859375\n",
            "Loss:0.4889824092388153\n"
          ]
        },
        {
          "output_type": "stream",
          "name": "stderr",
          "text": [
            "\r  6%|▌         | 28/500 [12:57<3:42:28, 28.28s/it]"
          ]
        },
        {
          "output_type": "stream",
          "name": "stdout",
          "text": [
            "Test Accuracy:0.8075\n",
            "Training Accuracy:0.8412828125\n",
            "Loss:0.4255432188510895\n"
          ]
        },
        {
          "output_type": "stream",
          "name": "stderr",
          "text": [
            "\r  6%|▌         | 29/500 [13:25<3:41:43, 28.25s/it]"
          ]
        },
        {
          "output_type": "stream",
          "name": "stdout",
          "text": [
            "Test Accuracy:0.8075\n",
            "Training Accuracy:0.843428125\n",
            "Loss:0.4158554971218109\n"
          ]
        },
        {
          "output_type": "stream",
          "name": "stderr",
          "text": [
            "\r  6%|▌         | 30/500 [13:53<3:40:32, 28.15s/it]"
          ]
        },
        {
          "output_type": "stream",
          "name": "stdout",
          "text": [
            "Test Accuracy:0.7915625\n",
            "Training Accuracy:0.8461546875\n",
            "Loss:0.425487220287323\n"
          ]
        },
        {
          "output_type": "stream",
          "name": "stderr",
          "text": [
            "\r  6%|▌         | 31/500 [14:21<3:40:28, 28.21s/it]"
          ]
        },
        {
          "output_type": "stream",
          "name": "stdout",
          "text": [
            "Test Accuracy:0.801875\n",
            "Training Accuracy:0.84756015625\n",
            "Loss:0.39732134342193604\n"
          ]
        },
        {
          "output_type": "stream",
          "name": "stderr",
          "text": [
            "\r  6%|▋         | 32/500 [14:49<3:39:34, 28.15s/it]"
          ]
        },
        {
          "output_type": "stream",
          "name": "stdout",
          "text": [
            "Test Accuracy:0.803125\n",
            "Training Accuracy:0.847603125\n",
            "Loss:0.374329149723053\n"
          ]
        },
        {
          "output_type": "stream",
          "name": "stderr",
          "text": [
            "\r  7%|▋         | 33/500 [15:17<3:39:19, 28.18s/it]"
          ]
        },
        {
          "output_type": "stream",
          "name": "stdout",
          "text": [
            "Test Accuracy:0.8065625\n",
            "Training Accuracy:0.85068828125\n",
            "Loss:0.4343472123146057\n"
          ]
        },
        {
          "output_type": "stream",
          "name": "stderr",
          "text": [
            "\r  7%|▋         | 34/500 [15:46<3:39:06, 28.21s/it]"
          ]
        },
        {
          "output_type": "stream",
          "name": "stdout",
          "text": [
            "Test Accuracy:0.80625\n",
            "Training Accuracy:0.85187265625\n",
            "Loss:0.33705130219459534\n"
          ]
        },
        {
          "output_type": "stream",
          "name": "stderr",
          "text": [
            "\r  7%|▋         | 35/500 [16:14<3:39:23, 28.31s/it]"
          ]
        },
        {
          "output_type": "stream",
          "name": "stdout",
          "text": [
            "Test Accuracy:0.81\n",
            "Training Accuracy:0.851971875\n",
            "Loss:0.3846283257007599\n"
          ]
        },
        {
          "output_type": "stream",
          "name": "stderr",
          "text": [
            "\r  7%|▋         | 36/500 [16:43<3:39:44, 28.41s/it]"
          ]
        },
        {
          "output_type": "stream",
          "name": "stdout",
          "text": [
            "Test Accuracy:0.8128125\n",
            "Training Accuracy:0.85366640625\n",
            "Loss:0.40513867139816284\n"
          ]
        },
        {
          "output_type": "stream",
          "name": "stderr",
          "text": [
            "\r  7%|▋         | 37/500 [17:11<3:38:30, 28.32s/it]"
          ]
        },
        {
          "output_type": "stream",
          "name": "stdout",
          "text": [
            "Test Accuracy:0.8115625\n",
            "Training Accuracy:0.854484375\n",
            "Loss:0.4190959334373474\n"
          ]
        },
        {
          "output_type": "stream",
          "name": "stderr",
          "text": [
            "\r  8%|▊         | 38/500 [17:39<3:36:57, 28.18s/it]"
          ]
        },
        {
          "output_type": "stream",
          "name": "stdout",
          "text": [
            "Test Accuracy:0.820625\n",
            "Training Accuracy:0.8552703125\n",
            "Loss:0.3927638828754425\n"
          ]
        },
        {
          "output_type": "stream",
          "name": "stderr",
          "text": [
            "\r  8%|▊         | 39/500 [18:07<3:36:03, 28.12s/it]"
          ]
        },
        {
          "output_type": "stream",
          "name": "stdout",
          "text": [
            "Test Accuracy:0.8209375\n",
            "Training Accuracy:0.85596953125\n",
            "Loss:0.39891868829727173\n"
          ]
        },
        {
          "output_type": "stream",
          "name": "stderr",
          "text": [
            "\r  8%|▊         | 40/500 [18:35<3:35:01, 28.05s/it]"
          ]
        },
        {
          "output_type": "stream",
          "name": "stdout",
          "text": [
            "Test Accuracy:0.82625\n",
            "Training Accuracy:0.85703046875\n",
            "Loss:0.3768899142742157\n"
          ]
        },
        {
          "output_type": "stream",
          "name": "stderr",
          "text": [
            "\r  8%|▊         | 41/500 [19:03<3:34:33, 28.05s/it]"
          ]
        },
        {
          "output_type": "stream",
          "name": "stdout",
          "text": [
            "Test Accuracy:0.7959375\n",
            "Training Accuracy:0.85889375\n",
            "Loss:0.3434680998325348\n"
          ]
        },
        {
          "output_type": "stream",
          "name": "stderr",
          "text": [
            "\r  8%|▊         | 42/500 [19:31<3:34:28, 28.10s/it]"
          ]
        },
        {
          "output_type": "stream",
          "name": "stdout",
          "text": [
            "Test Accuracy:0.8246875\n",
            "Training Accuracy:0.858940625\n",
            "Loss:0.3743100166320801\n"
          ]
        },
        {
          "output_type": "stream",
          "name": "stderr",
          "text": [
            "\r  9%|▊         | 43/500 [19:59<3:34:56, 28.22s/it]"
          ]
        },
        {
          "output_type": "stream",
          "name": "stdout",
          "text": [
            "Test Accuracy:0.805\n",
            "Training Accuracy:0.85948515625\n",
            "Loss:0.35816797614097595\n"
          ]
        },
        {
          "output_type": "stream",
          "name": "stderr",
          "text": [
            "\r  9%|▉         | 44/500 [20:28<3:35:10, 28.31s/it]"
          ]
        },
        {
          "output_type": "stream",
          "name": "stdout",
          "text": [
            "Test Accuracy:0.810625\n",
            "Training Accuracy:0.86090859375\n",
            "Loss:0.3805479407310486\n"
          ]
        },
        {
          "output_type": "stream",
          "name": "stderr",
          "text": [
            "\r  9%|▉         | 45/500 [20:56<3:34:54, 28.34s/it]"
          ]
        },
        {
          "output_type": "stream",
          "name": "stdout",
          "text": [
            "Test Accuracy:0.8259375\n",
            "Training Accuracy:0.85986328125\n",
            "Loss:0.33253538608551025\n"
          ]
        },
        {
          "output_type": "stream",
          "name": "stderr",
          "text": [
            "\r  9%|▉         | 46/500 [21:24<3:33:17, 28.19s/it]"
          ]
        },
        {
          "output_type": "stream",
          "name": "stdout",
          "text": [
            "Test Accuracy:0.805625\n",
            "Training Accuracy:0.8624203125\n",
            "Loss:0.3684585988521576\n"
          ]
        },
        {
          "output_type": "stream",
          "name": "stderr",
          "text": [
            "\r  9%|▉         | 47/500 [21:52<3:32:39, 28.17s/it]"
          ]
        },
        {
          "output_type": "stream",
          "name": "stdout",
          "text": [
            "Test Accuracy:0.808125\n",
            "Training Accuracy:0.8625671875\n",
            "Loss:0.29765135049819946\n"
          ]
        },
        {
          "output_type": "stream",
          "name": "stderr",
          "text": [
            "\r 10%|▉         | 48/500 [22:20<3:31:37, 28.09s/it]"
          ]
        },
        {
          "output_type": "stream",
          "name": "stdout",
          "text": [
            "Test Accuracy:0.8159375\n",
            "Training Accuracy:0.86358046875\n",
            "Loss:0.4011606276035309\n"
          ]
        },
        {
          "output_type": "stream",
          "name": "stderr",
          "text": [
            "\r 10%|▉         | 49/500 [22:48<3:30:11, 27.96s/it]"
          ]
        },
        {
          "output_type": "stream",
          "name": "stdout",
          "text": [
            "Test Accuracy:0.82375\n",
            "Training Accuracy:0.86393203125\n",
            "Loss:0.4351026117801666\n"
          ]
        },
        {
          "output_type": "stream",
          "name": "stderr",
          "text": [
            "\r 10%|█         | 50/500 [23:16<3:29:43, 27.96s/it]"
          ]
        },
        {
          "output_type": "stream",
          "name": "stdout",
          "text": [
            "Test Accuracy:0.835625\n",
            "Training Accuracy:0.8654875\n",
            "Loss:0.3632935583591461\n"
          ]
        },
        {
          "output_type": "stream",
          "name": "stderr",
          "text": [
            "\r 10%|█         | 51/500 [23:44<3:29:34, 28.00s/it]"
          ]
        },
        {
          "output_type": "stream",
          "name": "stdout",
          "text": [
            "Test Accuracy:0.829375\n",
            "Training Accuracy:0.864796875\n",
            "Loss:0.3403397798538208\n"
          ]
        },
        {
          "output_type": "stream",
          "name": "stderr",
          "text": [
            "\r 10%|█         | 52/500 [24:12<3:28:46, 27.96s/it]"
          ]
        },
        {
          "output_type": "stream",
          "name": "stdout",
          "text": [
            "Test Accuracy:0.83125\n",
            "Training Accuracy:0.86574609375\n",
            "Loss:0.35159480571746826\n"
          ]
        },
        {
          "output_type": "stream",
          "name": "stderr",
          "text": [
            "\r 11%|█         | 53/500 [24:41<3:30:15, 28.22s/it]"
          ]
        },
        {
          "output_type": "stream",
          "name": "stdout",
          "text": [
            "Test Accuracy:0.8046875\n",
            "Training Accuracy:0.86562734375\n",
            "Loss:0.33311545848846436\n"
          ]
        },
        {
          "output_type": "stream",
          "name": "stderr",
          "text": [
            "\r 11%|█         | 54/500 [25:09<3:28:54, 28.10s/it]"
          ]
        },
        {
          "output_type": "stream",
          "name": "stdout",
          "text": [
            "Test Accuracy:0.8271875\n",
            "Training Accuracy:0.86718125\n",
            "Loss:0.3451385498046875\n"
          ]
        },
        {
          "output_type": "stream",
          "name": "stderr",
          "text": [
            "\r 11%|█         | 55/500 [25:37<3:28:26, 28.11s/it]"
          ]
        },
        {
          "output_type": "stream",
          "name": "stdout",
          "text": [
            "Test Accuracy:0.8253125\n",
            "Training Accuracy:0.8664328125\n",
            "Loss:0.3315121829509735\n"
          ]
        },
        {
          "output_type": "stream",
          "name": "stderr",
          "text": [
            "\r 11%|█         | 56/500 [26:04<3:27:12, 28.00s/it]"
          ]
        },
        {
          "output_type": "stream",
          "name": "stdout",
          "text": [
            "Test Accuracy:0.8228125\n",
            "Training Accuracy:0.86702421875\n",
            "Loss:0.3477943539619446\n"
          ]
        },
        {
          "output_type": "stream",
          "name": "stderr",
          "text": [
            "\r 11%|█▏        | 57/500 [26:33<3:27:18, 28.08s/it]"
          ]
        },
        {
          "output_type": "stream",
          "name": "stdout",
          "text": [
            "Test Accuracy:0.840625\n",
            "Training Accuracy:0.86863828125\n",
            "Loss:0.2973903715610504\n"
          ]
        },
        {
          "output_type": "stream",
          "name": "stderr",
          "text": [
            "\r 12%|█▏        | 58/500 [27:00<3:26:08, 27.98s/it]"
          ]
        },
        {
          "output_type": "stream",
          "name": "stdout",
          "text": [
            "Test Accuracy:0.809375\n",
            "Training Accuracy:0.868565625\n",
            "Loss:0.3244832456111908\n"
          ]
        },
        {
          "output_type": "stream",
          "name": "stderr",
          "text": [
            "\r 12%|█▏        | 59/500 [27:28<3:24:48, 27.86s/it]"
          ]
        },
        {
          "output_type": "stream",
          "name": "stdout",
          "text": [
            "Test Accuracy:0.8359375\n",
            "Training Accuracy:0.8698625\n",
            "Loss:0.30341190099716187\n"
          ]
        },
        {
          "output_type": "stream",
          "name": "stderr",
          "text": [
            "\r 12%|█▏        | 60/500 [27:56<3:23:51, 27.80s/it]"
          ]
        },
        {
          "output_type": "stream",
          "name": "stdout",
          "text": [
            "Test Accuracy:0.8084375\n",
            "Training Accuracy:0.86850859375\n",
            "Loss:0.32712069153785706\n"
          ]
        },
        {
          "output_type": "stream",
          "name": "stderr",
          "text": [
            "\r 12%|█▏        | 61/500 [28:23<3:22:44, 27.71s/it]"
          ]
        },
        {
          "output_type": "stream",
          "name": "stdout",
          "text": [
            "Test Accuracy:0.815625\n",
            "Training Accuracy:0.86958984375\n",
            "Loss:0.3351703882217407\n"
          ]
        },
        {
          "output_type": "stream",
          "name": "stderr",
          "text": [
            "\r 12%|█▏        | 62/500 [28:51<3:22:35, 27.75s/it]"
          ]
        },
        {
          "output_type": "stream",
          "name": "stdout",
          "text": [
            "Test Accuracy:0.8325\n",
            "Training Accuracy:0.86952109375\n",
            "Loss:0.39975130558013916\n"
          ]
        },
        {
          "output_type": "stream",
          "name": "stderr",
          "text": [
            "\r 13%|█▎        | 63/500 [29:18<3:21:12, 27.63s/it]"
          ]
        },
        {
          "output_type": "stream",
          "name": "stdout",
          "text": [
            "Test Accuracy:0.8184375\n",
            "Training Accuracy:0.86925859375\n",
            "Loss:0.32338857650756836\n"
          ]
        },
        {
          "output_type": "stream",
          "name": "stderr",
          "text": [
            "\r 13%|█▎        | 64/500 [29:45<3:19:16, 27.42s/it]"
          ]
        },
        {
          "output_type": "stream",
          "name": "stdout",
          "text": [
            "Test Accuracy:0.83125\n",
            "Training Accuracy:0.87025234375\n",
            "Loss:0.3380317986011505\n"
          ]
        },
        {
          "output_type": "stream",
          "name": "stderr",
          "text": [
            "\r 13%|█▎        | 65/500 [30:13<3:19:02, 27.45s/it]"
          ]
        },
        {
          "output_type": "stream",
          "name": "stdout",
          "text": [
            "Test Accuracy:0.8171875\n",
            "Training Accuracy:0.8698578125\n",
            "Loss:0.32155027985572815\n"
          ]
        },
        {
          "output_type": "stream",
          "name": "stderr",
          "text": [
            "\r 13%|█▎        | 66/500 [30:41<3:19:06, 27.53s/it]"
          ]
        },
        {
          "output_type": "stream",
          "name": "stdout",
          "text": [
            "Test Accuracy:0.825625\n",
            "Training Accuracy:0.871984375\n",
            "Loss:0.33263564109802246\n"
          ]
        },
        {
          "output_type": "stream",
          "name": "stderr",
          "text": [
            "\r 13%|█▎        | 67/500 [31:08<3:18:35, 27.52s/it]"
          ]
        },
        {
          "output_type": "stream",
          "name": "stdout",
          "text": [
            "Test Accuracy:0.836875\n",
            "Training Accuracy:0.87099375\n",
            "Loss:0.3437001705169678\n"
          ]
        },
        {
          "output_type": "stream",
          "name": "stderr",
          "text": [
            "\r 14%|█▎        | 68/500 [31:36<3:18:06, 27.52s/it]"
          ]
        },
        {
          "output_type": "stream",
          "name": "stdout",
          "text": [
            "Test Accuracy:0.8225\n",
            "Training Accuracy:0.8707296875\n",
            "Loss:0.28282690048217773\n"
          ]
        },
        {
          "output_type": "stream",
          "name": "stderr",
          "text": [
            "\r 14%|█▍        | 69/500 [32:03<3:16:46, 27.39s/it]"
          ]
        },
        {
          "output_type": "stream",
          "name": "stdout",
          "text": [
            "Test Accuracy:0.8290625\n",
            "Training Accuracy:0.8733578125\n",
            "Loss:0.25627264380455017\n"
          ]
        },
        {
          "output_type": "stream",
          "name": "stderr",
          "text": [
            "\r 14%|█▍        | 70/500 [32:30<3:15:35, 27.29s/it]"
          ]
        },
        {
          "output_type": "stream",
          "name": "stdout",
          "text": [
            "Test Accuracy:0.83\n",
            "Training Accuracy:0.8725125\n",
            "Loss:0.29705917835235596\n"
          ]
        },
        {
          "output_type": "stream",
          "name": "stderr",
          "text": [
            "\r 14%|█▍        | 71/500 [32:57<3:16:08, 27.43s/it]"
          ]
        },
        {
          "output_type": "stream",
          "name": "stdout",
          "text": [
            "Test Accuracy:0.8271875\n",
            "Training Accuracy:0.87252578125\n",
            "Loss:0.3871229887008667\n"
          ]
        },
        {
          "output_type": "stream",
          "name": "stderr",
          "text": [
            "\r 14%|█▍        | 72/500 [33:27<3:19:18, 27.94s/it]"
          ]
        },
        {
          "output_type": "stream",
          "name": "stdout",
          "text": [
            "Test Accuracy:0.831875\n",
            "Training Accuracy:0.87401015625\n",
            "Loss:0.3449316620826721\n"
          ]
        },
        {
          "output_type": "stream",
          "name": "stderr",
          "text": [
            "\r 15%|█▍        | 73/500 [33:55<3:19:04, 27.97s/it]"
          ]
        },
        {
          "output_type": "stream",
          "name": "stdout",
          "text": [
            "Test Accuracy:0.8296875\n",
            "Training Accuracy:0.87429375\n",
            "Loss:0.34101131558418274\n"
          ]
        },
        {
          "output_type": "stream",
          "name": "stderr",
          "text": [
            "\r 15%|█▍        | 74/500 [34:23<3:18:39, 27.98s/it]"
          ]
        },
        {
          "output_type": "stream",
          "name": "stdout",
          "text": [
            "Test Accuracy:0.82625\n",
            "Training Accuracy:0.87402890625\n",
            "Loss:0.3403691053390503\n"
          ]
        },
        {
          "output_type": "stream",
          "name": "stderr",
          "text": [
            "\r 15%|█▌        | 75/500 [34:51<3:18:55, 28.08s/it]"
          ]
        },
        {
          "output_type": "stream",
          "name": "stdout",
          "text": [
            "Test Accuracy:0.816875\n",
            "Training Accuracy:0.87382578125\n",
            "Loss:0.31021690368652344\n"
          ]
        },
        {
          "output_type": "stream",
          "name": "stderr",
          "text": [
            "\r 15%|█▌        | 76/500 [35:20<3:20:06, 28.32s/it]"
          ]
        },
        {
          "output_type": "stream",
          "name": "stdout",
          "text": [
            "Test Accuracy:0.823125\n",
            "Training Accuracy:0.87455859375\n",
            "Loss:0.3560726046562195\n"
          ]
        },
        {
          "output_type": "stream",
          "name": "stderr",
          "text": [
            "\r 15%|█▌        | 77/500 [35:49<3:21:00, 28.51s/it]"
          ]
        },
        {
          "output_type": "stream",
          "name": "stdout",
          "text": [
            "Test Accuracy:0.826875\n",
            "Training Accuracy:0.8736078125\n",
            "Loss:0.30956530570983887\n"
          ]
        },
        {
          "output_type": "stream",
          "name": "stderr",
          "text": [
            "\r 16%|█▌        | 78/500 [36:16<3:18:44, 28.26s/it]"
          ]
        },
        {
          "output_type": "stream",
          "name": "stdout",
          "text": [
            "Test Accuracy:0.8415625\n",
            "Training Accuracy:0.87396484375\n",
            "Loss:0.2680249512195587\n"
          ]
        },
        {
          "output_type": "stream",
          "name": "stderr",
          "text": [
            "\r 16%|█▌        | 79/500 [36:45<3:18:27, 28.28s/it]"
          ]
        },
        {
          "output_type": "stream",
          "name": "stdout",
          "text": [
            "Test Accuracy:0.829375\n",
            "Training Accuracy:0.874746875\n",
            "Loss:0.29908743500709534\n"
          ]
        },
        {
          "output_type": "stream",
          "name": "stderr",
          "text": [
            "\r 16%|█▌        | 80/500 [37:13<3:18:04, 28.30s/it]"
          ]
        },
        {
          "output_type": "stream",
          "name": "stdout",
          "text": [
            "Test Accuracy:0.8315625\n",
            "Training Accuracy:0.8763359375\n",
            "Loss:0.35970842838287354\n"
          ]
        },
        {
          "output_type": "stream",
          "name": "stderr",
          "text": [
            "\r 16%|█▌        | 81/500 [37:41<3:16:38, 28.16s/it]"
          ]
        },
        {
          "output_type": "stream",
          "name": "stdout",
          "text": [
            "Test Accuracy:0.82125\n",
            "Training Accuracy:0.875415625\n",
            "Loss:0.26452934741973877\n"
          ]
        },
        {
          "output_type": "stream",
          "name": "stderr",
          "text": [
            "\r 16%|█▋        | 82/500 [38:09<3:15:54, 28.12s/it]"
          ]
        },
        {
          "output_type": "stream",
          "name": "stdout",
          "text": [
            "Test Accuracy:0.8434375\n",
            "Training Accuracy:0.8770234375\n",
            "Loss:0.28386521339416504\n"
          ]
        },
        {
          "output_type": "stream",
          "name": "stderr",
          "text": [
            "\r 17%|█▋        | 83/500 [38:37<3:14:43, 28.02s/it]"
          ]
        },
        {
          "output_type": "stream",
          "name": "stdout",
          "text": [
            "Test Accuracy:0.835\n",
            "Training Accuracy:0.87796953125\n",
            "Loss:0.32128244638442993\n"
          ]
        },
        {
          "output_type": "stream",
          "name": "stderr",
          "text": [
            "\r 17%|█▋        | 84/500 [39:04<3:12:54, 27.82s/it]"
          ]
        },
        {
          "output_type": "stream",
          "name": "stdout",
          "text": [
            "Test Accuracy:0.823125\n",
            "Training Accuracy:0.87454375\n",
            "Loss:0.378894180059433\n"
          ]
        },
        {
          "output_type": "stream",
          "name": "stderr",
          "text": [
            "\r 17%|█▋        | 85/500 [39:32<3:13:06, 27.92s/it]"
          ]
        },
        {
          "output_type": "stream",
          "name": "stdout",
          "text": [
            "Test Accuracy:0.8365625\n",
            "Training Accuracy:0.87798515625\n",
            "Loss:0.298843652009964\n"
          ]
        },
        {
          "output_type": "stream",
          "name": "stderr",
          "text": [
            "\r 17%|█▋        | 86/500 [39:59<3:11:00, 27.68s/it]"
          ]
        },
        {
          "output_type": "stream",
          "name": "stdout",
          "text": [
            "Test Accuracy:0.8415625\n",
            "Training Accuracy:0.87669921875\n",
            "Loss:0.31374937295913696\n"
          ]
        },
        {
          "output_type": "stream",
          "name": "stderr",
          "text": [
            "\r 17%|█▋        | 87/500 [40:27<3:10:24, 27.66s/it]"
          ]
        },
        {
          "output_type": "stream",
          "name": "stdout",
          "text": [
            "Test Accuracy:0.8228125\n",
            "Training Accuracy:0.8780625\n",
            "Loss:0.3299410045146942\n"
          ]
        },
        {
          "output_type": "stream",
          "name": "stderr",
          "text": [
            "\r 18%|█▊        | 88/500 [40:54<3:08:50, 27.50s/it]"
          ]
        },
        {
          "output_type": "stream",
          "name": "stdout",
          "text": [
            "Test Accuracy:0.8225\n",
            "Training Accuracy:0.87733828125\n",
            "Loss:0.31865164637565613\n"
          ]
        },
        {
          "output_type": "stream",
          "name": "stderr",
          "text": [
            "\r 18%|█▊        | 89/500 [41:22<3:09:42, 27.69s/it]"
          ]
        },
        {
          "output_type": "stream",
          "name": "stdout",
          "text": [
            "Test Accuracy:0.838125\n",
            "Training Accuracy:0.87827265625\n",
            "Loss:0.3380531370639801\n"
          ]
        },
        {
          "output_type": "stream",
          "name": "stderr",
          "text": [
            "\r 18%|█▊        | 90/500 [41:50<3:09:02, 27.66s/it]"
          ]
        },
        {
          "output_type": "stream",
          "name": "stdout",
          "text": [
            "Test Accuracy:0.833125\n",
            "Training Accuracy:0.878390625\n",
            "Loss:0.3659883737564087\n"
          ]
        },
        {
          "output_type": "stream",
          "name": "stderr",
          "text": [
            "\r 18%|█▊        | 91/500 [42:17<3:08:25, 27.64s/it]"
          ]
        },
        {
          "output_type": "stream",
          "name": "stdout",
          "text": [
            "Test Accuracy:0.82375\n",
            "Training Accuracy:0.878390625\n",
            "Loss:0.3123917877674103\n"
          ]
        },
        {
          "output_type": "stream",
          "name": "stderr",
          "text": [
            "\r 18%|█▊        | 92/500 [42:45<3:07:19, 27.55s/it]"
          ]
        },
        {
          "output_type": "stream",
          "name": "stdout",
          "text": [
            "Test Accuracy:0.8234375\n",
            "Training Accuracy:0.878021875\n",
            "Loss:0.3277294337749481\n"
          ]
        },
        {
          "output_type": "stream",
          "name": "stderr",
          "text": [
            "\r 19%|█▊        | 93/500 [43:12<3:06:06, 27.44s/it]"
          ]
        },
        {
          "output_type": "stream",
          "name": "stdout",
          "text": [
            "Test Accuracy:0.8378125\n",
            "Training Accuracy:0.87774921875\n",
            "Loss:0.2920461893081665\n"
          ]
        },
        {
          "output_type": "stream",
          "name": "stderr",
          "text": [
            "\r 19%|█▉        | 94/500 [43:39<3:05:36, 27.43s/it]"
          ]
        },
        {
          "output_type": "stream",
          "name": "stdout",
          "text": [
            "Test Accuracy:0.839375\n",
            "Training Accuracy:0.879609375\n",
            "Loss:0.2554289400577545\n"
          ]
        },
        {
          "output_type": "stream",
          "name": "stderr",
          "text": [
            "\r 19%|█▉        | 95/500 [44:08<3:07:14, 27.74s/it]"
          ]
        },
        {
          "output_type": "stream",
          "name": "stdout",
          "text": [
            "Test Accuracy:0.834375\n",
            "Training Accuracy:0.8787109375\n",
            "Loss:0.28698939085006714\n"
          ]
        },
        {
          "output_type": "stream",
          "name": "stderr",
          "text": [
            "\r 19%|█▉        | 96/500 [44:36<3:06:49, 27.75s/it]"
          ]
        },
        {
          "output_type": "stream",
          "name": "stdout",
          "text": [
            "Test Accuracy:0.836875\n",
            "Training Accuracy:0.8806453125\n",
            "Loss:0.3429131507873535\n"
          ]
        },
        {
          "output_type": "stream",
          "name": "stderr",
          "text": [
            "\r 19%|█▉        | 97/500 [45:03<3:05:29, 27.62s/it]"
          ]
        },
        {
          "output_type": "stream",
          "name": "stdout",
          "text": [
            "Test Accuracy:0.825\n",
            "Training Accuracy:0.8796046875\n",
            "Loss:0.29067298769950867\n"
          ]
        },
        {
          "output_type": "stream",
          "name": "stderr",
          "text": [
            "\r 20%|█▉        | 98/500 [45:31<3:06:54, 27.90s/it]"
          ]
        },
        {
          "output_type": "stream",
          "name": "stdout",
          "text": [
            "Test Accuracy:0.8440625\n",
            "Training Accuracy:0.8784359375\n",
            "Loss:0.2932887077331543\n"
          ]
        },
        {
          "output_type": "stream",
          "name": "stderr",
          "text": [
            "\r 20%|█▉        | 99/500 [46:00<3:08:05, 28.14s/it]"
          ]
        },
        {
          "output_type": "stream",
          "name": "stdout",
          "text": [
            "Test Accuracy:0.8353125\n",
            "Training Accuracy:0.8798921875\n",
            "Loss:0.288528174161911\n"
          ]
        },
        {
          "output_type": "stream",
          "name": "stderr",
          "text": [
            "\r 20%|██        | 100/500 [46:28<3:06:39, 28.00s/it]"
          ]
        },
        {
          "output_type": "stream",
          "name": "stdout",
          "text": [
            "Test Accuracy:0.82125\n"
          ]
        },
        {
          "output_type": "stream",
          "name": "stderr",
          "text": [
            "\r 20%|██        | 100/500 [46:31<3:06:07, 27.92s/it]\n"
          ]
        },
        {
          "output_type": "error",
          "ename": "KeyboardInterrupt",
          "evalue": "ignored",
          "traceback": [
            "\u001b[0;31m---------------------------------------------------------------------------\u001b[0m",
            "\u001b[0;31mKeyboardInterrupt\u001b[0m                         Traceback (most recent call last)",
            "\u001b[0;32m<ipython-input-22-3fcfa704d76f>\u001b[0m in \u001b[0;36m<module>\u001b[0;34m\u001b[0m\n\u001b[0;32m----> 1\u001b[0;31m \u001b[0mtrain_acc\u001b[0m\u001b[0;34m,\u001b[0m\u001b[0mtest_acc\u001b[0m\u001b[0;34m,\u001b[0m\u001b[0mloss\u001b[0m\u001b[0;34m,\u001b[0m\u001b[0mFourHopModel\u001b[0m \u001b[0;34m=\u001b[0m \u001b[0me\u001b[0m\u001b[0;34m.\u001b[0m\u001b[0mrun\u001b[0m\u001b[0;34m(\u001b[0m\u001b[0;34m)\u001b[0m\u001b[0;34m\u001b[0m\u001b[0;34m\u001b[0m\u001b[0m\n\u001b[0m",
            "\u001b[0;32m<ipython-input-4-8f5bc3a1ab31>\u001b[0m in \u001b[0;36mrun\u001b[0;34m(self)\u001b[0m\n\u001b[1;32m     49\u001b[0m             \u001b[0mtrain_correct\u001b[0m \u001b[0;34m=\u001b[0m \u001b[0;36m0\u001b[0m\u001b[0;34m\u001b[0m\u001b[0;34m\u001b[0m\u001b[0m\n\u001b[1;32m     50\u001b[0m             \u001b[0moptimizer\u001b[0m\u001b[0;34m.\u001b[0m\u001b[0mzero_grad\u001b[0m\u001b[0;34m(\u001b[0m\u001b[0;34m)\u001b[0m\u001b[0;34m\u001b[0m\u001b[0;34m\u001b[0m\u001b[0m\n\u001b[0;32m---> 51\u001b[0;31m             \u001b[0;32mfor\u001b[0m \u001b[0mi\u001b[0m\u001b[0;34m,\u001b[0m \u001b[0mbatch\u001b[0m \u001b[0;32min\u001b[0m \u001b[0menumerate\u001b[0m\u001b[0;34m(\u001b[0m\u001b[0mloader\u001b[0m\u001b[0;34m)\u001b[0m\u001b[0;34m:\u001b[0m\u001b[0;34m\u001b[0m\u001b[0;34m\u001b[0m\u001b[0m\n\u001b[0m\u001b[1;32m     52\u001b[0m                 \u001b[0mbatch\u001b[0m \u001b[0;34m=\u001b[0m \u001b[0mbatch\u001b[0m\u001b[0;34m.\u001b[0m\u001b[0mto\u001b[0m\u001b[0;34m(\u001b[0m\u001b[0mself\u001b[0m\u001b[0;34m.\u001b[0m\u001b[0mdevice\u001b[0m\u001b[0;34m)\u001b[0m\u001b[0;34m\u001b[0m\u001b[0;34m\u001b[0m\u001b[0m\n\u001b[1;32m     53\u001b[0m                 \u001b[0mout\u001b[0m \u001b[0;34m=\u001b[0m \u001b[0mself\u001b[0m\u001b[0;34m.\u001b[0m\u001b[0mmodel\u001b[0m\u001b[0;34m(\u001b[0m\u001b[0mbatch\u001b[0m\u001b[0;34m)\u001b[0m\u001b[0;34m\u001b[0m\u001b[0;34m\u001b[0m\u001b[0m\n",
            "\u001b[0;32m/usr/local/lib/python3.8/dist-packages/torch/utils/data/dataloader.py\u001b[0m in \u001b[0;36m__next__\u001b[0;34m(self)\u001b[0m\n\u001b[1;32m    626\u001b[0m                 \u001b[0;31m# TODO(https://github.com/pytorch/pytorch/issues/76750)\u001b[0m\u001b[0;34m\u001b[0m\u001b[0;34m\u001b[0m\u001b[0;34m\u001b[0m\u001b[0m\n\u001b[1;32m    627\u001b[0m                 \u001b[0mself\u001b[0m\u001b[0;34m.\u001b[0m\u001b[0m_reset\u001b[0m\u001b[0;34m(\u001b[0m\u001b[0;34m)\u001b[0m  \u001b[0;31m# type: ignore[call-arg]\u001b[0m\u001b[0;34m\u001b[0m\u001b[0;34m\u001b[0m\u001b[0m\n\u001b[0;32m--> 628\u001b[0;31m             \u001b[0mdata\u001b[0m \u001b[0;34m=\u001b[0m \u001b[0mself\u001b[0m\u001b[0;34m.\u001b[0m\u001b[0m_next_data\u001b[0m\u001b[0;34m(\u001b[0m\u001b[0;34m)\u001b[0m\u001b[0;34m\u001b[0m\u001b[0;34m\u001b[0m\u001b[0m\n\u001b[0m\u001b[1;32m    629\u001b[0m             \u001b[0mself\u001b[0m\u001b[0;34m.\u001b[0m\u001b[0m_num_yielded\u001b[0m \u001b[0;34m+=\u001b[0m \u001b[0;36m1\u001b[0m\u001b[0;34m\u001b[0m\u001b[0;34m\u001b[0m\u001b[0m\n\u001b[1;32m    630\u001b[0m             \u001b[0;32mif\u001b[0m \u001b[0mself\u001b[0m\u001b[0;34m.\u001b[0m\u001b[0m_dataset_kind\u001b[0m \u001b[0;34m==\u001b[0m \u001b[0m_DatasetKind\u001b[0m\u001b[0;34m.\u001b[0m\u001b[0mIterable\u001b[0m \u001b[0;32mand\u001b[0m\u001b[0;31m \u001b[0m\u001b[0;31m\\\u001b[0m\u001b[0;34m\u001b[0m\u001b[0;34m\u001b[0m\u001b[0m\n",
            "\u001b[0;32m/usr/local/lib/python3.8/dist-packages/torch/utils/data/dataloader.py\u001b[0m in \u001b[0;36m_next_data\u001b[0;34m(self)\u001b[0m\n\u001b[1;32m   1314\u001b[0m \u001b[0;34m\u001b[0m\u001b[0m\n\u001b[1;32m   1315\u001b[0m             \u001b[0;32massert\u001b[0m \u001b[0;32mnot\u001b[0m \u001b[0mself\u001b[0m\u001b[0;34m.\u001b[0m\u001b[0m_shutdown\u001b[0m \u001b[0;32mand\u001b[0m \u001b[0mself\u001b[0m\u001b[0;34m.\u001b[0m\u001b[0m_tasks_outstanding\u001b[0m \u001b[0;34m>\u001b[0m \u001b[0;36m0\u001b[0m\u001b[0;34m\u001b[0m\u001b[0;34m\u001b[0m\u001b[0m\n\u001b[0;32m-> 1316\u001b[0;31m             \u001b[0midx\u001b[0m\u001b[0;34m,\u001b[0m \u001b[0mdata\u001b[0m \u001b[0;34m=\u001b[0m \u001b[0mself\u001b[0m\u001b[0;34m.\u001b[0m\u001b[0m_get_data\u001b[0m\u001b[0;34m(\u001b[0m\u001b[0;34m)\u001b[0m\u001b[0;34m\u001b[0m\u001b[0;34m\u001b[0m\u001b[0m\n\u001b[0m\u001b[1;32m   1317\u001b[0m             \u001b[0mself\u001b[0m\u001b[0;34m.\u001b[0m\u001b[0m_tasks_outstanding\u001b[0m \u001b[0;34m-=\u001b[0m \u001b[0;36m1\u001b[0m\u001b[0;34m\u001b[0m\u001b[0;34m\u001b[0m\u001b[0m\n\u001b[1;32m   1318\u001b[0m             \u001b[0;32mif\u001b[0m \u001b[0mself\u001b[0m\u001b[0;34m.\u001b[0m\u001b[0m_dataset_kind\u001b[0m \u001b[0;34m==\u001b[0m \u001b[0m_DatasetKind\u001b[0m\u001b[0;34m.\u001b[0m\u001b[0mIterable\u001b[0m\u001b[0;34m:\u001b[0m\u001b[0;34m\u001b[0m\u001b[0;34m\u001b[0m\u001b[0m\n",
            "\u001b[0;32m/usr/local/lib/python3.8/dist-packages/torch/utils/data/dataloader.py\u001b[0m in \u001b[0;36m_get_data\u001b[0;34m(self)\u001b[0m\n\u001b[1;32m   1270\u001b[0m         \u001b[0;32melif\u001b[0m \u001b[0mself\u001b[0m\u001b[0;34m.\u001b[0m\u001b[0m_pin_memory\u001b[0m\u001b[0;34m:\u001b[0m\u001b[0;34m\u001b[0m\u001b[0;34m\u001b[0m\u001b[0m\n\u001b[1;32m   1271\u001b[0m             \u001b[0;32mwhile\u001b[0m \u001b[0mself\u001b[0m\u001b[0;34m.\u001b[0m\u001b[0m_pin_memory_thread\u001b[0m\u001b[0;34m.\u001b[0m\u001b[0mis_alive\u001b[0m\u001b[0;34m(\u001b[0m\u001b[0;34m)\u001b[0m\u001b[0;34m:\u001b[0m\u001b[0;34m\u001b[0m\u001b[0;34m\u001b[0m\u001b[0m\n\u001b[0;32m-> 1272\u001b[0;31m                 \u001b[0msuccess\u001b[0m\u001b[0;34m,\u001b[0m \u001b[0mdata\u001b[0m \u001b[0;34m=\u001b[0m \u001b[0mself\u001b[0m\u001b[0;34m.\u001b[0m\u001b[0m_try_get_data\u001b[0m\u001b[0;34m(\u001b[0m\u001b[0;34m)\u001b[0m\u001b[0;34m\u001b[0m\u001b[0;34m\u001b[0m\u001b[0m\n\u001b[0m\u001b[1;32m   1273\u001b[0m                 \u001b[0;32mif\u001b[0m \u001b[0msuccess\u001b[0m\u001b[0;34m:\u001b[0m\u001b[0;34m\u001b[0m\u001b[0;34m\u001b[0m\u001b[0m\n\u001b[1;32m   1274\u001b[0m                     \u001b[0;32mreturn\u001b[0m \u001b[0mdata\u001b[0m\u001b[0;34m\u001b[0m\u001b[0;34m\u001b[0m\u001b[0m\n",
            "\u001b[0;32m/usr/local/lib/python3.8/dist-packages/torch/utils/data/dataloader.py\u001b[0m in \u001b[0;36m_try_get_data\u001b[0;34m(self, timeout)\u001b[0m\n\u001b[1;32m   1118\u001b[0m         \u001b[0;31m#   (bool: whether successfully get data, any: data if successful else None)\u001b[0m\u001b[0;34m\u001b[0m\u001b[0;34m\u001b[0m\u001b[0;34m\u001b[0m\u001b[0m\n\u001b[1;32m   1119\u001b[0m         \u001b[0;32mtry\u001b[0m\u001b[0;34m:\u001b[0m\u001b[0;34m\u001b[0m\u001b[0;34m\u001b[0m\u001b[0m\n\u001b[0;32m-> 1120\u001b[0;31m             \u001b[0mdata\u001b[0m \u001b[0;34m=\u001b[0m \u001b[0mself\u001b[0m\u001b[0;34m.\u001b[0m\u001b[0m_data_queue\u001b[0m\u001b[0;34m.\u001b[0m\u001b[0mget\u001b[0m\u001b[0;34m(\u001b[0m\u001b[0mtimeout\u001b[0m\u001b[0;34m=\u001b[0m\u001b[0mtimeout\u001b[0m\u001b[0;34m)\u001b[0m\u001b[0;34m\u001b[0m\u001b[0;34m\u001b[0m\u001b[0m\n\u001b[0m\u001b[1;32m   1121\u001b[0m             \u001b[0;32mreturn\u001b[0m \u001b[0;34m(\u001b[0m\u001b[0;32mTrue\u001b[0m\u001b[0;34m,\u001b[0m \u001b[0mdata\u001b[0m\u001b[0;34m)\u001b[0m\u001b[0;34m\u001b[0m\u001b[0;34m\u001b[0m\u001b[0m\n\u001b[1;32m   1122\u001b[0m         \u001b[0;32mexcept\u001b[0m \u001b[0mException\u001b[0m \u001b[0;32mas\u001b[0m \u001b[0me\u001b[0m\u001b[0;34m:\u001b[0m\u001b[0;34m\u001b[0m\u001b[0;34m\u001b[0m\u001b[0m\n",
            "\u001b[0;32m/usr/lib/python3.8/queue.py\u001b[0m in \u001b[0;36mget\u001b[0;34m(self, block, timeout)\u001b[0m\n\u001b[1;32m    177\u001b[0m                     \u001b[0;32mif\u001b[0m \u001b[0mremaining\u001b[0m \u001b[0;34m<=\u001b[0m \u001b[0;36m0.0\u001b[0m\u001b[0;34m:\u001b[0m\u001b[0;34m\u001b[0m\u001b[0;34m\u001b[0m\u001b[0m\n\u001b[1;32m    178\u001b[0m                         \u001b[0;32mraise\u001b[0m \u001b[0mEmpty\u001b[0m\u001b[0;34m\u001b[0m\u001b[0;34m\u001b[0m\u001b[0m\n\u001b[0;32m--> 179\u001b[0;31m                     \u001b[0mself\u001b[0m\u001b[0;34m.\u001b[0m\u001b[0mnot_empty\u001b[0m\u001b[0;34m.\u001b[0m\u001b[0mwait\u001b[0m\u001b[0;34m(\u001b[0m\u001b[0mremaining\u001b[0m\u001b[0;34m)\u001b[0m\u001b[0;34m\u001b[0m\u001b[0;34m\u001b[0m\u001b[0m\n\u001b[0m\u001b[1;32m    180\u001b[0m             \u001b[0mitem\u001b[0m \u001b[0;34m=\u001b[0m \u001b[0mself\u001b[0m\u001b[0;34m.\u001b[0m\u001b[0m_get\u001b[0m\u001b[0;34m(\u001b[0m\u001b[0;34m)\u001b[0m\u001b[0;34m\u001b[0m\u001b[0;34m\u001b[0m\u001b[0m\n\u001b[1;32m    181\u001b[0m             \u001b[0mself\u001b[0m\u001b[0;34m.\u001b[0m\u001b[0mnot_full\u001b[0m\u001b[0;34m.\u001b[0m\u001b[0mnotify\u001b[0m\u001b[0;34m(\u001b[0m\u001b[0;34m)\u001b[0m\u001b[0;34m\u001b[0m\u001b[0;34m\u001b[0m\u001b[0m\n",
            "\u001b[0;32m/usr/lib/python3.8/threading.py\u001b[0m in \u001b[0;36mwait\u001b[0;34m(self, timeout)\u001b[0m\n\u001b[1;32m    304\u001b[0m             \u001b[0;32melse\u001b[0m\u001b[0;34m:\u001b[0m\u001b[0;34m\u001b[0m\u001b[0;34m\u001b[0m\u001b[0m\n\u001b[1;32m    305\u001b[0m                 \u001b[0;32mif\u001b[0m \u001b[0mtimeout\u001b[0m \u001b[0;34m>\u001b[0m \u001b[0;36m0\u001b[0m\u001b[0;34m:\u001b[0m\u001b[0;34m\u001b[0m\u001b[0;34m\u001b[0m\u001b[0m\n\u001b[0;32m--> 306\u001b[0;31m                     \u001b[0mgotit\u001b[0m \u001b[0;34m=\u001b[0m \u001b[0mwaiter\u001b[0m\u001b[0;34m.\u001b[0m\u001b[0macquire\u001b[0m\u001b[0;34m(\u001b[0m\u001b[0;32mTrue\u001b[0m\u001b[0;34m,\u001b[0m \u001b[0mtimeout\u001b[0m\u001b[0;34m)\u001b[0m\u001b[0;34m\u001b[0m\u001b[0;34m\u001b[0m\u001b[0m\n\u001b[0m\u001b[1;32m    307\u001b[0m                 \u001b[0;32melse\u001b[0m\u001b[0;34m:\u001b[0m\u001b[0;34m\u001b[0m\u001b[0;34m\u001b[0m\u001b[0m\n\u001b[1;32m    308\u001b[0m                     \u001b[0mgotit\u001b[0m \u001b[0;34m=\u001b[0m \u001b[0mwaiter\u001b[0m\u001b[0;34m.\u001b[0m\u001b[0macquire\u001b[0m\u001b[0;34m(\u001b[0m\u001b[0;32mFalse\u001b[0m\u001b[0;34m)\u001b[0m\u001b[0;34m\u001b[0m\u001b[0;34m\u001b[0m\u001b[0m\n",
            "\u001b[0;31mKeyboardInterrupt\u001b[0m: "
          ]
        }
      ]
    },
    {
      "cell_type": "markdown",
      "source": [
        "The training accuracy after 100 epochs was around 88% which is much better than both GAT (72.8%) or HopGAT (71.7%), even though this model uses only 1 attention layer. Thus, we can conclude that it is likely that this model would perform better, but we do not train for longer because of insufficient computational resources. "
      ],
      "metadata": {
        "id": "5wBeGJOe0uuQ"
      }
    },
    {
      "cell_type": "markdown",
      "source": [
        "What about $depth = 5$? Can we get close to 41% training accuracy in 50 epochs?"
      ],
      "metadata": {
        "id": "J3vWzZDr43DO"
      }
    },
    {
      "cell_type": "code",
      "source": [
        "e = HopExperiment(depth = 5,dim = 32,n_heads = 4, train_fraction = 0.8, max_epochs = 5000, batch_size = 1024, eval_every = 100,loader_workers = 7)"
      ],
      "metadata": {
        "colab": {
          "base_uri": "https://localhost:8080/"
        },
        "id": "5TuEWzV8s65l",
        "outputId": "974ab481-6377-4b3d-c082-26b53092d58b"
      },
      "execution_count": null,
      "outputs": [
        {
          "output_type": "stream",
          "name": "stderr",
          "text": [
            "Traceback (most recent call last):\n",
            "  File \"/usr/lib/python3.8/multiprocessing/queues.py\", line 245, in _feed\n",
            "    send_bytes(obj)\n",
            "  File \"/usr/lib/python3.8/multiprocessing/connection.py\", line 200, in send_bytes\n",
            "    self._send_bytes(m[offset:offset + size])\n",
            "  File \"/usr/lib/python3.8/multiprocessing/connection.py\", line 411, in _send_bytes\n",
            "    self._send(header + buf)\n",
            "  File \"/usr/lib/python3.8/multiprocessing/connection.py\", line 368, in _send\n",
            "    n = write(self._handle, buf)\n",
            "BrokenPipeError: [Errno 32] Broken pipe\n",
            "Traceback (most recent call last):\n",
            "  File \"/usr/lib/python3.8/multiprocessing/queues.py\", line 235, in _feed\n",
            "    close()\n",
            "  File \"/usr/lib/python3.8/multiprocessing/connection.py\", line 177, in close\n",
            "    self._close()\n",
            "  File \"/usr/lib/python3.8/multiprocessing/connection.py\", line 361, in _close\n",
            "    _close(self._handle)\n",
            "OSError: [Errno 9] Bad file descriptor\n"
          ]
        },
        {
          "output_type": "stream",
          "name": "stdout",
          "text": [
            "Starting experiment\n",
            "Training examples: 25600, test examples: 6400\n"
          ]
        }
      ]
    },
    {
      "cell_type": "code",
      "source": [
        "e.model"
      ],
      "metadata": {
        "colab": {
          "base_uri": "https://localhost:8080/"
        },
        "id": "gKrEqf995U12",
        "outputId": "fb4adbe0-ada8-43bf-e59f-6a5ddb873692"
      },
      "execution_count": null,
      "outputs": [
        {
          "output_type": "execute_result",
          "data": {
            "text/plain": [
              "HopGAT(\n",
              "  (layer0_keys): Embedding(33, 32)\n",
              "  (layer0_values): Embedding(33, 32)\n",
              "  (gat): GATConv(32, 8, heads=4)\n",
              "  (mlp): Linear(in_features=64, out_features=32, bias=True)\n",
              "  (layer_norms): LayerNorm((32,), eps=1e-05, elementwise_affine=True)\n",
              "  (out_layer): Linear(in_features=32, out_features=33, bias=False)\n",
              ")"
            ]
          },
          "metadata": {},
          "execution_count": 28
        }
      ]
    },
    {
      "cell_type": "code",
      "source": [
        "train_acc,test_acc,loss,FiveHopModel = e.run()"
      ],
      "metadata": {
        "colab": {
          "base_uri": "https://localhost:8080/"
        },
        "id": "Nv52mUvI54TG",
        "outputId": "f0cdd368-4331-42a5-b6bd-09e91ff3a278"
      },
      "execution_count": null,
      "outputs": [
        {
          "output_type": "stream",
          "name": "stderr",
          "text": [
            "\r  0%|          | 0/50 [00:00<?, ?it/s]/usr/local/lib/python3.8/dist-packages/torch_geometric/deprecation.py:12: UserWarning: 'data.DataLoader' is deprecated, use 'loader.DataLoader' instead\n",
            "  warnings.warn(out)\n"
          ]
        },
        {
          "output_type": "stream",
          "name": "stdout",
          "text": [
            "Training Accuracy:0.075157421875\n",
            "Loss:3.2267239093780518\n"
          ]
        },
        {
          "output_type": "stream",
          "name": "stderr",
          "text": [
            "\r  2%|▏         | 1/50 [01:07<55:31, 67.98s/it]"
          ]
        },
        {
          "output_type": "stream",
          "name": "stdout",
          "text": [
            "Test Accuracy:0.08640625\n",
            "Training Accuracy:0.116116015625\n",
            "Loss:3.1485230922698975\n"
          ]
        },
        {
          "output_type": "stream",
          "name": "stderr",
          "text": [
            "\r  4%|▍         | 2/50 [02:17<55:05, 68.87s/it]"
          ]
        },
        {
          "output_type": "stream",
          "name": "stdout",
          "text": [
            "Test Accuracy:0.1040625\n",
            "Training Accuracy:0.126196484375\n",
            "Loss:3.175271987915039\n"
          ]
        },
        {
          "output_type": "stream",
          "name": "stderr",
          "text": [
            "\r  6%|▌         | 3/50 [03:26<54:08, 69.11s/it]"
          ]
        },
        {
          "output_type": "stream",
          "name": "stdout",
          "text": [
            "Test Accuracy:0.10515625\n",
            "Training Accuracy:0.130846875\n",
            "Loss:3.109874963760376\n"
          ]
        },
        {
          "output_type": "stream",
          "name": "stderr",
          "text": [
            "\r  8%|▊         | 4/50 [04:35<52:51, 68.95s/it]"
          ]
        },
        {
          "output_type": "stream",
          "name": "stdout",
          "text": [
            "Test Accuracy:0.10859375\n",
            "Training Accuracy:0.13380546875\n",
            "Loss:3.1132445335388184\n"
          ]
        },
        {
          "output_type": "stream",
          "name": "stderr",
          "text": [
            "\r 10%|█         | 5/50 [05:44<51:37, 68.84s/it]"
          ]
        },
        {
          "output_type": "stream",
          "name": "stdout",
          "text": [
            "Test Accuracy:0.1159375\n",
            "Training Accuracy:0.147405859375\n",
            "Loss:3.0962958335876465\n"
          ]
        },
        {
          "output_type": "stream",
          "name": "stderr",
          "text": [
            "\r 12%|█▏        | 6/50 [06:52<50:27, 68.81s/it]"
          ]
        },
        {
          "output_type": "stream",
          "name": "stdout",
          "text": [
            "Test Accuracy:0.12453125\n",
            "Training Accuracy:0.15473671875\n",
            "Loss:3.0562233924865723\n"
          ]
        },
        {
          "output_type": "stream",
          "name": "stderr",
          "text": [
            "\r 14%|█▍        | 7/50 [08:00<49:03, 68.45s/it]"
          ]
        },
        {
          "output_type": "stream",
          "name": "stdout",
          "text": [
            "Test Accuracy:0.131875\n",
            "Training Accuracy:0.16001640625\n",
            "Loss:3.048693895339966\n"
          ]
        },
        {
          "output_type": "stream",
          "name": "stderr",
          "text": [
            "\r 16%|█▌        | 8/50 [09:09<47:58, 68.54s/it]"
          ]
        },
        {
          "output_type": "stream",
          "name": "stdout",
          "text": [
            "Test Accuracy:0.13484375\n",
            "Training Accuracy:0.16268984375\n",
            "Loss:2.997687816619873\n"
          ]
        },
        {
          "output_type": "stream",
          "name": "stderr",
          "text": [
            "\r 18%|█▊        | 9/50 [10:17<46:40, 68.30s/it]"
          ]
        },
        {
          "output_type": "stream",
          "name": "stdout",
          "text": [
            "Test Accuracy:0.13859375\n",
            "Training Accuracy:0.165320703125\n",
            "Loss:3.035759449005127\n"
          ]
        },
        {
          "output_type": "stream",
          "name": "stderr",
          "text": [
            "\r 20%|██        | 10/50 [11:24<45:20, 68.02s/it]"
          ]
        },
        {
          "output_type": "stream",
          "name": "stdout",
          "text": [
            "Test Accuracy:0.13703125\n",
            "Training Accuracy:0.1676078125\n",
            "Loss:3.020993709564209\n"
          ]
        },
        {
          "output_type": "stream",
          "name": "stderr",
          "text": [
            "\r 22%|██▏       | 11/50 [12:31<44:01, 67.74s/it]"
          ]
        },
        {
          "output_type": "stream",
          "name": "stdout",
          "text": [
            "Test Accuracy:0.1446875\n",
            "Training Accuracy:0.169930078125\n",
            "Loss:2.970327377319336\n"
          ]
        },
        {
          "output_type": "stream",
          "name": "stderr",
          "text": [
            "\r 24%|██▍       | 12/50 [13:39<42:57, 67.84s/it]"
          ]
        },
        {
          "output_type": "stream",
          "name": "stdout",
          "text": [
            "Test Accuracy:0.14421875\n",
            "Training Accuracy:0.17159453125\n",
            "Loss:3.035801887512207\n"
          ]
        },
        {
          "output_type": "stream",
          "name": "stderr",
          "text": [
            "\r 26%|██▌       | 13/50 [14:46<41:40, 67.58s/it]"
          ]
        },
        {
          "output_type": "stream",
          "name": "stdout",
          "text": [
            "Test Accuracy:0.1478125\n",
            "Training Accuracy:0.177159375\n",
            "Loss:2.894272565841675\n"
          ]
        },
        {
          "output_type": "stream",
          "name": "stderr",
          "text": [
            "\r 28%|██▊       | 14/50 [15:54<40:35, 67.66s/it]"
          ]
        },
        {
          "output_type": "stream",
          "name": "stdout",
          "text": [
            "Test Accuracy:0.16015625\n",
            "Training Accuracy:0.1892703125\n",
            "Loss:2.9642975330352783\n"
          ]
        },
        {
          "output_type": "stream",
          "name": "stderr",
          "text": [
            "\r 30%|███       | 15/50 [17:00<39:12, 67.23s/it]"
          ]
        },
        {
          "output_type": "stream",
          "name": "stdout",
          "text": [
            "Test Accuracy:0.165\n",
            "Training Accuracy:0.197719140625\n",
            "Loss:2.9712562561035156\n"
          ]
        },
        {
          "output_type": "stream",
          "name": "stderr",
          "text": [
            "\r 32%|███▏      | 16/50 [18:09<38:15, 67.52s/it]"
          ]
        },
        {
          "output_type": "stream",
          "name": "stdout",
          "text": [
            "Test Accuracy:0.17515625\n",
            "Training Accuracy:0.205825390625\n",
            "Loss:2.8110806941986084\n"
          ]
        },
        {
          "output_type": "stream",
          "name": "stderr",
          "text": [
            "\r 34%|███▍      | 17/50 [19:16<37:10, 67.59s/it]"
          ]
        },
        {
          "output_type": "stream",
          "name": "stdout",
          "text": [
            "Test Accuracy:0.19015625\n",
            "Training Accuracy:0.21420390625\n",
            "Loss:2.8321104049682617\n"
          ]
        },
        {
          "output_type": "stream",
          "name": "stderr",
          "text": [
            "\r 36%|███▌      | 18/50 [20:23<35:52, 67.26s/it]"
          ]
        },
        {
          "output_type": "stream",
          "name": "stdout",
          "text": [
            "Test Accuracy:0.2025\n",
            "Training Accuracy:0.2282546875\n",
            "Loss:2.7799341678619385\n"
          ]
        },
        {
          "output_type": "stream",
          "name": "stderr",
          "text": [
            "\r 38%|███▊      | 19/50 [21:29<34:38, 67.04s/it]"
          ]
        },
        {
          "output_type": "stream",
          "name": "stdout",
          "text": [
            "Test Accuracy:0.218125\n",
            "Training Accuracy:0.244476953125\n",
            "Loss:2.676579236984253\n"
          ]
        },
        {
          "output_type": "stream",
          "name": "stderr",
          "text": [
            "\r 40%|████      | 20/50 [22:36<33:27, 66.91s/it]"
          ]
        },
        {
          "output_type": "stream",
          "name": "stdout",
          "text": [
            "Test Accuracy:0.23984375\n",
            "Training Accuracy:0.25916640625\n",
            "Loss:2.6630172729492188\n"
          ]
        },
        {
          "output_type": "stream",
          "name": "stderr",
          "text": [
            "\r 42%|████▏     | 21/50 [23:43<32:23, 67.02s/it]"
          ]
        },
        {
          "output_type": "stream",
          "name": "stdout",
          "text": [
            "Test Accuracy:0.2490625\n",
            "Training Accuracy:0.27133046875\n",
            "Loss:2.6089749336242676\n"
          ]
        },
        {
          "output_type": "stream",
          "name": "stderr",
          "text": [
            "\r 44%|████▍     | 22/50 [24:51<31:25, 67.33s/it]"
          ]
        },
        {
          "output_type": "stream",
          "name": "stdout",
          "text": [
            "Test Accuracy:0.25890625\n",
            "Training Accuracy:0.278617578125\n",
            "Loss:2.5039994716644287\n"
          ]
        },
        {
          "output_type": "stream",
          "name": "stderr",
          "text": [
            "\r 46%|████▌     | 23/50 [25:58<30:12, 67.13s/it]"
          ]
        },
        {
          "output_type": "stream",
          "name": "stdout",
          "text": [
            "Test Accuracy:0.27109375\n",
            "Training Accuracy:0.2834921875\n",
            "Loss:2.5339159965515137\n"
          ]
        },
        {
          "output_type": "stream",
          "name": "stderr",
          "text": [
            "\r 48%|████▊     | 24/50 [27:05<29:03, 67.04s/it]"
          ]
        },
        {
          "output_type": "stream",
          "name": "stdout",
          "text": [
            "Test Accuracy:0.27\n",
            "Training Accuracy:0.28618984375\n",
            "Loss:2.668153762817383\n"
          ]
        },
        {
          "output_type": "stream",
          "name": "stderr",
          "text": [
            "\r 50%|█████     | 25/50 [28:11<27:54, 66.96s/it]"
          ]
        },
        {
          "output_type": "stream",
          "name": "stdout",
          "text": [
            "Test Accuracy:0.264375\n",
            "Training Accuracy:0.288651953125\n",
            "Loss:2.4574127197265625\n"
          ]
        },
        {
          "output_type": "stream",
          "name": "stderr",
          "text": [
            "\r 52%|█████▏    | 26/50 [29:18<26:46, 66.94s/it]"
          ]
        },
        {
          "output_type": "stream",
          "name": "stdout",
          "text": [
            "Test Accuracy:0.278125\n",
            "Training Accuracy:0.290272265625\n",
            "Loss:2.453320264816284\n"
          ]
        },
        {
          "output_type": "stream",
          "name": "stderr",
          "text": [
            "\r 54%|█████▍    | 27/50 [30:25<25:37, 66.85s/it]"
          ]
        },
        {
          "output_type": "stream",
          "name": "stdout",
          "text": [
            "Test Accuracy:0.2834375\n",
            "Training Accuracy:0.292430859375\n",
            "Loss:2.564469337463379\n"
          ]
        },
        {
          "output_type": "stream",
          "name": "stderr",
          "text": [
            "\r 56%|█████▌    | 28/50 [31:32<24:31, 66.88s/it]"
          ]
        },
        {
          "output_type": "stream",
          "name": "stdout",
          "text": [
            "Test Accuracy:0.27078125\n",
            "Training Accuracy:0.294154296875\n",
            "Loss:2.441526412963867\n"
          ]
        },
        {
          "output_type": "stream",
          "name": "stderr",
          "text": [
            "\r 58%|█████▊    | 29/50 [32:38<23:21, 66.75s/it]"
          ]
        },
        {
          "output_type": "stream",
          "name": "stdout",
          "text": [
            "Test Accuracy:0.27984375\n",
            "Training Accuracy:0.29451015625\n",
            "Loss:2.3733460903167725\n"
          ]
        },
        {
          "output_type": "stream",
          "name": "stderr",
          "text": [
            "\r 60%|██████    | 30/50 [33:47<22:23, 67.18s/it]"
          ]
        },
        {
          "output_type": "stream",
          "name": "stdout",
          "text": [
            "Test Accuracy:0.28375\n",
            "Training Accuracy:0.29602109375\n",
            "Loss:2.4387896060943604\n"
          ]
        },
        {
          "output_type": "stream",
          "name": "stderr",
          "text": [
            "\r 62%|██████▏   | 31/50 [34:55<21:21, 67.45s/it]"
          ]
        },
        {
          "output_type": "stream",
          "name": "stdout",
          "text": [
            "Test Accuracy:0.27984375\n",
            "Training Accuracy:0.29806953125\n",
            "Loss:2.4780690670013428\n"
          ]
        },
        {
          "output_type": "stream",
          "name": "stderr",
          "text": [
            "\r 64%|██████▍   | 32/50 [36:04<20:23, 67.96s/it]"
          ]
        },
        {
          "output_type": "stream",
          "name": "stdout",
          "text": [
            "Test Accuracy:0.28671875\n",
            "Training Accuracy:0.299405859375\n",
            "Loss:2.486966609954834\n"
          ]
        },
        {
          "output_type": "stream",
          "name": "stderr",
          "text": [
            "\r 66%|██████▌   | 33/50 [37:14<19:28, 68.71s/it]"
          ]
        },
        {
          "output_type": "stream",
          "name": "stdout",
          "text": [
            "Test Accuracy:0.259375\n",
            "Training Accuracy:0.30115\n",
            "Loss:2.436953067779541\n"
          ]
        },
        {
          "output_type": "stream",
          "name": "stderr",
          "text": [
            "\r 68%|██████▊   | 34/50 [38:22<18:13, 68.33s/it]"
          ]
        },
        {
          "output_type": "stream",
          "name": "stdout",
          "text": [
            "Test Accuracy:0.29125\n",
            "Training Accuracy:0.302585546875\n",
            "Loss:2.365751028060913\n"
          ]
        },
        {
          "output_type": "stream",
          "name": "stderr",
          "text": [
            "\r 70%|███████   | 35/50 [39:29<16:59, 67.97s/it]"
          ]
        },
        {
          "output_type": "stream",
          "name": "stdout",
          "text": [
            "Test Accuracy:0.2878125\n",
            "Training Accuracy:0.303687109375\n",
            "Loss:2.3669674396514893\n"
          ]
        },
        {
          "output_type": "stream",
          "name": "stderr",
          "text": [
            "\r 72%|███████▏  | 36/50 [40:38<15:56, 68.32s/it]"
          ]
        },
        {
          "output_type": "stream",
          "name": "stdout",
          "text": [
            "Test Accuracy:0.29296875\n",
            "Training Accuracy:0.30483671875\n",
            "Loss:2.4472241401672363\n"
          ]
        },
        {
          "output_type": "stream",
          "name": "stderr",
          "text": [
            "\r 74%|███████▍  | 37/50 [41:46<14:48, 68.34s/it]"
          ]
        },
        {
          "output_type": "stream",
          "name": "stdout",
          "text": [
            "Test Accuracy:0.28765625\n",
            "Training Accuracy:0.30665703125\n",
            "Loss:2.410217761993408\n"
          ]
        },
        {
          "output_type": "stream",
          "name": "stderr",
          "text": [
            "\r 76%|███████▌  | 38/50 [42:55<13:41, 68.48s/it]"
          ]
        },
        {
          "output_type": "stream",
          "name": "stdout",
          "text": [
            "Test Accuracy:0.29203125\n",
            "Training Accuracy:0.30737890625\n",
            "Loss:2.354470729827881\n"
          ]
        },
        {
          "output_type": "stream",
          "name": "stderr",
          "text": [
            "\r 78%|███████▊  | 39/50 [44:04<12:34, 68.57s/it]"
          ]
        },
        {
          "output_type": "stream",
          "name": "stdout",
          "text": [
            "Test Accuracy:0.29859375\n",
            "Training Accuracy:0.308903515625\n",
            "Loss:2.388068914413452\n"
          ]
        },
        {
          "output_type": "stream",
          "name": "stderr",
          "text": [
            "\r 80%|████████  | 40/50 [45:13<11:27, 68.75s/it]"
          ]
        },
        {
          "output_type": "stream",
          "name": "stdout",
          "text": [
            "Test Accuracy:0.2996875\n",
            "Training Accuracy:0.309576171875\n",
            "Loss:2.399477005004883\n"
          ]
        },
        {
          "output_type": "stream",
          "name": "stderr",
          "text": [
            "\r 82%|████████▏ | 41/50 [46:23<10:22, 69.13s/it]"
          ]
        },
        {
          "output_type": "stream",
          "name": "stdout",
          "text": [
            "Test Accuracy:0.29625\n",
            "Training Accuracy:0.31124375\n",
            "Loss:2.305375814437866\n"
          ]
        },
        {
          "output_type": "stream",
          "name": "stderr",
          "text": [
            "\r 84%|████████▍ | 42/50 [47:32<09:12, 69.08s/it]"
          ]
        },
        {
          "output_type": "stream",
          "name": "stdout",
          "text": [
            "Test Accuracy:0.29796875\n",
            "Training Accuracy:0.3124578125\n",
            "Loss:2.941711902618408\n"
          ]
        },
        {
          "output_type": "stream",
          "name": "stderr",
          "text": [
            "\r 86%|████████▌ | 43/50 [48:41<08:02, 69.00s/it]"
          ]
        },
        {
          "output_type": "stream",
          "name": "stdout",
          "text": [
            "Test Accuracy:0.28375\n",
            "Training Accuracy:0.312944140625\n",
            "Loss:2.3712873458862305\n"
          ]
        },
        {
          "output_type": "stream",
          "name": "stderr",
          "text": [
            "\r 88%|████████▊ | 44/50 [49:50<06:54, 69.01s/it]"
          ]
        },
        {
          "output_type": "stream",
          "name": "stdout",
          "text": [
            "Test Accuracy:0.30265625\n",
            "Training Accuracy:0.31432734375\n",
            "Loss:2.3928911685943604\n"
          ]
        },
        {
          "output_type": "stream",
          "name": "stderr",
          "text": [
            "\r 90%|█████████ | 45/50 [50:59<05:45, 69.07s/it]"
          ]
        },
        {
          "output_type": "stream",
          "name": "stdout",
          "text": [
            "Test Accuracy:0.2965625\n",
            "Training Accuracy:0.316258203125\n",
            "Loss:2.3716442584991455\n"
          ]
        },
        {
          "output_type": "stream",
          "name": "stderr",
          "text": [
            "\r 92%|█████████▏| 46/50 [52:06<04:34, 68.51s/it]"
          ]
        },
        {
          "output_type": "stream",
          "name": "stdout",
          "text": [
            "Test Accuracy:0.30921875\n",
            "Training Accuracy:0.3192296875\n",
            "Loss:2.329721450805664\n"
          ]
        },
        {
          "output_type": "stream",
          "name": "stderr",
          "text": [
            "\r 94%|█████████▍| 47/50 [53:18<03:28, 69.35s/it]"
          ]
        },
        {
          "output_type": "stream",
          "name": "stdout",
          "text": [
            "Test Accuracy:0.30859375\n",
            "Training Accuracy:0.319980859375\n",
            "Loss:2.4383656978607178\n"
          ]
        },
        {
          "output_type": "stream",
          "name": "stderr",
          "text": [
            "\r 96%|█████████▌| 48/50 [54:25<02:17, 68.89s/it]"
          ]
        },
        {
          "output_type": "stream",
          "name": "stdout",
          "text": [
            "Test Accuracy:0.305\n",
            "Training Accuracy:0.321885546875\n",
            "Loss:2.296278953552246\n"
          ]
        },
        {
          "output_type": "stream",
          "name": "stderr",
          "text": [
            "\r 98%|█████████▊| 49/50 [55:35<01:08, 68.93s/it]"
          ]
        },
        {
          "output_type": "stream",
          "name": "stdout",
          "text": [
            "Test Accuracy:0.31234375\n",
            "Training Accuracy:0.32281953125\n",
            "Loss:2.3087265491485596\n"
          ]
        },
        {
          "output_type": "stream",
          "name": "stderr",
          "text": [
            "100%|██████████| 50/50 [56:45<00:00, 68.10s/it]"
          ]
        },
        {
          "output_type": "stream",
          "name": "stdout",
          "text": [
            "Test Accuracy:0.31234375\n"
          ]
        },
        {
          "output_type": "stream",
          "name": "stderr",
          "text": [
            "\n"
          ]
        }
      ]
    },
    {
      "cell_type": "markdown",
      "source": [
        "Even though we have only reached a training accuracy of 32%, training is much faster than for GAT or HopGAT aggregating over all hops. In my opinion, it is likely that this model would reach a higher training accuracy than 41%, but we would need to train it much longer. \n",
        "\n",
        "However, since we are only using 1 layer, we can afford to use a bigger hidden dimension. "
      ],
      "metadata": {
        "id": "gZ1SSRFoEhx_"
      }
    },
    {
      "cell_type": "code",
      "source": [
        "#here we change the hidden dimension of the GATConv layer from 8 to 24. Feel free to skip. \n",
        "from torch import nn\n",
        "from torch.nn import functional as F\n",
        "from torch_geometric.nn import GATConv\n",
        "\n",
        "class HopGAT(torch.nn.Module):\n",
        "    def __init__(self, depth, dim0, h_dim, out_dim, n_heads, layer_norm = True):\n",
        "        super(HopGAT, self).__init__()\n",
        "  \n",
        "        self.device = torch.device('cuda' if torch.cuda.is_available() else 'cpu')\n",
        "\n",
        "        self.layer0_keys = nn.Embedding(num_embeddings=dim0 + 1, embedding_dim=h_dim)\n",
        "        self.layer0_values = nn.Embedding(num_embeddings=dim0 + 1, embedding_dim=h_dim)\n",
        "        self.depth = depth\n",
        "        self.out_dim = out_dim\n",
        "       \n",
        "        self.gat = GATConv(h_dim,3*h_dim//n_heads,heads = n_heads) \n",
        "        \n",
        "        self.mlp = nn.Linear(4*h_dim,h_dim)\n",
        "        self.layer_norm = layer_norm\n",
        "        if layer_norm:\n",
        "          self.layer_norms = nn.LayerNorm(h_dim)\n",
        "        self.out_layer = nn.Linear(in_features=h_dim, out_features=out_dim + 1, bias=False)\n",
        "\n",
        "    def forward(self, data):\n",
        "        x, edge_index1, batch, roots,edge_index2 = data.x, data.edge_index1, data.batch, data.root_mask,data.edge_index2\n",
        "\n",
        "      \n",
        "        x_key, x_val = x[:, 0], x[:, 1]\n",
        "        x_key_embed = self.layer0_keys(x_key)\n",
        "        x_val_embed = self.layer0_values(x_val)\n",
        "        x = x_key_embed + x_val_embed\n",
        "        \n",
        "        \n",
        "        x = torch.cat((x,self.gat(x,data.edge_index5)),dim = 1)\n",
        "        \n",
        "        x = self.mlp(x)\n",
        "        if self.layer_norm:\n",
        "          x = self.layer_norms(x)\n",
        "            \n",
        "\n",
        "        root_nodes = x[roots]\n",
        "        logits = self.out_layer(root_nodes)\n",
        "        return logits"
      ],
      "metadata": {
        "id": "ZgLeAhajIQsz"
      },
      "execution_count": null,
      "outputs": []
    },
    {
      "cell_type": "code",
      "source": [
        "e = HopExperiment(depth = 5,dim = 32,n_heads = 4, train_fraction = 0.8, max_epochs = 5000, batch_size = 1024, eval_every = 100,loader_workers = 7)"
      ],
      "metadata": {
        "colab": {
          "base_uri": "https://localhost:8080/"
        },
        "id": "Is55BbQMGzHD",
        "outputId": "c9541334-a0a6-420e-8d1d-c41eb7b7de10"
      },
      "execution_count": null,
      "outputs": [
        {
          "output_type": "stream",
          "name": "stdout",
          "text": [
            "Starting experiment\n",
            "Training examples: 25600, test examples: 6400\n"
          ]
        }
      ]
    },
    {
      "cell_type": "code",
      "source": [
        "e.model"
      ],
      "metadata": {
        "colab": {
          "base_uri": "https://localhost:8080/"
        },
        "id": "bhM0jE-kHgf7",
        "outputId": "41280ab4-c937-4f7e-e4fc-489cfcfd3c4e"
      },
      "execution_count": null,
      "outputs": [
        {
          "output_type": "execute_result",
          "data": {
            "text/plain": [
              "HopGAT(\n",
              "  (layer0_keys): Embedding(33, 32)\n",
              "  (layer0_values): Embedding(33, 32)\n",
              "  (gat): GATConv(32, 24, heads=4)\n",
              "  (mlp): Linear(in_features=128, out_features=32, bias=True)\n",
              "  (layer_norms): LayerNorm((32,), eps=1e-05, elementwise_affine=True)\n",
              "  (out_layer): Linear(in_features=32, out_features=33, bias=False)\n",
              ")"
            ]
          },
          "metadata": {},
          "execution_count": 27
        }
      ]
    },
    {
      "cell_type": "code",
      "source": [
        "sum(p.numel() for p in e.model.parameters())"
      ],
      "metadata": {
        "colab": {
          "base_uri": "https://localhost:8080/"
        },
        "id": "DS0laTZfHkYg",
        "outputId": "3d9e2d86-6f81-4209-a18f-f5e8881900f6"
      },
      "execution_count": null,
      "outputs": [
        {
          "output_type": "execute_result",
          "data": {
            "text/plain": [
              "10720"
            ]
          },
          "metadata": {},
          "execution_count": 28
        }
      ]
    },
    {
      "cell_type": "code",
      "source": [
        "train_acc,test_acc,loss,FiveHopModel = e.run()"
      ],
      "metadata": {
        "colab": {
          "base_uri": "https://localhost:8080/",
          "height": 1000
        },
        "id": "cTLkawAjKBAe",
        "outputId": "661cde28-2702-4563-b3a8-0bd386c3c19a"
      },
      "execution_count": null,
      "outputs": [
        {
          "output_type": "stream",
          "name": "stderr",
          "text": [
            "\r  0%|          | 0/50 [00:00<?, ?it/s]/usr/local/lib/python3.8/dist-packages/torch_geometric/deprecation.py:12: UserWarning: 'data.DataLoader' is deprecated, use 'loader.DataLoader' instead\n",
            "  warnings.warn(out)\n"
          ]
        },
        {
          "output_type": "stream",
          "name": "stdout",
          "text": [
            "Training Accuracy:0.106824609375\n",
            "Loss:2.8658053874969482\n"
          ]
        },
        {
          "output_type": "stream",
          "name": "stderr",
          "text": [
            "\r  2%|▏         | 1/50 [01:13<59:41, 73.10s/it]"
          ]
        },
        {
          "output_type": "stream",
          "name": "stdout",
          "text": [
            "Test Accuracy:0.130625\n",
            "Training Accuracy:0.221867578125\n",
            "Loss:2.433382272720337\n"
          ]
        },
        {
          "output_type": "stream",
          "name": "stderr",
          "text": [
            "\r  4%|▍         | 2/50 [02:23<57:12, 71.50s/it]"
          ]
        },
        {
          "output_type": "stream",
          "name": "stdout",
          "text": [
            "Test Accuracy:0.2140625\n",
            "Training Accuracy:0.30435390625\n",
            "Loss:2.2298505306243896\n"
          ]
        },
        {
          "output_type": "stream",
          "name": "stderr",
          "text": [
            "\r  6%|▌         | 3/50 [03:32<55:15, 70.53s/it]"
          ]
        },
        {
          "output_type": "stream",
          "name": "stdout",
          "text": [
            "Test Accuracy:0.2875\n",
            "Training Accuracy:0.3738609375\n",
            "Loss:1.9653974771499634\n"
          ]
        },
        {
          "output_type": "stream",
          "name": "stderr",
          "text": [
            "\r  8%|▊         | 4/50 [04:43<54:15, 70.76s/it]"
          ]
        },
        {
          "output_type": "stream",
          "name": "stdout",
          "text": [
            "Test Accuracy:0.36515625\n",
            "Training Accuracy:0.453255078125\n",
            "Loss:1.6071726083755493\n"
          ]
        },
        {
          "output_type": "stream",
          "name": "stderr",
          "text": [
            "\r 10%|█         | 5/50 [05:53<52:41, 70.25s/it]"
          ]
        },
        {
          "output_type": "stream",
          "name": "stdout",
          "text": [
            "Test Accuracy:0.4596875\n",
            "Training Accuracy:0.61934140625\n",
            "Loss:0.8167888522148132\n"
          ]
        },
        {
          "output_type": "stream",
          "name": "stderr",
          "text": [
            "\r 12%|█▏        | 6/50 [07:03<51:25, 70.13s/it]"
          ]
        },
        {
          "output_type": "stream",
          "name": "stdout",
          "text": [
            "Test Accuracy:0.67484375\n",
            "Training Accuracy:0.72878046875\n",
            "Loss:0.7861765623092651\n"
          ]
        },
        {
          "output_type": "stream",
          "name": "stderr",
          "text": [
            "\r 14%|█▍        | 7/50 [08:12<50:09, 69.98s/it]"
          ]
        },
        {
          "output_type": "stream",
          "name": "stdout",
          "text": [
            "Test Accuracy:0.71171875\n",
            "Training Accuracy:0.75913515625\n",
            "Loss:0.6635803580284119\n"
          ]
        },
        {
          "output_type": "stream",
          "name": "stderr",
          "text": [
            "\r 16%|█▌        | 8/50 [09:24<49:16, 70.40s/it]"
          ]
        },
        {
          "output_type": "stream",
          "name": "stdout",
          "text": [
            "Test Accuracy:0.7346875\n",
            "Training Accuracy:0.77573359375\n",
            "Loss:0.7372090816497803\n"
          ]
        },
        {
          "output_type": "stream",
          "name": "stderr",
          "text": [
            "\r 18%|█▊        | 9/50 [10:33<47:47, 69.94s/it]"
          ]
        },
        {
          "output_type": "stream",
          "name": "stdout",
          "text": [
            "Test Accuracy:0.725625\n",
            "Training Accuracy:0.784419921875\n",
            "Loss:0.5910364389419556\n"
          ]
        },
        {
          "output_type": "stream",
          "name": "stderr",
          "text": [
            "\r 20%|██        | 10/50 [11:43<46:42, 70.06s/it]"
          ]
        },
        {
          "output_type": "stream",
          "name": "stdout",
          "text": [
            "Test Accuracy:0.75453125\n",
            "Training Accuracy:0.790095703125\n",
            "Loss:0.5742252469062805\n"
          ]
        },
        {
          "output_type": "stream",
          "name": "stderr",
          "text": [
            "\r 22%|██▏       | 11/50 [12:52<45:22, 69.81s/it]"
          ]
        },
        {
          "output_type": "stream",
          "name": "stdout",
          "text": [
            "Test Accuracy:0.76140625\n",
            "Training Accuracy:0.796508203125\n",
            "Loss:0.5926598310470581\n"
          ]
        },
        {
          "output_type": "stream",
          "name": "stderr",
          "text": [
            "\r 24%|██▍       | 12/50 [14:03<44:21, 70.05s/it]"
          ]
        },
        {
          "output_type": "stream",
          "name": "stdout",
          "text": [
            "Test Accuracy:0.7503125\n",
            "Training Accuracy:0.80008828125\n",
            "Loss:0.5112065076828003\n"
          ]
        },
        {
          "output_type": "stream",
          "name": "stderr",
          "text": [
            "\r 26%|██▌       | 13/50 [15:13<43:12, 70.06s/it]"
          ]
        },
        {
          "output_type": "stream",
          "name": "stdout",
          "text": [
            "Test Accuracy:0.75921875\n"
          ]
        },
        {
          "output_type": "stream",
          "name": "stderr",
          "text": [
            "\r 26%|██▌       | 13/50 [15:15<43:24, 70.39s/it]\n"
          ]
        },
        {
          "output_type": "error",
          "ename": "KeyboardInterrupt",
          "evalue": "ignored",
          "traceback": [
            "\u001b[0;31m---------------------------------------------------------------------------\u001b[0m",
            "\u001b[0;31mKeyboardInterrupt\u001b[0m                         Traceback (most recent call last)",
            "\u001b[0;32m<ipython-input-29-f5b1a74f127e>\u001b[0m in \u001b[0;36m<module>\u001b[0;34m\u001b[0m\n\u001b[0;32m----> 1\u001b[0;31m \u001b[0mtrain_acc\u001b[0m\u001b[0;34m,\u001b[0m\u001b[0mtest_acc\u001b[0m\u001b[0;34m,\u001b[0m\u001b[0mloss\u001b[0m\u001b[0;34m,\u001b[0m\u001b[0mFiveHopModel\u001b[0m \u001b[0;34m=\u001b[0m \u001b[0me\u001b[0m\u001b[0;34m.\u001b[0m\u001b[0mrun\u001b[0m\u001b[0;34m(\u001b[0m\u001b[0;34m)\u001b[0m\u001b[0;34m\u001b[0m\u001b[0;34m\u001b[0m\u001b[0m\n\u001b[0m",
            "\u001b[0;32m<ipython-input-7-8f5bc3a1ab31>\u001b[0m in \u001b[0;36mrun\u001b[0;34m(self)\u001b[0m\n\u001b[1;32m     51\u001b[0m             \u001b[0;32mfor\u001b[0m \u001b[0mi\u001b[0m\u001b[0;34m,\u001b[0m \u001b[0mbatch\u001b[0m \u001b[0;32min\u001b[0m \u001b[0menumerate\u001b[0m\u001b[0;34m(\u001b[0m\u001b[0mloader\u001b[0m\u001b[0;34m)\u001b[0m\u001b[0;34m:\u001b[0m\u001b[0;34m\u001b[0m\u001b[0;34m\u001b[0m\u001b[0m\n\u001b[1;32m     52\u001b[0m                 \u001b[0mbatch\u001b[0m \u001b[0;34m=\u001b[0m \u001b[0mbatch\u001b[0m\u001b[0;34m.\u001b[0m\u001b[0mto\u001b[0m\u001b[0;34m(\u001b[0m\u001b[0mself\u001b[0m\u001b[0;34m.\u001b[0m\u001b[0mdevice\u001b[0m\u001b[0;34m)\u001b[0m\u001b[0;34m\u001b[0m\u001b[0;34m\u001b[0m\u001b[0m\n\u001b[0;32m---> 53\u001b[0;31m                 \u001b[0mout\u001b[0m \u001b[0;34m=\u001b[0m \u001b[0mself\u001b[0m\u001b[0;34m.\u001b[0m\u001b[0mmodel\u001b[0m\u001b[0;34m(\u001b[0m\u001b[0mbatch\u001b[0m\u001b[0;34m)\u001b[0m\u001b[0;34m\u001b[0m\u001b[0;34m\u001b[0m\u001b[0m\n\u001b[0m\u001b[1;32m     54\u001b[0m                 \u001b[0mloss\u001b[0m \u001b[0;34m=\u001b[0m \u001b[0mself\u001b[0m\u001b[0;34m.\u001b[0m\u001b[0mcriterion\u001b[0m\u001b[0;34m(\u001b[0m\u001b[0minput\u001b[0m\u001b[0;34m=\u001b[0m\u001b[0mout\u001b[0m\u001b[0;34m,\u001b[0m \u001b[0mtarget\u001b[0m\u001b[0;34m=\u001b[0m\u001b[0mbatch\u001b[0m\u001b[0;34m.\u001b[0m\u001b[0my\u001b[0m\u001b[0;34m)\u001b[0m\u001b[0;34m\u001b[0m\u001b[0;34m\u001b[0m\u001b[0m\n\u001b[1;32m     55\u001b[0m                 \u001b[0mtotal_num_examples\u001b[0m \u001b[0;34m+=\u001b[0m \u001b[0mbatch\u001b[0m\u001b[0;34m.\u001b[0m\u001b[0mnum_graphs\u001b[0m\u001b[0;34m\u001b[0m\u001b[0;34m\u001b[0m\u001b[0m\n",
            "\u001b[0;32m/usr/local/lib/python3.8/dist-packages/torch/nn/modules/module.py\u001b[0m in \u001b[0;36m_call_impl\u001b[0;34m(self, *input, **kwargs)\u001b[0m\n\u001b[1;32m   1188\u001b[0m         if not (self._backward_hooks or self._forward_hooks or self._forward_pre_hooks or _global_backward_hooks\n\u001b[1;32m   1189\u001b[0m                 or _global_forward_hooks or _global_forward_pre_hooks):\n\u001b[0;32m-> 1190\u001b[0;31m             \u001b[0;32mreturn\u001b[0m \u001b[0mforward_call\u001b[0m\u001b[0;34m(\u001b[0m\u001b[0;34m*\u001b[0m\u001b[0minput\u001b[0m\u001b[0;34m,\u001b[0m \u001b[0;34m**\u001b[0m\u001b[0mkwargs\u001b[0m\u001b[0;34m)\u001b[0m\u001b[0;34m\u001b[0m\u001b[0;34m\u001b[0m\u001b[0m\n\u001b[0m\u001b[1;32m   1191\u001b[0m         \u001b[0;31m# Do not call functions when jit is used\u001b[0m\u001b[0;34m\u001b[0m\u001b[0;34m\u001b[0m\u001b[0;34m\u001b[0m\u001b[0m\n\u001b[1;32m   1192\u001b[0m         \u001b[0mfull_backward_hooks\u001b[0m\u001b[0;34m,\u001b[0m \u001b[0mnon_full_backward_hooks\u001b[0m \u001b[0;34m=\u001b[0m \u001b[0;34m[\u001b[0m\u001b[0;34m]\u001b[0m\u001b[0;34m,\u001b[0m \u001b[0;34m[\u001b[0m\u001b[0;34m]\u001b[0m\u001b[0;34m\u001b[0m\u001b[0;34m\u001b[0m\u001b[0m\n",
            "\u001b[0;32m<ipython-input-25-78d15f64a392>\u001b[0m in \u001b[0;36mforward\u001b[0;34m(self, data)\u001b[0m\n\u001b[1;32m     33\u001b[0m \u001b[0;34m\u001b[0m\u001b[0m\n\u001b[1;32m     34\u001b[0m \u001b[0;34m\u001b[0m\u001b[0m\n\u001b[0;32m---> 35\u001b[0;31m         \u001b[0mx\u001b[0m \u001b[0;34m=\u001b[0m \u001b[0mtorch\u001b[0m\u001b[0;34m.\u001b[0m\u001b[0mcat\u001b[0m\u001b[0;34m(\u001b[0m\u001b[0;34m(\u001b[0m\u001b[0mx\u001b[0m\u001b[0;34m,\u001b[0m\u001b[0mself\u001b[0m\u001b[0;34m.\u001b[0m\u001b[0mgat\u001b[0m\u001b[0;34m(\u001b[0m\u001b[0mx\u001b[0m\u001b[0;34m,\u001b[0m\u001b[0mdata\u001b[0m\u001b[0;34m.\u001b[0m\u001b[0medge_index5\u001b[0m\u001b[0;34m)\u001b[0m\u001b[0;34m)\u001b[0m\u001b[0;34m,\u001b[0m\u001b[0mdim\u001b[0m \u001b[0;34m=\u001b[0m \u001b[0;36m1\u001b[0m\u001b[0;34m)\u001b[0m\u001b[0;34m\u001b[0m\u001b[0;34m\u001b[0m\u001b[0m\n\u001b[0m\u001b[1;32m     36\u001b[0m \u001b[0;34m\u001b[0m\u001b[0m\n\u001b[1;32m     37\u001b[0m         \u001b[0mx\u001b[0m \u001b[0;34m=\u001b[0m \u001b[0mself\u001b[0m\u001b[0;34m.\u001b[0m\u001b[0mmlp\u001b[0m\u001b[0;34m(\u001b[0m\u001b[0mx\u001b[0m\u001b[0;34m)\u001b[0m\u001b[0;34m\u001b[0m\u001b[0;34m\u001b[0m\u001b[0m\n",
            "\u001b[0;32m/usr/local/lib/python3.8/dist-packages/torch/nn/modules/module.py\u001b[0m in \u001b[0;36m_call_impl\u001b[0;34m(self, *input, **kwargs)\u001b[0m\n\u001b[1;32m   1188\u001b[0m         if not (self._backward_hooks or self._forward_hooks or self._forward_pre_hooks or _global_backward_hooks\n\u001b[1;32m   1189\u001b[0m                 or _global_forward_hooks or _global_forward_pre_hooks):\n\u001b[0;32m-> 1190\u001b[0;31m             \u001b[0;32mreturn\u001b[0m \u001b[0mforward_call\u001b[0m\u001b[0;34m(\u001b[0m\u001b[0;34m*\u001b[0m\u001b[0minput\u001b[0m\u001b[0;34m,\u001b[0m \u001b[0;34m**\u001b[0m\u001b[0mkwargs\u001b[0m\u001b[0;34m)\u001b[0m\u001b[0;34m\u001b[0m\u001b[0;34m\u001b[0m\u001b[0m\n\u001b[0m\u001b[1;32m   1191\u001b[0m         \u001b[0;31m# Do not call functions when jit is used\u001b[0m\u001b[0;34m\u001b[0m\u001b[0;34m\u001b[0m\u001b[0;34m\u001b[0m\u001b[0m\n\u001b[1;32m   1192\u001b[0m         \u001b[0mfull_backward_hooks\u001b[0m\u001b[0;34m,\u001b[0m \u001b[0mnon_full_backward_hooks\u001b[0m \u001b[0;34m=\u001b[0m \u001b[0;34m[\u001b[0m\u001b[0;34m]\u001b[0m\u001b[0;34m,\u001b[0m \u001b[0;34m[\u001b[0m\u001b[0;34m]\u001b[0m\u001b[0;34m\u001b[0m\u001b[0;34m\u001b[0m\u001b[0m\n",
            "\u001b[0;32m/usr/local/lib/python3.8/dist-packages/torch_geometric/nn/conv/gat_conv.py\u001b[0m in \u001b[0;36mforward\u001b[0;34m(self, x, edge_index, edge_attr, size, return_attention_weights)\u001b[0m\n\u001b[1;32m    239\u001b[0m \u001b[0;34m\u001b[0m\u001b[0m\n\u001b[1;32m    240\u001b[0m         \u001b[0;31m# propagate_type: (x: OptPairTensor, alpha: Tensor)\u001b[0m\u001b[0;34m\u001b[0m\u001b[0;34m\u001b[0m\u001b[0;34m\u001b[0m\u001b[0m\n\u001b[0;32m--> 241\u001b[0;31m         \u001b[0mout\u001b[0m \u001b[0;34m=\u001b[0m \u001b[0mself\u001b[0m\u001b[0;34m.\u001b[0m\u001b[0mpropagate\u001b[0m\u001b[0;34m(\u001b[0m\u001b[0medge_index\u001b[0m\u001b[0;34m,\u001b[0m \u001b[0mx\u001b[0m\u001b[0;34m=\u001b[0m\u001b[0mx\u001b[0m\u001b[0;34m,\u001b[0m \u001b[0malpha\u001b[0m\u001b[0;34m=\u001b[0m\u001b[0malpha\u001b[0m\u001b[0;34m,\u001b[0m \u001b[0msize\u001b[0m\u001b[0;34m=\u001b[0m\u001b[0msize\u001b[0m\u001b[0;34m)\u001b[0m\u001b[0;34m\u001b[0m\u001b[0;34m\u001b[0m\u001b[0m\n\u001b[0m\u001b[1;32m    242\u001b[0m \u001b[0;34m\u001b[0m\u001b[0m\n\u001b[1;32m    243\u001b[0m         \u001b[0;32mif\u001b[0m \u001b[0mself\u001b[0m\u001b[0;34m.\u001b[0m\u001b[0mconcat\u001b[0m\u001b[0;34m:\u001b[0m\u001b[0;34m\u001b[0m\u001b[0;34m\u001b[0m\u001b[0m\n",
            "\u001b[0;32m/usr/local/lib/python3.8/dist-packages/torch_geometric/nn/conv/message_passing.py\u001b[0m in \u001b[0;36mpropagate\u001b[0;34m(self, edge_index, size, **kwargs)\u001b[0m\n\u001b[1;32m    427\u001b[0m                         \u001b[0mkwargs\u001b[0m\u001b[0;34m[\u001b[0m\u001b[0marg\u001b[0m\u001b[0;34m]\u001b[0m \u001b[0;34m=\u001b[0m \u001b[0mdecomp_kwargs\u001b[0m\u001b[0;34m[\u001b[0m\u001b[0marg\u001b[0m\u001b[0;34m]\u001b[0m\u001b[0;34m[\u001b[0m\u001b[0mi\u001b[0m\u001b[0;34m]\u001b[0m\u001b[0;34m\u001b[0m\u001b[0;34m\u001b[0m\u001b[0m\n\u001b[1;32m    428\u001b[0m \u001b[0;34m\u001b[0m\u001b[0m\n\u001b[0;32m--> 429\u001b[0;31m                 coll_dict = self.__collect__(self.__user_args__, edge_index,\n\u001b[0m\u001b[1;32m    430\u001b[0m                                              size, kwargs)\n\u001b[1;32m    431\u001b[0m \u001b[0;34m\u001b[0m\u001b[0m\n",
            "\u001b[0;32m/usr/local/lib/python3.8/dist-packages/torch_geometric/nn/conv/message_passing.py\u001b[0m in \u001b[0;36m__collect__\u001b[0;34m(self, args, edge_index, size, kwargs)\u001b[0m\n\u001b[1;32m    299\u001b[0m                 \u001b[0;32mif\u001b[0m \u001b[0misinstance\u001b[0m\u001b[0;34m(\u001b[0m\u001b[0mdata\u001b[0m\u001b[0;34m,\u001b[0m \u001b[0mTensor\u001b[0m\u001b[0;34m)\u001b[0m\u001b[0;34m:\u001b[0m\u001b[0;34m\u001b[0m\u001b[0;34m\u001b[0m\u001b[0m\n\u001b[1;32m    300\u001b[0m                     \u001b[0mself\u001b[0m\u001b[0;34m.\u001b[0m\u001b[0m__set_size__\u001b[0m\u001b[0;34m(\u001b[0m\u001b[0msize\u001b[0m\u001b[0;34m,\u001b[0m \u001b[0mdim\u001b[0m\u001b[0;34m,\u001b[0m \u001b[0mdata\u001b[0m\u001b[0;34m)\u001b[0m\u001b[0;34m\u001b[0m\u001b[0;34m\u001b[0m\u001b[0m\n\u001b[0;32m--> 301\u001b[0;31m                     \u001b[0mdata\u001b[0m \u001b[0;34m=\u001b[0m \u001b[0mself\u001b[0m\u001b[0;34m.\u001b[0m\u001b[0m__lift__\u001b[0m\u001b[0;34m(\u001b[0m\u001b[0mdata\u001b[0m\u001b[0;34m,\u001b[0m \u001b[0medge_index\u001b[0m\u001b[0;34m,\u001b[0m \u001b[0mdim\u001b[0m\u001b[0;34m)\u001b[0m\u001b[0;34m\u001b[0m\u001b[0;34m\u001b[0m\u001b[0m\n\u001b[0m\u001b[1;32m    302\u001b[0m \u001b[0;34m\u001b[0m\u001b[0m\n\u001b[1;32m    303\u001b[0m                 \u001b[0mout\u001b[0m\u001b[0;34m[\u001b[0m\u001b[0marg\u001b[0m\u001b[0;34m]\u001b[0m \u001b[0;34m=\u001b[0m \u001b[0mdata\u001b[0m\u001b[0;34m\u001b[0m\u001b[0;34m\u001b[0m\u001b[0m\n",
            "\u001b[0;32m/usr/local/lib/python3.8/dist-packages/torch_geometric/nn/conv/message_passing.py\u001b[0m in \u001b[0;36m__lift__\u001b[0;34m(self, src, edge_index, dim)\u001b[0m\n\u001b[1;32m    237\u001b[0m             \u001b[0;32mtry\u001b[0m\u001b[0;34m:\u001b[0m\u001b[0;34m\u001b[0m\u001b[0;34m\u001b[0m\u001b[0m\n\u001b[1;32m    238\u001b[0m                 \u001b[0mindex\u001b[0m \u001b[0;34m=\u001b[0m \u001b[0medge_index\u001b[0m\u001b[0;34m[\u001b[0m\u001b[0mdim\u001b[0m\u001b[0;34m]\u001b[0m\u001b[0;34m\u001b[0m\u001b[0;34m\u001b[0m\u001b[0m\n\u001b[0;32m--> 239\u001b[0;31m                 \u001b[0;32mreturn\u001b[0m \u001b[0msrc\u001b[0m\u001b[0;34m.\u001b[0m\u001b[0mindex_select\u001b[0m\u001b[0;34m(\u001b[0m\u001b[0mself\u001b[0m\u001b[0;34m.\u001b[0m\u001b[0mnode_dim\u001b[0m\u001b[0;34m,\u001b[0m \u001b[0mindex\u001b[0m\u001b[0;34m)\u001b[0m\u001b[0;34m\u001b[0m\u001b[0;34m\u001b[0m\u001b[0m\n\u001b[0m\u001b[1;32m    240\u001b[0m             \u001b[0;32mexcept\u001b[0m \u001b[0;34m(\u001b[0m\u001b[0mIndexError\u001b[0m\u001b[0;34m,\u001b[0m \u001b[0mRuntimeError\u001b[0m\u001b[0;34m)\u001b[0m \u001b[0;32mas\u001b[0m \u001b[0me\u001b[0m\u001b[0;34m:\u001b[0m\u001b[0;34m\u001b[0m\u001b[0;34m\u001b[0m\u001b[0m\n\u001b[1;32m    241\u001b[0m                 \u001b[0;32mif\u001b[0m \u001b[0;34m'CUDA'\u001b[0m \u001b[0;32min\u001b[0m \u001b[0mstr\u001b[0m\u001b[0;34m(\u001b[0m\u001b[0me\u001b[0m\u001b[0;34m)\u001b[0m\u001b[0;34m:\u001b[0m\u001b[0;34m\u001b[0m\u001b[0;34m\u001b[0m\u001b[0m\n",
            "\u001b[0;31mKeyboardInterrupt\u001b[0m: "
          ]
        }
      ]
    },
    {
      "cell_type": "markdown",
      "source": [
        "We easily achieved a training accuracy of 80% which is much much better than any model reported in the paper! We managed to do it using only slightly more parameters than the GAT implemented in the paper (10720 vs 10272). To see that:"
      ],
      "metadata": {
        "id": "UbH3OQgyNoSW"
      }
    },
    {
      "cell_type": "code",
      "source": [
        "e = Experiment(depth = 5,dim = 32,n_heads = 4, train_fraction = 0.8, max_epochs = 5000, batch_size = 1024, eval_every = 100,loader_workers = 7)"
      ],
      "metadata": {
        "colab": {
          "base_uri": "https://localhost:8080/"
        },
        "id": "jTCbDxb0OvsQ",
        "outputId": "2c615a6e-f06f-47f7-89aa-35ae3fb137da"
      },
      "execution_count": null,
      "outputs": [
        {
          "output_type": "stream",
          "name": "stdout",
          "text": [
            "Starting experiment\n",
            "Training examples: 25600, test examples: 6400\n"
          ]
        }
      ]
    },
    {
      "cell_type": "code",
      "source": [
        "e.model"
      ],
      "metadata": {
        "colab": {
          "base_uri": "https://localhost:8080/"
        },
        "id": "ZhEH9U0sO2TM",
        "outputId": "af54ed77-93d7-4d98-f592-9c998b03b05f"
      },
      "execution_count": null,
      "outputs": [
        {
          "output_type": "execute_result",
          "data": {
            "text/plain": [
              "GAT(\n",
              "  (layer0_keys): Embedding(33, 32)\n",
              "  (layer0_values): Embedding(33, 32)\n",
              "  (layers): ModuleList(\n",
              "    (0): GATConv(32, 8, heads=4)\n",
              "    (1): GATConv(32, 8, heads=4)\n",
              "    (2): GATConv(32, 8, heads=4)\n",
              "    (3): GATConv(32, 8, heads=4)\n",
              "    (4): GATConv(32, 8, heads=4)\n",
              "    (5): GATConv(32, 8, heads=4)\n",
              "  )\n",
              "  (layer_norms): ModuleList(\n",
              "    (0): LayerNorm((32,), eps=1e-05, elementwise_affine=True)\n",
              "    (1): LayerNorm((32,), eps=1e-05, elementwise_affine=True)\n",
              "    (2): LayerNorm((32,), eps=1e-05, elementwise_affine=True)\n",
              "    (3): LayerNorm((32,), eps=1e-05, elementwise_affine=True)\n",
              "    (4): LayerNorm((32,), eps=1e-05, elementwise_affine=True)\n",
              "    (5): LayerNorm((32,), eps=1e-05, elementwise_affine=True)\n",
              "  )\n",
              "  (out_layer): Linear(in_features=32, out_features=33, bias=False)\n",
              ")"
            ]
          },
          "metadata": {},
          "execution_count": 33
        }
      ]
    },
    {
      "cell_type": "code",
      "source": [
        "sum(p.numel() for p in e.model.parameters())"
      ],
      "metadata": {
        "colab": {
          "base_uri": "https://localhost:8080/"
        },
        "id": "LkZWKklRO2HC",
        "outputId": "36b82e85-5a90-44e5-8ae5-b975b422a935"
      },
      "execution_count": null,
      "outputs": [
        {
          "output_type": "execute_result",
          "data": {
            "text/plain": [
              "10272"
            ]
          },
          "metadata": {},
          "execution_count": 34
        }
      ]
    },
    {
      "cell_type": "markdown",
      "source": [
        "Also note that we could reduce the number of parameters if we did not concatenate $x$ with the output of the layer. This is redundant in this problem. "
      ],
      "metadata": {
        "id": "BnzJ-gUvcCEt"
      }
    },
    {
      "cell_type": "markdown",
      "source": [
        "## Changing sizes of vectors"
      ],
      "metadata": {
        "id": "Fe4bRxnyYfcA"
      }
    },
    {
      "cell_type": "markdown",
      "source": [
        "Here we increase the dimension of the last GATConv layer and decrease the dimension of the other layers. This ensures the number of paramaters is unchanged but performance is improved. "
      ],
      "metadata": {
        "id": "eAaDMuGPBqP4"
      }
    },
    {
      "cell_type": "code",
      "source": [
        "from torch import nn\n",
        "from torch.nn import functional as F\n",
        "from torch_geometric.nn import GATConv\n",
        "#this implementation is tailored for this case and is not general. Ignore this cell and scroll down to see the model\n",
        "\n",
        "class HopGAT(torch.nn.Module):\n",
        "    def __init__(self, depth, dim0, h_dim, out_dim, n_heads, layer_norm = True):\n",
        "        super(HopGAT, self).__init__()\n",
        "  \n",
        "        self.device = torch.device('cuda' if torch.cuda.is_available() else 'cpu')\n",
        "\n",
        "        self.layer0_keys = nn.Embedding(num_embeddings=dim0 + 1, embedding_dim=h_dim)\n",
        "        self.layer0_values = nn.Embedding(num_embeddings=dim0 + 1, embedding_dim=h_dim)\n",
        "        self.depth = depth\n",
        "        self.out_dim = out_dim\n",
        "       \n",
        "        self.gat1 = GATConv(h_dim,h_dim//(2*n_heads),heads = n_heads)\n",
        "        self.gat2 = GATConv(h_dim,h_dim//(2*n_heads),heads = n_heads)\n",
        "        self.gat3 = GATConv(h_dim,h_dim//(2*n_heads),heads = n_heads)\n",
        "        self.gat4 = GATConv(h_dim,int(2.5*h_dim//n_heads),heads = n_heads)\n",
        "        \n",
        "        self.mlp = nn.Linear(h_dim//2*(depth-1)+int(h_dim*2.5)+h_dim,h_dim)\n",
        "        self.layer_norm = layer_norm\n",
        "        if layer_norm:\n",
        "          self.layer_norms = nn.LayerNorm(h_dim)\n",
        "        self.out_layer = nn.Linear(in_features=h_dim, out_features=out_dim + 1, bias=False)\n",
        "\n",
        "    def forward(self, data):\n",
        "        x, edge_index1, batch, roots,edge_index2 = data.x, data.edge_index1, data.batch, data.root_mask,data.edge_index2\n",
        "\n",
        "      \n",
        "        x_key, x_val = x[:, 0], x[:, 1]\n",
        "        x_key_embed = self.layer0_keys(x_key)\n",
        "        x_val_embed = self.layer0_values(x_val)\n",
        "        x = x_key_embed + x_val_embed\n",
        "        \n",
        "        if self.depth == 2:\n",
        "          x = torch.cat((x,self.gat1(x,edge_index1),self.gat2(x,edge_index2)),dim = 1)\n",
        "        elif self.depth == 3:\n",
        "          x = torch.cat((x,self.gat1(x,edge_index1),self.gat2(x,edge_index2),self.gat3(x,data.edge_index3)),dim = 1)\n",
        "        elif self.depth == 4:\n",
        "          x = torch.cat((x,self.gat1(x,edge_index1),self.gat2(x,edge_index2),self.gat3(x,data.edge_index3),self.gat4(x,data.edge_index4)),dim = 1)\n",
        "        elif self.depth == 5:\n",
        "          x = torch.cat((x,self.gat1(x,edge_index1),self.gat2(x,edge_index2),self.gat3(x,data.edge_index3), self.gat4(x,data.edge_index4), self.gat5(x,data.edge_index5)),dim = 1)\n",
        "        \n",
        "        x = self.mlp(x)\n",
        "        if self.layer_norm:\n",
        "          x = self.layer_norms(x)\n",
        "            \n",
        "\n",
        "        root_nodes = x[roots]\n",
        "        logits = self.out_layer(root_nodes)\n",
        "        return logits"
      ],
      "metadata": {
        "id": "9s0ONufdIrlD"
      },
      "execution_count": null,
      "outputs": []
    },
    {
      "cell_type": "code",
      "source": [
        "e = HopExperiment(depth = 4,dim = 32,n_heads = 4, train_fraction = 0.8, max_epochs = 10000, batch_size = 1024, eval_every = 100,loader_workers = 7)"
      ],
      "metadata": {
        "colab": {
          "base_uri": "https://localhost:8080/"
        },
        "id": "0aZY54kBIyV1",
        "outputId": "33b85ed6-54ea-4076-f162-08f2b91cb6da"
      },
      "execution_count": null,
      "outputs": [
        {
          "output_type": "stream",
          "name": "stdout",
          "text": [
            "Starting experiment\n",
            "Training examples: 12800, test examples: 3200\n"
          ]
        }
      ]
    },
    {
      "cell_type": "code",
      "source": [
        "e.model"
      ],
      "metadata": {
        "colab": {
          "base_uri": "https://localhost:8080/"
        },
        "id": "okWwXLcpI6Hd",
        "outputId": "53b3867f-85dd-4af6-f917-5c328131b4a3"
      },
      "execution_count": null,
      "outputs": [
        {
          "output_type": "execute_result",
          "data": {
            "text/plain": [
              "HopGAT(\n",
              "  (layer0_keys): Embedding(17, 32)\n",
              "  (layer0_values): Embedding(17, 32)\n",
              "  (gat1): GATConv(32, 4, heads=4)\n",
              "  (gat2): GATConv(32, 4, heads=4)\n",
              "  (gat3): GATConv(32, 4, heads=4)\n",
              "  (gat4): GATConv(32, 20, heads=4)\n",
              "  (mlp): Linear(in_features=160, out_features=32, bias=True)\n",
              "  (layer_norms): LayerNorm((32,), eps=1e-05, elementwise_affine=True)\n",
              "  (out_layer): Linear(in_features=32, out_features=17, bias=False)\n",
              ")"
            ]
          },
          "metadata": {},
          "execution_count": 102
        }
      ]
    },
    {
      "cell_type": "markdown",
      "source": [
        "We change the embedding dimension for gat4 to 20 (before it was 8) and the other to 4 (before it was 8) which results in a model with the same number of parameters (11328). "
      ],
      "metadata": {
        "id": "UDtgAHkuYyY1"
      }
    },
    {
      "cell_type": "code",
      "source": [
        "sum(p.numel() for p in e.model.parameters())"
      ],
      "metadata": {
        "colab": {
          "base_uri": "https://localhost:8080/"
        },
        "id": "XHmAnW6wQz3k",
        "outputId": "1a4b9361-08d4-43a4-de19-47ded777372c"
      },
      "execution_count": null,
      "outputs": [
        {
          "output_type": "execute_result",
          "data": {
            "text/plain": [
              "11328"
            ]
          },
          "metadata": {},
          "execution_count": 103
        }
      ]
    },
    {
      "cell_type": "code",
      "source": [
        "train_acc,test_acc,loss,FourHopModel = e.run()"
      ],
      "metadata": {
        "colab": {
          "base_uri": "https://localhost:8080/"
        },
        "id": "8iYVjFYRKpwx",
        "outputId": "a53fe16c-5ad1-4c89-cb7a-94154bed9a4d"
      },
      "execution_count": null,
      "outputs": [
        {
          "output_type": "stream",
          "name": "stderr",
          "text": [
            "\r  0%|          | 0/100 [00:00<?, ?it/s]/usr/local/lib/python3.8/dist-packages/torch_geometric/deprecation.py:12: UserWarning: 'data.DataLoader' is deprecated, use 'loader.DataLoader' instead\n",
            "  warnings.warn(out)\n"
          ]
        },
        {
          "output_type": "stream",
          "name": "stdout",
          "text": [
            "Training Accuracy:0.23481015625\n",
            "Loss:1.772482991218567\n"
          ]
        },
        {
          "output_type": "stream",
          "name": "stderr",
          "text": [
            "\r  1%|          | 1/100 [00:32<53:15, 32.27s/it]"
          ]
        },
        {
          "output_type": "stream",
          "name": "stdout",
          "text": [
            "Test Accuracy:0.3921875\n",
            "Training Accuracy:0.58936171875\n",
            "Loss:0.6585370898246765\n"
          ]
        },
        {
          "output_type": "stream",
          "name": "stderr",
          "text": [
            "\r  2%|▏         | 2/100 [01:04<52:59, 32.44s/it]"
          ]
        },
        {
          "output_type": "stream",
          "name": "stdout",
          "text": [
            "Test Accuracy:0.75\n",
            "Training Accuracy:0.903640625\n",
            "Loss:0.1275700330734253\n"
          ]
        },
        {
          "output_type": "stream",
          "name": "stderr",
          "text": [
            "\r  3%|▎         | 3/100 [01:37<52:29, 32.47s/it]"
          ]
        },
        {
          "output_type": "stream",
          "name": "stdout",
          "text": [
            "Test Accuracy:0.9575\n",
            "Training Accuracy:0.97998125\n",
            "Loss:0.023076815530657768\n"
          ]
        },
        {
          "output_type": "stream",
          "name": "stderr",
          "text": [
            "\r  4%|▍         | 4/100 [02:10<52:25, 32.76s/it]"
          ]
        },
        {
          "output_type": "stream",
          "name": "stdout",
          "text": [
            "Test Accuracy:0.993125\n",
            "Training Accuracy:0.97679609375\n",
            "Loss:0.005474170669913292\n"
          ]
        },
        {
          "output_type": "stream",
          "name": "stderr",
          "text": [
            "\r  5%|▌         | 5/100 [02:42<51:35, 32.59s/it]"
          ]
        },
        {
          "output_type": "stream",
          "name": "stdout",
          "text": [
            "Test Accuracy:0.9990625\n",
            "Training Accuracy:0.99404296875\n",
            "Loss:0.0026260707527399063\n"
          ]
        },
        {
          "output_type": "stream",
          "name": "stderr",
          "text": [
            "\r  5%|▌         | 5/100 [03:15<1:01:47, 39.03s/it]"
          ]
        },
        {
          "output_type": "stream",
          "name": "stdout",
          "text": [
            "Test Accuracy:0.9984375\n"
          ]
        },
        {
          "output_type": "stream",
          "name": "stderr",
          "text": [
            "\n"
          ]
        }
      ]
    },
    {
      "cell_type": "markdown",
      "source": [
        "Now the model converges extremely quickly. After 5 epochs we completely overfit the dataset. Previously it was around 70% for GAT after 100 epochs, and HopGAT stopped learning at 82.5% after 500 epochs. "
      ],
      "metadata": {
        "id": "G0ldul--DDnl"
      }
    }
  ],
  "metadata": {
    "accelerator": "GPU",
    "colab": {
      "collapsed_sections": [
        "54mwpQZV309O",
        "L3KjODHn3-EX",
        "uBgKEplR4Hid",
        "NXHRzSSPSoRB",
        "4WPsiTmq-osR",
        "uqubZGEGS8ib",
        "nN9ihC-_A7_1",
        "S-93A5-zu0Eq",
        "Uz4Zi0v2u6b4",
        "Fe4bRxnyYfcA"
      ],
      "provenance": []
    },
    "gpuClass": "premium",
    "kernelspec": {
      "display_name": "Python 3",
      "name": "python3"
    },
    "language_info": {
      "name": "python"
    }
  },
  "nbformat": 4,
  "nbformat_minor": 0
}